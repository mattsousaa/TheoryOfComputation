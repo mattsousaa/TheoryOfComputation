{
  "nbformat": 4,
  "nbformat_minor": 0,
  "metadata": {
    "colab": {
      "name": "Cópia de Capítulo 1-Revisão-Funções-Relações-Aluno.ipynb",
      "provenance": [],
      "collapsed_sections": [
        "Y2ErbkWlJ24H"
      ],
      "toc_visible": true
    },
    "kernelspec": {
      "name": "python3",
      "display_name": "Python 3"
    },
    "language_info": {
      "name": "python"
    }
  },
  "cells": [
    {
      "cell_type": "markdown",
      "metadata": {
        "id": "NXtf-dVdSDFN"
      },
      "source": [
        "# Teoria da Computação: Revisão Conjuntos, Relações, Funções e Linguagens\n",
        "> *Autor: Davi Romero de Vasconcelos, daviromero@ufc.br, Universidade Federal do Ceará, Campus de Quixadá, Setembro de 2021*.\n",
        "> *(Última atualização 05/10/2021)*\n",
        "\n",
        "Este material foi preparado para auxiliar a disciplina de Teoria da Computação a partir de uma revisão dos conceitos de conjuntos, relações e funções, utilizando a Linguagem Pyhton. Para cada seção é apresentado um link (no título da seção) com um vídeo explicando o conteúdo a ser abordado. Uma Playlist com todo o conteúdo está disponível no [YouTube](https://youtube.com/playlist?list=PLfOnKvd6pFio3OIw3jzLTCAcJtMDs6Buj).\n",
        "\n",
        ">Como esse é o primeiro semestre na qual o material está sendo utilizado, caso identifique algum erro ou tenha alguma sugestão, por favor, envie uma mensagem para daviromero@ufc.br.\n"
      ]
    },
    {
      "cell_type": "code",
      "metadata": {
        "id": "P-g8ZA1iVGlz",
        "cellView": "form"
      },
      "source": [
        "#@title Implementação em Python de Funções para Conjuntos (*beta*)\n",
        "#@markdown Esta célula contém a implementação em Python das noções de conjuntos, relações, funções e linguagens que iremos utilizar nesse curso. \n",
        "#@markdown Não é necessário conhecer o código aqui implementado ou mesmo ter um conhecimento profundo da linguagem Python. Basta acompanhar os exemplos e experimentar construir seus próprios modelos.\n",
        " \n",
        "#@markdown >*Execute esta célula (`ctrl+enter` ou clicando no botão ao lado) para que o ambiente seja carregado com as funções implementadas.*\n",
        "\n",
        "# Define um novo conjunto a partir de um conjunto A obedecendo a propriedade P.\n",
        "def conjunto(A,P):\n",
        "  B = set()\n",
        "  for a in A:\n",
        "    if(P(a)):\n",
        "      B.add(a)\n",
        "  return B\n",
        "\n",
        "# Para visualizar uma relação\n",
        "from graphviz import Digraph\n",
        "def visualiza(A1, A2, R, labelSet1=\"A1\", labelSet2=\"A2\"):\n",
        "\tg = Digraph()\n",
        "\tg.attr(rankdir='LR')\n",
        "\n",
        "\twith g.subgraph(name='cluster_1') as c:\n",
        "\t\tc.attr(color='blue')\n",
        "\t\tc.node_attr.update(style='filled')\n",
        "\t\tc.attr(label=labelSet1)\n",
        "\t\tfor a1 in A1:\n",
        "\t\t\tc.node(str(a1))\n",
        "\n",
        "\twith g.subgraph(name='cluster_2') as d:\n",
        "\t\td.attr(color='blue')\n",
        "\t\td.attr(label=labelSet2)\n",
        "\t\td.node_attr.update(style='filled')\n",
        "\t\tfor a2 in A2:\n",
        "\t\t\td.node(\"d_\"+str(a2),label=str(a2))\n",
        "\tfor (a1,a2) in R:\n",
        "\t\tg.edge(str(a1),\"d_\"+str(a2))\n",
        "\treturn g\n",
        "\n",
        "\n",
        "def visualiza_auto_relacao(A, R, labelSet=\"\"):\n",
        "\tg = Digraph()\n",
        "\tg.attr(rankdir='LR')\n",
        "\n",
        "\twith g.subgraph(name='cluster_1') as c:\n",
        "\t\tc.attr(color='blue')\n",
        "\t\tc.node_attr.update(style='filled')\n",
        "\t\tc.attr(label=labelSet)\n",
        "\t\tfor a1 in A:\n",
        "\t\t\tc.node(str(a1))\n",
        "\tfor (a1,a2) in R:\n",
        "\t\tg.edge(str(a1),str(a2))\n",
        "\treturn g\n",
        "\n",
        "# Em python, não podemos ter um conjunto de conjuntos. Portanto, essa função retorna uma lista de listas.\n",
        "def powerset(fullset):\n",
        "  listsub = list(fullset)\n",
        "  subsets = []\n",
        "  for i in range(2**len(listsub)):\n",
        "    subset = []\n",
        "    for k in range(len(listsub)):            \n",
        "      if i & 1<<k:\n",
        "        subset.append(listsub[k])\n",
        "    subsets.append(subset)   \n",
        "  return subsets       \n",
        "def strPowerSet(X):\n",
        "  subsets= powerset(X)\n",
        "  r = \"{\"\n",
        "  for i in range(len(subsets)):\n",
        "    if i== len(subsets)-1: r+=str(subsets[i])\n",
        "    else: r+= str(set(subsets[i]))+\", \"\n",
        "  return r+\"}\"\n",
        "def printPowerSet(X):\n",
        "  print(strPowerSet(X))\n",
        "\n",
        "def unionSets(*args):\n",
        "  R = set()\n",
        "  for a in args:\n",
        "    R = R.union(a)\n",
        "  return R\n",
        "def intersectionSets(*args):\n",
        "  if (len(args)==0): return set()\n",
        "  else:\n",
        "    R = args[0]\n",
        "    for i in range(1, len(args)):\n",
        "      R = R.intersection(args[i])\n",
        "    return R\n",
        "\n",
        "def produtoCartesiano(A1, A2):\n",
        "  R = set()\n",
        "  for a1 in A1:\n",
        "    for a2 in A2:\n",
        "      R.add((a1,a2))\n",
        "  return R\n",
        "\n",
        "def produtoCartesiano_3(A1, A2, A3):\n",
        "  R = set()\n",
        "  for a1 in A1:\n",
        "    for a2 in A2:\n",
        "      for a3 in A3:\n",
        "        R.add((a1,a2,a3))\n",
        "  return R\n",
        "\n",
        "\n",
        "def isConexa(A,R):\n",
        "  for a in A:\n",
        "    for b in A:\n",
        "      if not ((a,b) in R or (b,a) in R or a==b): return False\n",
        "  return True\n",
        "\n",
        "def isReflexiva(A,R):\n",
        "  for a in A:\n",
        "    if (a,a) not in R: return False\n",
        "  return True\n",
        "\n",
        "def isSimetrica(A,R):\n",
        "  for a in A:\n",
        "    for b in A:\n",
        "      if (a,b) in R:\n",
        "        if (b,a) not in R: return False\n",
        "  return True\n",
        "\n",
        "def isAntiSimetrica(A,R):\n",
        "  for a in A:\n",
        "    for b in A:\n",
        "      if (a,b) in R and (b,a) in R:\n",
        "        if (a!=b): return False\n",
        "  return True\n",
        "\n",
        "def isTransitiva(A,R):\n",
        "  for a in A:\n",
        "    for b in A:\n",
        "      for c in A:\n",
        "        if (a,b) in R and (b,c) in R:\n",
        "          if (a,c) not in R: return False\n",
        "  return True\n",
        "\n",
        "def isFuncao(A1,A2,R):\n",
        "  for a in A1:\n",
        "    elemento_unico = None\n",
        "    for b in A2:\n",
        "      if (a,b) in R:\n",
        "        if(elemento_unico ==None): elemento_unico = b\n",
        "        else: return False\n",
        "  return True\n",
        "\n",
        "def isFuncaoTotal(A1,A2,R):\n",
        "  for a in A1:\n",
        "    elemento_unico = None\n",
        "    for b in A2:\n",
        "      if (a,b) in R:\n",
        "        if(elemento_unico ==None): elemento_unico = b\n",
        "        else: return False\n",
        "    if(elemento_unico==None): return False\n",
        "  return True\n",
        "\n",
        "def isInjetora(A1,A2,R):\n",
        "  if not isFuncao(A1,A2,R): return False\n",
        "  for c in A2:\n",
        "    elemento_a = None\n",
        "    for (a,b) in R:\n",
        "      if (b==c):\n",
        "        if elemento_a == None: elemento_a = a\n",
        "        elif elemento_a != a: return False\n",
        "  return True\n",
        "  \n",
        "def isSobrejetora(A1,A2,R):\n",
        "  if not isFuncao(A1,A2,R): return False\n",
        "  for b in A2:\n",
        "    result = False\n",
        "    for a in A1:\n",
        "      if (a,b) in R: \n",
        "        result = True\n",
        "        break\n",
        "    if not result: return False\n",
        "  return True\n",
        "\n",
        "def isBijetora(A1,A2,R):\n",
        "  return isInjetora(A1,A2,R) and isSobrejetora(A1,A2,R)\n",
        "\n",
        "def fechoTransitivo(A,R):\n",
        "  S = R.copy()\n",
        "  adicionou_elemento = True\n",
        "  while adicionou_elemento:\n",
        "    adicionou_elemento = False\n",
        "    for a in A:\n",
        "      for b in A:\n",
        "        for c in A:\n",
        "          if (a,b) in S and (b,c) in S:\n",
        "            if (a,c) not in S: \n",
        "              S.add((a,c))\n",
        "              adicionou_elemento = True\n",
        "  return S\n",
        "\n",
        "def fechoReflexivo(A,R):\n",
        "  S = R.copy()\n",
        "  for a in A:\n",
        "    if (a,a) not in S: S.add((a,a))\n",
        "  return S\n",
        "\n",
        "sVazia = ''\n",
        "\n",
        "# Retorna a o Sigma^k do alfabeto A\n",
        "def sigma(A,k):\n",
        "  R = set()\n",
        "  if k==0: return {sVazia}\n",
        "  else:\n",
        "    S = sigma(A,k-1)\n",
        "    for s in S:\n",
        "      for a in A:\n",
        "        R.add(s+str(a))\n",
        "  return R\n",
        "\n",
        "# Converte uma string em um número\n",
        "def T(s):\n",
        "  s = '1'+s\n",
        "  z = len(s)\n",
        "  r = 0\n",
        "  for x in range (z):\n",
        "    y = z-x-1\n",
        "    r+= (2**y)*int(s[x])\n",
        "  return r\n",
        "\n",
        "\n",
        "import pandas as pd\n",
        "# Visualiza a diagonalização de uma auto-relação. Note que D é diferente de todo R\n",
        "def visualiza_diagonalizacao(A, R):\n",
        "  l = []\n",
        "  d ={}\n",
        "  D = []\n",
        "  D_s = ''\n",
        "  A = sorted(list(A))\n",
        "  for a in A:\n",
        "    la = []\n",
        "    R_s = ''\n",
        "    for b in A:\n",
        "      if (a,b) in R:\n",
        "        la.append('x')\n",
        "        if R_s == '': R_s = str(b)\n",
        "        else: R_s += ', '+str(b)      \n",
        "        if a==b: \n",
        "          D.append(' ') \n",
        "      else:\n",
        "        if a==b: \n",
        "          D.append('x') \n",
        "          D_s = str(b) if D_s=='' else D_s+', '+str(b)\n",
        "        la.append(' ')  \n",
        "        \n",
        "    la.append('R_'+str(a)+'={'+R_s+'}')\n",
        "    d[a] = la\n",
        "    l.append(la)\n",
        "  D.append('D={'+D_s+'}')\n",
        "  if 'D' in A: d['D'] = D  \n",
        "  else: d[' D'] = D\n",
        "\n",
        "  df = pd.DataFrame.from_dict(d, orient='index',columns=list(A)+['R'])\n",
        "  display(df)\n",
        "\n"
      ],
      "execution_count": null,
      "outputs": []
    },
    {
      "cell_type": "markdown",
      "metadata": {
        "id": "jCOpspz8Hzsv"
      },
      "source": [
        "# [Conjuntos](https://youtu.be/w7u0zyJU29Q)\n",
        "\n",
        "- Um **Conjunto** $L$ é uma coleção de objetos (elementos), na qual não distinguimos a ordem dos elementos e nem ocorrências múltiplas de elementos. Se $b$ é um elemento de $L$, denotamos $b\\in L$. Caso não pertença, escrevemos $b\\not\\in L$.\n",
        "\\begin{equation*}L=\\{a,b,c,d\\}=\\{b,c,a,d\\}=\\{a,a,b,c,d,b\\}\\end{equation*}\n",
        "- Um conjunto sem elementos é dito **vazio** ($\\emptyset$). Qualquer outro conjunto é dito \\textbf{não-vazio}.\n",
        "- Alguns conjuntos são **infinitos**:  \n",
        "  - $\\mathbb{N}=\\{0,1,2,\\ldots\\}$ \n",
        "  - $\\mathbb{Z}=\\{\\ldots,-2,-1,0,1,2,\\ldots\\}$\n"
      ]
    },
    {
      "cell_type": "code",
      "metadata": {
        "colab": {
          "base_uri": "https://localhost:8080/"
        },
        "id": "l0h5-NQ1IfXM",
        "outputId": "d38d29c3-334a-4984-f269-5640c9d61fcc"
      },
      "source": [
        "L1 = {'a','b','c','d'}\n",
        "L2 = {'b','c','a','d'}\n",
        "L3 = {'a','a','b','c','d','b'}\n",
        "print(L1)\n",
        "print(L2)\n",
        "print(L3)\n",
        "print(L1==L2)\n",
        "print(L1==L3)\n",
        "print(L2==L3)\n"
      ],
      "execution_count": null,
      "outputs": [
        {
          "output_type": "stream",
          "name": "stdout",
          "text": [
            "{'c', 'b', 'a', 'd'}\n",
            "{'c', 'a', 'b', 'd'}\n",
            "{'c', 'b', 'a', 'd'}\n",
            "True\n",
            "True\n",
            "True\n"
          ]
        }
      ]
    },
    {
      "cell_type": "markdown",
      "metadata": {
        "id": "Y2ErbkWlJ24H"
      },
      "source": [
        "## Definindo Conjuntos \n",
        "Seja $A$ um conjunto definido e $P$ uma propriedade sobre $A$, definimos um conjunto $B$ por\n",
        "\\begin{equation*}B=\\{x:x\\in A\\text{ e }x\\text{ tem a propriedade }P\\}\\end{equation*}\n",
        "- Seja $A=\\{2,3,5,6\\}$ e $P$ a propriedade de ser maior que $2$. \n",
        "  \\begin{equation*}B=\\{x:x\\in A\\text{ e }x\\text{ é maior que 2}\\}=\\{3,5,6\\}\\end{equation*}\n",
        "- O Conjunto dos números ímpares, pode ser definido como\n",
        "  \\begin{equation*}B=\\{x:x\\in \\mathbb{N}\\text{ e }x\\text{ não é divisível por 2}\\}=\\{1,3,5,\\ldots\\}\\end{equation*}"
      ]
    },
    {
      "cell_type": "code",
      "metadata": {
        "colab": {
          "base_uri": "https://localhost:8080/"
        },
        "id": "BZ6ocxfyKbRA",
        "outputId": "8d2bf3e4-4015-4cb6-a0a3-6069e965534c"
      },
      "source": [
        "maior2 = lambda x: x>2\n",
        "\n",
        "B = conjunto({2,3,5,6},maior2)\n",
        "B"
      ],
      "execution_count": null,
      "outputs": [
        {
          "output_type": "execute_result",
          "data": {
            "text/plain": [
              "{3, 5, 6}"
            ]
          },
          "metadata": {},
          "execution_count": 84
        }
      ]
    },
    {
      "cell_type": "code",
      "metadata": {
        "colab": {
          "base_uri": "https://localhost:8080/"
        },
        "id": "J0ndvLCjNc83",
        "outputId": "6c301855-1172-4a0d-b880-f09d013351b9"
      },
      "source": [
        "naoDivisivel2 = lambda x: x%2 != 0\n",
        "B = conjunto({0,1,2,3,4,5,6,7},naoDivisivel2)\n",
        "B"
      ],
      "execution_count": null,
      "outputs": [
        {
          "output_type": "execute_result",
          "data": {
            "text/plain": [
              "{1, 3, 5, 7}"
            ]
          },
          "metadata": {},
          "execution_count": 85
        }
      ]
    },
    {
      "cell_type": "code",
      "metadata": {
        "id": "9CbMwdSd23il"
      },
      "source": [
        "# Exercício: defina um conjunto cujos os elementos são maiores do que 2 e menores do que 8 a partir do conjunto {1,3,5,7,9}. Utilize a função conjunto(A,P) e uma função lambda para definir a propriedade P \n"
      ],
      "execution_count": null,
      "outputs": []
    },
    {
      "cell_type": "markdown",
      "metadata": {
        "id": "v708iPrYOYw9"
      },
      "source": [
        "## Subconjunto\n",
        "Um conjunto $A$ é um **subconjunto** de $B$, se cada elemento de $A$ está em $B$ e escrevemos denotado por $A\\subseteq B$. Note que qualquer conjunto é subconjunto de si próprio e que o conjunto vazio é subconjunto de todos os conjuntos ($\\emptyset\\subseteq A$). \n",
        "- Se $A$ é um subconjunto de $B$, mas $A$ é diferente de $B$, dizemos que $A$ é um **subconjunto próprio** de $B$ e escrevemos $A\\subset B$.\n",
        "- A coleção de todos os subconjuntos de um conjunto $A$ é um conjunto denominado de **conjunto-potência**, representado por $2^{A}$.\n",
        "- Dizemos que dois conjuntos $A$ e $B$ são **iguais** sse todos os elementos de $A$ são elementos de $B$ e vice-versa. Para demonstrar que $A=B$, devemos mostrar que $A \\subseteq B$ e $B\\subseteq A$.\n"
      ]
    },
    {
      "cell_type": "code",
      "metadata": {
        "colab": {
          "base_uri": "https://localhost:8080/"
        },
        "id": "ZuTXEJ6jWWGJ",
        "outputId": "c98425a1-1a93-4efb-d03f-78c24233eb9f"
      },
      "source": [
        "A = {1,2,3,4}\n",
        "B = {1,5}\n",
        "C = {1,3,4}\n",
        "D = {5,1}\n",
        "\n",
        "print(f\"O conjunto vazio é: {set()}\")\n",
        "print(f\"{A} é um subconjunto de {A}: {A.issubset(A)}\")\n",
        "print(f\"{B} é um subconjunto de {A}: {B.issubset(A)}\")\n",
        "print(f\"{C} é um subconjunto de {A}: {C.issubset(A)}\")\n",
        "\n",
        "print(f\"{A} é um subconjunto próprio de {A}: {A.issubset(A) and A != A}\")\n",
        "print(f\"{B} é um subconjunto próprio de {A}: {B.issubset(A) and A != B}\")\n",
        "print(f\"{C} é um subconjunto próprio de {A}: {C.issubset(A) and A !=C}\")\n",
        "\n",
        "print(f\"O conjunto-potência de {B} é: {strPowerSet(B)}\")\n",
        "print(f\"O conjunto-potência de {C} é: {strPowerSet(C)}\")\n",
        "\n",
        "print(f\"{B} é igual a {D}: {B.issubset(D) and D.issubset(B)}\")\n",
        "print(f\"{A} é igual a {C}: {C.issubset(A) and A.issubset(C)}\")"
      ],
      "execution_count": null,
      "outputs": [
        {
          "output_type": "stream",
          "name": "stdout",
          "text": [
            "O conjunto vazio é: set()\n",
            "{1, 2, 3, 4} é um subconjunto de {1, 2, 3, 4}: True\n",
            "{1, 5} é um subconjunto de {1, 2, 3, 4}: False\n",
            "{1, 3, 4} é um subconjunto de {1, 2, 3, 4}: True\n",
            "{1, 2, 3, 4} é um subconjunto próprio de {1, 2, 3, 4}: False\n",
            "{1, 5} é um subconjunto próprio de {1, 2, 3, 4}: False\n",
            "{1, 3, 4} é um subconjunto próprio de {1, 2, 3, 4}: True\n",
            "O conjunto-potência de {1, 5} é: {set(), {1}, {5}, [1, 5]}\n",
            "O conjunto-potência de {1, 3, 4} é: {set(), {1}, {3}, {1, 3}, {4}, {1, 4}, {3, 4}, [1, 3, 4]}\n",
            "{1, 5} é igual a {1, 5}: True\n",
            "{1, 2, 3, 4} é igual a {1, 3, 4}: False\n"
          ]
        }
      ]
    },
    {
      "cell_type": "code",
      "metadata": {
        "id": "ao4WnZoX3biM"
      },
      "source": [
        "# Exercício: Verifique se o conjunto {a,d,e} é um subconjunto de {a,b,c,d}"
      ],
      "execution_count": null,
      "outputs": []
    },
    {
      "cell_type": "code",
      "metadata": {
        "id": "xkoyMJFs3kuc"
      },
      "source": [
        "# Exercício: Calcule o conjunto-potência de {a,b,c,d}"
      ],
      "execution_count": null,
      "outputs": []
    },
    {
      "cell_type": "markdown",
      "metadata": {
        "id": "PygfamJJ3iKU"
      },
      "source": [
        "## [Operações Sobre Conjuntos](https://youtu.be/v1TCoHprRe4)\n",
        "Sejam $A$ e $B$ dois conjuntos, podemos definir operações de conjunto:\n",
        "- **União:** $A\\cup B=\\{x: x\\in A\\text{ ou }x\\in B\\}$\n",
        "- **Interseção:** $A\\cap B=\\{x: x\\in A\\text{ e }x\\in B\\}$\n",
        "- **Diferença:** $A- B=\\{x: x\\in A\\text{ e  }x\\notin B\\}$\n",
        "Sejam $A=\\{1,2,3,5\\}$ e $B=\\{2,3,4\\}$, temos\n",
        "- $A\\cup B=\\{1,2,3,4,5\\}$\n",
        "- $A\\cap B=\\{2,3\\}$\n",
        "- $A- B=\\{1,5\\}$ e $B-A=\\{4\\}$\n",
        "\n",
        "Seja $S=\\{A_1,\\ldots,A_n\\}$ um conjunto de conjuntos de $A_1,\\ldots,A_n$, podemos definir operações de conjunto:\n",
        "\\begin{equation*}\\textbf{União:} \\bigcup_{A\\in S} A=A_1\\cup\\ldots\\cup A_n\\end{equation*}\n",
        "\\begin{equation*}\\textbf{Interseção:}\\bigcap_{A\\in S} A=A_1\\cap\\ldots\\cap A_n\\end{equation*}\n",
        "\n",
        " Seja $S=\\{\\{1,2,3,5\\},\\{2,3,4\\} ,\\{2,5,6\\}\\}$, temos\n",
        "\n",
        "\\begin{equation*}\\bigcup_{A\\in S} A=\\{1,2,3,5\\}\\cup\\{2,3,4\\} \\cup\\{2,5,6\\}=\\{1,2,3,4,5,6\\}\\end{equation*}\n",
        "\\begin{equation*}\\bigcap_{A\\in S} A=\\{1,2,3,5\\}\\cap\\{2,3,4\\} \\cap\\{2,5,6\\}=\\{2\\}\\end{equation*}"
      ]
    },
    {
      "cell_type": "code",
      "metadata": {
        "colab": {
          "base_uri": "https://localhost:8080/"
        },
        "id": "CCPraKsI4UrR",
        "outputId": "e8d3e313-33dd-4961-8a4e-795ee0310f47"
      },
      "source": [
        "A={1,2,3,5}\n",
        "B={2,3,4}\n",
        "C = {2,5,6}\n",
        "print(f\"{A} união {B} é: {A.union(B)}\")\n",
        "print(f\"{A} inteserção {B} é: {A.intersection(B)}\")\n",
        "print(f\"A diferença entre {A} e {B} é: {A.difference(B)}\")\n",
        "print(f\"A diferença entre {B} e {A} é: {B.difference(A)}\")\n",
        "print(f\"A união de {A}, {B} e {C} é: {unionSets(A,B,C)}\")\n",
        "print(f\"A interseção de {A}, {B} e {C} é: {intersectionSets(A,B,C)}\")"
      ],
      "execution_count": null,
      "outputs": [
        {
          "output_type": "stream",
          "name": "stdout",
          "text": [
            "{1, 2, 3, 5} união {2, 3, 4} é: {1, 2, 3, 4, 5}\n",
            "{1, 2, 3, 5} inteserção {2, 3, 4} é: {2, 3}\n",
            "A diferença entre {1, 2, 3, 5} e {2, 3, 4} é: {1, 5}\n",
            "A diferença entre {2, 3, 4} e {1, 2, 3, 5} é: {4}\n",
            "A união de {1, 2, 3, 5}, {2, 3, 4} e {2, 5, 6} é: {1, 2, 3, 4, 5, 6}\n",
            "A interseção de {1, 2, 3, 5}, {2, 3, 4} e {2, 5, 6} é: {2}\n"
          ]
        }
      ]
    },
    {
      "cell_type": "code",
      "metadata": {
        "id": "WcA50ht43utc"
      },
      "source": [
        "# Exercício: A partir de A= {a,b,c,d} e B={c,d,f,g}, calcule a união, interseção e diferença de A e B. "
      ],
      "execution_count": null,
      "outputs": []
    },
    {
      "cell_type": "markdown",
      "metadata": {
        "id": "8dmIGOaW9kVe"
      },
      "source": [
        "## [Propriedade sobre Conjuntos](https://youtu.be/THikxTzmGq0)\n",
        "Sejam $A, B$ e $C$ conjuntos, as seguintes leis se aplicam:\n",
        "- Idempotência:  $A\\cup A=A$ e $A\\cap A=A$  \n",
        "- Comutatividade: $A\\cup B= B\\cup A$ e $A\\cap B= B\\cap A$\n",
        "- Associatividade: $(A\\cup B)\\cup C= A\\cup (B\\cup C)$ e $(A\\cap B)\\cap C= A\\cap (B\\cap C)$ \n",
        "- Distributividade: $(A\\cup B)\\cap C= (A\\cap C)\\cup (B\\cap C)$ e $(A\\cap B)\\cup C= (A\\cup C)\\cap (B\\cup C)$\n",
        "- Absorção: $(A\\cup B)\\cap A=A$ e $(A\\cap B)\\cup A=A$\n",
        "- Leis de Morgan: $A-(B\\cup C)=(A-B)\\cap(A-C)$ e $A-(B\\cap C)=(A-B)\\cup(A-C)$\n",
        "\n",
        "\n",
        "Prova de Igualdade de Conjuntos\n",
        "-Distributividade:  $(A\\cup B)\\cap C= (A\\cap C)\\cup (B\\cap C)$\n",
        ">**Demonstração**: \\begin{align*}\n",
        "          x\\in (A\\cup B)\\cap C &\n",
        "         \\Longleftrightarrow  x\\in  (A\\cup B)\\text{ e } x\\in C \\\\\n",
        "         &\\Longleftrightarrow  (x\\in A\\text{ ou }x\\in B)\\text{ e } x\\in C \\\\\n",
        "         &\\Longleftrightarrow  (x\\in A\\text{ e }x\\in C)\\text{ ou } (x\\in B\\text{ e }x\\in C)\\\\ \n",
        "         &\\Longleftrightarrow  (x\\in A\\cap C)\\text{ ou } (x\\in B \\cap C)\\\\ \n",
        "         &\\Longleftrightarrow  x\\in (A\\cap C)\\cup (B \\cap C)\\\\ \n",
        "        \\end{align*}"
      ]
    },
    {
      "cell_type": "markdown",
      "metadata": {
        "id": "h4EU2GL1-dTG"
      },
      "source": [
        "## [Produto Cartesiano](https://youtu.be/O_1N7iZw8ic)\n",
        "Produto Cartesiano} dos conjuntos $A_1,\\ldots, A_n$, denotado por $A_1\\times\\ldots\\times A_n$, é o conjunto das tuplas ordenadas $\\langle a_1,\\ldots,a_n\\rangle$, com $a_i\\in A_i$ para todo $i=1,\\ldots,n$. \n",
        "\n",
        "Exemplo: $A_1=\\{a,b,c\\}$, $A_2=\\{1,2\\}$, temos que \n",
        "- $A_1\\times A_2=\\{\\langle a,1\\rangle, \\langle a,2\\rangle, \\langle b,1\\rangle, \\langle b,2\\rangle, \\langle c,1\\rangle, \\langle c,2\\rangle\\}$\n"
      ]
    },
    {
      "cell_type": "code",
      "metadata": {
        "colab": {
          "base_uri": "https://localhost:8080/"
        },
        "id": "pRyU3GUR_LFx",
        "outputId": "f1e36908-b49e-408d-c3a1-538a01f0e3cb"
      },
      "source": [
        "A1 = {'a','b','c'}\n",
        "A2 = {1,2}\n",
        "print(f\"{A1} x {A2} = {produtoCartesiano(A1,A2)}\")"
      ],
      "execution_count": null,
      "outputs": [
        {
          "output_type": "stream",
          "name": "stdout",
          "text": [
            "{'c', 'b', 'a'} x {1, 2} = {('b', 1), ('b', 2), ('c', 2), ('c', 1), ('a', 1), ('a', 2)}\n"
          ]
        }
      ]
    },
    {
      "cell_type": "code",
      "metadata": {
        "colab": {
          "base_uri": "https://localhost:8080/"
        },
        "id": "t5jPnNZ0Zv_w",
        "outputId": "bc266494-9864-4779-fd4f-5fa21ee398bd"
      },
      "source": [
        "#Exercício: Calcule o produto cartesiano dos conjuntos A={a,b} e B = {1,2,3}\n",
        "A = {'a','b'}\n",
        "B = {1,2,3}\n",
        "X = {}# Defina o conjunto X\n",
        "print(f\"O produto cartesiano de {A} com {B} é {X}: {X==produtoCartesiano(A,B)}\")"
      ],
      "execution_count": null,
      "outputs": [
        {
          "output_type": "stream",
          "name": "stdout",
          "text": [
            "O produto cartesiano de {'b', 'a'} com {1, 2, 3} é {}: False\n"
          ]
        }
      ]
    },
    {
      "cell_type": "code",
      "metadata": {
        "colab": {
          "base_uri": "https://localhost:8080/"
        },
        "id": "NXuTW0EC6mdS",
        "outputId": "55a5585d-3c24-4b9a-842f-dc6bf71ef3c8"
      },
      "source": [
        "#Exercício: Calcule o produto cartesiano dos conjuntos A={a,b,c}, B = {1,2} e C ={f,g}\n",
        "A ={'a','b','c'}\n",
        "B = {1,2}\n",
        "C ={'f','g'}\n",
        "X = set() # Defina o conjunto X\n",
        "print(f\"O produto cartesiadno de {A} x {B} x {C} = {X}: \\n {X==produtoCartesiano_3(A,B,C)}\")"
      ],
      "execution_count": null,
      "outputs": [
        {
          "output_type": "stream",
          "name": "stdout",
          "text": [
            "O produto cartesiadno de {'c', 'b', 'a'} x {1, 2} x {'f', 'g'} = set(): \n",
            " False\n"
          ]
        }
      ]
    },
    {
      "cell_type": "markdown",
      "metadata": {
        "id": "CZg4xRSI_9Qx"
      },
      "source": [
        "# [Relação](https://youtu.be/pEjUuxGBfDo)\n",
        "Uma **Relação $R_n$ de aridade $n$** sobre os conjuntos $A_1,\\ldots,A_n$  é um conjunto de tuplas ordenados $\\langle a_1\\ldots,a_n\\rangle$ tais que $a_i\\in A_i$ para todo $i=1,\\ldots,n$, i.e., $R_n\\subseteq A_1\\times\\ldots\\times A_n$. \n",
        "\n",
        "Exemplo: $A_1=\\{a,b,c\\}$, $A_2=\\{1,2,3,4\\}$ e $R_2=\\{\\langle a,1\\rangle, \\langle a,2\\rangle, \\langle c,3\\rangle\\}$\n",
        "\n",
        "As relações de aridade $1,2,3$ são denominadas unárias, binárias e ternárias. \n"
      ]
    },
    {
      "cell_type": "code",
      "metadata": {
        "colab": {
          "base_uri": "https://localhost:8080/",
          "height": 386
        },
        "id": "945cOW4YARiO",
        "outputId": "604fd06b-9e0b-4483-a189-447e7ec0e076"
      },
      "source": [
        "A1 ={'a','b','c'}\n",
        "A2 ={1,2,3,4}\n",
        "R2 ={('a',1),('a',2),('c',3)}\n",
        "print(f\"{R2} é uma relação, i.e., é um subconjunto de {A1} x {A2}: {R2.issubset(produtoCartesiano(A1,A2))} \" )\n",
        "visualiza(A1, A2, R2)\n"
      ],
      "execution_count": null,
      "outputs": [
        {
          "output_type": "stream",
          "name": "stdout",
          "text": [
            "{('a', 1), ('c', 3), ('a', 2)} é uma relação, i.e., é um subconjunto de {'c', 'b', 'a'} x {1, 2, 3, 4}: True \n"
          ]
        },
        {
          "output_type": "execute_result",
          "data": {
            "text/plain": [
              "<graphviz.dot.Digraph at 0x7f899716f710>"
            ],
            "image/svg+xml": "<?xml version=\"1.0\" encoding=\"UTF-8\" standalone=\"no\"?>\n<!DOCTYPE svg PUBLIC \"-//W3C//DTD SVG 1.1//EN\"\n \"http://www.w3.org/Graphics/SVG/1.1/DTD/svg11.dtd\">\n<!-- Generated by graphviz version 2.40.1 (20161225.0304)\n -->\n<!-- Title: %3 Pages: 1 -->\n<svg width=\"184pt\" height=\"261pt\"\n viewBox=\"0.00 0.00 184.00 261.00\" xmlns=\"http://www.w3.org/2000/svg\" xmlns:xlink=\"http://www.w3.org/1999/xlink\">\n<g id=\"graph0\" class=\"graph\" transform=\"scale(1 1) rotate(0) translate(4 257)\">\n<title>%3</title>\n<polygon fill=\"#ffffff\" stroke=\"transparent\" points=\"-4,4 -4,-257 180,-257 180,4 -4,4\"/>\n<g id=\"clust1\" class=\"cluster\">\n<title>cluster_1</title>\n<polygon fill=\"none\" stroke=\"#0000ff\" points=\"8,-62 8,-245 78,-245 78,-62 8,-62\"/>\n<text text-anchor=\"middle\" x=\"43\" y=\"-229.8\" font-family=\"Times,serif\" font-size=\"14.00\" fill=\"#000000\">A1</text>\n</g>\n<g id=\"clust2\" class=\"cluster\">\n<title>cluster_2</title>\n<polygon fill=\"none\" stroke=\"#0000ff\" points=\"98,-8 98,-245 168,-245 168,-8 98,-8\"/>\n<text text-anchor=\"middle\" x=\"133\" y=\"-229.8\" font-family=\"Times,serif\" font-size=\"14.00\" fill=\"#000000\">A2</text>\n</g>\n<!-- c -->\n<g id=\"node1\" class=\"node\">\n<title>c</title>\n<ellipse fill=\"#d3d3d3\" stroke=\"#000000\" cx=\"43\" cy=\"-196\" rx=\"27\" ry=\"18\"/>\n<text text-anchor=\"middle\" x=\"43\" y=\"-192.3\" font-family=\"Times,serif\" font-size=\"14.00\" fill=\"#000000\">c</text>\n</g>\n<!-- d_3 -->\n<g id=\"node6\" class=\"node\">\n<title>d_3</title>\n<ellipse fill=\"#d3d3d3\" stroke=\"#000000\" cx=\"133\" cy=\"-196\" rx=\"27\" ry=\"18\"/>\n<text text-anchor=\"middle\" x=\"133\" y=\"-192.3\" font-family=\"Times,serif\" font-size=\"14.00\" fill=\"#000000\">3</text>\n</g>\n<!-- c&#45;&gt;d_3 -->\n<g id=\"edge2\" class=\"edge\">\n<title>c&#45;&gt;d_3</title>\n<path fill=\"none\" stroke=\"#000000\" d=\"M70.003,-196C78.0277,-196 86.9665,-196 95.5309,-196\"/>\n<polygon fill=\"#000000\" stroke=\"#000000\" points=\"95.7051,-199.5001 105.705,-196 95.705,-192.5001 95.7051,-199.5001\"/>\n</g>\n<!-- b -->\n<g id=\"node2\" class=\"node\">\n<title>b</title>\n<ellipse fill=\"#d3d3d3\" stroke=\"#000000\" cx=\"43\" cy=\"-142\" rx=\"27\" ry=\"18\"/>\n<text text-anchor=\"middle\" x=\"43\" y=\"-138.3\" font-family=\"Times,serif\" font-size=\"14.00\" fill=\"#000000\">b</text>\n</g>\n<!-- a -->\n<g id=\"node3\" class=\"node\">\n<title>a</title>\n<ellipse fill=\"#d3d3d3\" stroke=\"#000000\" cx=\"43\" cy=\"-88\" rx=\"27\" ry=\"18\"/>\n<text text-anchor=\"middle\" x=\"43\" y=\"-84.3\" font-family=\"Times,serif\" font-size=\"14.00\" fill=\"#000000\">a</text>\n</g>\n<!-- d_1 -->\n<g id=\"node4\" class=\"node\">\n<title>d_1</title>\n<ellipse fill=\"#d3d3d3\" stroke=\"#000000\" cx=\"133\" cy=\"-88\" rx=\"27\" ry=\"18\"/>\n<text text-anchor=\"middle\" x=\"133\" y=\"-84.3\" font-family=\"Times,serif\" font-size=\"14.00\" fill=\"#000000\">1</text>\n</g>\n<!-- a&#45;&gt;d_1 -->\n<g id=\"edge1\" class=\"edge\">\n<title>a&#45;&gt;d_1</title>\n<path fill=\"none\" stroke=\"#000000\" d=\"M70.003,-88C78.0277,-88 86.9665,-88 95.5309,-88\"/>\n<polygon fill=\"#000000\" stroke=\"#000000\" points=\"95.7051,-91.5001 105.705,-88 95.705,-84.5001 95.7051,-91.5001\"/>\n</g>\n<!-- d_2 -->\n<g id=\"node5\" class=\"node\">\n<title>d_2</title>\n<ellipse fill=\"#d3d3d3\" stroke=\"#000000\" cx=\"133\" cy=\"-142\" rx=\"27\" ry=\"18\"/>\n<text text-anchor=\"middle\" x=\"133\" y=\"-138.3\" font-family=\"Times,serif\" font-size=\"14.00\" fill=\"#000000\">2</text>\n</g>\n<!-- a&#45;&gt;d_2 -->\n<g id=\"edge3\" class=\"edge\">\n<title>a&#45;&gt;d_2</title>\n<path fill=\"none\" stroke=\"#000000\" d=\"M63.4224,-100.2534C75.3897,-107.4338 90.7024,-116.6215 103.9143,-124.5486\"/>\n<polygon fill=\"#000000\" stroke=\"#000000\" points=\"102.2827,-127.6513 112.6584,-129.7951 105.8842,-121.6488 102.2827,-127.6513\"/>\n</g>\n<!-- d_4 -->\n<g id=\"node7\" class=\"node\">\n<title>d_4</title>\n<ellipse fill=\"#d3d3d3\" stroke=\"#000000\" cx=\"133\" cy=\"-34\" rx=\"27\" ry=\"18\"/>\n<text text-anchor=\"middle\" x=\"133\" y=\"-30.3\" font-family=\"Times,serif\" font-size=\"14.00\" fill=\"#000000\">4</text>\n</g>\n</g>\n</svg>\n"
          },
          "metadata": {},
          "execution_count": 95
        }
      ]
    },
    {
      "cell_type": "code",
      "metadata": {
        "colab": {
          "base_uri": "https://localhost:8080/"
        },
        "id": "ifPPKlvue2KF",
        "outputId": "20b2cd76-3f1f-47d3-e09f-89986b497d08"
      },
      "source": [
        "R3 ={('d',1),('a',2),('c',3)}\n",
        "print(f\"{R3} é uma relação, i.e., é um subconjunto de {A1} x {A2}: {R3.issubset(produtoCartesiano(A1,A2))} \" )"
      ],
      "execution_count": null,
      "outputs": [
        {
          "output_type": "stream",
          "name": "stdout",
          "text": [
            "{('c', 3), ('a', 2), ('d', 1)} é uma relação, i.e., é um subconjunto de {'c', 'b', 'a'} x {1, 2, 3, 4}: False \n"
          ]
        }
      ]
    },
    {
      "cell_type": "markdown",
      "metadata": {
        "id": "69pmBay8BtmM"
      },
      "source": [
        "## Auto-Relação\n",
        "Uma relação $R: A\\times A$ é dita ser uma **auto-relação**.\n",
        "Seja $R$ uma auto-relação, definimos $R$ como:\n",
        "- **Conexa**, se, para todo $a,b\\in A$, vale que $\\langle a,b\\rangle\\in R$ ou $\\langle b,a\\rangle\\in R$ ou $a=b$.\n",
        "- **Reflexiva**, se, para todo $a\\in A$, vale que $\\langle a,a\\rangle\\in R$.\n",
        "-**Simétrica**, se, para todo $a,b\\in A$, vale que caso $\\langle a,b\\rangle\\in R$, então $\\langle b,a\\rangle\\in R$.\n",
        "- **Anti-Simétrica**, se, para todo $a,b\\in A$, caso $\\langle a,b\\rangle\\in R$ e $\\langle b,a\\rangle\\in R$ então $a=b$.\n",
        "- **Transitiva**, se, para todo $a,b,c\\in A$, caso $\\langle a,b\\rangle\\in R$ e $\\langle b,c\\rangle\\in R$ então $\\langle a,c\\rangle\\in R$.\n",
        "\n",
        "A auto-relação $\\leq:\\mathbb{N}\\times \\mathbb{N}$ é conexa, reflexiva, anti-simétrica e transitiva.\n"
      ]
    },
    {
      "cell_type": "code",
      "metadata": {
        "colab": {
          "base_uri": "https://localhost:8080/",
          "height": 149
        },
        "id": "kyTmtQm1feOw",
        "outputId": "236bb199-2a7c-4068-970f-702b6f632530"
      },
      "source": [
        "A = {1,2,3}\n",
        "R1 ={(1,2),(3,1),(2,3)}\n",
        "visualiza_auto_relacao(A,R1)"
      ],
      "execution_count": null,
      "outputs": [
        {
          "output_type": "execute_result",
          "data": {
            "text/plain": [
              "<graphviz.dot.Digraph at 0x7f8996fd3b10>"
            ],
            "image/svg+xml": "<?xml version=\"1.0\" encoding=\"UTF-8\" standalone=\"no\"?>\n<!DOCTYPE svg PUBLIC \"-//W3C//DTD SVG 1.1//EN\"\n \"http://www.w3.org/Graphics/SVG/1.1/DTD/svg11.dtd\">\n<!-- Generated by graphviz version 2.40.1 (20161225.0304)\n -->\n<!-- Title: %3 Pages: 1 -->\n<svg width=\"274pt\" height=\"96pt\"\n viewBox=\"0.00 0.00 274.00 96.00\" xmlns=\"http://www.w3.org/2000/svg\" xmlns:xlink=\"http://www.w3.org/1999/xlink\">\n<g id=\"graph0\" class=\"graph\" transform=\"scale(1 1) rotate(0) translate(4 92)\">\n<title>%3</title>\n<polygon fill=\"#ffffff\" stroke=\"transparent\" points=\"-4,4 -4,-92 270,-92 270,4 -4,4\"/>\n<g id=\"clust1\" class=\"cluster\">\n<title>cluster_1</title>\n<polygon fill=\"none\" stroke=\"#0000ff\" points=\"8,-8 8,-80 258,-80 258,-8 8,-8\"/>\n</g>\n<!-- 1 -->\n<g id=\"node1\" class=\"node\">\n<title>1</title>\n<ellipse fill=\"#d3d3d3\" stroke=\"#000000\" cx=\"43\" cy=\"-44\" rx=\"27\" ry=\"18\"/>\n<text text-anchor=\"middle\" x=\"43\" y=\"-40.3\" font-family=\"Times,serif\" font-size=\"14.00\" fill=\"#000000\">1</text>\n</g>\n<!-- 2 -->\n<g id=\"node2\" class=\"node\">\n<title>2</title>\n<ellipse fill=\"#d3d3d3\" stroke=\"#000000\" cx=\"133\" cy=\"-34\" rx=\"27\" ry=\"18\"/>\n<text text-anchor=\"middle\" x=\"133\" y=\"-30.3\" font-family=\"Times,serif\" font-size=\"14.00\" fill=\"#000000\">2</text>\n</g>\n<!-- 1&#45;&gt;2 -->\n<g id=\"edge1\" class=\"edge\">\n<title>1&#45;&gt;2</title>\n<path fill=\"none\" stroke=\"#000000\" d=\"M70.003,-40.9997C78.2647,-40.0817 87.4954,-39.0561 96.2888,-38.079\"/>\n<polygon fill=\"#000000\" stroke=\"#000000\" points=\"96.7739,-41.5467 106.3262,-36.9638 96.0009,-34.5896 96.7739,-41.5467\"/>\n</g>\n<!-- 3 -->\n<g id=\"node3\" class=\"node\">\n<title>3</title>\n<ellipse fill=\"#d3d3d3\" stroke=\"#000000\" cx=\"223\" cy=\"-44\" rx=\"27\" ry=\"18\"/>\n<text text-anchor=\"middle\" x=\"223\" y=\"-40.3\" font-family=\"Times,serif\" font-size=\"14.00\" fill=\"#000000\">3</text>\n</g>\n<!-- 2&#45;&gt;3 -->\n<g id=\"edge3\" class=\"edge\">\n<title>2&#45;&gt;3</title>\n<path fill=\"none\" stroke=\"#000000\" d=\"M160.003,-37.0003C168.2647,-37.9183 177.4954,-38.9439 186.2888,-39.921\"/>\n<polygon fill=\"#000000\" stroke=\"#000000\" points=\"186.0009,-43.4104 196.3262,-41.0362 186.7739,-36.4533 186.0009,-43.4104\"/>\n</g>\n<!-- 3&#45;&gt;1 -->\n<g id=\"edge2\" class=\"edge\">\n<title>3&#45;&gt;1</title>\n<path fill=\"none\" stroke=\"#000000\" d=\"M198.7717,-52.1425C187.184,-55.6209 173.0274,-59.2732 160,-61 136.2081,-64.1536 129.7919,-64.1536 106,-61 96.433,-59.7319 86.2571,-57.4253 76.9367,-54.9118\"/>\n<polygon fill=\"#000000\" stroke=\"#000000\" points=\"77.8049,-51.5199 67.2283,-52.1425 75.8847,-58.2514 77.8049,-51.5199\"/>\n</g>\n</g>\n</svg>\n"
          },
          "metadata": {},
          "execution_count": 97
        }
      ]
    },
    {
      "cell_type": "code",
      "metadata": {
        "colab": {
          "base_uri": "https://localhost:8080/",
          "height": 355
        },
        "id": "iWm7m2fcf2yB",
        "outputId": "a71e6eb8-066f-4f27-aeba-281f680f9256"
      },
      "source": [
        "R2 = {(1,1),(2,2),(3,3)}\n",
        "print(f\"{R2} é uma relação reflexiva: {isReflexiva(A,R2)}\")\n",
        "visualiza_auto_relacao(A,R2)"
      ],
      "execution_count": null,
      "outputs": [
        {
          "output_type": "stream",
          "name": "stdout",
          "text": [
            "{(3, 3), (1, 1), (2, 2)} é uma relação reflexiva: True\n"
          ]
        },
        {
          "output_type": "execute_result",
          "data": {
            "text/plain": [
              "<graphviz.dot.Digraph at 0x7f899702c650>"
            ],
            "image/svg+xml": "<?xml version=\"1.0\" encoding=\"UTF-8\" standalone=\"no\"?>\n<!DOCTYPE svg PUBLIC \"-//W3C//DTD SVG 1.1//EN\"\n \"http://www.w3.org/Graphics/SVG/1.1/DTD/svg11.dtd\">\n<!-- Generated by graphviz version 2.40.1 (20161225.0304)\n -->\n<!-- Title: %3 Pages: 1 -->\n<svg width=\"94pt\" height=\"238pt\"\n viewBox=\"0.00 0.00 94.00 238.00\" xmlns=\"http://www.w3.org/2000/svg\" xmlns:xlink=\"http://www.w3.org/1999/xlink\">\n<g id=\"graph0\" class=\"graph\" transform=\"scale(1 1) rotate(0) translate(4 234)\">\n<title>%3</title>\n<polygon fill=\"#ffffff\" stroke=\"transparent\" points=\"-4,4 -4,-234 90,-234 90,4 -4,4\"/>\n<g id=\"clust1\" class=\"cluster\">\n<title>cluster_1</title>\n<polygon fill=\"none\" stroke=\"#0000ff\" points=\"8,-8 8,-222 78,-222 78,-8 8,-8\"/>\n</g>\n<!-- 1 -->\n<g id=\"node1\" class=\"node\">\n<title>1</title>\n<ellipse fill=\"#d3d3d3\" stroke=\"#000000\" cx=\"43\" cy=\"-178\" rx=\"27\" ry=\"18\"/>\n<text text-anchor=\"middle\" x=\"43\" y=\"-174.3\" font-family=\"Times,serif\" font-size=\"14.00\" fill=\"#000000\">1</text>\n</g>\n<!-- 1&#45;&gt;1 -->\n<g id=\"edge2\" class=\"edge\">\n<title>1&#45;&gt;1</title>\n<path fill=\"none\" stroke=\"#000000\" d=\"M33.4312,-195.0373C31.4784,-204.8579 34.668,-214 43,-214 48.2075,-214 51.4063,-210.4289 52.5963,-205.3529\"/>\n<polygon fill=\"#000000\" stroke=\"#000000\" points=\"56.0955,-205.0279 52.5688,-195.0373 49.0955,-205.0466 56.0955,-205.0279\"/>\n</g>\n<!-- 2 -->\n<g id=\"node2\" class=\"node\">\n<title>2</title>\n<ellipse fill=\"#d3d3d3\" stroke=\"#000000\" cx=\"43\" cy=\"-106\" rx=\"27\" ry=\"18\"/>\n<text text-anchor=\"middle\" x=\"43\" y=\"-102.3\" font-family=\"Times,serif\" font-size=\"14.00\" fill=\"#000000\">2</text>\n</g>\n<!-- 2&#45;&gt;2 -->\n<g id=\"edge3\" class=\"edge\">\n<title>2&#45;&gt;2</title>\n<path fill=\"none\" stroke=\"#000000\" d=\"M33.4312,-123.0373C31.4784,-132.8579 34.668,-142 43,-142 48.2075,-142 51.4063,-138.4289 52.5963,-133.3529\"/>\n<polygon fill=\"#000000\" stroke=\"#000000\" points=\"56.0955,-133.0279 52.5688,-123.0373 49.0955,-133.0466 56.0955,-133.0279\"/>\n</g>\n<!-- 3 -->\n<g id=\"node3\" class=\"node\">\n<title>3</title>\n<ellipse fill=\"#d3d3d3\" stroke=\"#000000\" cx=\"43\" cy=\"-34\" rx=\"27\" ry=\"18\"/>\n<text text-anchor=\"middle\" x=\"43\" y=\"-30.3\" font-family=\"Times,serif\" font-size=\"14.00\" fill=\"#000000\">3</text>\n</g>\n<!-- 3&#45;&gt;3 -->\n<g id=\"edge1\" class=\"edge\">\n<title>3&#45;&gt;3</title>\n<path fill=\"none\" stroke=\"#000000\" d=\"M33.4312,-51.0373C31.4784,-60.8579 34.668,-70 43,-70 48.2075,-70 51.4063,-66.4289 52.5963,-61.3529\"/>\n<polygon fill=\"#000000\" stroke=\"#000000\" points=\"56.0955,-61.0279 52.5688,-51.0373 49.0955,-61.0466 56.0955,-61.0279\"/>\n</g>\n</g>\n</svg>\n"
          },
          "metadata": {},
          "execution_count": 98
        }
      ]
    },
    {
      "cell_type": "code",
      "metadata": {
        "colab": {
          "base_uri": "https://localhost:8080/",
          "height": 163
        },
        "id": "8uAiGOEffpAn",
        "outputId": "1dcaf93d-e63d-46ca-c36f-e40c9994d41a"
      },
      "source": [
        "R3 ={(1,2),(2,1),(2,3),(3,2),(2,2)}\n",
        "print(f\"{R3} é uma relação simétrica: {isSimetrica(A,R3)}\")\n",
        "visualiza_auto_relacao(A,R3)"
      ],
      "execution_count": null,
      "outputs": [
        {
          "output_type": "stream",
          "name": "stdout",
          "text": [
            "{(1, 2), (3, 2), (2, 1), (2, 3), (2, 2)} é uma relação simétrica: True\n"
          ]
        },
        {
          "output_type": "execute_result",
          "data": {
            "text/plain": [
              "<graphviz.dot.Digraph at 0x7f8996fd8f90>"
            ],
            "image/svg+xml": "<?xml version=\"1.0\" encoding=\"UTF-8\" standalone=\"no\"?>\n<!DOCTYPE svg PUBLIC \"-//W3C//DTD SVG 1.1//EN\"\n \"http://www.w3.org/Graphics/SVG/1.1/DTD/svg11.dtd\">\n<!-- Generated by graphviz version 2.40.1 (20161225.0304)\n -->\n<!-- Title: %3 Pages: 1 -->\n<svg width=\"274pt\" height=\"94pt\"\n viewBox=\"0.00 0.00 274.00 94.00\" xmlns=\"http://www.w3.org/2000/svg\" xmlns:xlink=\"http://www.w3.org/1999/xlink\">\n<g id=\"graph0\" class=\"graph\" transform=\"scale(1 1) rotate(0) translate(4 90)\">\n<title>%3</title>\n<polygon fill=\"#ffffff\" stroke=\"transparent\" points=\"-4,4 -4,-90 270,-90 270,4 -4,4\"/>\n<g id=\"clust1\" class=\"cluster\">\n<title>cluster_1</title>\n<polygon fill=\"none\" stroke=\"#0000ff\" points=\"8,-8 8,-78 258,-78 258,-8 8,-8\"/>\n</g>\n<!-- 1 -->\n<g id=\"node1\" class=\"node\">\n<title>1</title>\n<ellipse fill=\"#d3d3d3\" stroke=\"#000000\" cx=\"43\" cy=\"-34\" rx=\"27\" ry=\"18\"/>\n<text text-anchor=\"middle\" x=\"43\" y=\"-30.3\" font-family=\"Times,serif\" font-size=\"14.00\" fill=\"#000000\">1</text>\n</g>\n<!-- 2 -->\n<g id=\"node2\" class=\"node\">\n<title>2</title>\n<ellipse fill=\"#d3d3d3\" stroke=\"#000000\" cx=\"133\" cy=\"-34\" rx=\"27\" ry=\"18\"/>\n<text text-anchor=\"middle\" x=\"133\" y=\"-30.3\" font-family=\"Times,serif\" font-size=\"14.00\" fill=\"#000000\">2</text>\n</g>\n<!-- 1&#45;&gt;2 -->\n<g id=\"edge1\" class=\"edge\">\n<title>1&#45;&gt;2</title>\n<path fill=\"none\" stroke=\"#000000\" d=\"M68.5497,-27.8449C77.4801,-27.2634 87.6762,-27.1082 97.2822,-27.3793\"/>\n<polygon fill=\"#000000\" stroke=\"#000000\" points=\"97.2372,-30.8808 107.3865,-27.8408 97.5566,-23.8881 97.2372,-30.8808\"/>\n</g>\n<!-- 2&#45;&gt;1 -->\n<g id=\"edge3\" class=\"edge\">\n<title>2&#45;&gt;1</title>\n<path fill=\"none\" stroke=\"#000000\" d=\"M107.3865,-40.1592C98.45,-40.7387 88.2523,-40.8919 78.6491,-40.6188\"/>\n<polygon fill=\"#000000\" stroke=\"#000000\" points=\"78.6997,-37.1175 68.5497,-40.1551 78.3786,-44.1101 78.6997,-37.1175\"/>\n</g>\n<!-- 2&#45;&gt;2 -->\n<g id=\"edge5\" class=\"edge\">\n<title>2&#45;&gt;2</title>\n<path fill=\"none\" stroke=\"#000000\" d=\"M117.7729,-49.1666C113.1587,-59.6641 118.2344,-70 133,-70 142.9207,-70 148.4671,-65.3342 149.6394,-59.0884\"/>\n<polygon fill=\"#000000\" stroke=\"#000000\" points=\"153.1015,-58.5736 148.2271,-49.1666 146.1713,-59.5601 153.1015,-58.5736\"/>\n</g>\n<!-- 3 -->\n<g id=\"node3\" class=\"node\">\n<title>3</title>\n<ellipse fill=\"#d3d3d3\" stroke=\"#000000\" cx=\"223\" cy=\"-34\" rx=\"27\" ry=\"18\"/>\n<text text-anchor=\"middle\" x=\"223\" y=\"-30.3\" font-family=\"Times,serif\" font-size=\"14.00\" fill=\"#000000\">3</text>\n</g>\n<!-- 2&#45;&gt;3 -->\n<g id=\"edge4\" class=\"edge\">\n<title>2&#45;&gt;3</title>\n<path fill=\"none\" stroke=\"#000000\" d=\"M158.5497,-27.8449C167.4801,-27.2634 177.6762,-27.1082 187.2822,-27.3793\"/>\n<polygon fill=\"#000000\" stroke=\"#000000\" points=\"187.2372,-30.8808 197.3865,-27.8408 187.5566,-23.8881 187.2372,-30.8808\"/>\n</g>\n<!-- 3&#45;&gt;2 -->\n<g id=\"edge2\" class=\"edge\">\n<title>3&#45;&gt;2</title>\n<path fill=\"none\" stroke=\"#000000\" d=\"M197.3865,-40.1592C188.45,-40.7387 178.2523,-40.8919 168.6491,-40.6188\"/>\n<polygon fill=\"#000000\" stroke=\"#000000\" points=\"168.6997,-37.1175 158.5497,-40.1551 168.3786,-44.1101 168.6997,-37.1175\"/>\n</g>\n</g>\n</svg>\n"
          },
          "metadata": {},
          "execution_count": 99
        }
      ]
    },
    {
      "cell_type": "code",
      "metadata": {
        "colab": {
          "base_uri": "https://localhost:8080/",
          "height": 163
        },
        "id": "PPRa-xK_gFv_",
        "outputId": "50eb335a-98d8-4e9b-e1ed-6effa8b49aa5"
      },
      "source": [
        "R4 ={(1,2),(2,3),(2,2)}\n",
        "print(f\"{R4} é uma relação Anti-Simétrica: {isAntiSimetrica(A,R4)}\")\n",
        "visualiza_auto_relacao(A,R4)"
      ],
      "execution_count": null,
      "outputs": [
        {
          "output_type": "stream",
          "name": "stdout",
          "text": [
            "{(1, 2), (2, 3), (2, 2)} é uma relação Anti-Simétrica: True\n"
          ]
        },
        {
          "output_type": "execute_result",
          "data": {
            "text/plain": [
              "<graphviz.dot.Digraph at 0x7f899706e310>"
            ],
            "image/svg+xml": "<?xml version=\"1.0\" encoding=\"UTF-8\" standalone=\"no\"?>\n<!DOCTYPE svg PUBLIC \"-//W3C//DTD SVG 1.1//EN\"\n \"http://www.w3.org/Graphics/SVG/1.1/DTD/svg11.dtd\">\n<!-- Generated by graphviz version 2.40.1 (20161225.0304)\n -->\n<!-- Title: %3 Pages: 1 -->\n<svg width=\"274pt\" height=\"94pt\"\n viewBox=\"0.00 0.00 274.00 94.00\" xmlns=\"http://www.w3.org/2000/svg\" xmlns:xlink=\"http://www.w3.org/1999/xlink\">\n<g id=\"graph0\" class=\"graph\" transform=\"scale(1 1) rotate(0) translate(4 90)\">\n<title>%3</title>\n<polygon fill=\"#ffffff\" stroke=\"transparent\" points=\"-4,4 -4,-90 270,-90 270,4 -4,4\"/>\n<g id=\"clust1\" class=\"cluster\">\n<title>cluster_1</title>\n<polygon fill=\"none\" stroke=\"#0000ff\" points=\"8,-8 8,-78 258,-78 258,-8 8,-8\"/>\n</g>\n<!-- 1 -->\n<g id=\"node1\" class=\"node\">\n<title>1</title>\n<ellipse fill=\"#d3d3d3\" stroke=\"#000000\" cx=\"43\" cy=\"-34\" rx=\"27\" ry=\"18\"/>\n<text text-anchor=\"middle\" x=\"43\" y=\"-30.3\" font-family=\"Times,serif\" font-size=\"14.00\" fill=\"#000000\">1</text>\n</g>\n<!-- 2 -->\n<g id=\"node2\" class=\"node\">\n<title>2</title>\n<ellipse fill=\"#d3d3d3\" stroke=\"#000000\" cx=\"133\" cy=\"-34\" rx=\"27\" ry=\"18\"/>\n<text text-anchor=\"middle\" x=\"133\" y=\"-30.3\" font-family=\"Times,serif\" font-size=\"14.00\" fill=\"#000000\">2</text>\n</g>\n<!-- 1&#45;&gt;2 -->\n<g id=\"edge1\" class=\"edge\">\n<title>1&#45;&gt;2</title>\n<path fill=\"none\" stroke=\"#000000\" d=\"M70.003,-34C78.0277,-34 86.9665,-34 95.5309,-34\"/>\n<polygon fill=\"#000000\" stroke=\"#000000\" points=\"95.7051,-37.5001 105.705,-34 95.705,-30.5001 95.7051,-37.5001\"/>\n</g>\n<!-- 2&#45;&gt;2 -->\n<g id=\"edge3\" class=\"edge\">\n<title>2&#45;&gt;2</title>\n<path fill=\"none\" stroke=\"#000000\" d=\"M117.7729,-49.1666C113.1587,-59.6641 118.2344,-70 133,-70 142.9207,-70 148.4671,-65.3342 149.6394,-59.0884\"/>\n<polygon fill=\"#000000\" stroke=\"#000000\" points=\"153.1015,-58.5736 148.2271,-49.1666 146.1713,-59.5601 153.1015,-58.5736\"/>\n</g>\n<!-- 3 -->\n<g id=\"node3\" class=\"node\">\n<title>3</title>\n<ellipse fill=\"#d3d3d3\" stroke=\"#000000\" cx=\"223\" cy=\"-34\" rx=\"27\" ry=\"18\"/>\n<text text-anchor=\"middle\" x=\"223\" y=\"-30.3\" font-family=\"Times,serif\" font-size=\"14.00\" fill=\"#000000\">3</text>\n</g>\n<!-- 2&#45;&gt;3 -->\n<g id=\"edge2\" class=\"edge\">\n<title>2&#45;&gt;3</title>\n<path fill=\"none\" stroke=\"#000000\" d=\"M160.003,-34C168.0277,-34 176.9665,-34 185.5309,-34\"/>\n<polygon fill=\"#000000\" stroke=\"#000000\" points=\"185.7051,-37.5001 195.705,-34 185.705,-30.5001 185.7051,-37.5001\"/>\n</g>\n</g>\n</svg>\n"
          },
          "metadata": {},
          "execution_count": 65
        }
      ]
    },
    {
      "cell_type": "code",
      "metadata": {
        "colab": {
          "base_uri": "https://localhost:8080/",
          "height": 166
        },
        "id": "5HUxX4cvgUn1",
        "outputId": "c27a6cb7-6684-41e8-f5e6-98a00a0dfed5"
      },
      "source": [
        "R5 ={(1,2),(2,3),(1,3)}\n",
        "print(f\"{R5} é uma relação Transitiva: {isTransitiva(A,R5)}\")\n",
        "visualiza_auto_relacao(A,R5)"
      ],
      "execution_count": null,
      "outputs": [
        {
          "output_type": "stream",
          "name": "stdout",
          "text": [
            "{(1, 2), (1, 3), (2, 3)} é uma relação Transitiva: True\n"
          ]
        },
        {
          "output_type": "execute_result",
          "data": {
            "text/plain": [
              "<graphviz.dot.Digraph at 0x7f8996fbe090>"
            ],
            "image/svg+xml": "<?xml version=\"1.0\" encoding=\"UTF-8\" standalone=\"no\"?>\n<!DOCTYPE svg PUBLIC \"-//W3C//DTD SVG 1.1//EN\"\n \"http://www.w3.org/Graphics/SVG/1.1/DTD/svg11.dtd\">\n<!-- Generated by graphviz version 2.40.1 (20161225.0304)\n -->\n<!-- Title: %3 Pages: 1 -->\n<svg width=\"274pt\" height=\"96pt\"\n viewBox=\"0.00 0.00 274.00 96.00\" xmlns=\"http://www.w3.org/2000/svg\" xmlns:xlink=\"http://www.w3.org/1999/xlink\">\n<g id=\"graph0\" class=\"graph\" transform=\"scale(1 1) rotate(0) translate(4 92)\">\n<title>%3</title>\n<polygon fill=\"#ffffff\" stroke=\"transparent\" points=\"-4,4 -4,-92 270,-92 270,4 -4,4\"/>\n<g id=\"clust1\" class=\"cluster\">\n<title>cluster_1</title>\n<polygon fill=\"none\" stroke=\"#0000ff\" points=\"8,-8 8,-80 258,-80 258,-8 8,-8\"/>\n</g>\n<!-- 1 -->\n<g id=\"node1\" class=\"node\">\n<title>1</title>\n<ellipse fill=\"#d3d3d3\" stroke=\"#000000\" cx=\"43\" cy=\"-44\" rx=\"27\" ry=\"18\"/>\n<text text-anchor=\"middle\" x=\"43\" y=\"-40.3\" font-family=\"Times,serif\" font-size=\"14.00\" fill=\"#000000\">1</text>\n</g>\n<!-- 2 -->\n<g id=\"node2\" class=\"node\">\n<title>2</title>\n<ellipse fill=\"#d3d3d3\" stroke=\"#000000\" cx=\"133\" cy=\"-34\" rx=\"27\" ry=\"18\"/>\n<text text-anchor=\"middle\" x=\"133\" y=\"-30.3\" font-family=\"Times,serif\" font-size=\"14.00\" fill=\"#000000\">2</text>\n</g>\n<!-- 1&#45;&gt;2 -->\n<g id=\"edge1\" class=\"edge\">\n<title>1&#45;&gt;2</title>\n<path fill=\"none\" stroke=\"#000000\" d=\"M70.003,-40.9997C78.2647,-40.0817 87.4954,-39.0561 96.2888,-38.079\"/>\n<polygon fill=\"#000000\" stroke=\"#000000\" points=\"96.7739,-41.5467 106.3262,-36.9638 96.0009,-34.5896 96.7739,-41.5467\"/>\n</g>\n<!-- 3 -->\n<g id=\"node3\" class=\"node\">\n<title>3</title>\n<ellipse fill=\"#d3d3d3\" stroke=\"#000000\" cx=\"223\" cy=\"-44\" rx=\"27\" ry=\"18\"/>\n<text text-anchor=\"middle\" x=\"223\" y=\"-40.3\" font-family=\"Times,serif\" font-size=\"14.00\" fill=\"#000000\">3</text>\n</g>\n<!-- 1&#45;&gt;3 -->\n<g id=\"edge2\" class=\"edge\">\n<title>1&#45;&gt;3</title>\n<path fill=\"none\" stroke=\"#000000\" d=\"M67.2283,-52.1425C78.816,-55.6209 92.9726,-59.2732 106,-61 129.7919,-64.1536 136.2081,-64.1536 160,-61 169.567,-59.7319 179.7429,-57.4253 189.0633,-54.9118\"/>\n<polygon fill=\"#000000\" stroke=\"#000000\" points=\"190.1153,-58.2514 198.7717,-52.1425 188.1951,-51.5199 190.1153,-58.2514\"/>\n</g>\n<!-- 2&#45;&gt;3 -->\n<g id=\"edge3\" class=\"edge\">\n<title>2&#45;&gt;3</title>\n<path fill=\"none\" stroke=\"#000000\" d=\"M160.003,-37.0003C168.2647,-37.9183 177.4954,-38.9439 186.2888,-39.921\"/>\n<polygon fill=\"#000000\" stroke=\"#000000\" points=\"186.0009,-43.4104 196.3262,-41.0362 186.7739,-36.4533 186.0009,-43.4104\"/>\n</g>\n</g>\n</svg>\n"
          },
          "metadata": {},
          "execution_count": 66
        }
      ]
    },
    {
      "cell_type": "markdown",
      "metadata": {
        "id": "RTubHoWaGqZy"
      },
      "source": [
        "## [Fecho de uma Relação](https://youtu.be/lY_48U4NVH8)\n",
        "Sejam $R: A\\times A$ uma auto-relação e $P$ um conjunto de propriedades. Definimos o **Fecho de $R$ em Relação a $P$** como o menor conjunto que contém $R$ e que satisfaz as propriedade de $P$ e é denotado por $FECHO-P(R)$. \n",
        "Note que $R\\subseteq FECHO-P(R)$.\n",
        "- Definimos o **Fecho Transitivo**, denotado por $R^+$, como o menor conjunto que satisfaz:\n",
        "  - $R\\subseteq R^+$.\n",
        "  - Se $\\langle a,b\\rangle\\in R^+$ e $\\langle b,c\\rangle\\in R^+$, então $\\langle a,c\\rangle\\in R^+$\n",
        "- Definimos o **Fecho Transitivo e Reflexivo**, denotado por $R^*$, como $R^*=R^+\\cup \\{\\langle a,a\\rangle| a\\in A\\}$.\n",
        "  \n",
        "  Se $R=\\{\\langle 1,2\\rangle, \\langle 2,3\\rangle, \\langle 3,4\\rangle, \\langle 1,5\\rangle\\}$, então o Fecho Transitivo e Reflexivo é $R^*=\\{\\langle 1,1\\rangle, \\langle 1,2\\rangle, \\langle 1,3\\rangle, \\langle 1,4\\rangle, \\langle 1,5\\rangle,  \\langle 2,2\\rangle, \\langle 2,3\\rangle, \\langle 2,4\\rangle,$ $\\langle 3,3\\rangle, \\langle 3,4\\rangle, \\langle 4,4\\rangle, \\langle 5,5\\rangle\\}$"
      ]
    },
    {
      "cell_type": "code",
      "metadata": {
        "colab": {
          "base_uri": "https://localhost:8080/",
          "height": 194
        },
        "id": "U8jAdKXYszEo",
        "outputId": "eed50a96-d2f9-4a8f-cc8a-82dd6942519b"
      },
      "source": [
        "A = {1,2,3,4,5}\n",
        "R = {(1,2),(2,3),(3,4),(1,5)}\n",
        "visualiza_auto_relacao(A,R)"
      ],
      "execution_count": null,
      "outputs": [
        {
          "output_type": "execute_result",
          "data": {
            "text/plain": [
              "<graphviz.dot.Digraph at 0x7f8997037150>"
            ],
            "image/svg+xml": "<?xml version=\"1.0\" encoding=\"UTF-8\" standalone=\"no\"?>\n<!DOCTYPE svg PUBLIC \"-//W3C//DTD SVG 1.1//EN\"\n \"http://www.w3.org/Graphics/SVG/1.1/DTD/svg11.dtd\">\n<!-- Generated by graphviz version 2.40.1 (20161225.0304)\n -->\n<!-- Title: %3 Pages: 1 -->\n<svg width=\"364pt\" height=\"130pt\"\n viewBox=\"0.00 0.00 364.00 130.00\" xmlns=\"http://www.w3.org/2000/svg\" xmlns:xlink=\"http://www.w3.org/1999/xlink\">\n<g id=\"graph0\" class=\"graph\" transform=\"scale(1 1) rotate(0) translate(4 126)\">\n<title>%3</title>\n<polygon fill=\"#ffffff\" stroke=\"transparent\" points=\"-4,4 -4,-126 360,-126 360,4 -4,4\"/>\n<g id=\"clust1\" class=\"cluster\">\n<title>cluster_1</title>\n<polygon fill=\"none\" stroke=\"#0000ff\" points=\"8,-8 8,-114 348,-114 348,-8 8,-8\"/>\n</g>\n<!-- 1 -->\n<g id=\"node1\" class=\"node\">\n<title>1</title>\n<ellipse fill=\"#d3d3d3\" stroke=\"#000000\" cx=\"43\" cy=\"-61\" rx=\"27\" ry=\"18\"/>\n<text text-anchor=\"middle\" x=\"43\" y=\"-57.3\" font-family=\"Times,serif\" font-size=\"14.00\" fill=\"#000000\">1</text>\n</g>\n<!-- 2 -->\n<g id=\"node2\" class=\"node\">\n<title>2</title>\n<ellipse fill=\"#d3d3d3\" stroke=\"#000000\" cx=\"133\" cy=\"-34\" rx=\"27\" ry=\"18\"/>\n<text text-anchor=\"middle\" x=\"133\" y=\"-30.3\" font-family=\"Times,serif\" font-size=\"14.00\" fill=\"#000000\">2</text>\n</g>\n<!-- 1&#45;&gt;2 -->\n<g id=\"edge1\" class=\"edge\">\n<title>1&#45;&gt;2</title>\n<path fill=\"none\" stroke=\"#000000\" d=\"M68.07,-53.479C77.5102,-50.6469 88.4169,-47.3749 98.564,-44.3308\"/>\n<polygon fill=\"#000000\" stroke=\"#000000\" points=\"99.803,-47.6133 108.3755,-41.3874 97.7915,-40.9085 99.803,-47.6133\"/>\n</g>\n<!-- 5 -->\n<g id=\"node5\" class=\"node\">\n<title>5</title>\n<ellipse fill=\"#d3d3d3\" stroke=\"#000000\" cx=\"133\" cy=\"-88\" rx=\"27\" ry=\"18\"/>\n<text text-anchor=\"middle\" x=\"133\" y=\"-84.3\" font-family=\"Times,serif\" font-size=\"14.00\" fill=\"#000000\">5</text>\n</g>\n<!-- 1&#45;&gt;5 -->\n<g id=\"edge2\" class=\"edge\">\n<title>1&#45;&gt;5</title>\n<path fill=\"none\" stroke=\"#000000\" d=\"M68.07,-68.521C77.5102,-71.3531 88.4169,-74.6251 98.564,-77.6692\"/>\n<polygon fill=\"#000000\" stroke=\"#000000\" points=\"97.7915,-81.0915 108.3755,-80.6126 99.803,-74.3867 97.7915,-81.0915\"/>\n</g>\n<!-- 3 -->\n<g id=\"node3\" class=\"node\">\n<title>3</title>\n<ellipse fill=\"#d3d3d3\" stroke=\"#000000\" cx=\"223\" cy=\"-34\" rx=\"27\" ry=\"18\"/>\n<text text-anchor=\"middle\" x=\"223\" y=\"-30.3\" font-family=\"Times,serif\" font-size=\"14.00\" fill=\"#000000\">3</text>\n</g>\n<!-- 2&#45;&gt;3 -->\n<g id=\"edge4\" class=\"edge\">\n<title>2&#45;&gt;3</title>\n<path fill=\"none\" stroke=\"#000000\" d=\"M160.003,-34C168.0277,-34 176.9665,-34 185.5309,-34\"/>\n<polygon fill=\"#000000\" stroke=\"#000000\" points=\"185.7051,-37.5001 195.705,-34 185.705,-30.5001 185.7051,-37.5001\"/>\n</g>\n<!-- 4 -->\n<g id=\"node4\" class=\"node\">\n<title>4</title>\n<ellipse fill=\"#d3d3d3\" stroke=\"#000000\" cx=\"313\" cy=\"-34\" rx=\"27\" ry=\"18\"/>\n<text text-anchor=\"middle\" x=\"313\" y=\"-30.3\" font-family=\"Times,serif\" font-size=\"14.00\" fill=\"#000000\">4</text>\n</g>\n<!-- 3&#45;&gt;4 -->\n<g id=\"edge3\" class=\"edge\">\n<title>3&#45;&gt;4</title>\n<path fill=\"none\" stroke=\"#000000\" d=\"M250.003,-34C258.0277,-34 266.9665,-34 275.5309,-34\"/>\n<polygon fill=\"#000000\" stroke=\"#000000\" points=\"275.7051,-37.5001 285.705,-34 275.705,-30.5001 275.7051,-37.5001\"/>\n</g>\n</g>\n</svg>\n"
          },
          "metadata": {},
          "execution_count": 67
        }
      ]
    },
    {
      "cell_type": "code",
      "metadata": {
        "colab": {
          "base_uri": "https://localhost:8080/",
          "height": 248
        },
        "id": "fadoqKy7WESW",
        "outputId": "c440e735-d222-4818-e04d-533d6648ede6"
      },
      "source": [
        "A = {1,2,3,4,5}\n",
        "R = {(1,2),(2,3),(3,4),(1,5)}\n",
        "R = fechoTransitivo(A,R)\n",
        "visualiza_auto_relacao(A,R)"
      ],
      "execution_count": null,
      "outputs": [
        {
          "output_type": "execute_result",
          "data": {
            "text/plain": [
              "<graphviz.dot.Digraph at 0x7f8997037d10>"
            ],
            "image/svg+xml": "<?xml version=\"1.0\" encoding=\"UTF-8\" standalone=\"no\"?>\n<!DOCTYPE svg PUBLIC \"-//W3C//DTD SVG 1.1//EN\"\n \"http://www.w3.org/Graphics/SVG/1.1/DTD/svg11.dtd\">\n<!-- Generated by graphviz version 2.40.1 (20161225.0304)\n -->\n<!-- Title: %3 Pages: 1 -->\n<svg width=\"364pt\" height=\"170pt\"\n viewBox=\"0.00 0.00 364.00 170.00\" xmlns=\"http://www.w3.org/2000/svg\" xmlns:xlink=\"http://www.w3.org/1999/xlink\">\n<g id=\"graph0\" class=\"graph\" transform=\"scale(1 1) rotate(0) translate(4 166)\">\n<title>%3</title>\n<polygon fill=\"#ffffff\" stroke=\"transparent\" points=\"-4,4 -4,-166 360,-166 360,4 -4,4\"/>\n<g id=\"clust1\" class=\"cluster\">\n<title>cluster_1</title>\n<polygon fill=\"none\" stroke=\"#0000ff\" points=\"8,-8 8,-154 348,-154 348,-8 8,-8\"/>\n</g>\n<!-- 1 -->\n<g id=\"node1\" class=\"node\">\n<title>1</title>\n<ellipse fill=\"#d3d3d3\" stroke=\"#000000\" cx=\"43\" cy=\"-81\" rx=\"27\" ry=\"18\"/>\n<text text-anchor=\"middle\" x=\"43\" y=\"-77.3\" font-family=\"Times,serif\" font-size=\"14.00\" fill=\"#000000\">1</text>\n</g>\n<!-- 2 -->\n<g id=\"node2\" class=\"node\">\n<title>2</title>\n<ellipse fill=\"#d3d3d3\" stroke=\"#000000\" cx=\"133\" cy=\"-34\" rx=\"27\" ry=\"18\"/>\n<text text-anchor=\"middle\" x=\"133\" y=\"-30.3\" font-family=\"Times,serif\" font-size=\"14.00\" fill=\"#000000\">2</text>\n</g>\n<!-- 1&#45;&gt;2 -->\n<g id=\"edge1\" class=\"edge\">\n<title>1&#45;&gt;2</title>\n<path fill=\"none\" stroke=\"#000000\" d=\"M64.3287,-69.8617C75.6784,-63.9346 89.8366,-56.5409 102.3438,-50.0093\"/>\n<polygon fill=\"#000000\" stroke=\"#000000\" points=\"104.2685,-52.9528 111.5125,-45.2213 101.0282,-46.7479 104.2685,-52.9528\"/>\n</g>\n<!-- 3 -->\n<g id=\"node3\" class=\"node\">\n<title>3</title>\n<ellipse fill=\"#d3d3d3\" stroke=\"#000000\" cx=\"223\" cy=\"-54\" rx=\"27\" ry=\"18\"/>\n<text text-anchor=\"middle\" x=\"223\" y=\"-50.3\" font-family=\"Times,serif\" font-size=\"14.00\" fill=\"#000000\">3</text>\n</g>\n<!-- 1&#45;&gt;3 -->\n<g id=\"edge2\" class=\"edge\">\n<title>1&#45;&gt;3</title>\n<path fill=\"none\" stroke=\"#000000\" d=\"M69.5596,-77.0161C100.4897,-72.3765 151.7592,-64.6861 186.4363,-59.4846\"/>\n<polygon fill=\"#000000\" stroke=\"#000000\" points=\"187.2545,-62.9011 196.6246,-57.9563 186.216,-55.9785 187.2545,-62.9011\"/>\n</g>\n<!-- 4 -->\n<g id=\"node4\" class=\"node\">\n<title>4</title>\n<ellipse fill=\"#d3d3d3\" stroke=\"#000000\" cx=\"313\" cy=\"-54\" rx=\"27\" ry=\"18\"/>\n<text text-anchor=\"middle\" x=\"313\" y=\"-50.3\" font-family=\"Times,serif\" font-size=\"14.00\" fill=\"#000000\">4</text>\n</g>\n<!-- 1&#45;&gt;4 -->\n<g id=\"edge3\" class=\"edge\">\n<title>1&#45;&gt;4</title>\n<path fill=\"none\" stroke=\"#000000\" d=\"M69.8134,-84.4033C109.6129,-88.6931 186.4575,-94.0426 250,-81 261.1303,-78.7154 272.7221,-74.3789 282.8828,-69.8389\"/>\n<polygon fill=\"#000000\" stroke=\"#000000\" points=\"284.5702,-72.913 292.1242,-65.4842 281.5863,-66.5808 284.5702,-72.913\"/>\n</g>\n<!-- 5 -->\n<g id=\"node5\" class=\"node\">\n<title>5</title>\n<ellipse fill=\"#d3d3d3\" stroke=\"#000000\" cx=\"133\" cy=\"-128\" rx=\"27\" ry=\"18\"/>\n<text text-anchor=\"middle\" x=\"133\" y=\"-124.3\" font-family=\"Times,serif\" font-size=\"14.00\" fill=\"#000000\">5</text>\n</g>\n<!-- 1&#45;&gt;5 -->\n<g id=\"edge4\" class=\"edge\">\n<title>1&#45;&gt;5</title>\n<path fill=\"none\" stroke=\"#000000\" d=\"M64.3287,-92.1383C75.6784,-98.0654 89.8366,-105.4591 102.3438,-111.9907\"/>\n<polygon fill=\"#000000\" stroke=\"#000000\" points=\"101.0282,-115.2521 111.5125,-116.7787 104.2685,-109.0472 101.0282,-115.2521\"/>\n</g>\n<!-- 2&#45;&gt;3 -->\n<g id=\"edge5\" class=\"edge\">\n<title>2&#45;&gt;3</title>\n<path fill=\"none\" stroke=\"#000000\" d=\"M159.0317,-39.7848C167.8767,-41.7504 177.9185,-43.9819 187.381,-46.0847\"/>\n<polygon fill=\"#000000\" stroke=\"#000000\" points=\"186.8164,-49.5445 197.3376,-48.2972 188.335,-42.7112 186.8164,-49.5445\"/>\n</g>\n<!-- 2&#45;&gt;4 -->\n<g id=\"edge7\" class=\"edge\">\n<title>2&#45;&gt;4</title>\n<path fill=\"none\" stroke=\"#000000\" d=\"M158.8372,-28.6296C182.7294,-24.5621 219.1035,-20.6582 250,-27 261.1303,-29.2846 272.7221,-33.6211 282.8828,-38.1611\"/>\n<polygon fill=\"#000000\" stroke=\"#000000\" points=\"281.5863,-41.4192 292.1242,-42.5158 284.5702,-35.087 281.5863,-41.4192\"/>\n</g>\n<!-- 3&#45;&gt;4 -->\n<g id=\"edge6\" class=\"edge\">\n<title>3&#45;&gt;4</title>\n<path fill=\"none\" stroke=\"#000000\" d=\"M250.003,-54C258.0277,-54 266.9665,-54 275.5309,-54\"/>\n<polygon fill=\"#000000\" stroke=\"#000000\" points=\"275.7051,-57.5001 285.705,-54 275.705,-50.5001 275.7051,-57.5001\"/>\n</g>\n</g>\n</svg>\n"
          },
          "metadata": {},
          "execution_count": 68
        }
      ]
    },
    {
      "cell_type": "code",
      "metadata": {
        "colab": {
          "base_uri": "https://localhost:8080/",
          "height": 242
        },
        "id": "9rImSbQFE8nF",
        "outputId": "d14dc2d8-8ff6-41e9-9e65-b242b016c5cd"
      },
      "source": [
        "A = {1,2,3,4,5}\n",
        "R = {(1,2),(2,3),(3,4),(1,5)}\n",
        "R = fechoReflexivo(A,R)\n",
        "visualiza_auto_relacao(A,R)"
      ],
      "execution_count": null,
      "outputs": [
        {
          "output_type": "execute_result",
          "data": {
            "text/plain": [
              "<graphviz.dot.Digraph at 0x7f899702c7d0>"
            ],
            "image/svg+xml": "<?xml version=\"1.0\" encoding=\"UTF-8\" standalone=\"no\"?>\n<!DOCTYPE svg PUBLIC \"-//W3C//DTD SVG 1.1//EN\"\n \"http://www.w3.org/Graphics/SVG/1.1/DTD/svg11.dtd\">\n<!-- Generated by graphviz version 2.40.1 (20161225.0304)\n -->\n<!-- Title: %3 Pages: 1 -->\n<svg width=\"364pt\" height=\"166pt\"\n viewBox=\"0.00 0.00 364.00 166.00\" xmlns=\"http://www.w3.org/2000/svg\" xmlns:xlink=\"http://www.w3.org/1999/xlink\">\n<g id=\"graph0\" class=\"graph\" transform=\"scale(1 1) rotate(0) translate(4 162)\">\n<title>%3</title>\n<polygon fill=\"#ffffff\" stroke=\"transparent\" points=\"-4,4 -4,-162 360,-162 360,4 -4,4\"/>\n<g id=\"clust1\" class=\"cluster\">\n<title>cluster_1</title>\n<polygon fill=\"none\" stroke=\"#0000ff\" points=\"8,-8 8,-150 348,-150 348,-8 8,-8\"/>\n</g>\n<!-- 1 -->\n<g id=\"node1\" class=\"node\">\n<title>1</title>\n<ellipse fill=\"#d3d3d3\" stroke=\"#000000\" cx=\"43\" cy=\"-70\" rx=\"27\" ry=\"18\"/>\n<text text-anchor=\"middle\" x=\"43\" y=\"-66.3\" font-family=\"Times,serif\" font-size=\"14.00\" fill=\"#000000\">1</text>\n</g>\n<!-- 1&#45;&gt;1 -->\n<g id=\"edge9\" class=\"edge\">\n<title>1&#45;&gt;1</title>\n<path fill=\"none\" stroke=\"#000000\" d=\"M27.7729,-85.1666C23.1587,-95.6641 28.2344,-106 43,-106 52.9207,-106 58.4671,-101.3342 59.6394,-95.0884\"/>\n<polygon fill=\"#000000\" stroke=\"#000000\" points=\"63.1015,-94.5736 58.2271,-85.1666 56.1713,-95.5601 63.1015,-94.5736\"/>\n</g>\n<!-- 2 -->\n<g id=\"node2\" class=\"node\">\n<title>2</title>\n<ellipse fill=\"#d3d3d3\" stroke=\"#000000\" cx=\"133\" cy=\"-34\" rx=\"27\" ry=\"18\"/>\n<text text-anchor=\"middle\" x=\"133\" y=\"-30.3\" font-family=\"Times,serif\" font-size=\"14.00\" fill=\"#000000\">2</text>\n</g>\n<!-- 1&#45;&gt;2 -->\n<g id=\"edge1\" class=\"edge\">\n<title>1&#45;&gt;2</title>\n<path fill=\"none\" stroke=\"#000000\" d=\"M66.1772,-60.7291C76.4896,-56.6042 88.8195,-51.6722 100.0641,-47.1743\"/>\n<polygon fill=\"#000000\" stroke=\"#000000\" points=\"101.6036,-50.3282 109.5885,-43.3646 99.0038,-43.8289 101.6036,-50.3282\"/>\n</g>\n<!-- 5 -->\n<g id=\"node5\" class=\"node\">\n<title>5</title>\n<ellipse fill=\"#d3d3d3\" stroke=\"#000000\" cx=\"133\" cy=\"-106\" rx=\"27\" ry=\"18\"/>\n<text text-anchor=\"middle\" x=\"133\" y=\"-102.3\" font-family=\"Times,serif\" font-size=\"14.00\" fill=\"#000000\">5</text>\n</g>\n<!-- 1&#45;&gt;5 -->\n<g id=\"edge5\" class=\"edge\">\n<title>1&#45;&gt;5</title>\n<path fill=\"none\" stroke=\"#000000\" d=\"M66.1772,-79.2709C76.4896,-83.3958 88.8195,-88.3278 100.0641,-92.8257\"/>\n<polygon fill=\"#000000\" stroke=\"#000000\" points=\"99.0038,-96.1711 109.5885,-96.6354 101.6036,-89.6718 99.0038,-96.1711\"/>\n</g>\n<!-- 2&#45;&gt;2 -->\n<g id=\"edge7\" class=\"edge\">\n<title>2&#45;&gt;2</title>\n<path fill=\"none\" stroke=\"#000000\" d=\"M117.7729,-49.1666C113.1587,-59.6641 118.2344,-70 133,-70 142.9207,-70 148.4671,-65.3342 149.6394,-59.0884\"/>\n<polygon fill=\"#000000\" stroke=\"#000000\" points=\"153.1015,-58.5736 148.2271,-49.1666 146.1713,-59.5601 153.1015,-58.5736\"/>\n</g>\n<!-- 3 -->\n<g id=\"node3\" class=\"node\">\n<title>3</title>\n<ellipse fill=\"#d3d3d3\" stroke=\"#000000\" cx=\"223\" cy=\"-34\" rx=\"27\" ry=\"18\"/>\n<text text-anchor=\"middle\" x=\"223\" y=\"-30.3\" font-family=\"Times,serif\" font-size=\"14.00\" fill=\"#000000\">3</text>\n</g>\n<!-- 2&#45;&gt;3 -->\n<g id=\"edge6\" class=\"edge\">\n<title>2&#45;&gt;3</title>\n<path fill=\"none\" stroke=\"#000000\" d=\"M160.003,-34C168.0277,-34 176.9665,-34 185.5309,-34\"/>\n<polygon fill=\"#000000\" stroke=\"#000000\" points=\"185.7051,-37.5001 195.705,-34 185.705,-30.5001 185.7051,-37.5001\"/>\n</g>\n<!-- 3&#45;&gt;3 -->\n<g id=\"edge2\" class=\"edge\">\n<title>3&#45;&gt;3</title>\n<path fill=\"none\" stroke=\"#000000\" d=\"M207.7729,-49.1666C203.1587,-59.6641 208.2344,-70 223,-70 232.9207,-70 238.4671,-65.3342 239.6394,-59.0884\"/>\n<polygon fill=\"#000000\" stroke=\"#000000\" points=\"243.1015,-58.5736 238.2271,-49.1666 236.1713,-59.5601 243.1015,-58.5736\"/>\n</g>\n<!-- 4 -->\n<g id=\"node4\" class=\"node\">\n<title>4</title>\n<ellipse fill=\"#d3d3d3\" stroke=\"#000000\" cx=\"313\" cy=\"-34\" rx=\"27\" ry=\"18\"/>\n<text text-anchor=\"middle\" x=\"313\" y=\"-30.3\" font-family=\"Times,serif\" font-size=\"14.00\" fill=\"#000000\">4</text>\n</g>\n<!-- 3&#45;&gt;4 -->\n<g id=\"edge8\" class=\"edge\">\n<title>3&#45;&gt;4</title>\n<path fill=\"none\" stroke=\"#000000\" d=\"M250.003,-34C258.0277,-34 266.9665,-34 275.5309,-34\"/>\n<polygon fill=\"#000000\" stroke=\"#000000\" points=\"275.7051,-37.5001 285.705,-34 275.705,-30.5001 275.7051,-37.5001\"/>\n</g>\n<!-- 4&#45;&gt;4 -->\n<g id=\"edge4\" class=\"edge\">\n<title>4&#45;&gt;4</title>\n<path fill=\"none\" stroke=\"#000000\" d=\"M297.7729,-49.1666C293.1587,-59.6641 298.2344,-70 313,-70 322.9207,-70 328.4671,-65.3342 329.6394,-59.0884\"/>\n<polygon fill=\"#000000\" stroke=\"#000000\" points=\"333.1015,-58.5736 328.2271,-49.1666 326.1713,-59.5601 333.1015,-58.5736\"/>\n</g>\n<!-- 5&#45;&gt;5 -->\n<g id=\"edge3\" class=\"edge\">\n<title>5&#45;&gt;5</title>\n<path fill=\"none\" stroke=\"#000000\" d=\"M117.7729,-121.1666C113.1587,-131.6641 118.2344,-142 133,-142 142.9207,-142 148.4671,-137.3342 149.6394,-131.0884\"/>\n<polygon fill=\"#000000\" stroke=\"#000000\" points=\"153.1015,-130.5736 148.2271,-121.1666 146.1713,-131.5601 153.1015,-130.5736\"/>\n</g>\n</g>\n</svg>\n"
          },
          "metadata": {},
          "execution_count": 69
        }
      ]
    },
    {
      "cell_type": "code",
      "metadata": {
        "colab": {
          "base_uri": "https://localhost:8080/",
          "height": 296
        },
        "id": "Ciija7lTXm1m",
        "outputId": "818d3ae9-1db3-4a23-eb40-45d6ccd58f13"
      },
      "source": [
        "A = {1,2,3,4,5}\n",
        "R = {(1,2),(2,3),(3,4),(1,5)}\n",
        "R = fechoReflexivo(A,fechoTransitivo(A,R))\n",
        "visualiza_auto_relacao(A,R)"
      ],
      "execution_count": null,
      "outputs": [
        {
          "output_type": "execute_result",
          "data": {
            "text/plain": [
              "<graphviz.dot.Digraph at 0x7f8997019590>"
            ],
            "image/svg+xml": "<?xml version=\"1.0\" encoding=\"UTF-8\" standalone=\"no\"?>\n<!DOCTYPE svg PUBLIC \"-//W3C//DTD SVG 1.1//EN\"\n \"http://www.w3.org/Graphics/SVG/1.1/DTD/svg11.dtd\">\n<!-- Generated by graphviz version 2.40.1 (20161225.0304)\n -->\n<!-- Title: %3 Pages: 1 -->\n<svg width=\"364pt\" height=\"206pt\"\n viewBox=\"0.00 0.00 364.00 206.00\" xmlns=\"http://www.w3.org/2000/svg\" xmlns:xlink=\"http://www.w3.org/1999/xlink\">\n<g id=\"graph0\" class=\"graph\" transform=\"scale(1 1) rotate(0) translate(4 202)\">\n<title>%3</title>\n<polygon fill=\"#ffffff\" stroke=\"transparent\" points=\"-4,4 -4,-202 360,-202 360,4 -4,4\"/>\n<g id=\"clust1\" class=\"cluster\">\n<title>cluster_1</title>\n<polygon fill=\"none\" stroke=\"#0000ff\" points=\"8,-8 8,-190 348,-190 348,-8 8,-8\"/>\n</g>\n<!-- 1 -->\n<g id=\"node1\" class=\"node\">\n<title>1</title>\n<ellipse fill=\"#d3d3d3\" stroke=\"#000000\" cx=\"43\" cy=\"-99\" rx=\"27\" ry=\"18\"/>\n<text text-anchor=\"middle\" x=\"43\" y=\"-95.3\" font-family=\"Times,serif\" font-size=\"14.00\" fill=\"#000000\">1</text>\n</g>\n<!-- 1&#45;&gt;1 -->\n<g id=\"edge12\" class=\"edge\">\n<title>1&#45;&gt;1</title>\n<path fill=\"none\" stroke=\"#000000\" d=\"M27.7729,-114.1666C23.1587,-124.6641 28.2344,-135 43,-135 52.9207,-135 58.4671,-130.3342 59.6394,-124.0884\"/>\n<polygon fill=\"#000000\" stroke=\"#000000\" points=\"63.1015,-123.5736 58.2271,-114.1666 56.1713,-124.5601 63.1015,-123.5736\"/>\n</g>\n<!-- 2 -->\n<g id=\"node2\" class=\"node\">\n<title>2</title>\n<ellipse fill=\"#d3d3d3\" stroke=\"#000000\" cx=\"133\" cy=\"-34\" rx=\"27\" ry=\"18\"/>\n<text text-anchor=\"middle\" x=\"133\" y=\"-30.3\" font-family=\"Times,serif\" font-size=\"14.00\" fill=\"#000000\">2</text>\n</g>\n<!-- 1&#45;&gt;2 -->\n<g id=\"edge5\" class=\"edge\">\n<title>1&#45;&gt;2</title>\n<path fill=\"none\" stroke=\"#000000\" d=\"M61.6481,-85.532C74.5247,-76.2321 91.8462,-63.7222 106.1979,-53.3571\"/>\n<polygon fill=\"#000000\" stroke=\"#000000\" points=\"108.6262,-55.9207 114.6838,-47.2284 104.5277,-50.246 108.6262,-55.9207\"/>\n</g>\n<!-- 3 -->\n<g id=\"node3\" class=\"node\">\n<title>3</title>\n<ellipse fill=\"#d3d3d3\" stroke=\"#000000\" cx=\"223\" cy=\"-54\" rx=\"27\" ry=\"18\"/>\n<text text-anchor=\"middle\" x=\"223\" y=\"-50.3\" font-family=\"Times,serif\" font-size=\"14.00\" fill=\"#000000\">3</text>\n</g>\n<!-- 1&#45;&gt;3 -->\n<g id=\"edge1\" class=\"edge\">\n<title>1&#45;&gt;3</title>\n<path fill=\"none\" stroke=\"#000000\" d=\"M69.8368,-96.0287C93.7807,-92.9975 129.6433,-87.5171 160,-79 170.3667,-76.0914 181.3711,-72.0683 191.233,-68.0989\"/>\n<polygon fill=\"#000000\" stroke=\"#000000\" points=\"192.7541,-71.2571 200.6481,-64.1906 190.0704,-64.792 192.7541,-71.2571\"/>\n</g>\n<!-- 4 -->\n<g id=\"node4\" class=\"node\">\n<title>4</title>\n<ellipse fill=\"#d3d3d3\" stroke=\"#000000\" cx=\"313\" cy=\"-54\" rx=\"27\" ry=\"18\"/>\n<text text-anchor=\"middle\" x=\"313\" y=\"-50.3\" font-family=\"Times,serif\" font-size=\"14.00\" fill=\"#000000\">4</text>\n</g>\n<!-- 1&#45;&gt;4 -->\n<g id=\"edge2\" class=\"edge\">\n<title>1&#45;&gt;4</title>\n<path fill=\"none\" stroke=\"#000000\" d=\"M69.2762,-104.0035C109.3664,-110.5397 187.7139,-118.9605 250,-99 264.5859,-94.3257 278.6694,-84.8965 289.8077,-75.8715\"/>\n<polygon fill=\"#000000\" stroke=\"#000000\" points=\"292.3713,-78.2854 297.7107,-69.1344 287.83,-72.9583 292.3713,-78.2854\"/>\n</g>\n<!-- 5 -->\n<g id=\"node5\" class=\"node\">\n<title>5</title>\n<ellipse fill=\"#d3d3d3\" stroke=\"#000000\" cx=\"133\" cy=\"-146\" rx=\"27\" ry=\"18\"/>\n<text text-anchor=\"middle\" x=\"133\" y=\"-142.3\" font-family=\"Times,serif\" font-size=\"14.00\" fill=\"#000000\">5</text>\n</g>\n<!-- 1&#45;&gt;5 -->\n<g id=\"edge9\" class=\"edge\">\n<title>1&#45;&gt;5</title>\n<path fill=\"none\" stroke=\"#000000\" d=\"M64.3287,-110.1383C75.6784,-116.0654 89.8366,-123.4591 102.3438,-129.9907\"/>\n<polygon fill=\"#000000\" stroke=\"#000000\" points=\"101.0282,-133.2521 111.5125,-134.7787 104.2685,-127.0472 101.0282,-133.2521\"/>\n</g>\n<!-- 2&#45;&gt;2 -->\n<g id=\"edge10\" class=\"edge\">\n<title>2&#45;&gt;2</title>\n<path fill=\"none\" stroke=\"#000000\" d=\"M117.7729,-49.1666C113.1587,-59.6641 118.2344,-70 133,-70 142.9207,-70 148.4671,-65.3342 149.6394,-59.0884\"/>\n<polygon fill=\"#000000\" stroke=\"#000000\" points=\"153.1015,-58.5736 148.2271,-49.1666 146.1713,-59.5601 153.1015,-58.5736\"/>\n</g>\n<!-- 2&#45;&gt;3 -->\n<g id=\"edge3\" class=\"edge\">\n<title>2&#45;&gt;3</title>\n<path fill=\"none\" stroke=\"#000000\" d=\"M159.0317,-39.7848C167.8767,-41.7504 177.9185,-43.9819 187.381,-46.0847\"/>\n<polygon fill=\"#000000\" stroke=\"#000000\" points=\"186.8164,-49.5445 197.3376,-48.2972 188.335,-42.7112 186.8164,-49.5445\"/>\n</g>\n<!-- 2&#45;&gt;4 -->\n<g id=\"edge4\" class=\"edge\">\n<title>2&#45;&gt;4</title>\n<path fill=\"none\" stroke=\"#000000\" d=\"M158.8372,-28.6296C182.7294,-24.5621 219.1035,-20.6582 250,-27 261.1303,-29.2846 272.7221,-33.6211 282.8828,-38.1611\"/>\n<polygon fill=\"#000000\" stroke=\"#000000\" points=\"281.5863,-41.4192 292.1242,-42.5158 284.5702,-35.087 281.5863,-41.4192\"/>\n</g>\n<!-- 3&#45;&gt;3 -->\n<g id=\"edge6\" class=\"edge\">\n<title>3&#45;&gt;3</title>\n<path fill=\"none\" stroke=\"#000000\" d=\"M207.7729,-69.1666C203.1587,-79.6641 208.2344,-90 223,-90 232.9207,-90 238.4671,-85.3342 239.6394,-79.0884\"/>\n<polygon fill=\"#000000\" stroke=\"#000000\" points=\"243.1015,-78.5736 238.2271,-69.1666 236.1713,-79.5601 243.1015,-78.5736\"/>\n</g>\n<!-- 3&#45;&gt;4 -->\n<g id=\"edge11\" class=\"edge\">\n<title>3&#45;&gt;4</title>\n<path fill=\"none\" stroke=\"#000000\" d=\"M250.003,-54C258.0277,-54 266.9665,-54 275.5309,-54\"/>\n<polygon fill=\"#000000\" stroke=\"#000000\" points=\"275.7051,-57.5001 285.705,-54 275.705,-50.5001 275.7051,-57.5001\"/>\n</g>\n<!-- 4&#45;&gt;4 -->\n<g id=\"edge8\" class=\"edge\">\n<title>4&#45;&gt;4</title>\n<path fill=\"none\" stroke=\"#000000\" d=\"M297.7729,-69.1666C293.1587,-79.6641 298.2344,-90 313,-90 322.9207,-90 328.4671,-85.3342 329.6394,-79.0884\"/>\n<polygon fill=\"#000000\" stroke=\"#000000\" points=\"333.1015,-78.5736 328.2271,-69.1666 326.1713,-79.5601 333.1015,-78.5736\"/>\n</g>\n<!-- 5&#45;&gt;5 -->\n<g id=\"edge7\" class=\"edge\">\n<title>5&#45;&gt;5</title>\n<path fill=\"none\" stroke=\"#000000\" d=\"M117.7729,-161.1666C113.1587,-171.6641 118.2344,-182 133,-182 142.9207,-182 148.4671,-177.3342 149.6394,-171.0884\"/>\n<polygon fill=\"#000000\" stroke=\"#000000\" points=\"153.1015,-170.5736 148.2271,-161.1666 146.1713,-171.5601 153.1015,-170.5736\"/>\n</g>\n</g>\n</svg>\n"
          },
          "metadata": {},
          "execution_count": 70
        }
      ]
    },
    {
      "cell_type": "code",
      "metadata": {
        "colab": {
          "base_uri": "https://localhost:8080/",
          "height": 296
        },
        "id": "cTy9E-27tEuj",
        "outputId": "04b2702d-510e-43e9-d0b9-88e58f119c8a"
      },
      "source": [
        "FECHO_R = {(1,1),(1,2),(1,3),(1,4),(1,5),(2,2),(2,3),(2,4),(3,3),(3,4),(4,4),(5,5)}\n",
        "visualiza_auto_relacao(A,FECHO_R)"
      ],
      "execution_count": null,
      "outputs": [
        {
          "output_type": "execute_result",
          "data": {
            "text/plain": [
              "<graphviz.dot.Digraph at 0x7f8997019f50>"
            ],
            "image/svg+xml": "<?xml version=\"1.0\" encoding=\"UTF-8\" standalone=\"no\"?>\n<!DOCTYPE svg PUBLIC \"-//W3C//DTD SVG 1.1//EN\"\n \"http://www.w3.org/Graphics/SVG/1.1/DTD/svg11.dtd\">\n<!-- Generated by graphviz version 2.40.1 (20161225.0304)\n -->\n<!-- Title: %3 Pages: 1 -->\n<svg width=\"364pt\" height=\"206pt\"\n viewBox=\"0.00 0.00 364.00 206.00\" xmlns=\"http://www.w3.org/2000/svg\" xmlns:xlink=\"http://www.w3.org/1999/xlink\">\n<g id=\"graph0\" class=\"graph\" transform=\"scale(1 1) rotate(0) translate(4 202)\">\n<title>%3</title>\n<polygon fill=\"#ffffff\" stroke=\"transparent\" points=\"-4,4 -4,-202 360,-202 360,4 -4,4\"/>\n<g id=\"clust1\" class=\"cluster\">\n<title>cluster_1</title>\n<polygon fill=\"none\" stroke=\"#0000ff\" points=\"8,-8 8,-190 348,-190 348,-8 8,-8\"/>\n</g>\n<!-- 1 -->\n<g id=\"node1\" class=\"node\">\n<title>1</title>\n<ellipse fill=\"#d3d3d3\" stroke=\"#000000\" cx=\"43\" cy=\"-99\" rx=\"27\" ry=\"18\"/>\n<text text-anchor=\"middle\" x=\"43\" y=\"-95.3\" font-family=\"Times,serif\" font-size=\"14.00\" fill=\"#000000\">1</text>\n</g>\n<!-- 1&#45;&gt;1 -->\n<g id=\"edge12\" class=\"edge\">\n<title>1&#45;&gt;1</title>\n<path fill=\"none\" stroke=\"#000000\" d=\"M27.7729,-114.1666C23.1587,-124.6641 28.2344,-135 43,-135 52.9207,-135 58.4671,-130.3342 59.6394,-124.0884\"/>\n<polygon fill=\"#000000\" stroke=\"#000000\" points=\"63.1015,-123.5736 58.2271,-114.1666 56.1713,-124.5601 63.1015,-123.5736\"/>\n</g>\n<!-- 2 -->\n<g id=\"node2\" class=\"node\">\n<title>2</title>\n<ellipse fill=\"#d3d3d3\" stroke=\"#000000\" cx=\"133\" cy=\"-34\" rx=\"27\" ry=\"18\"/>\n<text text-anchor=\"middle\" x=\"133\" y=\"-30.3\" font-family=\"Times,serif\" font-size=\"14.00\" fill=\"#000000\">2</text>\n</g>\n<!-- 1&#45;&gt;2 -->\n<g id=\"edge1\" class=\"edge\">\n<title>1&#45;&gt;2</title>\n<path fill=\"none\" stroke=\"#000000\" d=\"M61.6481,-85.532C74.5247,-76.2321 91.8462,-63.7222 106.1979,-53.3571\"/>\n<polygon fill=\"#000000\" stroke=\"#000000\" points=\"108.6262,-55.9207 114.6838,-47.2284 104.5277,-50.246 108.6262,-55.9207\"/>\n</g>\n<!-- 3 -->\n<g id=\"node3\" class=\"node\">\n<title>3</title>\n<ellipse fill=\"#d3d3d3\" stroke=\"#000000\" cx=\"223\" cy=\"-54\" rx=\"27\" ry=\"18\"/>\n<text text-anchor=\"middle\" x=\"223\" y=\"-50.3\" font-family=\"Times,serif\" font-size=\"14.00\" fill=\"#000000\">3</text>\n</g>\n<!-- 1&#45;&gt;3 -->\n<g id=\"edge2\" class=\"edge\">\n<title>1&#45;&gt;3</title>\n<path fill=\"none\" stroke=\"#000000\" d=\"M69.8368,-96.0287C93.7807,-92.9975 129.6433,-87.5171 160,-79 170.3667,-76.0914 181.3711,-72.0683 191.233,-68.0989\"/>\n<polygon fill=\"#000000\" stroke=\"#000000\" points=\"192.7541,-71.2571 200.6481,-64.1906 190.0704,-64.792 192.7541,-71.2571\"/>\n</g>\n<!-- 4 -->\n<g id=\"node4\" class=\"node\">\n<title>4</title>\n<ellipse fill=\"#d3d3d3\" stroke=\"#000000\" cx=\"313\" cy=\"-54\" rx=\"27\" ry=\"18\"/>\n<text text-anchor=\"middle\" x=\"313\" y=\"-50.3\" font-family=\"Times,serif\" font-size=\"14.00\" fill=\"#000000\">4</text>\n</g>\n<!-- 1&#45;&gt;4 -->\n<g id=\"edge6\" class=\"edge\">\n<title>1&#45;&gt;4</title>\n<path fill=\"none\" stroke=\"#000000\" d=\"M69.2762,-104.0035C109.3664,-110.5397 187.7139,-118.9605 250,-99 264.5859,-94.3257 278.6694,-84.8965 289.8077,-75.8715\"/>\n<polygon fill=\"#000000\" stroke=\"#000000\" points=\"292.3713,-78.2854 297.7107,-69.1344 287.83,-72.9583 292.3713,-78.2854\"/>\n</g>\n<!-- 5 -->\n<g id=\"node5\" class=\"node\">\n<title>5</title>\n<ellipse fill=\"#d3d3d3\" stroke=\"#000000\" cx=\"133\" cy=\"-146\" rx=\"27\" ry=\"18\"/>\n<text text-anchor=\"middle\" x=\"133\" y=\"-142.3\" font-family=\"Times,serif\" font-size=\"14.00\" fill=\"#000000\">5</text>\n</g>\n<!-- 1&#45;&gt;5 -->\n<g id=\"edge7\" class=\"edge\">\n<title>1&#45;&gt;5</title>\n<path fill=\"none\" stroke=\"#000000\" d=\"M64.3287,-110.1383C75.6784,-116.0654 89.8366,-123.4591 102.3438,-129.9907\"/>\n<polygon fill=\"#000000\" stroke=\"#000000\" points=\"101.0282,-133.2521 111.5125,-134.7787 104.2685,-127.0472 101.0282,-133.2521\"/>\n</g>\n<!-- 2&#45;&gt;2 -->\n<g id=\"edge10\" class=\"edge\">\n<title>2&#45;&gt;2</title>\n<path fill=\"none\" stroke=\"#000000\" d=\"M117.7729,-49.1666C113.1587,-59.6641 118.2344,-70 133,-70 142.9207,-70 148.4671,-65.3342 149.6394,-59.0884\"/>\n<polygon fill=\"#000000\" stroke=\"#000000\" points=\"153.1015,-58.5736 148.2271,-49.1666 146.1713,-59.5601 153.1015,-58.5736\"/>\n</g>\n<!-- 2&#45;&gt;3 -->\n<g id=\"edge9\" class=\"edge\">\n<title>2&#45;&gt;3</title>\n<path fill=\"none\" stroke=\"#000000\" d=\"M159.0317,-39.7848C167.8767,-41.7504 177.9185,-43.9819 187.381,-46.0847\"/>\n<polygon fill=\"#000000\" stroke=\"#000000\" points=\"186.8164,-49.5445 197.3376,-48.2972 188.335,-42.7112 186.8164,-49.5445\"/>\n</g>\n<!-- 2&#45;&gt;4 -->\n<g id=\"edge8\" class=\"edge\">\n<title>2&#45;&gt;4</title>\n<path fill=\"none\" stroke=\"#000000\" d=\"M158.8372,-28.6296C182.7294,-24.5621 219.1035,-20.6582 250,-27 261.1303,-29.2846 272.7221,-33.6211 282.8828,-38.1611\"/>\n<polygon fill=\"#000000\" stroke=\"#000000\" points=\"281.5863,-41.4192 292.1242,-42.5158 284.5702,-35.087 281.5863,-41.4192\"/>\n</g>\n<!-- 3&#45;&gt;3 -->\n<g id=\"edge3\" class=\"edge\">\n<title>3&#45;&gt;3</title>\n<path fill=\"none\" stroke=\"#000000\" d=\"M207.7729,-69.1666C203.1587,-79.6641 208.2344,-90 223,-90 232.9207,-90 238.4671,-85.3342 239.6394,-79.0884\"/>\n<polygon fill=\"#000000\" stroke=\"#000000\" points=\"243.1015,-78.5736 238.2271,-69.1666 236.1713,-79.5601 243.1015,-78.5736\"/>\n</g>\n<!-- 3&#45;&gt;4 -->\n<g id=\"edge11\" class=\"edge\">\n<title>3&#45;&gt;4</title>\n<path fill=\"none\" stroke=\"#000000\" d=\"M250.003,-54C258.0277,-54 266.9665,-54 275.5309,-54\"/>\n<polygon fill=\"#000000\" stroke=\"#000000\" points=\"275.7051,-57.5001 285.705,-54 275.705,-50.5001 275.7051,-57.5001\"/>\n</g>\n<!-- 4&#45;&gt;4 -->\n<g id=\"edge5\" class=\"edge\">\n<title>4&#45;&gt;4</title>\n<path fill=\"none\" stroke=\"#000000\" d=\"M297.7729,-69.1666C293.1587,-79.6641 298.2344,-90 313,-90 322.9207,-90 328.4671,-85.3342 329.6394,-79.0884\"/>\n<polygon fill=\"#000000\" stroke=\"#000000\" points=\"333.1015,-78.5736 328.2271,-69.1666 326.1713,-79.5601 333.1015,-78.5736\"/>\n</g>\n<!-- 5&#45;&gt;5 -->\n<g id=\"edge4\" class=\"edge\">\n<title>5&#45;&gt;5</title>\n<path fill=\"none\" stroke=\"#000000\" d=\"M117.7729,-161.1666C113.1587,-171.6641 118.2344,-182 133,-182 142.9207,-182 148.4671,-177.3342 149.6394,-171.0884\"/>\n<polygon fill=\"#000000\" stroke=\"#000000\" points=\"153.1015,-170.5736 148.2271,-161.1666 146.1713,-171.5601 153.1015,-170.5736\"/>\n</g>\n</g>\n</svg>\n"
          },
          "metadata": {},
          "execution_count": 71
        }
      ]
    },
    {
      "cell_type": "markdown",
      "metadata": {
        "id": "8wQmbjHiHTKh"
      },
      "source": [
        "# [Função](https://youtu.be/YQTqwe1RBM4)\n",
        "Uma **Função de aridade $n$ $f_n:A_1\\times\\ldots\\times A_n\\rightarrow B$** é um mapeamento de $\\langle a_1\\ldots,a_n\\rangle$ em **um único elemento** de $b\\in B$. \n",
        "\n",
        "Dizemos que $a_1,\\ldots,a_n$ são os argumentos da função $f_n$ e \n",
        "$f_n(a_1,\\ldots,a_n)=b$ denota o valor de $b\\in B$ do mapeamento da função $f_n$ com os argumentos $a_1,\\ldots,a_n$.\n",
        "\n",
        "Exemplo: $A_1=\\{a,b,c\\}$, $B=\\{1,2,3,4\\}$ e $f_1:A_1\\rightarrow B$ $f_1(a)=1,~ f_1(b)=1,~f_1(c)=3$.\n",
        "\n"
      ]
    },
    {
      "cell_type": "code",
      "metadata": {
        "colab": {
          "base_uri": "https://localhost:8080/",
          "height": 403
        },
        "id": "-_KOq7xxixKZ",
        "outputId": "e863cba9-80d2-4ec9-b8ec-e79c8241bb84"
      },
      "source": [
        "A1 ={'a','b','c'}\n",
        "A2={1,2,3,4}\n",
        "R = {('a',1),('b',1),('c',3)}\n",
        "print(f\"{R} é uma função de {A1} para {A2}: {isFuncao(A1,A2,R)}\")\n",
        "print(f\"{R} é uma função de {A1} para {A2}: {isFuncaoTotal(A1,A2,R)}\")\n",
        "visualiza(A1,A2,R)"
      ],
      "execution_count": null,
      "outputs": [
        {
          "output_type": "stream",
          "name": "stdout",
          "text": [
            "{('a', 1), ('c', 3), ('b', 1)} é uma função de {'c', 'b', 'a'} para {1, 2, 3, 4}: True\n",
            "{('a', 1), ('c', 3), ('b', 1)} é uma função de {'c', 'b', 'a'} para {1, 2, 3, 4}: True\n"
          ]
        },
        {
          "output_type": "execute_result",
          "data": {
            "text/plain": [
              "<graphviz.dot.Digraph at 0x7f899701dfd0>"
            ],
            "image/svg+xml": "<?xml version=\"1.0\" encoding=\"UTF-8\" standalone=\"no\"?>\n<!DOCTYPE svg PUBLIC \"-//W3C//DTD SVG 1.1//EN\"\n \"http://www.w3.org/Graphics/SVG/1.1/DTD/svg11.dtd\">\n<!-- Generated by graphviz version 2.40.1 (20161225.0304)\n -->\n<!-- Title: %3 Pages: 1 -->\n<svg width=\"184pt\" height=\"261pt\"\n viewBox=\"0.00 0.00 184.00 261.00\" xmlns=\"http://www.w3.org/2000/svg\" xmlns:xlink=\"http://www.w3.org/1999/xlink\">\n<g id=\"graph0\" class=\"graph\" transform=\"scale(1 1) rotate(0) translate(4 257)\">\n<title>%3</title>\n<polygon fill=\"#ffffff\" stroke=\"transparent\" points=\"-4,4 -4,-257 180,-257 180,4 -4,4\"/>\n<g id=\"clust1\" class=\"cluster\">\n<title>cluster_1</title>\n<polygon fill=\"none\" stroke=\"#0000ff\" points=\"8,-62 8,-245 78,-245 78,-62 8,-62\"/>\n<text text-anchor=\"middle\" x=\"43\" y=\"-229.8\" font-family=\"Times,serif\" font-size=\"14.00\" fill=\"#000000\">A1</text>\n</g>\n<g id=\"clust2\" class=\"cluster\">\n<title>cluster_2</title>\n<polygon fill=\"none\" stroke=\"#0000ff\" points=\"98,-8 98,-245 168,-245 168,-8 98,-8\"/>\n<text text-anchor=\"middle\" x=\"133\" y=\"-229.8\" font-family=\"Times,serif\" font-size=\"14.00\" fill=\"#000000\">A2</text>\n</g>\n<!-- c -->\n<g id=\"node1\" class=\"node\">\n<title>c</title>\n<ellipse fill=\"#d3d3d3\" stroke=\"#000000\" cx=\"43\" cy=\"-196\" rx=\"27\" ry=\"18\"/>\n<text text-anchor=\"middle\" x=\"43\" y=\"-192.3\" font-family=\"Times,serif\" font-size=\"14.00\" fill=\"#000000\">c</text>\n</g>\n<!-- d_3 -->\n<g id=\"node6\" class=\"node\">\n<title>d_3</title>\n<ellipse fill=\"#d3d3d3\" stroke=\"#000000\" cx=\"133\" cy=\"-196\" rx=\"27\" ry=\"18\"/>\n<text text-anchor=\"middle\" x=\"133\" y=\"-192.3\" font-family=\"Times,serif\" font-size=\"14.00\" fill=\"#000000\">3</text>\n</g>\n<!-- c&#45;&gt;d_3 -->\n<g id=\"edge2\" class=\"edge\">\n<title>c&#45;&gt;d_3</title>\n<path fill=\"none\" stroke=\"#000000\" d=\"M70.003,-196C78.0277,-196 86.9665,-196 95.5309,-196\"/>\n<polygon fill=\"#000000\" stroke=\"#000000\" points=\"95.7051,-199.5001 105.705,-196 95.705,-192.5001 95.7051,-199.5001\"/>\n</g>\n<!-- b -->\n<g id=\"node2\" class=\"node\">\n<title>b</title>\n<ellipse fill=\"#d3d3d3\" stroke=\"#000000\" cx=\"43\" cy=\"-142\" rx=\"27\" ry=\"18\"/>\n<text text-anchor=\"middle\" x=\"43\" y=\"-138.3\" font-family=\"Times,serif\" font-size=\"14.00\" fill=\"#000000\">b</text>\n</g>\n<!-- d_1 -->\n<g id=\"node4\" class=\"node\">\n<title>d_1</title>\n<ellipse fill=\"#d3d3d3\" stroke=\"#000000\" cx=\"133\" cy=\"-88\" rx=\"27\" ry=\"18\"/>\n<text text-anchor=\"middle\" x=\"133\" y=\"-84.3\" font-family=\"Times,serif\" font-size=\"14.00\" fill=\"#000000\">1</text>\n</g>\n<!-- b&#45;&gt;d_1 -->\n<g id=\"edge3\" class=\"edge\">\n<title>b&#45;&gt;d_1</title>\n<path fill=\"none\" stroke=\"#000000\" d=\"M63.4224,-129.7466C75.3897,-122.5662 90.7024,-113.3785 103.9143,-105.4514\"/>\n<polygon fill=\"#000000\" stroke=\"#000000\" points=\"105.8842,-108.3512 112.6584,-100.2049 102.2827,-102.3487 105.8842,-108.3512\"/>\n</g>\n<!-- a -->\n<g id=\"node3\" class=\"node\">\n<title>a</title>\n<ellipse fill=\"#d3d3d3\" stroke=\"#000000\" cx=\"43\" cy=\"-88\" rx=\"27\" ry=\"18\"/>\n<text text-anchor=\"middle\" x=\"43\" y=\"-84.3\" font-family=\"Times,serif\" font-size=\"14.00\" fill=\"#000000\">a</text>\n</g>\n<!-- a&#45;&gt;d_1 -->\n<g id=\"edge1\" class=\"edge\">\n<title>a&#45;&gt;d_1</title>\n<path fill=\"none\" stroke=\"#000000\" d=\"M70.003,-88C78.0277,-88 86.9665,-88 95.5309,-88\"/>\n<polygon fill=\"#000000\" stroke=\"#000000\" points=\"95.7051,-91.5001 105.705,-88 95.705,-84.5001 95.7051,-91.5001\"/>\n</g>\n<!-- d_2 -->\n<g id=\"node5\" class=\"node\">\n<title>d_2</title>\n<ellipse fill=\"#d3d3d3\" stroke=\"#000000\" cx=\"133\" cy=\"-142\" rx=\"27\" ry=\"18\"/>\n<text text-anchor=\"middle\" x=\"133\" y=\"-138.3\" font-family=\"Times,serif\" font-size=\"14.00\" fill=\"#000000\">2</text>\n</g>\n<!-- d_4 -->\n<g id=\"node7\" class=\"node\">\n<title>d_4</title>\n<ellipse fill=\"#d3d3d3\" stroke=\"#000000\" cx=\"133\" cy=\"-34\" rx=\"27\" ry=\"18\"/>\n<text text-anchor=\"middle\" x=\"133\" y=\"-30.3\" font-family=\"Times,serif\" font-size=\"14.00\" fill=\"#000000\">4</text>\n</g>\n</g>\n</svg>\n"
          },
          "metadata": {},
          "execution_count": 72
        }
      ]
    },
    {
      "cell_type": "code",
      "metadata": {
        "colab": {
          "base_uri": "https://localhost:8080/",
          "height": 475
        },
        "id": "HdwxB59VnbDv",
        "outputId": "04f8d248-7749-43a3-bcee-d7ec4101f7ad"
      },
      "source": [
        "A1 ={'a','b','c'}\n",
        "A2={1,2,3,4}\n",
        "R = {('a',1),('b',2)}\n",
        "print(f\"{R} é uma função de {A1} para {A2}: {isFuncao(A1,A2,R)}\")\n",
        "print(f\"{R} é uma função total de {A1} para {A2}: {isFuncaoTotal(A1,A2,R)}\")\n",
        "visualiza(A1,A2,R)"
      ],
      "execution_count": null,
      "outputs": [
        {
          "output_type": "stream",
          "name": "stdout",
          "text": [
            "{('a', 1), ('b', 2)} é uma função de {'c', 'b', 'a'} para {1, 2, 3, 4}: True\n",
            "{('a', 1), ('b', 2)} é uma função total de {'c', 'b', 'a'} para {1, 2, 3, 4}: False\n"
          ]
        },
        {
          "output_type": "execute_result",
          "data": {
            "text/plain": [
              "<graphviz.dot.Digraph at 0x7f899706e3d0>"
            ],
            "image/svg+xml": "<?xml version=\"1.0\" encoding=\"UTF-8\" standalone=\"no\"?>\n<!DOCTYPE svg PUBLIC \"-//W3C//DTD SVG 1.1//EN\"\n \"http://www.w3.org/Graphics/SVG/1.1/DTD/svg11.dtd\">\n<!-- Generated by graphviz version 2.40.1 (20161225.0304)\n -->\n<!-- Title: %3 Pages: 1 -->\n<svg width=\"184pt\" height=\"315pt\"\n viewBox=\"0.00 0.00 184.00 315.00\" xmlns=\"http://www.w3.org/2000/svg\" xmlns:xlink=\"http://www.w3.org/1999/xlink\">\n<g id=\"graph0\" class=\"graph\" transform=\"scale(1 1) rotate(0) translate(4 311)\">\n<title>%3</title>\n<polygon fill=\"#ffffff\" stroke=\"transparent\" points=\"-4,4 -4,-311 180,-311 180,4 -4,4\"/>\n<g id=\"clust1\" class=\"cluster\">\n<title>cluster_1</title>\n<polygon fill=\"none\" stroke=\"#0000ff\" points=\"8,-116 8,-299 78,-299 78,-116 8,-116\"/>\n<text text-anchor=\"middle\" x=\"43\" y=\"-283.8\" font-family=\"Times,serif\" font-size=\"14.00\" fill=\"#000000\">A1</text>\n</g>\n<g id=\"clust2\" class=\"cluster\">\n<title>cluster_2</title>\n<polygon fill=\"none\" stroke=\"#0000ff\" points=\"98,-8 98,-245 168,-245 168,-8 98,-8\"/>\n<text text-anchor=\"middle\" x=\"133\" y=\"-229.8\" font-family=\"Times,serif\" font-size=\"14.00\" fill=\"#000000\">A2</text>\n</g>\n<!-- c -->\n<g id=\"node1\" class=\"node\">\n<title>c</title>\n<ellipse fill=\"#d3d3d3\" stroke=\"#000000\" cx=\"43\" cy=\"-250\" rx=\"27\" ry=\"18\"/>\n<text text-anchor=\"middle\" x=\"43\" y=\"-246.3\" font-family=\"Times,serif\" font-size=\"14.00\" fill=\"#000000\">c</text>\n</g>\n<!-- b -->\n<g id=\"node2\" class=\"node\">\n<title>b</title>\n<ellipse fill=\"#d3d3d3\" stroke=\"#000000\" cx=\"43\" cy=\"-196\" rx=\"27\" ry=\"18\"/>\n<text text-anchor=\"middle\" x=\"43\" y=\"-192.3\" font-family=\"Times,serif\" font-size=\"14.00\" fill=\"#000000\">b</text>\n</g>\n<!-- d_2 -->\n<g id=\"node5\" class=\"node\">\n<title>d_2</title>\n<ellipse fill=\"#d3d3d3\" stroke=\"#000000\" cx=\"133\" cy=\"-196\" rx=\"27\" ry=\"18\"/>\n<text text-anchor=\"middle\" x=\"133\" y=\"-192.3\" font-family=\"Times,serif\" font-size=\"14.00\" fill=\"#000000\">2</text>\n</g>\n<!-- b&#45;&gt;d_2 -->\n<g id=\"edge2\" class=\"edge\">\n<title>b&#45;&gt;d_2</title>\n<path fill=\"none\" stroke=\"#000000\" d=\"M70.003,-196C78.0277,-196 86.9665,-196 95.5309,-196\"/>\n<polygon fill=\"#000000\" stroke=\"#000000\" points=\"95.7051,-199.5001 105.705,-196 95.705,-192.5001 95.7051,-199.5001\"/>\n</g>\n<!-- a -->\n<g id=\"node3\" class=\"node\">\n<title>a</title>\n<ellipse fill=\"#d3d3d3\" stroke=\"#000000\" cx=\"43\" cy=\"-142\" rx=\"27\" ry=\"18\"/>\n<text text-anchor=\"middle\" x=\"43\" y=\"-138.3\" font-family=\"Times,serif\" font-size=\"14.00\" fill=\"#000000\">a</text>\n</g>\n<!-- d_1 -->\n<g id=\"node4\" class=\"node\">\n<title>d_1</title>\n<ellipse fill=\"#d3d3d3\" stroke=\"#000000\" cx=\"133\" cy=\"-142\" rx=\"27\" ry=\"18\"/>\n<text text-anchor=\"middle\" x=\"133\" y=\"-138.3\" font-family=\"Times,serif\" font-size=\"14.00\" fill=\"#000000\">1</text>\n</g>\n<!-- a&#45;&gt;d_1 -->\n<g id=\"edge1\" class=\"edge\">\n<title>a&#45;&gt;d_1</title>\n<path fill=\"none\" stroke=\"#000000\" d=\"M70.003,-142C78.0277,-142 86.9665,-142 95.5309,-142\"/>\n<polygon fill=\"#000000\" stroke=\"#000000\" points=\"95.7051,-145.5001 105.705,-142 95.705,-138.5001 95.7051,-145.5001\"/>\n</g>\n<!-- d_3 -->\n<g id=\"node6\" class=\"node\">\n<title>d_3</title>\n<ellipse fill=\"#d3d3d3\" stroke=\"#000000\" cx=\"133\" cy=\"-88\" rx=\"27\" ry=\"18\"/>\n<text text-anchor=\"middle\" x=\"133\" y=\"-84.3\" font-family=\"Times,serif\" font-size=\"14.00\" fill=\"#000000\">3</text>\n</g>\n<!-- d_4 -->\n<g id=\"node7\" class=\"node\">\n<title>d_4</title>\n<ellipse fill=\"#d3d3d3\" stroke=\"#000000\" cx=\"133\" cy=\"-34\" rx=\"27\" ry=\"18\"/>\n<text text-anchor=\"middle\" x=\"133\" y=\"-30.3\" font-family=\"Times,serif\" font-size=\"14.00\" fill=\"#000000\">4</text>\n</g>\n</g>\n</svg>\n"
          },
          "metadata": {},
          "execution_count": 73
        }
      ]
    },
    {
      "cell_type": "code",
      "metadata": {
        "colab": {
          "base_uri": "https://localhost:8080/",
          "height": 403
        },
        "id": "5l_maCV6nIr6",
        "outputId": "a4d603aa-faaa-4b17-d5fe-dce128fb296f"
      },
      "source": [
        "A1 ={'a','b','c'}\n",
        "A2={1,2,3,4}\n",
        "R ={('a',1),('a',2),('c',3)}\n",
        "print(f\"{R} é uma função de {A1} para {A2}: {isFuncao(A1,A2,R)}\")\n",
        "print(f\"{R} é uma função total de {A1} para {A2}: {isFuncaoTotal(A1,A2,R)}\")\n",
        "visualiza(A1,A2,R)"
      ],
      "execution_count": null,
      "outputs": [
        {
          "output_type": "stream",
          "name": "stdout",
          "text": [
            "{('a', 1), ('c', 3), ('a', 2)} é uma função de {'c', 'b', 'a'} para {1, 2, 3, 4}: False\n",
            "{('a', 1), ('c', 3), ('a', 2)} é uma função total de {'c', 'b', 'a'} para {1, 2, 3, 4}: False\n"
          ]
        },
        {
          "output_type": "execute_result",
          "data": {
            "text/plain": [
              "<graphviz.dot.Digraph at 0x7f8997037310>"
            ],
            "image/svg+xml": "<?xml version=\"1.0\" encoding=\"UTF-8\" standalone=\"no\"?>\n<!DOCTYPE svg PUBLIC \"-//W3C//DTD SVG 1.1//EN\"\n \"http://www.w3.org/Graphics/SVG/1.1/DTD/svg11.dtd\">\n<!-- Generated by graphviz version 2.40.1 (20161225.0304)\n -->\n<!-- Title: %3 Pages: 1 -->\n<svg width=\"184pt\" height=\"261pt\"\n viewBox=\"0.00 0.00 184.00 261.00\" xmlns=\"http://www.w3.org/2000/svg\" xmlns:xlink=\"http://www.w3.org/1999/xlink\">\n<g id=\"graph0\" class=\"graph\" transform=\"scale(1 1) rotate(0) translate(4 257)\">\n<title>%3</title>\n<polygon fill=\"#ffffff\" stroke=\"transparent\" points=\"-4,4 -4,-257 180,-257 180,4 -4,4\"/>\n<g id=\"clust1\" class=\"cluster\">\n<title>cluster_1</title>\n<polygon fill=\"none\" stroke=\"#0000ff\" points=\"8,-62 8,-245 78,-245 78,-62 8,-62\"/>\n<text text-anchor=\"middle\" x=\"43\" y=\"-229.8\" font-family=\"Times,serif\" font-size=\"14.00\" fill=\"#000000\">A1</text>\n</g>\n<g id=\"clust2\" class=\"cluster\">\n<title>cluster_2</title>\n<polygon fill=\"none\" stroke=\"#0000ff\" points=\"98,-8 98,-245 168,-245 168,-8 98,-8\"/>\n<text text-anchor=\"middle\" x=\"133\" y=\"-229.8\" font-family=\"Times,serif\" font-size=\"14.00\" fill=\"#000000\">A2</text>\n</g>\n<!-- c -->\n<g id=\"node1\" class=\"node\">\n<title>c</title>\n<ellipse fill=\"#d3d3d3\" stroke=\"#000000\" cx=\"43\" cy=\"-196\" rx=\"27\" ry=\"18\"/>\n<text text-anchor=\"middle\" x=\"43\" y=\"-192.3\" font-family=\"Times,serif\" font-size=\"14.00\" fill=\"#000000\">c</text>\n</g>\n<!-- d_3 -->\n<g id=\"node6\" class=\"node\">\n<title>d_3</title>\n<ellipse fill=\"#d3d3d3\" stroke=\"#000000\" cx=\"133\" cy=\"-196\" rx=\"27\" ry=\"18\"/>\n<text text-anchor=\"middle\" x=\"133\" y=\"-192.3\" font-family=\"Times,serif\" font-size=\"14.00\" fill=\"#000000\">3</text>\n</g>\n<!-- c&#45;&gt;d_3 -->\n<g id=\"edge2\" class=\"edge\">\n<title>c&#45;&gt;d_3</title>\n<path fill=\"none\" stroke=\"#000000\" d=\"M70.003,-196C78.0277,-196 86.9665,-196 95.5309,-196\"/>\n<polygon fill=\"#000000\" stroke=\"#000000\" points=\"95.7051,-199.5001 105.705,-196 95.705,-192.5001 95.7051,-199.5001\"/>\n</g>\n<!-- b -->\n<g id=\"node2\" class=\"node\">\n<title>b</title>\n<ellipse fill=\"#d3d3d3\" stroke=\"#000000\" cx=\"43\" cy=\"-142\" rx=\"27\" ry=\"18\"/>\n<text text-anchor=\"middle\" x=\"43\" y=\"-138.3\" font-family=\"Times,serif\" font-size=\"14.00\" fill=\"#000000\">b</text>\n</g>\n<!-- a -->\n<g id=\"node3\" class=\"node\">\n<title>a</title>\n<ellipse fill=\"#d3d3d3\" stroke=\"#000000\" cx=\"43\" cy=\"-88\" rx=\"27\" ry=\"18\"/>\n<text text-anchor=\"middle\" x=\"43\" y=\"-84.3\" font-family=\"Times,serif\" font-size=\"14.00\" fill=\"#000000\">a</text>\n</g>\n<!-- d_1 -->\n<g id=\"node4\" class=\"node\">\n<title>d_1</title>\n<ellipse fill=\"#d3d3d3\" stroke=\"#000000\" cx=\"133\" cy=\"-88\" rx=\"27\" ry=\"18\"/>\n<text text-anchor=\"middle\" x=\"133\" y=\"-84.3\" font-family=\"Times,serif\" font-size=\"14.00\" fill=\"#000000\">1</text>\n</g>\n<!-- a&#45;&gt;d_1 -->\n<g id=\"edge1\" class=\"edge\">\n<title>a&#45;&gt;d_1</title>\n<path fill=\"none\" stroke=\"#000000\" d=\"M70.003,-88C78.0277,-88 86.9665,-88 95.5309,-88\"/>\n<polygon fill=\"#000000\" stroke=\"#000000\" points=\"95.7051,-91.5001 105.705,-88 95.705,-84.5001 95.7051,-91.5001\"/>\n</g>\n<!-- d_2 -->\n<g id=\"node5\" class=\"node\">\n<title>d_2</title>\n<ellipse fill=\"#d3d3d3\" stroke=\"#000000\" cx=\"133\" cy=\"-142\" rx=\"27\" ry=\"18\"/>\n<text text-anchor=\"middle\" x=\"133\" y=\"-138.3\" font-family=\"Times,serif\" font-size=\"14.00\" fill=\"#000000\">2</text>\n</g>\n<!-- a&#45;&gt;d_2 -->\n<g id=\"edge3\" class=\"edge\">\n<title>a&#45;&gt;d_2</title>\n<path fill=\"none\" stroke=\"#000000\" d=\"M63.4224,-100.2534C75.3897,-107.4338 90.7024,-116.6215 103.9143,-124.5486\"/>\n<polygon fill=\"#000000\" stroke=\"#000000\" points=\"102.2827,-127.6513 112.6584,-129.7951 105.8842,-121.6488 102.2827,-127.6513\"/>\n</g>\n<!-- d_4 -->\n<g id=\"node7\" class=\"node\">\n<title>d_4</title>\n<ellipse fill=\"#d3d3d3\" stroke=\"#000000\" cx=\"133\" cy=\"-34\" rx=\"27\" ry=\"18\"/>\n<text text-anchor=\"middle\" x=\"133\" y=\"-30.3\" font-family=\"Times,serif\" font-size=\"14.00\" fill=\"#000000\">4</text>\n</g>\n</g>\n</svg>\n"
          },
          "metadata": {},
          "execution_count": 74
        }
      ]
    },
    {
      "cell_type": "markdown",
      "metadata": {
        "id": "gLldB2qaSjV0"
      },
      "source": [
        "## [Função Injetora, Sobrejetora e Bijetora](https://youtu.be/jZDLWe1XVN4)\n",
        "- Dizemos que **Função $f$ é injetora** quando $\\forall a,b,c\\in A$ se $f(a)=c$ e $f(b)=c$ então $a=b$.\n",
        "  Exemplo: $A=\\{a,b\\}, B=\\{1,2,3\\}$ e $f(a)=1, f(b)=2$.\n",
        "- Dizemos que **Função $f$ é sobrejetora** quando $\\forall b\\in B$ temos que existe um $a\\in A$ tal que $f(a)=b$.\n",
        "  Exemplo: $A=\\{a,b,c\\}, B=\\{1,2\\}$ e $f(a)=1, f(b)=1, f(c)=2$.\n",
        "- Dizemos que uma **Função $f$ é bijetora (ou uma bijeção)** quando ela é injetora e sobrejetora.\n",
        "   Exemplo: $A=\\{a,b\\}, B=\\{1,2\\}$ e $f(a)=2, f(b)=1$.\n",
        "   \n",
        "   Podemos ter bijeções sobre conjuntos infinitos.\n",
        "Exemplo: $f:\\mathbb{N}\\rightarrow\\mathbb{N}$ e $\\forall x\\in\\mathbb{N}$ $f(x)=2x$."
      ]
    },
    {
      "cell_type": "code",
      "metadata": {
        "colab": {
          "base_uri": "https://localhost:8080/",
          "height": 314
        },
        "id": "x8f_xW0vokK4",
        "outputId": "ca30f410-3e99-4b99-ec65-0641dee58159"
      },
      "source": [
        "A ={'a','b'}\n",
        "B = {1,2,3}\n",
        "R = {('a',1),('b',2)}\n",
        "\n",
        "print(f\"A função de {A} para {B} é injetora: {isInjetora(A,B,R)}\")\n",
        "visualiza(A,B,R)"
      ],
      "execution_count": null,
      "outputs": [
        {
          "output_type": "stream",
          "name": "stdout",
          "text": [
            "A função de {'b', 'a'} para {1, 2, 3} é injetora: True\n"
          ]
        },
        {
          "output_type": "execute_result",
          "data": {
            "text/plain": [
              "<graphviz.dot.Digraph at 0x7f8996fd44d0>"
            ],
            "image/svg+xml": "<?xml version=\"1.0\" encoding=\"UTF-8\" standalone=\"no\"?>\n<!DOCTYPE svg PUBLIC \"-//W3C//DTD SVG 1.1//EN\"\n \"http://www.w3.org/Graphics/SVG/1.1/DTD/svg11.dtd\">\n<!-- Generated by graphviz version 2.40.1 (20161225.0304)\n -->\n<!-- Title: %3 Pages: 1 -->\n<svg width=\"184pt\" height=\"207pt\"\n viewBox=\"0.00 0.00 184.00 207.00\" xmlns=\"http://www.w3.org/2000/svg\" xmlns:xlink=\"http://www.w3.org/1999/xlink\">\n<g id=\"graph0\" class=\"graph\" transform=\"scale(1 1) rotate(0) translate(4 203)\">\n<title>%3</title>\n<polygon fill=\"#ffffff\" stroke=\"transparent\" points=\"-4,4 -4,-203 180,-203 180,4 -4,4\"/>\n<g id=\"clust1\" class=\"cluster\">\n<title>cluster_1</title>\n<polygon fill=\"none\" stroke=\"#0000ff\" points=\"8,-62 8,-191 78,-191 78,-62 8,-62\"/>\n<text text-anchor=\"middle\" x=\"43\" y=\"-175.8\" font-family=\"Times,serif\" font-size=\"14.00\" fill=\"#000000\">A1</text>\n</g>\n<g id=\"clust2\" class=\"cluster\">\n<title>cluster_2</title>\n<polygon fill=\"none\" stroke=\"#0000ff\" points=\"98,-8 98,-191 168,-191 168,-8 98,-8\"/>\n<text text-anchor=\"middle\" x=\"133\" y=\"-175.8\" font-family=\"Times,serif\" font-size=\"14.00\" fill=\"#000000\">A2</text>\n</g>\n<!-- b -->\n<g id=\"node1\" class=\"node\">\n<title>b</title>\n<ellipse fill=\"#d3d3d3\" stroke=\"#000000\" cx=\"43\" cy=\"-142\" rx=\"27\" ry=\"18\"/>\n<text text-anchor=\"middle\" x=\"43\" y=\"-138.3\" font-family=\"Times,serif\" font-size=\"14.00\" fill=\"#000000\">b</text>\n</g>\n<!-- d_2 -->\n<g id=\"node4\" class=\"node\">\n<title>d_2</title>\n<ellipse fill=\"#d3d3d3\" stroke=\"#000000\" cx=\"133\" cy=\"-142\" rx=\"27\" ry=\"18\"/>\n<text text-anchor=\"middle\" x=\"133\" y=\"-138.3\" font-family=\"Times,serif\" font-size=\"14.00\" fill=\"#000000\">2</text>\n</g>\n<!-- b&#45;&gt;d_2 -->\n<g id=\"edge2\" class=\"edge\">\n<title>b&#45;&gt;d_2</title>\n<path fill=\"none\" stroke=\"#000000\" d=\"M70.003,-142C78.0277,-142 86.9665,-142 95.5309,-142\"/>\n<polygon fill=\"#000000\" stroke=\"#000000\" points=\"95.7051,-145.5001 105.705,-142 95.705,-138.5001 95.7051,-145.5001\"/>\n</g>\n<!-- a -->\n<g id=\"node2\" class=\"node\">\n<title>a</title>\n<ellipse fill=\"#d3d3d3\" stroke=\"#000000\" cx=\"43\" cy=\"-88\" rx=\"27\" ry=\"18\"/>\n<text text-anchor=\"middle\" x=\"43\" y=\"-84.3\" font-family=\"Times,serif\" font-size=\"14.00\" fill=\"#000000\">a</text>\n</g>\n<!-- d_1 -->\n<g id=\"node3\" class=\"node\">\n<title>d_1</title>\n<ellipse fill=\"#d3d3d3\" stroke=\"#000000\" cx=\"133\" cy=\"-88\" rx=\"27\" ry=\"18\"/>\n<text text-anchor=\"middle\" x=\"133\" y=\"-84.3\" font-family=\"Times,serif\" font-size=\"14.00\" fill=\"#000000\">1</text>\n</g>\n<!-- a&#45;&gt;d_1 -->\n<g id=\"edge1\" class=\"edge\">\n<title>a&#45;&gt;d_1</title>\n<path fill=\"none\" stroke=\"#000000\" d=\"M70.003,-88C78.0277,-88 86.9665,-88 95.5309,-88\"/>\n<polygon fill=\"#000000\" stroke=\"#000000\" points=\"95.7051,-91.5001 105.705,-88 95.705,-84.5001 95.7051,-91.5001\"/>\n</g>\n<!-- d_3 -->\n<g id=\"node5\" class=\"node\">\n<title>d_3</title>\n<ellipse fill=\"#d3d3d3\" stroke=\"#000000\" cx=\"133\" cy=\"-34\" rx=\"27\" ry=\"18\"/>\n<text text-anchor=\"middle\" x=\"133\" y=\"-30.3\" font-family=\"Times,serif\" font-size=\"14.00\" fill=\"#000000\">3</text>\n</g>\n</g>\n</svg>\n"
          },
          "metadata": {},
          "execution_count": 75
        }
      ]
    },
    {
      "cell_type": "code",
      "metadata": {
        "colab": {
          "base_uri": "https://localhost:8080/",
          "height": 314
        },
        "id": "JTDfamarrYPQ",
        "outputId": "69a28c00-ac86-429c-c31f-999dd6455e60"
      },
      "source": [
        "A ={'a','b','c'}\n",
        "B = {1,2}\n",
        "R = {('a',1),('b',1),('c',2)}\n",
        "\n",
        "print(f\"A função de {A} para {B} é sobrejetora: {isSobrejetora(A,B,R)}\")\n",
        "visualiza(A,B,R)"
      ],
      "execution_count": null,
      "outputs": [
        {
          "output_type": "stream",
          "name": "stdout",
          "text": [
            "A função de {'c', 'b', 'a'} para {1, 2} é sobrejetora: True\n"
          ]
        },
        {
          "output_type": "execute_result",
          "data": {
            "text/plain": [
              "<graphviz.dot.Digraph at 0x7f8997037f50>"
            ],
            "image/svg+xml": "<?xml version=\"1.0\" encoding=\"UTF-8\" standalone=\"no\"?>\n<!DOCTYPE svg PUBLIC \"-//W3C//DTD SVG 1.1//EN\"\n \"http://www.w3.org/Graphics/SVG/1.1/DTD/svg11.dtd\">\n<!-- Generated by graphviz version 2.40.1 (20161225.0304)\n -->\n<!-- Title: %3 Pages: 1 -->\n<svg width=\"184pt\" height=\"207pt\"\n viewBox=\"0.00 0.00 184.00 207.00\" xmlns=\"http://www.w3.org/2000/svg\" xmlns:xlink=\"http://www.w3.org/1999/xlink\">\n<g id=\"graph0\" class=\"graph\" transform=\"scale(1 1) rotate(0) translate(4 203)\">\n<title>%3</title>\n<polygon fill=\"#ffffff\" stroke=\"transparent\" points=\"-4,4 -4,-203 180,-203 180,4 -4,4\"/>\n<g id=\"clust1\" class=\"cluster\">\n<title>cluster_1</title>\n<polygon fill=\"none\" stroke=\"#0000ff\" points=\"8,-8 8,-191 78,-191 78,-8 8,-8\"/>\n<text text-anchor=\"middle\" x=\"43\" y=\"-175.8\" font-family=\"Times,serif\" font-size=\"14.00\" fill=\"#000000\">A1</text>\n</g>\n<g id=\"clust2\" class=\"cluster\">\n<title>cluster_2</title>\n<polygon fill=\"none\" stroke=\"#0000ff\" points=\"98,-62 98,-191 168,-191 168,-62 98,-62\"/>\n<text text-anchor=\"middle\" x=\"133\" y=\"-175.8\" font-family=\"Times,serif\" font-size=\"14.00\" fill=\"#000000\">A2</text>\n</g>\n<!-- c -->\n<g id=\"node1\" class=\"node\">\n<title>c</title>\n<ellipse fill=\"#d3d3d3\" stroke=\"#000000\" cx=\"43\" cy=\"-142\" rx=\"27\" ry=\"18\"/>\n<text text-anchor=\"middle\" x=\"43\" y=\"-138.3\" font-family=\"Times,serif\" font-size=\"14.00\" fill=\"#000000\">c</text>\n</g>\n<!-- d_2 -->\n<g id=\"node5\" class=\"node\">\n<title>d_2</title>\n<ellipse fill=\"#d3d3d3\" stroke=\"#000000\" cx=\"133\" cy=\"-142\" rx=\"27\" ry=\"18\"/>\n<text text-anchor=\"middle\" x=\"133\" y=\"-138.3\" font-family=\"Times,serif\" font-size=\"14.00\" fill=\"#000000\">2</text>\n</g>\n<!-- c&#45;&gt;d_2 -->\n<g id=\"edge3\" class=\"edge\">\n<title>c&#45;&gt;d_2</title>\n<path fill=\"none\" stroke=\"#000000\" d=\"M70.003,-142C78.0277,-142 86.9665,-142 95.5309,-142\"/>\n<polygon fill=\"#000000\" stroke=\"#000000\" points=\"95.7051,-145.5001 105.705,-142 95.705,-138.5001 95.7051,-145.5001\"/>\n</g>\n<!-- b -->\n<g id=\"node2\" class=\"node\">\n<title>b</title>\n<ellipse fill=\"#d3d3d3\" stroke=\"#000000\" cx=\"43\" cy=\"-88\" rx=\"27\" ry=\"18\"/>\n<text text-anchor=\"middle\" x=\"43\" y=\"-84.3\" font-family=\"Times,serif\" font-size=\"14.00\" fill=\"#000000\">b</text>\n</g>\n<!-- d_1 -->\n<g id=\"node4\" class=\"node\">\n<title>d_1</title>\n<ellipse fill=\"#d3d3d3\" stroke=\"#000000\" cx=\"133\" cy=\"-88\" rx=\"27\" ry=\"18\"/>\n<text text-anchor=\"middle\" x=\"133\" y=\"-84.3\" font-family=\"Times,serif\" font-size=\"14.00\" fill=\"#000000\">1</text>\n</g>\n<!-- b&#45;&gt;d_1 -->\n<g id=\"edge2\" class=\"edge\">\n<title>b&#45;&gt;d_1</title>\n<path fill=\"none\" stroke=\"#000000\" d=\"M70.003,-88C78.0277,-88 86.9665,-88 95.5309,-88\"/>\n<polygon fill=\"#000000\" stroke=\"#000000\" points=\"95.7051,-91.5001 105.705,-88 95.705,-84.5001 95.7051,-91.5001\"/>\n</g>\n<!-- a -->\n<g id=\"node3\" class=\"node\">\n<title>a</title>\n<ellipse fill=\"#d3d3d3\" stroke=\"#000000\" cx=\"43\" cy=\"-34\" rx=\"27\" ry=\"18\"/>\n<text text-anchor=\"middle\" x=\"43\" y=\"-30.3\" font-family=\"Times,serif\" font-size=\"14.00\" fill=\"#000000\">a</text>\n</g>\n<!-- a&#45;&gt;d_1 -->\n<g id=\"edge1\" class=\"edge\">\n<title>a&#45;&gt;d_1</title>\n<path fill=\"none\" stroke=\"#000000\" d=\"M63.4224,-46.2534C75.3897,-53.4338 90.7024,-62.6215 103.9143,-70.5486\"/>\n<polygon fill=\"#000000\" stroke=\"#000000\" points=\"102.2827,-73.6513 112.6584,-75.7951 105.8842,-67.6488 102.2827,-73.6513\"/>\n</g>\n</g>\n</svg>\n"
          },
          "metadata": {},
          "execution_count": 76
        }
      ]
    },
    {
      "cell_type": "code",
      "metadata": {
        "colab": {
          "base_uri": "https://localhost:8080/",
          "height": 473
        },
        "id": "vrmZD_prGlPi",
        "outputId": "ef0c64ff-feba-4578-f8b1-a59337ffbb95"
      },
      "source": [
        "A ={'a','b','c','d'}\n",
        "B = {1,2,3,4}\n",
        "R = {('a',1),('b',2),('c',3),('d',3)}\n",
        "\n",
        "print(f\"O mapeamento de {A} para {B} é uma função: {isFuncao(A,B,R)}\")\n",
        "print(f\"O mapeamento de {A} para {B} é uma função total: {isFuncaoTotal(A,B,R)}\")\n",
        "print(f\"A função de {A} para {B} é injetora: {isInjetora(A,B,R)}\")\n",
        "print(f\"A função de {A} para {B} é sobrejetora: {isSobrejetora(A,B,R)}\")\n",
        "visualiza(A,B,R)"
      ],
      "execution_count": null,
      "outputs": [
        {
          "output_type": "stream",
          "name": "stdout",
          "text": [
            "O mapeamento de {'c', 'b', 'a', 'd'} para {1, 2, 3, 4} é uma função: True\n",
            "O mapeamento de {'c', 'b', 'a', 'd'} para {1, 2, 3, 4} é uma função total: True\n",
            "A função de {'c', 'b', 'a', 'd'} para {1, 2, 3, 4} é injetora: False\n",
            "A função de {'c', 'b', 'a', 'd'} para {1, 2, 3, 4} é sobrejetora: False\n"
          ]
        },
        {
          "output_type": "execute_result",
          "data": {
            "text/plain": [
              "<graphviz.dot.Digraph at 0x7f8997019210>"
            ],
            "image/svg+xml": "<?xml version=\"1.0\" encoding=\"UTF-8\" standalone=\"no\"?>\n<!DOCTYPE svg PUBLIC \"-//W3C//DTD SVG 1.1//EN\"\n \"http://www.w3.org/Graphics/SVG/1.1/DTD/svg11.dtd\">\n<!-- Generated by graphviz version 2.40.1 (20161225.0304)\n -->\n<!-- Title: %3 Pages: 1 -->\n<svg width=\"184pt\" height=\"288pt\"\n viewBox=\"0.00 0.00 184.00 288.00\" xmlns=\"http://www.w3.org/2000/svg\" xmlns:xlink=\"http://www.w3.org/1999/xlink\">\n<g id=\"graph0\" class=\"graph\" transform=\"scale(1 1) rotate(0) translate(4 284)\">\n<title>%3</title>\n<polygon fill=\"#ffffff\" stroke=\"transparent\" points=\"-4,4 -4,-284 180,-284 180,4 -4,4\"/>\n<g id=\"clust1\" class=\"cluster\">\n<title>cluster_1</title>\n<polygon fill=\"none\" stroke=\"#0000ff\" points=\"8,-35 8,-272 78,-272 78,-35 8,-35\"/>\n<text text-anchor=\"middle\" x=\"43\" y=\"-256.8\" font-family=\"Times,serif\" font-size=\"14.00\" fill=\"#000000\">A1</text>\n</g>\n<g id=\"clust2\" class=\"cluster\">\n<title>cluster_2</title>\n<polygon fill=\"none\" stroke=\"#0000ff\" points=\"98,-8 98,-245 168,-245 168,-8 98,-8\"/>\n<text text-anchor=\"middle\" x=\"133\" y=\"-229.8\" font-family=\"Times,serif\" font-size=\"14.00\" fill=\"#000000\">A2</text>\n</g>\n<!-- c -->\n<g id=\"node1\" class=\"node\">\n<title>c</title>\n<ellipse fill=\"#d3d3d3\" stroke=\"#000000\" cx=\"43\" cy=\"-169\" rx=\"27\" ry=\"18\"/>\n<text text-anchor=\"middle\" x=\"43\" y=\"-165.3\" font-family=\"Times,serif\" font-size=\"14.00\" fill=\"#000000\">c</text>\n</g>\n<!-- d_3 -->\n<g id=\"node7\" class=\"node\">\n<title>d_3</title>\n<ellipse fill=\"#d3d3d3\" stroke=\"#000000\" cx=\"133\" cy=\"-142\" rx=\"27\" ry=\"18\"/>\n<text text-anchor=\"middle\" x=\"133\" y=\"-138.3\" font-family=\"Times,serif\" font-size=\"14.00\" fill=\"#000000\">3</text>\n</g>\n<!-- c&#45;&gt;d_3 -->\n<g id=\"edge2\" class=\"edge\">\n<title>c&#45;&gt;d_3</title>\n<path fill=\"none\" stroke=\"#000000\" d=\"M68.07,-161.479C77.5102,-158.6469 88.4169,-155.3749 98.564,-152.3308\"/>\n<polygon fill=\"#000000\" stroke=\"#000000\" points=\"99.803,-155.6133 108.3755,-149.3874 97.7915,-148.9085 99.803,-155.6133\"/>\n</g>\n<!-- b -->\n<g id=\"node2\" class=\"node\">\n<title>b</title>\n<ellipse fill=\"#d3d3d3\" stroke=\"#000000\" cx=\"43\" cy=\"-223\" rx=\"27\" ry=\"18\"/>\n<text text-anchor=\"middle\" x=\"43\" y=\"-219.3\" font-family=\"Times,serif\" font-size=\"14.00\" fill=\"#000000\">b</text>\n</g>\n<!-- d_2 -->\n<g id=\"node6\" class=\"node\">\n<title>d_2</title>\n<ellipse fill=\"#d3d3d3\" stroke=\"#000000\" cx=\"133\" cy=\"-196\" rx=\"27\" ry=\"18\"/>\n<text text-anchor=\"middle\" x=\"133\" y=\"-192.3\" font-family=\"Times,serif\" font-size=\"14.00\" fill=\"#000000\">2</text>\n</g>\n<!-- b&#45;&gt;d_2 -->\n<g id=\"edge4\" class=\"edge\">\n<title>b&#45;&gt;d_2</title>\n<path fill=\"none\" stroke=\"#000000\" d=\"M68.07,-215.479C77.5102,-212.6469 88.4169,-209.3749 98.564,-206.3308\"/>\n<polygon fill=\"#000000\" stroke=\"#000000\" points=\"99.803,-209.6133 108.3755,-203.3874 97.7915,-202.9085 99.803,-209.6133\"/>\n</g>\n<!-- a -->\n<g id=\"node3\" class=\"node\">\n<title>a</title>\n<ellipse fill=\"#d3d3d3\" stroke=\"#000000\" cx=\"43\" cy=\"-61\" rx=\"27\" ry=\"18\"/>\n<text text-anchor=\"middle\" x=\"43\" y=\"-57.3\" font-family=\"Times,serif\" font-size=\"14.00\" fill=\"#000000\">a</text>\n</g>\n<!-- d_1 -->\n<g id=\"node5\" class=\"node\">\n<title>d_1</title>\n<ellipse fill=\"#d3d3d3\" stroke=\"#000000\" cx=\"133\" cy=\"-88\" rx=\"27\" ry=\"18\"/>\n<text text-anchor=\"middle\" x=\"133\" y=\"-84.3\" font-family=\"Times,serif\" font-size=\"14.00\" fill=\"#000000\">1</text>\n</g>\n<!-- a&#45;&gt;d_1 -->\n<g id=\"edge1\" class=\"edge\">\n<title>a&#45;&gt;d_1</title>\n<path fill=\"none\" stroke=\"#000000\" d=\"M68.07,-68.521C77.5102,-71.3531 88.4169,-74.6251 98.564,-77.6692\"/>\n<polygon fill=\"#000000\" stroke=\"#000000\" points=\"97.7915,-81.0915 108.3755,-80.6126 99.803,-74.3867 97.7915,-81.0915\"/>\n</g>\n<!-- d -->\n<g id=\"node4\" class=\"node\">\n<title>d</title>\n<ellipse fill=\"#d3d3d3\" stroke=\"#000000\" cx=\"43\" cy=\"-115\" rx=\"27\" ry=\"18\"/>\n<text text-anchor=\"middle\" x=\"43\" y=\"-111.3\" font-family=\"Times,serif\" font-size=\"14.00\" fill=\"#000000\">d</text>\n</g>\n<!-- d&#45;&gt;d_3 -->\n<g id=\"edge3\" class=\"edge\">\n<title>d&#45;&gt;d_3</title>\n<path fill=\"none\" stroke=\"#000000\" d=\"M68.07,-122.521C77.5102,-125.3531 88.4169,-128.6251 98.564,-131.6692\"/>\n<polygon fill=\"#000000\" stroke=\"#000000\" points=\"97.7915,-135.0915 108.3755,-134.6126 99.803,-128.3867 97.7915,-135.0915\"/>\n</g>\n<!-- d_4 -->\n<g id=\"node8\" class=\"node\">\n<title>d_4</title>\n<ellipse fill=\"#d3d3d3\" stroke=\"#000000\" cx=\"133\" cy=\"-34\" rx=\"27\" ry=\"18\"/>\n<text text-anchor=\"middle\" x=\"133\" y=\"-30.3\" font-family=\"Times,serif\" font-size=\"14.00\" fill=\"#000000\">4</text>\n</g>\n</g>\n</svg>\n"
          },
          "metadata": {},
          "execution_count": 77
        }
      ]
    },
    {
      "cell_type": "code",
      "metadata": {
        "colab": {
          "base_uri": "https://localhost:8080/",
          "height": 242
        },
        "id": "5PZVXZXfC2d2",
        "outputId": "8cb003e1-a002-40c0-e7c6-1eeae3162ae1"
      },
      "source": [
        "A = {'a','b'}\n",
        "B = {1,2}\n",
        "R = {('a',2),('b',1)}\n",
        "print(f\"A função {R} de {A} para {B} é bijetora: {isBijetora(A,B,R)}\")\n",
        "visualiza(A,B,R)"
      ],
      "execution_count": null,
      "outputs": [
        {
          "output_type": "stream",
          "name": "stdout",
          "text": [
            "A função {('b', 1), ('a', 2)} de {'b', 'a'} para {1, 2} é bijetora: True\n"
          ]
        },
        {
          "output_type": "execute_result",
          "data": {
            "text/plain": [
              "<graphviz.dot.Digraph at 0x7f8997066150>"
            ],
            "image/svg+xml": "<?xml version=\"1.0\" encoding=\"UTF-8\" standalone=\"no\"?>\n<!DOCTYPE svg PUBLIC \"-//W3C//DTD SVG 1.1//EN\"\n \"http://www.w3.org/Graphics/SVG/1.1/DTD/svg11.dtd\">\n<!-- Generated by graphviz version 2.40.1 (20161225.0304)\n -->\n<!-- Title: %3 Pages: 1 -->\n<svg width=\"184pt\" height=\"153pt\"\n viewBox=\"0.00 0.00 184.00 153.00\" xmlns=\"http://www.w3.org/2000/svg\" xmlns:xlink=\"http://www.w3.org/1999/xlink\">\n<g id=\"graph0\" class=\"graph\" transform=\"scale(1 1) rotate(0) translate(4 149)\">\n<title>%3</title>\n<polygon fill=\"#ffffff\" stroke=\"transparent\" points=\"-4,4 -4,-149 180,-149 180,4 -4,4\"/>\n<g id=\"clust1\" class=\"cluster\">\n<title>cluster_1</title>\n<polygon fill=\"none\" stroke=\"#0000ff\" points=\"8,-8 8,-137 78,-137 78,-8 8,-8\"/>\n<text text-anchor=\"middle\" x=\"43\" y=\"-121.8\" font-family=\"Times,serif\" font-size=\"14.00\" fill=\"#000000\">A1</text>\n</g>\n<g id=\"clust2\" class=\"cluster\">\n<title>cluster_2</title>\n<polygon fill=\"none\" stroke=\"#0000ff\" points=\"98,-8 98,-137 168,-137 168,-8 98,-8\"/>\n<text text-anchor=\"middle\" x=\"133\" y=\"-121.8\" font-family=\"Times,serif\" font-size=\"14.00\" fill=\"#000000\">A2</text>\n</g>\n<!-- b -->\n<g id=\"node1\" class=\"node\">\n<title>b</title>\n<ellipse fill=\"#d3d3d3\" stroke=\"#000000\" cx=\"43\" cy=\"-88\" rx=\"27\" ry=\"18\"/>\n<text text-anchor=\"middle\" x=\"43\" y=\"-84.3\" font-family=\"Times,serif\" font-size=\"14.00\" fill=\"#000000\">b</text>\n</g>\n<!-- d_1 -->\n<g id=\"node3\" class=\"node\">\n<title>d_1</title>\n<ellipse fill=\"#d3d3d3\" stroke=\"#000000\" cx=\"133\" cy=\"-88\" rx=\"27\" ry=\"18\"/>\n<text text-anchor=\"middle\" x=\"133\" y=\"-84.3\" font-family=\"Times,serif\" font-size=\"14.00\" fill=\"#000000\">1</text>\n</g>\n<!-- b&#45;&gt;d_1 -->\n<g id=\"edge1\" class=\"edge\">\n<title>b&#45;&gt;d_1</title>\n<path fill=\"none\" stroke=\"#000000\" d=\"M70.003,-88C78.0277,-88 86.9665,-88 95.5309,-88\"/>\n<polygon fill=\"#000000\" stroke=\"#000000\" points=\"95.7051,-91.5001 105.705,-88 95.705,-84.5001 95.7051,-91.5001\"/>\n</g>\n<!-- a -->\n<g id=\"node2\" class=\"node\">\n<title>a</title>\n<ellipse fill=\"#d3d3d3\" stroke=\"#000000\" cx=\"43\" cy=\"-34\" rx=\"27\" ry=\"18\"/>\n<text text-anchor=\"middle\" x=\"43\" y=\"-30.3\" font-family=\"Times,serif\" font-size=\"14.00\" fill=\"#000000\">a</text>\n</g>\n<!-- d_2 -->\n<g id=\"node4\" class=\"node\">\n<title>d_2</title>\n<ellipse fill=\"#d3d3d3\" stroke=\"#000000\" cx=\"133\" cy=\"-34\" rx=\"27\" ry=\"18\"/>\n<text text-anchor=\"middle\" x=\"133\" y=\"-30.3\" font-family=\"Times,serif\" font-size=\"14.00\" fill=\"#000000\">2</text>\n</g>\n<!-- a&#45;&gt;d_2 -->\n<g id=\"edge2\" class=\"edge\">\n<title>a&#45;&gt;d_2</title>\n<path fill=\"none\" stroke=\"#000000\" d=\"M70.003,-34C78.0277,-34 86.9665,-34 95.5309,-34\"/>\n<polygon fill=\"#000000\" stroke=\"#000000\" points=\"95.7051,-37.5001 105.705,-34 95.705,-30.5001 95.7051,-37.5001\"/>\n</g>\n</g>\n</svg>\n"
          },
          "metadata": {},
          "execution_count": 78
        }
      ]
    },
    {
      "cell_type": "code",
      "metadata": {
        "colab": {
          "base_uri": "https://localhost:8080/",
          "height": 602
        },
        "id": "IGkbjAElEG8w",
        "outputId": "6a34fcdf-f3b9-4e9e-dc90-bb64fbe5891a"
      },
      "source": [
        "A = {0,1,2,3,4,5,6}\n",
        "B = {0,2,4,6,8,10,12}\n",
        "R = {(0,0),(1,2),(2,4),(3,6),(4,8),(5,10),(6,12)}\n",
        "print(f\"A função {R} de {A} para {B} é bijetora: {isBijetora(A,B,R)}\")\n",
        "visualiza(A,B,R)"
      ],
      "execution_count": null,
      "outputs": [
        {
          "output_type": "stream",
          "name": "stdout",
          "text": [
            "A função {(1, 2), (0, 0), (5, 10), (4, 8), (3, 6), (6, 12), (2, 4)} de {0, 1, 2, 3, 4, 5, 6} para {0, 2, 4, 6, 8, 10, 12} é bijetora: True\n"
          ]
        },
        {
          "output_type": "execute_result",
          "data": {
            "text/plain": [
              "<graphviz.dot.Digraph at 0x7f899706ee90>"
            ],
            "image/svg+xml": "<?xml version=\"1.0\" encoding=\"UTF-8\" standalone=\"no\"?>\n<!DOCTYPE svg PUBLIC \"-//W3C//DTD SVG 1.1//EN\"\n \"http://www.w3.org/Graphics/SVG/1.1/DTD/svg11.dtd\">\n<!-- Generated by graphviz version 2.40.1 (20161225.0304)\n -->\n<!-- Title: %3 Pages: 1 -->\n<svg width=\"184pt\" height=\"423pt\"\n viewBox=\"0.00 0.00 184.00 423.00\" xmlns=\"http://www.w3.org/2000/svg\" xmlns:xlink=\"http://www.w3.org/1999/xlink\">\n<g id=\"graph0\" class=\"graph\" transform=\"scale(1 1) rotate(0) translate(4 419)\">\n<title>%3</title>\n<polygon fill=\"#ffffff\" stroke=\"transparent\" points=\"-4,4 -4,-419 180,-419 180,4 -4,4\"/>\n<g id=\"clust1\" class=\"cluster\">\n<title>cluster_1</title>\n<polygon fill=\"none\" stroke=\"#0000ff\" points=\"8,-8 8,-407 78,-407 78,-8 8,-8\"/>\n<text text-anchor=\"middle\" x=\"43\" y=\"-391.8\" font-family=\"Times,serif\" font-size=\"14.00\" fill=\"#000000\">A1</text>\n</g>\n<g id=\"clust2\" class=\"cluster\">\n<title>cluster_2</title>\n<polygon fill=\"none\" stroke=\"#0000ff\" points=\"98,-8 98,-407 168,-407 168,-8 98,-8\"/>\n<text text-anchor=\"middle\" x=\"133\" y=\"-391.8\" font-family=\"Times,serif\" font-size=\"14.00\" fill=\"#000000\">A2</text>\n</g>\n<!-- 0 -->\n<g id=\"node1\" class=\"node\">\n<title>0</title>\n<ellipse fill=\"#d3d3d3\" stroke=\"#000000\" cx=\"43\" cy=\"-358\" rx=\"27\" ry=\"18\"/>\n<text text-anchor=\"middle\" x=\"43\" y=\"-354.3\" font-family=\"Times,serif\" font-size=\"14.00\" fill=\"#000000\">0</text>\n</g>\n<!-- d_0 -->\n<g id=\"node8\" class=\"node\">\n<title>d_0</title>\n<ellipse fill=\"#d3d3d3\" stroke=\"#000000\" cx=\"133\" cy=\"-358\" rx=\"27\" ry=\"18\"/>\n<text text-anchor=\"middle\" x=\"133\" y=\"-354.3\" font-family=\"Times,serif\" font-size=\"14.00\" fill=\"#000000\">0</text>\n</g>\n<!-- 0&#45;&gt;d_0 -->\n<g id=\"edge2\" class=\"edge\">\n<title>0&#45;&gt;d_0</title>\n<path fill=\"none\" stroke=\"#000000\" d=\"M70.003,-358C78.0277,-358 86.9665,-358 95.5309,-358\"/>\n<polygon fill=\"#000000\" stroke=\"#000000\" points=\"95.7051,-361.5001 105.705,-358 95.705,-354.5001 95.7051,-361.5001\"/>\n</g>\n<!-- 1 -->\n<g id=\"node2\" class=\"node\">\n<title>1</title>\n<ellipse fill=\"#d3d3d3\" stroke=\"#000000\" cx=\"43\" cy=\"-304\" rx=\"27\" ry=\"18\"/>\n<text text-anchor=\"middle\" x=\"43\" y=\"-300.3\" font-family=\"Times,serif\" font-size=\"14.00\" fill=\"#000000\">1</text>\n</g>\n<!-- d_2 -->\n<g id=\"node9\" class=\"node\">\n<title>d_2</title>\n<ellipse fill=\"#d3d3d3\" stroke=\"#000000\" cx=\"133\" cy=\"-304\" rx=\"27\" ry=\"18\"/>\n<text text-anchor=\"middle\" x=\"133\" y=\"-300.3\" font-family=\"Times,serif\" font-size=\"14.00\" fill=\"#000000\">2</text>\n</g>\n<!-- 1&#45;&gt;d_2 -->\n<g id=\"edge1\" class=\"edge\">\n<title>1&#45;&gt;d_2</title>\n<path fill=\"none\" stroke=\"#000000\" d=\"M70.003,-304C78.0277,-304 86.9665,-304 95.5309,-304\"/>\n<polygon fill=\"#000000\" stroke=\"#000000\" points=\"95.7051,-307.5001 105.705,-304 95.705,-300.5001 95.7051,-307.5001\"/>\n</g>\n<!-- 2 -->\n<g id=\"node3\" class=\"node\">\n<title>2</title>\n<ellipse fill=\"#d3d3d3\" stroke=\"#000000\" cx=\"43\" cy=\"-250\" rx=\"27\" ry=\"18\"/>\n<text text-anchor=\"middle\" x=\"43\" y=\"-246.3\" font-family=\"Times,serif\" font-size=\"14.00\" fill=\"#000000\">2</text>\n</g>\n<!-- d_4 -->\n<g id=\"node10\" class=\"node\">\n<title>d_4</title>\n<ellipse fill=\"#d3d3d3\" stroke=\"#000000\" cx=\"133\" cy=\"-250\" rx=\"27\" ry=\"18\"/>\n<text text-anchor=\"middle\" x=\"133\" y=\"-246.3\" font-family=\"Times,serif\" font-size=\"14.00\" fill=\"#000000\">4</text>\n</g>\n<!-- 2&#45;&gt;d_4 -->\n<g id=\"edge7\" class=\"edge\">\n<title>2&#45;&gt;d_4</title>\n<path fill=\"none\" stroke=\"#000000\" d=\"M70.003,-250C78.0277,-250 86.9665,-250 95.5309,-250\"/>\n<polygon fill=\"#000000\" stroke=\"#000000\" points=\"95.7051,-253.5001 105.705,-250 95.705,-246.5001 95.7051,-253.5001\"/>\n</g>\n<!-- 3 -->\n<g id=\"node4\" class=\"node\">\n<title>3</title>\n<ellipse fill=\"#d3d3d3\" stroke=\"#000000\" cx=\"43\" cy=\"-196\" rx=\"27\" ry=\"18\"/>\n<text text-anchor=\"middle\" x=\"43\" y=\"-192.3\" font-family=\"Times,serif\" font-size=\"14.00\" fill=\"#000000\">3</text>\n</g>\n<!-- d_6 -->\n<g id=\"node11\" class=\"node\">\n<title>d_6</title>\n<ellipse fill=\"#d3d3d3\" stroke=\"#000000\" cx=\"133\" cy=\"-196\" rx=\"27\" ry=\"18\"/>\n<text text-anchor=\"middle\" x=\"133\" y=\"-192.3\" font-family=\"Times,serif\" font-size=\"14.00\" fill=\"#000000\">6</text>\n</g>\n<!-- 3&#45;&gt;d_6 -->\n<g id=\"edge5\" class=\"edge\">\n<title>3&#45;&gt;d_6</title>\n<path fill=\"none\" stroke=\"#000000\" d=\"M70.003,-196C78.0277,-196 86.9665,-196 95.5309,-196\"/>\n<polygon fill=\"#000000\" stroke=\"#000000\" points=\"95.7051,-199.5001 105.705,-196 95.705,-192.5001 95.7051,-199.5001\"/>\n</g>\n<!-- 4 -->\n<g id=\"node5\" class=\"node\">\n<title>4</title>\n<ellipse fill=\"#d3d3d3\" stroke=\"#000000\" cx=\"43\" cy=\"-142\" rx=\"27\" ry=\"18\"/>\n<text text-anchor=\"middle\" x=\"43\" y=\"-138.3\" font-family=\"Times,serif\" font-size=\"14.00\" fill=\"#000000\">4</text>\n</g>\n<!-- d_8 -->\n<g id=\"node12\" class=\"node\">\n<title>d_8</title>\n<ellipse fill=\"#d3d3d3\" stroke=\"#000000\" cx=\"133\" cy=\"-142\" rx=\"27\" ry=\"18\"/>\n<text text-anchor=\"middle\" x=\"133\" y=\"-138.3\" font-family=\"Times,serif\" font-size=\"14.00\" fill=\"#000000\">8</text>\n</g>\n<!-- 4&#45;&gt;d_8 -->\n<g id=\"edge4\" class=\"edge\">\n<title>4&#45;&gt;d_8</title>\n<path fill=\"none\" stroke=\"#000000\" d=\"M70.003,-142C78.0277,-142 86.9665,-142 95.5309,-142\"/>\n<polygon fill=\"#000000\" stroke=\"#000000\" points=\"95.7051,-145.5001 105.705,-142 95.705,-138.5001 95.7051,-145.5001\"/>\n</g>\n<!-- 5 -->\n<g id=\"node6\" class=\"node\">\n<title>5</title>\n<ellipse fill=\"#d3d3d3\" stroke=\"#000000\" cx=\"43\" cy=\"-88\" rx=\"27\" ry=\"18\"/>\n<text text-anchor=\"middle\" x=\"43\" y=\"-84.3\" font-family=\"Times,serif\" font-size=\"14.00\" fill=\"#000000\">5</text>\n</g>\n<!-- d_10 -->\n<g id=\"node13\" class=\"node\">\n<title>d_10</title>\n<ellipse fill=\"#d3d3d3\" stroke=\"#000000\" cx=\"133\" cy=\"-88\" rx=\"27\" ry=\"18\"/>\n<text text-anchor=\"middle\" x=\"133\" y=\"-84.3\" font-family=\"Times,serif\" font-size=\"14.00\" fill=\"#000000\">10</text>\n</g>\n<!-- 5&#45;&gt;d_10 -->\n<g id=\"edge3\" class=\"edge\">\n<title>5&#45;&gt;d_10</title>\n<path fill=\"none\" stroke=\"#000000\" d=\"M70.003,-88C78.0277,-88 86.9665,-88 95.5309,-88\"/>\n<polygon fill=\"#000000\" stroke=\"#000000\" points=\"95.7051,-91.5001 105.705,-88 95.705,-84.5001 95.7051,-91.5001\"/>\n</g>\n<!-- 6 -->\n<g id=\"node7\" class=\"node\">\n<title>6</title>\n<ellipse fill=\"#d3d3d3\" stroke=\"#000000\" cx=\"43\" cy=\"-34\" rx=\"27\" ry=\"18\"/>\n<text text-anchor=\"middle\" x=\"43\" y=\"-30.3\" font-family=\"Times,serif\" font-size=\"14.00\" fill=\"#000000\">6</text>\n</g>\n<!-- d_12 -->\n<g id=\"node14\" class=\"node\">\n<title>d_12</title>\n<ellipse fill=\"#d3d3d3\" stroke=\"#000000\" cx=\"133\" cy=\"-34\" rx=\"27\" ry=\"18\"/>\n<text text-anchor=\"middle\" x=\"133\" y=\"-30.3\" font-family=\"Times,serif\" font-size=\"14.00\" fill=\"#000000\">12</text>\n</g>\n<!-- 6&#45;&gt;d_12 -->\n<g id=\"edge6\" class=\"edge\">\n<title>6&#45;&gt;d_12</title>\n<path fill=\"none\" stroke=\"#000000\" d=\"M70.003,-34C78.0277,-34 86.9665,-34 95.5309,-34\"/>\n<polygon fill=\"#000000\" stroke=\"#000000\" points=\"95.7051,-37.5001 105.705,-34 95.705,-30.5001 95.7051,-37.5001\"/>\n</g>\n</g>\n</svg>\n"
          },
          "metadata": {},
          "execution_count": 79
        }
      ]
    },
    {
      "cell_type": "markdown",
      "metadata": {
        "id": "b8NBeGtpVbFX"
      },
      "source": [
        "# [Conjunto Finito vs. Infinito](https://youtu.be/yAmvhaIN7D4)\n",
        "\n",
        "- Um **Conjunto Finito** tem um número inteiro que conta o número de elementos de um conjunto. Ex. $\\{a,b,c\\}$ é finito e tem cardinalidade 3. Note que é impossível encontrar uma bijeção entre um conjunto finito e um subconjunto próprio.\n",
        "- Formalmente, um **Conjunto Infinito** é um conjunto para o qual existe uma bijeção entre ele e um subconjunto próprio. \n",
        "  Exemplo, o conjunto dos inteiros $\\mathbb{N}$ é infinito, pois existe um subconjunto próprio (os inteiros pares) tal que existe uma bijeção entre eles ($f(x)=2x$).\n",
        "- Um **Conjunto é Contável (ou Enumerável)** se existe uma bijeção com o Naturais.\n",
        "\n",
        "\n",
        "    \n",
        "- A União de um conjunto finito de conjuntos enumeráveis é um conjunto enumerável.\n",
        "  Exemplo: Sejam $A, B$ e $C$ conjuntos enumeráveis, então $A\\cup B\\cup C$ é enumerável\n",
        "  - $A=\\{a_0,a_1,a_2,\\ldots\\}$, $B=\\{b_0,b_1,b_2,\\ldots\\}$,  $C=\\{c_0,c_1,c_2,\\ldots\\}$\n",
        "  - $A\\cup B\\cup C=$ \\{$\\underbrace{a_0}_0,\\underbrace{b_0}_1,\\underbrace{c_0}_2, \\underbrace{a_1}_3,\\underbrace{b_1}_4,\\underbrace{c_1}_5,\\ldots\\}$\n",
        "    ![image.png](data:image/png;base64,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)\n",
        "\n",
        "- O Produto Cartesiano de um conjunto finito de conjuntos enumeráveis é enumerável.\n",
        "Exemplo: O conjunto $\\mathbb{N}\\times\\mathbb{N}$ é enumerável com $f(i,j)=((i+j)^2+3i+j)/2$\n",
        "\n",
        "  ![image.png](data:image/png;base64,iVBORw0KGgoAAAANSUhEUgAAAbkAAAFTCAYAAACki3LMAAAgAElEQVR4Ae2dfYwUV3ru+6982OzGaOWVJ2s2dsazIQm7DhrhyAivQMkS28Q23ggRD854grxhNho0YAcMKOOLgrkr1Mh7YYVAjkeOR5cLd0WLXJNdj3098uK74uPSK3AwsoZdYPHiubB8a0gAzdDP1dMzZ6a6p7qnq7uq+lTVc6RWV1dXnTrn9556nzqflYKCCIiACIiACMSUQCqm+VK2REAEREAERAASORUCERABERCB2BKQyMXWtMqYCIiACIiARE5lQAREQAREILYEJHKxNa0yJgIiIAIiIJFTGRABERABEYgtAYlcbE2rjImACIiACEjkVAZEQAREQARiS0AiF1vTKmMiIAIiIAISOZUBERABERCB2BKQyMXWtMqYCIiACIiARE5lQAREQAREILYEJHKxNa0yJgIiIAIiIJFTGRABERABEYgtAYlcbE2rjImACIiACERD5IZPo/f7aaR7srgqm1VHQAwd3G7idO92pNP/A9mrw479Cd1U2XAYXmXDAQPDp3vx/fT30ZO95Nwdqe1oiNxQFunGFFKtGQxECq9FiRVDhzEGkU3PRSq1DJmBIcf+hG6qbDgMr7LhgIGhbBqNqUa0Zj5z7o7UdjRELlJIlVgREAEREAFbCEjkbLGE0iECIiACIuA7AYmc70gVoQiIgAiIgC0EJHK2WELpEAEREAER8J2ARM53pIpQBERABETAFgISOVssoXSIgAiIgAj4TiD2Inf06FFs2rQJly9f9h2eIhQBERABEbCbQOxF7le/+hXuv/9+pFIpdHV1gaKnIAIiIAIikAwC0RC5GldkeOedd3D33Xfnha6hoQEPPvhgXvDee+899Pf3J8PSNTKMFyStalFgT5UNBw6VDQcMrXjihBHotg8rMjz11FN5kWONznweeughzJ07F6ztxT74wDA+jLSqRYEtVTYcOFQ2HDC04okThu3brLGxFkeBmzp1Kg4fPmx7kpU+ERABERCBGglEo7myxkya0x977LG8yO3duzf//dOf/tT8pW8REAEREIEYEkiUyPX19eXFjXZkE+WsWbPw9ttvx9CsypIIiIAIiAAJJErk/vM//xNf+9rXxvrgKHQvvviihE73ggiIgAjElECiRI42/MlPfgKKnQnc1hw6Q0PfIiACIhAvAokTuXiZT7kRAREQAREoR0AiV46O/hMBERABEYg0gWiInCar1l7IxNDBUBN+HTAAlQ0HDpUNBwxNBnfCCHS7DpNVufxXrEZe1oFhoGWipsg14bcAn8qGA4fKhgOGJoM7YcRt24y8/MEPflAwUCVu+VR+REAERCDOBKLRXFknC3DkJacY8OMckVmn5OiyIiACIiACHglI5CoAxtrcM888Mza/roJTdIgIiIAIiIAFBCRyFRohk8nkV0hJxGLOFTLRYSIgAiJgOwGJnAcLcTCKRM4DMB0qAiIgAnUmIJGrswF0eREQAREQgeAISOSCY6uYRUAEREAE6kxAIldnA+jyIiACIiACwRGQyPnAVn11PkBUFCIgAiIQAAGJnA9Q33vvPY289IGjohABERABvwlI5HwiyreMp1Ip6G3jPgFVNCIgAiLgAwGJnA8QTRScXsC3jXNOnYIIiIAIiED9CUjkfLaBc81Ln6NWdCIgAiIgAh4JSOQ8AqvkcK5zuXHjRr1xvBJYOkYEREAEAiQgkQsQrqIWAREQARGoLwGJXH356+oiIAIiIAIBEpDIBQhXUYuACIiACNSXgEQuZP5a4Dlk4LqcCIhAoglI5EI2P99Lx/fTKYiACIiACARPQCIXPOOCK+ht4wU49EMEREAEAiUgkQsUr3vkFDrW5l588UW9n84dkfaKgAiIgC8EJHK+YKwukrfffltrXlaHTmeJgAiIQEUEJHIVYQruIK51yaXAFERABERABPwnIJHzn6liFAEREAERsISARM4SQygZIiACIiAC/hOQyPnPVDGKgAiIgAhYQkAiZ4khlAwREAEREAH/CUjk/GfqS4yXL1/WyEtfSCoSERCBJBOQyFlsfb1t3GLjKGkiIAKRICCRs9xM/f39etu45TZS8kRABOwlIJGz1zZjKeOizlrzcgyHNkRABESgYgISuYpR1fdAs+blqlWr6psQXV0EREAEIkRAIhchY1HoOCBFQQREQAREoDICErnKOOkoERABERCBCBKQyEXQaEqyCIiACIhAZQQkcpVx0lEiIAIiIAIRJCCRi6DRipPMaQZ8bY+CCIiACIhAIQGJXCGPSP4yIy/5ElZuK4iACIiACIwQkMjFpCRQ3PS28ZgYU9kQARHwjYBEzjeUdkSkt43bYQelQgREwA4CEjk77OBrKrTmpa84FZkIiECECUjkImy8cknnYJSjR4+WO0T/iYAIiEDsCUjkYm9iZVAEREAEkksgNJHLXdiH9ulpZIfChn0evSuex5Zjg2FfWNcTAREQARGoM4GQRO4WTvW0Ymb6CG6ZDOeuoX/vRixubkAqlUIqNR0LXvkhTgwOmyPKfg+f/hHWt85Gw4JObOpaisXpwxjMAchdwMHuDVg2dzrmLtuM3tM3cLn3ZUxr34cL/F9BBERABEQgMQTCEbnbR7FlTht6ThmJG8KFfZ2YOuVb6HzzxziYPYz9u9Zi3pQpaGx/BwMVitFQNo3GhuXInLuA4zvWYP3+8xg5dRDZdCvS2dHa260jSM9sdVw/MfadkFG+tocfBREQARFIAoEQRG7YvSaVu44zJy9grPXy1kG89kAKqcbKmzQpcjOeX46XO3ai/8ZJ7H5xLTLnKKRFIoeb6O9+DrO3HMXtJFi1TB458nLWrFngt4IIiIAIxJ1A8CJ35yR6Fs5H10eXSrAcxuDZQ9izsQVNqQbMZbNjiSOLd1PkmtOHcPlAGks2H8a1z9/FOgre7WKRYyvmPrQ/sBZ91+8UR1Pwm5OqKQD8xHX1EPO28ffeey+fR5NfvcYH+VpuJpNRbRfIv9aJZYOjdON6LxTc/JP8IAfeM2oJmQSUZX8HLHI53D62FbPnd6PfVVsoRnNH++RSSE1fj48mESEnvxGRy2II13B8+0tY1ftLXD2QRkv6ffQ5myvzJ13CR13zsbDnJFyTghEH9+CDD46lh9txLdDM15NPPol77703/2G/KPNLAUxq2LBhA+655568/RsaGsDfSQ0sH8574aGHHortvVCJjblkHssE75P77rsP77zzTiWn6RgLCAQschfRt3o+2vedG+0rK87xMAY/O47sWJ/cNMx79X0MDFXWKTcucgCGziCzYhV2nx5ANt2C5pnzx/vkRi87fGI75szeimO33eN/6qmnxgRuZDBMCitXrixOdGx+v/rqqxPy++ijj8Ymf14yQqdOwTd25zedWlwfciZjk7R7oRwP1mbNw4+zfES/5WMYV468iZUr38SRK+4D/nJXDmPHyjXYceSSuw/PXcKRHWuwcsdhXHF3q+XQhvJfsCKXb6p8Guns9Qoycx69nQ8jlXoYnb3nKzgeKBA5Dqy8+CHWd3bj+OVP0NPy7Qkil2+ynPYyei+7G9RZgM32woULK0pLFA9i3kw+nd9RzEutaWYN1snAbLN5KonB5N/5Hed7oZyN33jjjQll45FHHolBq8ctnM10oKmpA5mzZlBgIYk7Z/dgaVMzlmbOuLeA3TmDzNJmNC3dg7OlmsgKowz9V7Aih5FRlNM6e3G5IGvDGDxzCv+voMbGWl8zUqlGtGY+Kzi61I9ikQOGMZjdiiUbP8Sne7qKRM5lGkNRxC0tLRMK89///d8XHRWfn2yOczoxbvMJPomBNTY2Qzl58Ok9qTU5t3uhq6sriUUj3z/vVpNTP2U0ikPAIgfAdfj+NRx87ZtoXLAa2zMfOKYQpDBl9iYcuD5a07r5KXa/8hLSfb8aH4Xp4DpR5PjnDfT3rEbboiWFIsdpDLOfQ3f/TUcMhZt0aOyHMP1Uf/RHf4SZM2eCAxHiGHiTPvbYY2PNdHHug6zEfhR9I3T8Vp/c+L3Amkv0m+cqKQXux7AsOPvk+vr63A/UXusIBC9yrsP3cxj69VFk0t/FvMYpo0/P07Fg9b/g4MB4tTn363exomkKUnO240RBC+MwrmZ3YsOyeZg6dxk2dB/ERWd7MPvn2p3NlSWmMbiYg46fTVf8cJvCx07njRs3xnaEmTO/LkgStYv2Jo+k1uCcxi6+F5z/JXHblI0ki30U7R6CyFU+fN8VYO7n6Fn+donRma5nTNw56TSGiac49/Bmp8g988wzcn5OMNoWAREQAcsJhCJyAIfvP4G2zFn3ETolIeUwdGonOrbWMol7dBrDhNpgyYu6/sHmie7u7nytk6Ot4h741PrCCy/EoHM97pZS/kRABMoRCEnkgPzwfa9Cc+cM9q7bhgMlhreWy9j4fxTYp8tMYxg/stwWX0bKQQmrVq1Cc3Nz/i3crOHFOXA6AfP8t3/7txK7OBtaeROBGBMITeSQu4aTP/vFyCLKoQK9hYGPT1Q8965U0ihov/u7v5t3+vfff39+InVbW1usmy/ZN3XXXXfl88zRZRQ9ToJVn0SpUqL9IiACthEIT+Rsy3kV6dm2bVve4TuHmVP4du/eXUVs0TjFbSg58/9nf/ZnErtomFCpFIFEE5DIeTA/azBmiPndd9+dn24wb948fOELX8CKFSs8xBSdQ9n/aFYCeeCBB3Do0KF80yVreQoiIAIiYDsBiZxHCz3++OP52pzpl+PpFD9OM2B/XRz76cwahq+//no+n3HMo8dioMNFQAQiQkAi59FQZgDKuXPn8g6fvxno+H/wgx/kX2MTt1oOV7owSzoxjxR0CZ3HgqPDRUAE6kJAIucROwWMfVIMHGZf/G42Nu9xX5zWPOQrRhYtWjRGSkI3hkIbIiAClhOQyFVhoLlz546d5SZ03MeJ43FZJYW1tuJXi0joxoqANkRABCwmIJHzwTis6bD2RnEzgcIQ91VSJHTG2voWARGwlYBEzifLmGZKp9AxajZbFjdp+nRJK6KR0FlhBiVCBESgBAGJXAkw1ezm2wrYTFk8KIP9eBQ6CkLxf9Vcx7ZzJHS2WUTpEQERMAQkcoaET9+lHD7FjaMS+YnjiiGl8u0TVkUjAiIgAlURkMhVha38Scbhux3FKQes1bEfL27B5DuOtdW42Ur5EYGkEJDIBWBpU2uj03cLZqBKHF/GKqFzs7j2iYAI1IuARC4g8pMJHQeoxHWVFAldQIVK0YqACHgmIJHzjKzyE9j3Vm5kJYWQgsBjikdlVn4VO4+U0NlpF6VKBJJGQCIXsMUpXuWEjpfn9AOuohKnVVKYLwldwIVL0YuACExKQCI3KaLaDzBLgZWrrfG/OK2SYqhJ6AwJfYuACNSDgEQuJOqlJos7L8/mS66Swr66coLoPCcK2xK6KFhJaRSBeBKQyIVoV7P6yWTz5DjqcrImzhCT7culJHS+YFQkIiACHglI5DwCq/XwSp29c5WUWq9py/mV5t2W9CodIiAC0ScgkauDDSt19uZlrHFaJaXSvNfBLLqkCIhADAlI5OpkVAoXHX4lwaySwtpdHIKELg5WVB5EIBoEJHJ1stNkk8WLk2UGrsRllRQJXbGF9VsERCAIAhK5IKhWGCeFjgNMKp0fxxGXcVolRUJXYUHRYSIgAlUTkMhVjc6fEylcXkZSmlVSOKcuDtMMJHT+lCPFIgIi4E5AIufOJdS9FCuueOKlz421v7iskiKhC7W46WIikCgCEjlLzG363LzUzngsa3QUCdbwohwkdFG2ntIuAvYSkMhZZJtqhI7itmrVqliskiKhs6gwKikiEBMCEjnLDFmto4/LKinV5t8yMyo5IiAClhCQyFliCGcyqnX05mWsnFcX5VBt/qOcZ6VdBEQgGAISuWC41hwrmyC5WLPX4FwlJcr9dBI6r5bX8SIgAm4EJHJuVCzYR4HysipKcZIpEpya4GXEZnEc9f4toau3BXR9EYg+AYmcxTak0HH0ZLWrnJiBLNWebwMaCZ0NVlAaRCC6BCRyltuO0wS8TBYvzg7PZ42QTZ9Rbb6U0BVbVb9FQAQqJSCRq5RUHY8zQseBJdUEihtFLsqrpEjoqrG8zhEBEZDIRaQMmKZHCl61waySwriiGCR0UbSa0iwC9SUgkasvf09X90PoTK2QghHF5ksJnacio4NFIPEEJHIRKwKcA8dmx1oEiudGeZUUCV3ECq2SKwJ1JCCRqyP8ai/tl5M3L2Ottq+v2vT7cZ5fDPxIi+IQARGwl4BEzl7blE0ZB5KwNlZriPIqKRK6Wq2v80Ug/gQkchG1MZsca5ks7sy2WSWFollLM6gzzrC2JXRhkdZ1RCCaBCRy0bRbPtVG6PxYq5JxUTCiuEqKhC7ChVhJF4GACUjkAgYcdPRmtKRf0wLMCE5ON4hSkNBFyVpKqwiER0AiFx7rwK7kt9AxPo7gjNoqKRK6wIqYIhaByBKQyEXWdIUJNwNIKFB+BDZfRnGVFAmdH9ZXHCIQHwISufjYEqap0S+hIxo2W9aydmY98Ero6kFd1xQBOwlI5Oy0S9WpMqLk5yhJvq6HQkfx8DPeqjNZwYkSugog6RARSAABiVwMjRyEg6e4ccoCP5xyEIUQBIco5FtpFAERGCcgkRtnEast4+D9zlTUVkkxHKJSA/XbXopPBJJOQCIX0xJgal508n4HM8glKi9jldD5XQIUnwhEh4BELjq28pzSIIWOg1vYdBmVVVIkdJ6Lj04QgVgQkMjFwoylM8H+s6BGR1JEKR6M388RnaVzU9s/Erra+OlsEYgiAYlcFK3mMc0UoKCEjknh1IVUKpWfbuAxaaEfLqELHbkuKAJ1JRCayOUu7EP79DSyQ2Hn9zx6VzyPLccGw76wVdfjNAAKUVA1LsYblVVSJHRWFU0lRgQCJRCSyN3CqZ5WzEwfwS2Tndw19O/diMXNDXnnm5oyG23pf0P/4LA5ouz38OkfYX3rbDQs6MSmrqVYnD6MwRyA3AUc7N6AZXOnY+6yzeg9fQOXe1/GtPZ9uMD/ExyCmCzuxMnmS66Swr66oMTUeb1atiV0tdDTuSIQHQLhiNzto9gypw09p4zE3cLp3d9B45RvofPNH+Pgwfex67UWNKWmoLFlF07fqQzgUDaNxoblyJy7gOM71mD9/vMY0bFBZNOtSGdHa2+3jiA9s9Vx/crij+NRRuiCnOvGUZdBNo/6ZRcJnV8kFY8I2EsgBJEbdqlJ3cLABxvwxJo+XDO1q9xZZNqakEo9g+0n/qMiYhS5Gc8vx8sdO9F/4yR2v7gWmXMU0iKRw030dz+H2VuO4nZFMcf7oDCcu3OVFJtphsHC5vwrbSIQdwLBi9ydk+hZOB9dH10qZJn7D1y95pScazj42hykUnPHa2CFZ0z4RZFrTh/C5QNpLNl8GNc+fxfrKHi3i0WOrZj70P7AWvRdr7CaOOFq8doRhnM3L2O1fZWUMFjEq/QoNyIQHQIBi1wOt49txez53eifRFty1/fj1RlTkJr7OrKDkxw8yndE5LIYwjUc3/4SVvX+ElcPpNGSfh99zubK/PGX8FHXfCzsOYlSsbNPacOGDfk+woceegjbtm2LjiWrSCnF52/+5m/AvHJQSldXVyBrU5pVUli7szVQ6J577jk8+eSTeRaPP/44bE5v0ByTdi9MxvPQoUN49NFH82WjpaXF+j7nyfKTpP8DFrmL6Fs9H+37zo32lbmjzQ1+jJ72OZg6bwM+GDD9du7HOveOixyAoTPIrFiF3acHkE23oHnm/Ak1wuET2zFn9lYcu23aSJ2xIS9qdPbmc++998KPt24XXsWeX3v27MFv/dZvjeXXCF0QKTR9gbaukkKn/qUvfamAxYMPPhiZdTr9tpl52EvKvVCOH1sk7rvvvoKy8cgjj5Q7Rf9ZRCBYkcs3VT6NdPZ6iSznMDTwATY+3Yx5r2QqHllpIisQOQ6svPgh1nd24/jlT9DT8u0JIpdvspz2Mnovu4/gNDUac2Pze9GiReZysfvmE6kzr2Y7qIxyxKWtq6SYKRaGgfmmOCcxJO1eKGdjPuia8mC+ySf6Nf1hXDnyJlaufBNHrrj7xNyVw9ixcg12HLnkXlHJXcKRHWuwcsdhXHGvO5RDG8p/wYochnBhXyemdfZi4rr1wxj85F/QNv2baO/5eGT4v8csF4scMIzB7FYs2fghPt3TVSRyLtMYiq7HpzNTiM334sWLi46Kz88XXnhhQn558wYZWGNi0yDn1Nk0zYAOizV3Y3d+8zfX6UxicLsX+FCUxLBr166CcsGywfvEpvJbnV1u4WymA01NHcicdW9Bu3N2D5Y2NWNp5ox7N8+dM8gsbUbT0j04W6ofqLrE+XZWwCIHwHX4/m0M7N+MxU1TMGVBF97OZMBmrJHPj5AdGB2QcvNT7H7lJaT7fgW3OeQTRY5cbqC/ZzXaFi0pFDlOY5j9HLr7b5aEx8J8zz33jBXou+++G3/4h38YW0dHB+507GE2z/K9d3QW/LYlPPbYY2O2Z9rYB0NRTmJg7cV5L7BssF8qiYHNlWy6Zpkwn2effTaJKCKZ5+BFznX4Pkc/zh0rMKbgjHyPj67M/fpdrGiagtSc7ThRUJsextXsTmxYNg9T5y7Dhu6DuOisKrN/rt3ZXOk2jcHdXn19feATK2s5vKnNivusfcTR4TF/zC8/77zzjjuUgPbySZg1OlvY0r7si1q4cGH+O8i5hAEh9TXa4nvB18gjFhnL6urVq/PdFxyQFkdfEDGTVJzcEESuxuH7uZ+jZ/nbk47OLJvjUtMYyp40/icLNFfyoEOOfjv8eL5s2CJbvskgCquk2MBLaRABEfBGIBSRAzh8/wm0Zc66d16WTHMOQ6d2omNrLZO4R6cxTKgNlryo6x98qmfTGlfyiPOIS5N5k1/zO+hv21dJ4QCUpNfsgi4Dil8EgiAQksgB+eH7XoXmzhnsXbcNB0qM/KkMCAX26UmnMUwW1z/+4z+Cc6eOHz+eiJoHHTqbj5966qnQaq+sJdv6ELFy5Urcf//9+QccNVVNdrfofxGwh0BoIofcNZz82S+qGkVZG65bGPj4BAaGnJ123mOkAzZ9h+y3McOKWQOJazB55PwxDspgH03QDp7iyqZLfoK+lhe7GdFnGZg2bRo2bdoUg9F1XgjoWBGIJoHwRC6afApS/fzzz48JHZ1dZ2dnviOafUpxbMqiyHzlK18Zy7MZidnR0RH4IBUORmGtzqY+UAqbedAx3xyByYEIcbR/QeHXDxGIKAGJnAfDcSTil7/85QmOjnNmONXApuHwHrJV9lA6cOPQ+U2BowC1t7cH7thtWyXFWZvjSjF/+qd/mq/RcTm0sEemljWa/hQBERgjIJEbQ1HZhnO+DOfVsaZB8du/f39kXhpaWU5HjqJjZ18Uxf3rX/96/i3gXs6v9VgO3WbTJUe32tB8SZGn2M+bN8+6JtVaWet8EYgjAYmcR6vyqZ1O7q233so3pzlXPaATNs1sFL64BA4++fM///N8HxSbEMNe6opczRQOJ+968GXeaX8+3NDWtvUd1oOJrikCNhOQyHm0jnFyPM00pxX3x1DgKAZ0gjbUPjxmccLhbIrjBGkGikw9hI7XNqukhC2yTiC0pxE57pfQOeloWwTsIyCR82gT0y9jTivl5Jy1D5sGT5h0e/mmsDkXqq6n0Jlr1/MBgk2WTIcJpcqA+V/fIiAC9SMgkauCPYfSO0M5J+ecQB6HWp3JtxGbetSqyNG2VVLKlQHDTN8iIALhE5DI+cScTpf9Rm6BtT/bnLJbOr3uq6fQMa1mlRRb+j8ldF5LkI4XgeAJSOR8YszaBQch0NGVCnTK7M+J0wTyegud6f+0Zak1CV2p0q/9IlAfAhI5H7lT6LiIczkRoyhQDPkpHrDiY1JCjareQkeO5Mnasg1NwhK6UIufLiYCZQlI5Mri8f5npQ6fNQ+OUozLBPJK8+2daGVnUNwoLmRqw0AfCV1ldtNRIhA0AYlcAISNw5+sr4jOmDU/W2ogtaIw+a7HYBSTdjOtw4aHBwmdsYq+RaB+BCRyAbE3zpaOv1xw1kAmE8Vy8djynw1CxzTw4cGGVVIkdLaUTKUjqQQkcgFavlKhYxLMAAobHHOtSGwQOj482LJKioSu1hKl80WgegISuerZVXQm+95Yq6hkQITTMdvQr1RRBkscZIPQMWlmnmI9m1CZDgldiYKi3SIQMAGJXMCAGb1XB2dqgBTISsQxhCxUdQlbhI4PDDYss+a1HFQFXSeJgAgUEJDIFeAI7gebzjjApNIQlwnktggdHxbMhPx6Tt2Q0FV6B+g4EfCHgETOH46TxkInO9lkcbdI2NwW9Qnktggd+ZqpG/Uc5COhcyvp2icCwRCQyAXD1TVWI3R0tF4CRSLqE8htEjozyMerHbzYbLJjJXSTEdL/IuAPAYmcPxwrjqUWZ2/WarRhDljFGXYcWEveHdH4smkeHOo5R1FC54spFYkIlCUgkSuLJ5g/a3H2UZ9AXkve/bYGa9YUGg5KYbrqESR09aCuayaJgESuTtY2TWbVOFc6Zxv6lqpFZ5PQMQ8czcp+z3rVkCV01ZYknScCkxOQyE3OKLAjzFSBaoSOiTJCGcUJ5LYJHdNTz1VSJHSB3WaKOOEEJHJ1LgCmn421s2oCz6PI2bIwsZc82CZ0hiUH+VT74OEl/8XHSuiKiei3CNROQCJXO8OaY/DDuZlaIZsxqxXMmjNSRQS2CR2zYB48yDTs4EdZCDvNup4I2ExAImeJdYxzqyU5ZgI5m93qUROpNu02Cp1zlZRq81XteaYsROlhpdq86jwRCJqARC5owhXGT4dWzWRxt+ijOIHcRqEzNqFdwl4lRULnVrK1TwS8E5DIeWcW2BnGqdLB1RooGmYCeVRqdTYKHe1Qr5GsErpa7wKdLwKARM6yUsAaAweR+NUfZPqX6jU83iteW4XO9HmSZ5hBQhcmbV0rjgQkchZa1X63brUAACAASURBVG9H75xAHnazWzV4/c5/NWlwO4fpYu047FVSJHRu1tA+EaiMgESuMk6hH0Vh4gRlOlY/AptC69XsVk36bRU6cqTohD24R0JXTSnSOSKg5kqry4BpIvNL6JjZKE0gt1XoyNEM7gmzGVhCZ/XtqsRZSkA1OUsNY5JFJ8o+Oj+bGVkbicoEcpuFjmljjY7iQ6ZhBAldGJR1jTgRkMhFwJpBOTZTq7N9ArnNQkdxMy9jZTrDCEGVhzDSrmuIQNgEJHJhE6/yekE5NtYQ6aTD7mPyisFmoWNezChWv0bFTsYnqPIw2XX1vwhEjYBELkIW82uyuFuWTbNo2EPk3dJSap/tQmdWSWHNOIwgoQuDsq4RdQISuQhZkE1jQQodRcT2CeS2Cx1rxoahn/2opYqphK4UGe0XgRECErmIlQQKHQeiBDmqzzS9BXmNWrDbLnTMG8UnrDdDSOhqKU06N+4EJHIRtHAYTp7XYD8d++vCqJF4NUMYDLymqfh4MwUkjCZgCV0xff0WgRECErmIlgQ6eU4WZz9QUIG1RpsnkEdB6JhGNl+G8WJbCV1Qd4LijTIBiVyErWdqCnSkQQYzoCIMR+01H1EQOj4skF0YI1gldF5LkI6POwGJXMQtHJbQGUfNfibOr7MpREHoyIt9nKx9Bz3NQEJnU+lUWupNQCJXbwv4cH02KbJJjEIUdLB1AnlUhM6kk0IUpL0kdEHfCYo/KgQkclGx1CTpDNOpOSeQB9knOEmWJ/xtBCTomtKEC3vcQXELY5WUMMuERwQ6XARCIyCRCw118Bei42TfT1jBxgnkURE62shM1Qiy+VdCF9bdoOvYSkAiZ6tlqkgXawhstqRjCytQVMzkZ27bEKIkdM7m36DYSeiCIqt4o0BAIhcFK3lII4WOo/jCmJvlTBavx0EVtkwgj5LQOVdJCaqfTkLnLK3aThIBiVwMrV0vB8/r2jSBvF4cqilSFDcKUZCrpEjoqrGMzok6AYlc1C1YIv31cvB01mYCuQ0DQOrFoYRZJt1tpoQEVSOW0E1qAh0QMwISuZgZ1Jkd4zDp6MMOHHXJWp0NE8ijJnRMb5DsJHRh3w26Xj0JSOTqST+Ea9dT6Firo8jZMIE8akJn2FHsgnhIkdCFcPPpElYQkMhZYYZgE8FBIXSWdJz1CM4RhPVKA/MdNaFjms00jSCafiV09bgbdM2wCUjkwiZep+vV26FR3MwbyOs5gTyKQmfWDqUN/X5IqHe5qNPtoMsmiEBoIpe7sA/t09PIDoVN9zx6VzyPLccGw76wdddj0yGFpp7B1EzCnuLgzHMUhc48JHBOot+vPpLQOUuHtuNGICSRu4VTPa2YmT6CW06CuUF8duwn2JNeilltGQw4/5tke/j0j7C+dTYaFnRiU9dSLE4fxmAOQO4CDnZvwLK50zF32Wb0nr6By70vY1r7Plzg/wkOdJRhTxZ3w+2cFxZEf5PbNYv3RVHomAczctXvVVIkdMUlRL/jQiAckbt9FFvmtKHnlEPiBjJoTaXyE4g5iTjV6k3kaIChbBqNDcuROXcBx3eswfr95zGiY4PIpluRzo7W3m4dQXpma+H142JBj/kwQkdnWe9Q7wnkURU6Zx+nnzaU0PlJU3HZQiAEkRt2r0kNXUR/9jg+u3oI6cbqRW7G88vxcsdO9N84id0vrkXmHIW0SORwE/3dz2H2lqO4bQv5OqbDJufOtLB2yWZUv5vhKkFsE4tK0muOcXLzs59OQmcI6zsuBIIXuTsn0bNwPro+uuTObChbk8g1pw/h8oE0lmw+jGufv4t1FLzbxSLHVsx9aH9gLfqu33FPx+hedvK/8cYb+Wahejjdsonz8U/j3H/84x/n88o812tACJ20aYYLYhThZNgMC16bHzr6vr6+yU6r+//kxrRyigbz4FcwQvfxxx8n4l6ohBtZv/POO3ne9SijlaRRx7gTCFjkcrh9bCtmz+9GfyltqVnkshjCNRzf/hJW9f4SVw+k0ZJ+H33O5sp83i/ho675WNhzEqWScujQIdx3333jTaipVN0cv7u5/N3b29tbkNd77723rs6dIhvkJOhy9CgSzP8999yTZ8LtZ599ttwp1vxHp+v3uqH/8A//gN/+7d8eKx9f/epXfRVSa+BVkBAK3FNPPTXGgmVkw4YNFZypQ2wgELDIXUTf6vlo33dutK/MJcu+iBw76M4gs2IVdp8eQDbdguaZ88f75EYvO3xiO+bM3opjt91HoDz++ONjBTnfT5hKoaOjwyXR8djFvJl8mu9HH320rpmjQ6nHBHIK7Je//OUCHg0NDda9Bb2UcSjSfj4gJO1eKMWV+zki2Nwf5vv++++vS/N6uXR6/28YV468iZUr38SRK8Oup+euHMaOlWuw48gldx+eu4QjO9Zg5Y7DuOLuVl3jDXNnsCKXb6p8Guns9dJ58kvkOLDy4odY39mN45c/QU/LtyeIXL7JctrL6L3sblBTgJ3ffIKLa1i0aNGEm5d5tyGYwRVsOqPwBR0ock67m+2g1pAMIj/mAYF9nLU2X5r8O78XLlwYRLKtj5NN6U4O3P7GN74Rg1aeWzib6UBTUwcyZx2DAh0WuXN2D5Y2NWNp5ox7C9idM8gsbUbT0j04W6qJzBFfPTYD9mhDuLCvE9M6e3G5VO58FDlgGIPZrViy8UN8uqerSORKTGNwpGvlypUTCvNXvvKVfD+N47DYbLrdvC+88II1+aPTDmsCOftfix0Zm66j2C/LUavsp6ul78jtXti0aZM1ZSPMhPAByDRjmzLC5tswHr7CzGdcrxWwyAEoNXyfc+Q+ziJ7qAed01JILUijN5tFtv8ixuaL3/wUu195Cem+X43vc1iCUwia0+yTc4Yb6O9ZjbZFSwpFjtMYZj+H7v6bzoMLtunQ2A/z0EMP5fvm6PD//d//PT/6j01BtTiNggtZ8oM3KfNIZ848s6my1hpAEFkzE8iDnvbAwSZ0Yo888kj+OwqDT0rxpmOm0LEmXE1wuxeS7NS///3v58sEa3APPvhgXfuuq7Fnks8JXuRKDd83NTjnXLmi+XK5X7+LFU1TkJqzHScKWhiHcTW7ExuWzcPUucuwofsgLjrbg9k/1+5sriwxjaGE5enoi509BY5Cxw8dSJwCHVpxfm3LH9PIZjg/muLK5Y2OnPaNg0NnHgwz8qsmuN0L1cQTh3NM2YhDXpKUhxBErvLh+67gcz9Hz/K3S4/OdD2paOdk0xiKDi/304gdm9HiJnbl8m3Lf2YCOb8VKiNgpmf4vUpKZVfXUSJQXwKhiBzA4ftPoC1z1n2ETkkGOQyd2omOrbVM4h6dxjChNljyoq5/bNu2LT9Pxvxp+j0odrbXgkyavXxTwNmEyblBtgXyZg0lzAnkvB77qaqtEdWbIR/O2Hzpx8MB42LTtkSz3lbV9SshEJLIAfnh+16F5s4Z7F23DQdKDG+tJIMjAvt0+WkMFUREZ8/+mr/+678eEzU2XxixY99HVB1gqeyzv455/pM/+ZN8H4RNTXhMi6mhhDEC0vTXkQcHYETR1s6Hg1psyXNNv+XixYtj11dd6n7Q/mgSCE3kkLuGkz/7xcgiyqGyuoWBj09gYMjZaVddAtjpTCfH+VRdXV1jzZXG4fK/OIkda3O/8zu/M5ZnjijjJFibnuCZRj/nh5UrGRxCTxvzw8E6nF7Ch58oCR7LKssomdXSAkHRN5PFyYKDMTg4Q0345UqQ/qsHgfBErh658/mau3btGnNyxtkZR0fnQWdHB8L/WMPjvqgHU5sz+XV+2+LcjeNmc1yQAsy4iyeMGx7//M//HClTmwnOtdSCTW2ODJxD7L/+9a9HioUSG28CEjkP9qVTN07tN37jN/Dkk0/m+4ZaWloKhhTzOLNqR9TFjo6dK3988YtfBOcMHj9+3AOxcA9lWs2w+aAeMNgXxTJA+7/11lvhZtDnq7EmxxodH8yq4WWa8O+66y7MmzcvUjVan1EqOosJSOQ8Goc1t7vvvhttbW15gSt3OptuODiCjreWJ+Zy1wjjPzZF8UNnyLzU0swVdHrprPmAEdRUDzOBfu/evXkWHIQR5UBeLKPVTM3guRR83hMsG4yjGrGMMj+l3X4CEjmPNjJNlqyt8abmzT1ZMGJHxxtFp8h+OLOkUxSEjvbgQwUF2e8J5BR4OnbalNu8RhRtWlxmzQAqr3lhKwbvAwYJXTFV/baBgETOoxXo3OjkGPjUWqnQ8Xg6EAodP0H2HXnM0qSHM618WjchKkLHB5Fqaykmr27fjz322NgAizgJHcu21wcDNlkakSMrCZ1bidG+ehKQyFVBf/78+WNn0ZF6fZo3YkcHTMcShVAsylEROrJlLYUPJvz2I5CFs1kuTkJnWigoXNyeLJCDW9ng+U5Gk8Wj/0UgKAISOR/IVuvkTJNalMTOiStKQkcb0fGSdSXO25nPSrarLQOVxF2PY4xtq30IU42uHlbTNd0ISOTcqFSxzzRj0tl5CXzaNf0hHDARhAP2kh6vxxpn6DXfXq/j1/FBTiCPm9CxxYGtFNXWgCV0fpVaxVMLAYlcLfSKzjVOoRqHb8SOzWp0DlESu6gJHR9I2C/KWp3fTWpxEzrmhzVgPoBVw0pCV+Qk9DN0AhI5n5GbJshqRYrn0TFQ7FjrqMax+JyliqKLmtCRq0lzcZ9SRRkuc1DchI6szLSMah7gJHRlCov+CpyARC4AxH7c1EbsTHNRFMTOiEY1jjAAM1QUJQWOjKutqZS6SNyEjvnkAxwfvthi4TX4cU94vaaOFwESkMgFVA78uqnZtMZmNSN2ASXXt2ijKHTOmkq1Ay3cAMZR6EyeaGevD15+3RNurLVPBEoRkMiVIuPDfvZl8Mb2Ixixi8KE8igKHW1kmpr9bCY2olBN7cePchNEHBQ3PnixfDN/XoKEzgstHesHAYmcHxRLxEFn4KfQ8TJsXjMTym12nFEVOjYTV+vASxSDWK2M4syjGRXstU9TQuekqO2gCUjkAiZMoWNTI2sJfgYKnBkh6GcTm59pjKrQkQEduJ8TyONYoyMn06fpdfk0CZ2fd5riKkdAIleOjk//BengKHYUUdY+bBS7KAsd7caaOD/VjpZ1FqEgy4HzOmFvk43h5KWfTkIXtqWSeT2JXEh2p4NjzSAIIaJjMU1HFDs/HLKfWKIsdORg2PpRG4+r0LEMGjt7KeMSOj/vNMXlRkAi50YloH2m1kVHF0Rwih2dh01iZxxgUHkPgqczTjpu0zzspbbijMNsx1XomD9Txr08EEjoTMnQdxAEJHJBUC0Tp3ECQTp7ihsdB2uO/K7VKZfJjqe/oi505GiWBfM62KIYVJyFjnnjA4GXuYcSuuISot9+EZDI+UXSQzxh3dBG7MwcOxvELupCRzObwRZenLhb8Yiz0LGseV0lJaz7ws0W2hdfAhK5Otk2zBuazpR9dbaIXRyEzunEvfRBFRe3OAsd82rmHrIFo5IQ5n1RSXp0TPQJSOTqaEMKD592wwp0xrwmm5IqdTpBpS0OQkc2pvm5lgnkcRc6ljs+YNHmlbQmSOiCuuuSGa9Ero525w3v92TxSrJDp8Pr1lvs4iJ0bBbmwwOZUrCqCXEXOpZ1w6iSAVESumpKkc5xIyCRc6MS4j7e/BQbDlMPO7AWwmvTOdfS5FZLuuMidGTAprlaJpDHXejIyMvAHQldLXeWzjUEJHKGRB2/6+3cjNjxSbseYhcnoaMt+dDATyU1luJiV++yUJyeIH6bgTuVrJIioQvCAsmKUyJnib2Nc6t1aHq12WGN0kx6ptgxPWGGOAkduRmWXuaLGd6mLNS739SkJ4hv5pEPAixrLHvlgoSuHB39NxkBidxkhEL83wxiCFtgnFl0ih2dSzW1EWd8XrbjJnSsFbM5mI7cK8ckCB3LWqU2l9B5uZN0rJOARM5Jw4JtG4SOGIwDMhPKvTrpalFW6vSqjT/s88jRSz+UM31JEDrml2We5WyyWq+Ezlk6tF0pAYlcpaRCPI5NXawB0EHWO1DcjPAwXWGkyVyvnjVav7mbfiivE8iTInTMJ8v8ZHwkdH6XzPjHJ5Gz1Ma23cwUOza7hTWhPI5CxwcEOnEy9DLAJylCZ/iwr67cA45t94alLkTJGiUgkbO4KNAhUlhsCnTORuyCHhgRR6GjLU2TtJcJ5EkROvIxg3bKlS8JnU1ewe60SOQstg+fbPlUyxvatmDEjk1M5ZxRremOq9CZmjH5lau1OPklSehYvswqKU4Gzm0JnZOGtksRkMiVImPJfiN0lcwpqkeSKXB01Px4aYLzkta4Ch0ZeJ1AniShM2W/3JxDCZ2XOymZx0rkImD3KDg2I3ZsygxC7OIsdLQvHflkfVGmqEahPJi0+vE92ehUCZ0flOMbh0QuIraNimMz/SlBiF2chY7F0LCbbCg9j41KefDr9uJDlBn05BanhM6NivaRgEQuQuWAw9A5n4gOzubAZibjsOl8/JxjF3eho23Z9MuHhMm4JU3omF/WdsmGZaw4SOiKieg3CUjkIlYOzBOt7UJHrHREbGrye0J53IXOcGPNZbJl3pImdGRD+5casCOhi5hDCyG5ErkQIPt9CTZn0QG6Pc36fS0/4mONhM6HYscanh/pjrvQkbsZYTjZBOmkCR3ZmAE7bk27Ejo/7tr4xCGRi6gto3gjU+zMZGg/xC4JQscHAsOs3ICeJAod88waHctB8YNTFO+PiLoi65MtkbPeRKUTaG7k0kfY+Q+dNftVWBt1exL3kuokCB15mGXByk0gT6LQUdxYltxGppr7o1gAvZQvHRt9AhK5CNuQNy9vbt7MUQxG7Pg0zr7GakNShI41YTr0Uv1R5JdEoWO+zUCn4nIkoav2rorPeRK5iNsy6kJH/Kyl0HHXInZJETryMn2ydOxuIalCZ/owixdOkNC5lZLk7JPIxcDWfMJn01/xU2zUssb0U+hYWynX/1QqX0kSOgoZa/FuzXTkk1Sh471guHDbBAmdIZG8b4lcTGweJ6dmairViF2ShI5Fl7W5Uu9ii1OZ8HqbmnLgfFiS0HmlGI/jJXLxsGM+F7yh6fCcN3ZUs8dmWNPPwtGFzqfyyfJkHBydfBIC82lqwMWckix0bBlgC4ezWVdCl4Q7ojCPErlCHpH/ZW7suDh4I3ZeJ5QnTejIyazxWNxsnWShY97ZfOmcayihi7yb85QBiZwnXNE42Ahd8VN9NFLvnkrmhc6JYlduGL3z7KQJHfPOWjxrL06nzv1JFjo+AJAHa7vm4U9C57xT4r0tkYupfeN6ExuxM81QdGDlQhKFzjh1MnIuC5ZkoWMZYV8vH5JMTdd5j8TpgbDc/ZDE/yRyMba68yaOWzZZY+HAFCN25fKXRKEjD7cJ5Eboli9fPmGVkHIM4/KfyT/LBB8GzD3yx3/8x2O1vLjkVfkYISCRi3lJYH8Eb+S4BiN25ebY0bG9/vrreUHkdpICayhmArkZkEQG99xzD9avX58kFGN5pbiRiZl+wfujsbERa9euHTtGG/EhIJGLjy1dc8IbOu5Cx4zTgVPo3MRu27ZteOGFF/Jiz5pf0oSOfMy0DDPScN26dfjN3/xN9PX1uZabJOw0o3dZ4509e3a+KfPzzz9PQtYTlUeJXALMTaGjc6eji3tgfwuFjsLurLmwL+add95JtNCxVkcu/KxYsSLv1H/v935vrI8q7mXDLX8UuObmZnzpS1/K85g5c2Yim3Hd2MRlX2gil7uwD+3T08gOhY3uPHpXPI8txwbDvrBV12PthUJnOt2tSlwAiTEjTM2EcoocP+TA5qmk1uiImvk3PO699148/PDDiSkXpqhR8FlGWMt/8MEHx3h84QtfwKJFiyR0BlQMvkMSuVs41dOKmekjuDUGbRiDJ36IVxZMHy1g0/H0q3vRPzg8dkS5jeHTP8L61tloWNCJTV1LsTh9GIM5ALkLONi9AcvmTsfcZZvRe/oGLve+jGnt+3CB/yc40MHTuTlH3MUZB2uwbJKiE7/rrrvyeX/ooYfGBhwkSehoc9bgHnnkkTGHboSOfFibScoDEMv8rl270NLSkhe4++67r4DJtGnT0NbWJqGLiXMIR+RuH8WWOW3oOTUucfma3dQpaGrdgncP/l8cfHcLWpsa0PzK/8bFCsVoKJtGY8NyZM5dwPEda7B+/3mMnDqIbLoV6exo7e3WEaRnthZcPyb285wNU8NJQr8Un9bZ50SnZRw6v//iL/4icUJHwWdzNecYrly5Eo8//nieCWsuZPLd7343UTV9541janVr1qxBQ0NDnsdf/uVf5h8KyE0h2gRCELlhl5rUTfR3L0IqtcDRjDiIY1sWIDWlHZmByto0KXIznl+Olzt2ov/GSex+cS0y5yikRSIHXu85zN5yFLejbS9fUp8EoaO4OYWN27//+7+PL37xi/n9Tz31VH6psCQ3XdKBs4a3YcOGfI3mrbfeSqzQmRuLTFh2zEAl1n4ldIZONL+DF7k7J9GzcD66PrrkIHQRfaubkWpYi77rd0b338H1vrVoSM3BawevOY4tvUmRa04fwuUDaSzZfBjXPn8X6yh4t4tFjq2Y+9D+gPN6pePlk13UAtPMG9IMtpgs/XyiNzcwb+Ik3MisvZIP886mKjOysFjoomj/yexd6f9k5Oy7TTILMmPZMPcJfyedR6XlyKbjAha5HG4f24rZ87vRb7Qsn/vPkGltRKqxcCBKvvkx1YjWzGcVMRoRuSyGcA3Ht7+EVb2/xNUDabSk30efs7kyH9slfNQ1Hwt7TqIgKY4r0dHzCc7UAJyF23GYtZvsRGfa6cArETvOHZsxY8ZYfpn3JIidmwHpzP7gD/5grGnzq1/96pgIuh0f530UOvbRPfHEE2NlI2r3gp/2YdmYN2/eGAv26yahud9PhvWMK2CRY41tPtr3nRvtKzNZ9VvkAAydQWbFKuw+PYBsugXNM+eP98mNXnb4xHbMmb0Vx267d/p1dXWNFWQjdJs2bTKJjsQ3m56YdvYtPProo/lh86WePlmjMQMyTH7ZX5PEQEaGgfO7FLu4M/rOd74zgQcfopIY+MA4ZcqUAh4ckZnUB8KolYFgRS7fVPk00tnrRVxGmyunvozey2Y05Ujf3dTUw+jsPV90vPvP8ZrcyP+5ix9ifWc3jl/+BD0t354gcvkmy2nOaxbG63RucdvmqLri2h2HSrvls5BKMn6RjRuLJMwtdLOwG4uFCxe6HRr7fW+88caEsvGNb3xjwv0UPRDDuHLkTaxc+SaOXDF+uDAXuSuHsWPlGuw4cqmoojJ6XO4SjuxYg5U7DuOKe92hMMI6/ApW5DCEC/s6Ma2zF4W9XGbgybccAngd2fS3kEotQnf/zYpQFIscMIzB7FYs2fghPt3TVSRybtMYCi/Dmk/xzc2mvygFDiTgkk3MB2tzfOJkDZWDTYqfPDs6OibklwySGChyZmSdKQPkmJTpFsU2d7sX/u7v/q74sET85oOOKRPmm9MOot9keQtnMx1oaupA5uz4yHenUe+c3YOlTc1Ymjnj3s1z5wwyS5vRtHQPzpbqB3JGWIftgEUOQInh+2NTCBb/V+zZfwgH/tdGPD01hYalGZwzsG5+it2vvIR036/gNt5yosiR4A3096xG26IlhSLHaQyznysroIcOHQInx5qCzO/i2k8dbFTxJXnTsb+A6aY4Tzbvqbj2wrybwRgVXzRGBz777LNwzpniCMykhqjfC37ajQ+Hjz322Jhf4H3CbgGFaBAIXuRKDt8fxmD/Xrz69Phk8AWv/BAnHJPBc79+FyuapiA1ZztOFNSmh3E1uxMbls3D1LnLsKH7YOHcOvbPtTubK92mMbgbiI6fHc1sooiSwPFG/NrXvlbxoBOTewoj88o8Rym/Jv1+fpOhWfqL38U1Xz+vFYW4onovBMGWZWHPnj35+yTJD4JBsA06zhBEztvw/QkZzv0cPcvfLhqdOeGo8jtcpzGUPyVq//ImjH7zSdSoK70iIAK2EwhF5AAO338CbZmz7p2XJSnlMHRqJzq21jKJe3Qaw4TaYMmL6g8REAEREIGYEAhJ5ID88H2vQnPnDPau24YDJUb+VGYDCuzTLtMYKjtbR4mACIiACESXQGgih9w1nPzZL0YWUQ6V1y0MfHwCA0OWjm8NlYUuJgIiIALJIhCeyCWLq3IrAiIgAiJgAQGJnAVGUBJEQAREQASCISCRC4arYhUBERABEbCAgETOAiMoCSIgAiIgAsEQkMgFw1WxioAIiIAIWEBAImeBEZQEERABERCBYAjEUuTy62JOL3xXXTD4imM9j94Vzzvedl78f/i/68eCeRWPcYuLxTgLlQ3bWRSmL9q/YihyRW8bGD6Nd9e3YlbDAnRuWofWxVuQza+POYSLB98eW//ye72nUbA8Zim75q7hxP9chwWNo++Xavw2Xt376ej8v8rXyCwVvb/7i1jgJk6/+z20zpqBBZ3/hK7WpUhnr+RXocldPIjuDcswd+o8LPveuzhdEQwAuUF8duwn2JNeilltGQwUZMBuHsOnf4T1rbPRsKATm7qWYnH68IgdcxdwsHsDls2djrnLNqP3dCVvxeBarP+K1xbPwpRUCqlUA2a1pbGv/9roKj92s4DfZSN3Df17N2Jxc8PIwsZTZqMt/W/oH1ub1m4e/paNgpvC5YdtLFySGOFd8RM5vm1gTht6TjleHTGURbrxYbRnTuHK8W50rv9wbEFn9zcZlLLoyKuDpqZmonXLv+Fg9gDe3fK3aEp9E6/0/b8RZ1birQulYgx0vxsLDCKbnouG9r04d+UodnSmsf/i6DseyKnZQw14IIPWvEOnU08h1VoscqXfQhFovktF7sKD9m9sWI7MuQs4vmMN1u8/PypK5NRa+CaLUvECuHN6F1oaH8DczjfQe/AAPtj1GhZzcfHG72D36dGymJiycQund38HjVO+hc43f4yDB9/Hrtdaq2GLGgAACTtJREFU0JSagsaWXTht3jJiOQ+/ykZBsbn9KXpaHkYq1YjWzGfjf9nEYjxVsdiKmciVeCKi856xGJ0vr0VP/yWc3r0KKzJn8q/v8SRydz5F9/wGpJxvF8+/wmcqprAWk19Uhe/Kew6zt9Sy3qYfZasEi7zILcTznSvQ0XMCN07vxosr9uIcV4TxKnJDF9GfPY7Prh5CurGEyJV8C4UfefQShzsP2n/G88vxcsdO9N84id0vrkXmHEXJi8jlMDTwPl594r+g75qpAg9hINOOKampmLP9+GgrQVLKxi0MfLABT6zpwzWz0FDuLDJtTUilnsH2E/8xaji7efhTNpxl9Cqy6QWjr+wpEjlr7hNneuOxHS+RK/W2gVHnfeTyT7FxyVZkr/0SvesoeDfgSeSu92F1QwoNq/sw/q7z0becP7ARB2+N3NH5frAH1qLvunlkrUNhKcXCOO8jZ3Bg43Jszp7H570b0dHzKW57FTmTLZ5XUuRqfAuFuUat3yV4jNj/EC4fSGPJ5sO49vm7WEfBu+1F5Ji4Ydy4et3x3sMcbh3ciAdSKTSms2P7E1M2cv+Bq9duO6x2DQdfm4NUam5B7dhmHv6VjZHyMZj9PualZqB9y/fwfHFNji3/F/ahvd5+w2GxuGzGSORG3zYwv3via3nGnPcdDB5/E+2rfozPr/4UG1u24GDf99DscEJlDTvaPOd0WiNP/HORSi1DZsC82pWLQs/Hwp6T7m/TLXsRP/4sw8KIXHYQGDyG7e3/hN7PB3BgYwfSB3u9NVeapE4iciNvobCTx/hDzjUc3/4SVvX+ElcPpNGSfh99HporDYqx79wlfPTqN5FKLUA6e3Vst80sCmqvfpWN0Zznru/HqzOmIDX3dWQHnQ9/9t4rfpaN3PWfYuPsaWhs243TZ/eg1UXk6l82HMU0RpsxEjnWqOa7v21gTORouVs4l1mLF3f340p2C/6qeQaafBe50bcuOJs1Qy00ZVg4RQ45DJ3bixUv7sbpK4eQ/qvZmNnkoU/O5GlSkbOXx7gjA8CX7a5Yhd2nB5BNt6B55vyCWofJ7qTfuWv4pGc5Zk19Aq9+MPGt9vk3ciSlbOTHJn2MnvY5mDpvAz4YcPSVj4K0lYdvZSN3HvtffRxTGtuxm4OY8g/Lxc2VIzDqy2LSkp0/IHflMHasXIMdRy6N9l8XnzeMK0fexMqVb+JIiTfITB5HcZzV/46PyOWbo55GOjvekDiGpUDkeNedx/71a7Dj+Ofo73kRsyoVudHmyqmdvbg8Fvl59HY+jNTUl9F72fTHjDY9TCvcN3ZK0BvlWBSIHBMyhIv70+jccRSX+3vQMisYkcs3xVjIo8CRsWhc/BDrO7tx/PIn6Glxvl2+QqMN/Qp9G/8KTfPWITM2srLwXFtZFNTk8kmutWywr/IDbHy6GfNeyThGVkaDhz9lYwgX+7rQnJqCGat34XA2i2xvGgtS07Ag/SNkP/6s4M0sdS0bhWYp+evO2T1Y2tSMpZkzJVqqbuFspgNNTR3InJ34UMOIJ4+j5OU9/xEfkcPIyMdpBQI0yqNY5PJPl4exeUkaBz79IZZVKnJm4MnDaWRH+9/AUVEPT0GqoJm0eOi+Z7vUeEIZFhNEjjCuILt5OTYe+Bn2LNuCrGl1rTQVk9bk7OVR7MjYtzaY3YolGz/Ep3u6PNXkcoMfo7vtUcxq/+/4ZGyofDFEe1lMFLlaysYwBj/5F7RN/ybaez4ucOSFROzl4U/ZGBnNnB997ByJbLYbnQ+V9WZRaJm4/IqRyJUZru4ickAOt/t3oqPtr/CEU+Rufordr7yEdN/EZibWei7s68TU1MNYvPGH2H/k/+B/vfZtTE3NwNLML8efavIjLp9Dd38l86sCKkolhySXGFDBoc0dbVj0xOsOkRtE/+5X8d10n/v7+DhH7uMssod60DkthdSCNHr5pNp/cWygRT53FvOY6MiY4hvo71mNtkVLHCKXw83+H+KV7/439Lk0ud0Z+BDfW/wwUlOeQdfbe5DJZMY+/5odiF/ZKHuf3MbA/s35KRRTFnThbQeLTOZHyA44BqQkoGwU3+Esc41ufXI2sChObAx+x0vk3IbhXs2ix0xy3vA2Dpo5YXnjsX9uOWY4RC7363exgvObSr3FPD/JdT2eHpsM/gxe+Z/HHU+q7kPVwy8rbsOzLyHb89roJOcN6D54wdGmPtI/1z7D8WSZG0DvillFw74dOTE1OPNUar4L5svZymMYV7M7xxYD2NB9cGzuZD6H7J9rdzZXDuHXvavRVDAlYJzFiOManS9oOIx+jw9UspUF8+GtbJS/T8rVXpyjK23l4W/ZGC8lI1vuImcLi+LURv93zETOp2G4uZ+jZ/nbE0dpVmLvEkPVKznV72P8GZJ8C6d7/qn6WmnMeORO78Ty7k/Ha2ZejBYzFqjlPiG3mPGIS9nwUqSjcGzsRG5kGO4TaMucddRSvJgih6FTO9GxtZrJ3KND90vVAr0kw5djOTy7FhYcl9KPno4dOHbbzOr1krC48biJUz2vYuuxQS8QRo+NG4ta7hMiiRuPOJWNKoq3xafEUORGh6tXKzR3zmDvum04UGLoa3lbUlSedp/GUP7EwP7ND0mulgVu4ezeTdh84GKVDwzx4nHn7L9i3eaf4ko1eo94sUBN9wmLe7x4xK1sBOaQ6hBxLEUOuWs4+bNfOPrJwiJ7CwMfn3AfpBFWEoqvUzcWTIh4jJtDLMZZqGxYz6IwgZH+FU+Ri7RJlHgREAEREAG/CEjk/CKpeERABERABKwjIJGzziRKkAiIgAiIgF8EJHJ+kVQ8IiACIiAC1hGQyFlnEiVIBERABETALwISOb9IKh4REAEREAHrCEjkrDOJEiQCIiACIuAXAYmcXyQVjwiIgAiIgHUEJHLWmUQJEgEREAER8IuARM4vkopHBERABETAOgISOetMogSJgAiIgAj4RUAi5xdJxSMCIiACImAdAYmcdSZRgkRABERABPwiIJHzi6TiEQEREAERsI6ARM46kyhBIiACIiACfhGQyPlFUvGIgAiIgAhYR0AiZ51JlCAREAEREAG/CEjk/CKpeERABERABKwjIJGzziRKkAiIgAiIgF8EJHJ+kVQ8IiACIiAC1hGQyFlnEiVIBERABETALwL/H4fTljhja0T4AAAAAElFTkSuQmCC)\n"
      ]
    },
    {
      "cell_type": "markdown",
      "metadata": {
        "id": "CjSWpxFqWvBf"
      },
      "source": [
        "# [Provas por Indução sobre os naturais](https://youtu.be/S9rabtYh3Rs)\n",
        "Seja $A$ uma propriedade sobre os naturais, então A(n) para todo inteiro $n\\geq 0$ se\n",
        "            \\begin{equation*}\\left\\{\n",
        "            \\begin{array}[c]{l}\n",
        "                    A(0)\n",
        "               \\\\   \\forall k\\left(A(k)\\Rightarrow A(k+1)\\right)\n",
        "            \\end{array}\\right.\n",
        "            \\end{equation*}\n",
        "\n",
        "Para todo $n\\geq 0$, temos que\n",
        "           \\begin{equation*}\n",
        "                2^0 + 2^1 + 2^2 + \\ldots + 2^n = 2^{n+1} -1\n",
        "           \\end{equation*}\n",
        "\n",
        ">Demonstração:\n",
        "- Caso Básico ($n=0$):\n",
        "    \\begin{eqnarray*}\n",
        "                     2^0  & = & 2^{0+1} -1 \\\\\n",
        "                     1  & = & 2^{1} -1  = 1\n",
        "    \\end{eqnarray*}\n",
        "- Passo Indutivo ($n=k+1$): \n",
        "> \n",
        ">  Queremos demonstrar:\n",
        "\\begin{equation*}\n",
        "                    2^0 + 2^1 + 2^2 + \\ldots + 2^{k+1} = 2^{k+1+1} -1\n",
        "\\end{equation*}\n",
        "    Hipótese de Indução (HI):\n",
        "  \\begin{equation*}\n",
        "                    2^0 + 2^1 + 2^2 + \\ldots + 2^k = 2^{k+1} -1\n",
        "  \\end{equation*}\n",
        "  Daí, temos que:\n",
        "  \\begin{eqnarray*}\n",
        "                      2^0 + 2^1 + 2^2 + \\ldots + 2^{k} + 2^{k+1}&    & \\\\\n",
        "                      & = & 2^{k+1} -1 + 2^{k+1}, \\textrm{ por HI}  \\\\\n",
        "                     & = &  2(2^{k+1}) -1 \\\\\n",
        "                     & = &  2^{k+1+1} -1\n",
        " \\end{eqnarray*}\n",
        " "
      ]
    },
    {
      "cell_type": "markdown",
      "metadata": {
        "id": "dUlUdBSsX5mh"
      },
      "source": [
        "# [Princípio da Diagonalização](https://youtu.be/NVPZalpSFpE)\n",
        "Seja $R$ uma relação binária em um conjunto $A$ e, para cada $a\\in A$, seja $R_a=\\{b:b\\in A\\text{ e }\\langle a,b\\rangle\\in R\\}$. Defina o **Conjunto Diagonal** $D=\\{a:a\\in A\\text{ e }\\langle a,a\\rangle\\notin R\\}$. Daí, $D$ será distinto de cada $R_a$.\n",
        "\n",
        "![image.png](data:image/png;base64,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)\n",
        "\n",
        "### O Conjunto $2^\\mathbb{N}$ é incontável\n",
        "> **Demonstração** Suponha que $2^\\mathbb{N}$ seja contável, ou seja, existe alguma forma de enumerar todos os membros de $2^\\mathbb{N}=\\{R_0,R_1,R_2\\ldots\\}$. Note que os elementos $R_0,R_1,R_2\\ldots$ correspondem aos conjuntos $R_a$ do enunciado do princípio da diagonalização, para a relação $R=\\{\\langle i,j\\rangle:j\\in R_i\\}$. Agora, considere o conjunto $D=\\{n:n\\in\\mathbb{N}\\text{ e } n\\notin R_n\\}$. Assim, $D$ é distinto de todos $R_a,\\forall a\\in\\mathbb{N}$. Portanto, $2^\\mathbb{N}$ é incontável.\n",
        ">\n",
        "> ![image.png](data:image/png;base64,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)\n"
      ]
    },
    {
      "cell_type": "code",
      "metadata": {
        "colab": {
          "base_uri": "https://localhost:8080/",
          "height": 265
        },
        "id": "xWiyg946UgBN",
        "outputId": "6418dcb7-0279-4401-d6ba-0f8536584a23"
      },
      "source": [
        "A = {'a','b','c','d','e','f'}\n",
        "R = {('a','b'), ('a','d'), ('b','b'), ('b','c'),('c','c'),('d','b'),('d','c'),('d','e'),('d','f'),('e','e'),('e','f'), ('f','a'),('f','c'),('f','d'),('f','e')}\n",
        "visualiza_diagonalizacao(A,R)"
      ],
      "execution_count": null,
      "outputs": [
        {
          "output_type": "display_data",
          "data": {
            "text/html": [
              "<div>\n",
              "<style scoped>\n",
              "    .dataframe tbody tr th:only-of-type {\n",
              "        vertical-align: middle;\n",
              "    }\n",
              "\n",
              "    .dataframe tbody tr th {\n",
              "        vertical-align: top;\n",
              "    }\n",
              "\n",
              "    .dataframe thead th {\n",
              "        text-align: right;\n",
              "    }\n",
              "</style>\n",
              "<table border=\"1\" class=\"dataframe\">\n",
              "  <thead>\n",
              "    <tr style=\"text-align: right;\">\n",
              "      <th></th>\n",
              "      <th>a</th>\n",
              "      <th>b</th>\n",
              "      <th>c</th>\n",
              "      <th>d</th>\n",
              "      <th>e</th>\n",
              "      <th>f</th>\n",
              "      <th>R</th>\n",
              "    </tr>\n",
              "  </thead>\n",
              "  <tbody>\n",
              "    <tr>\n",
              "      <th>a</th>\n",
              "      <td></td>\n",
              "      <td>x</td>\n",
              "      <td></td>\n",
              "      <td>x</td>\n",
              "      <td></td>\n",
              "      <td></td>\n",
              "      <td>R_a={b, d}</td>\n",
              "    </tr>\n",
              "    <tr>\n",
              "      <th>b</th>\n",
              "      <td></td>\n",
              "      <td>x</td>\n",
              "      <td>x</td>\n",
              "      <td></td>\n",
              "      <td></td>\n",
              "      <td></td>\n",
              "      <td>R_b={b, c}</td>\n",
              "    </tr>\n",
              "    <tr>\n",
              "      <th>c</th>\n",
              "      <td></td>\n",
              "      <td></td>\n",
              "      <td>x</td>\n",
              "      <td></td>\n",
              "      <td></td>\n",
              "      <td></td>\n",
              "      <td>R_c={c}</td>\n",
              "    </tr>\n",
              "    <tr>\n",
              "      <th>d</th>\n",
              "      <td></td>\n",
              "      <td>x</td>\n",
              "      <td>x</td>\n",
              "      <td></td>\n",
              "      <td>x</td>\n",
              "      <td>x</td>\n",
              "      <td>R_d={b, c, e, f}</td>\n",
              "    </tr>\n",
              "    <tr>\n",
              "      <th>e</th>\n",
              "      <td></td>\n",
              "      <td></td>\n",
              "      <td></td>\n",
              "      <td></td>\n",
              "      <td>x</td>\n",
              "      <td>x</td>\n",
              "      <td>R_e={e, f}</td>\n",
              "    </tr>\n",
              "    <tr>\n",
              "      <th>f</th>\n",
              "      <td>x</td>\n",
              "      <td></td>\n",
              "      <td>x</td>\n",
              "      <td>x</td>\n",
              "      <td>x</td>\n",
              "      <td></td>\n",
              "      <td>R_f={a, c, d, e}</td>\n",
              "    </tr>\n",
              "    <tr>\n",
              "      <th>D</th>\n",
              "      <td>x</td>\n",
              "      <td></td>\n",
              "      <td></td>\n",
              "      <td>x</td>\n",
              "      <td></td>\n",
              "      <td>x</td>\n",
              "      <td>D={a, d, f}</td>\n",
              "    </tr>\n",
              "  </tbody>\n",
              "</table>\n",
              "</div>"
            ],
            "text/plain": [
              "    a  b  c  d  e  f                 R\n",
              "a      x     x              R_a={b, d}\n",
              "b      x  x                 R_b={b, c}\n",
              "c         x                    R_c={c}\n",
              "d      x  x     x  x  R_d={b, c, e, f}\n",
              "e               x  x        R_e={e, f}\n",
              "f   x     x  x  x     R_f={a, c, d, e}\n",
              " D  x        x     x       D={a, d, f}"
            ]
          },
          "metadata": {}
        }
      ]
    },
    {
      "cell_type": "code",
      "metadata": {
        "colab": {
          "base_uri": "https://localhost:8080/",
          "height": 234
        },
        "id": "-uBbAIH6Vxt1",
        "outputId": "76a2aec2-8e95-4c34-9ea7-80c97bc04785"
      },
      "source": [
        "A = {1,2,3,4,5}\n",
        "R = {(1,1),(1,2),(2,3),(3,4),(1,5)}\n",
        "visualiza_diagonalizacao(A,R)"
      ],
      "execution_count": null,
      "outputs": [
        {
          "output_type": "display_data",
          "data": {
            "text/html": [
              "<div>\n",
              "<style scoped>\n",
              "    .dataframe tbody tr th:only-of-type {\n",
              "        vertical-align: middle;\n",
              "    }\n",
              "\n",
              "    .dataframe tbody tr th {\n",
              "        vertical-align: top;\n",
              "    }\n",
              "\n",
              "    .dataframe thead th {\n",
              "        text-align: right;\n",
              "    }\n",
              "</style>\n",
              "<table border=\"1\" class=\"dataframe\">\n",
              "  <thead>\n",
              "    <tr style=\"text-align: right;\">\n",
              "      <th></th>\n",
              "      <th>1</th>\n",
              "      <th>2</th>\n",
              "      <th>3</th>\n",
              "      <th>4</th>\n",
              "      <th>5</th>\n",
              "      <th>R</th>\n",
              "    </tr>\n",
              "  </thead>\n",
              "  <tbody>\n",
              "    <tr>\n",
              "      <th>1</th>\n",
              "      <td>x</td>\n",
              "      <td>x</td>\n",
              "      <td></td>\n",
              "      <td></td>\n",
              "      <td>x</td>\n",
              "      <td>R_1={1, 2, 5}</td>\n",
              "    </tr>\n",
              "    <tr>\n",
              "      <th>2</th>\n",
              "      <td></td>\n",
              "      <td></td>\n",
              "      <td>x</td>\n",
              "      <td></td>\n",
              "      <td></td>\n",
              "      <td>R_2={3}</td>\n",
              "    </tr>\n",
              "    <tr>\n",
              "      <th>3</th>\n",
              "      <td></td>\n",
              "      <td></td>\n",
              "      <td></td>\n",
              "      <td>x</td>\n",
              "      <td></td>\n",
              "      <td>R_3={4}</td>\n",
              "    </tr>\n",
              "    <tr>\n",
              "      <th>4</th>\n",
              "      <td></td>\n",
              "      <td></td>\n",
              "      <td></td>\n",
              "      <td></td>\n",
              "      <td></td>\n",
              "      <td>R_4={}</td>\n",
              "    </tr>\n",
              "    <tr>\n",
              "      <th>5</th>\n",
              "      <td></td>\n",
              "      <td></td>\n",
              "      <td></td>\n",
              "      <td></td>\n",
              "      <td></td>\n",
              "      <td>R_5={}</td>\n",
              "    </tr>\n",
              "    <tr>\n",
              "      <th>D</th>\n",
              "      <td></td>\n",
              "      <td>x</td>\n",
              "      <td>x</td>\n",
              "      <td>x</td>\n",
              "      <td>x</td>\n",
              "      <td>D={2, 3, 4, 5}</td>\n",
              "    </tr>\n",
              "  </tbody>\n",
              "</table>\n",
              "</div>"
            ],
            "text/plain": [
              "    1  2  3  4  5               R\n",
              "1   x  x        x   R_1={1, 2, 5}\n",
              "2         x               R_2={3}\n",
              "3            x            R_3={4}\n",
              "4                          R_4={}\n",
              "5                          R_5={}\n",
              " D     x  x  x  x  D={2, 3, 4, 5}"
            ]
          },
          "metadata": {}
        }
      ]
    },
    {
      "cell_type": "markdown",
      "metadata": {
        "id": "cVrUKf_zZLIF"
      },
      "source": [
        "# [Alfabeto, Strings e Potências de um Alfabeto](https://youtu.be/dj-e2LISS5M)\n",
        "- Um **Alfabeto** $\\Sigma$ é um conjunto de símbolos finitos e não-vazio.\n",
        "\n",
        "  - $\\Sigma=\\{0,1\\}$ o alfabeto binário.\n",
        "  - $\\Sigma=\\{a,b,\\ldots,z\\}$ o conjunto das letras minúsculas\n",
        "\n",
        "- Uma **String (ou palavra)** $w$ é uma sequência finita de símbolos de um alfabeto. Por exemplo, $011$ e $1110$ são strings do alfabeto $\\Sigma=\\{0,1\\}$.\n",
        "- O **String Vazio** é o string com zero ocorrências de símbolos, denotada por $\\epsilon$. Denotamos $\\Sigma_\\epsilon =\\Sigma\\cup\\{\\epsilon\\}$.\n",
        "- O **Comprimento (ou Tamanho)** $|w|$ é o número de posições para símbolos no string. Por exemplo, $\\epsilon$, $011$ e $1110$ tem comprimento 0, 3 e 4, respectivamente.\n",
        "\n",
        "- Definimos $\\Sigma^k$ como o conjunto de strings de comprimento $k$. \n",
        "  - $\\Sigma^0=\\{\\epsilon\\}$ para todo alfabeto $\\Sigma$.\n",
        "  - Se $\\Sigma=\\{0,1\\}$, então $\\Sigma^1=\\{0,1\\}$, $\\Sigma^2=\\{00,01,10,11\\}$, $\\Sigma^3=\\{000,001,010,100,101,110,111\\}$ e assim por diante.\n",
        "- O conjunto de todos os strings sobre um alfabeto $\\Sigma$ é denotado por $\\Sigma^*$. \n",
        "   Por exemplo, $\\{0,1\\}^*=\\{\\epsilon,0,1,00,01,10,11,000,\\ldots\\}$. Em outros termos: $\\Sigma^*=\\Sigma^0\\cup\\Sigma^1\\cup\\Sigma^2\\cup\\ldots$.\n",
        "- Denotamos $\\Sigma^+$ o conjunto de strings sem o string vazio $\\epsilon$. Assim:\n",
        "  - $\\Sigma^+=\\Sigma^1\\cup\\Sigma^2\\cup\\ldots$\n",
        "  - $\\Sigma^*=\\{\\epsilon\\}\\cup\\Sigma^+$"
      ]
    },
    {
      "cell_type": "code",
      "metadata": {
        "colab": {
          "base_uri": "https://localhost:8080/"
        },
        "id": "vgxMCrVccYAE",
        "outputId": "889548ad-dc45-4316-d84a-140ee05e864f"
      },
      "source": [
        "print(\"Sigma^0 =\",sigma({0,1},0))\n",
        "print(\"Sigma^1 =\",sigma({0,1},1))\n",
        "print(\"Sigma^2 =\",sigma({0,1},2))\n",
        "print(\"Sigma^3 =\",sigma({0,1},3))\n",
        "print(\"Sigma^4 =\",sigma({0,1},4))"
      ],
      "execution_count": null,
      "outputs": [
        {
          "output_type": "stream",
          "name": "stdout",
          "text": [
            "Sigma^0 = {''}\n",
            "Sigma^1 = {'0', '1'}\n",
            "Sigma^2 = {'11', '10', '00', '01'}\n",
            "Sigma^3 = {'110', '101', '001', '010', '100', '111', '011', '000'}\n",
            "Sigma^4 = {'1001', '0001', '0011', '1000', '1011', '0100', '1101', '0111', '1110', '0010', '0101', '1111', '0110', '0000', '1010', '1100'}\n"
          ]
        }
      ]
    },
    {
      "cell_type": "markdown",
      "metadata": {
        "id": "OrNcATH2ZqxR"
      },
      "source": [
        "# [Convertendo Strings Binárias em Números](https://youtu.be/yTkCVreO_g8)\n",
        "Podemos converter Strings Binárias como números inteiros. Assim, podemos falar sobre a $i-$ésima String.\n",
        "\n",
        "Seja $T:\\{0,1\\}^*\\rightarrow \\mathbb{N}$ uma função que converte strings Binárias em inteiros:\n",
        "- $T(101)=1*2^0+0*2^1+1*2^2=1+0+4=5$.\n",
        "- $T(0101)=1*2^0+0*2^1+1*2^2+0*2^3=1+0+4+0=5$.\n",
        "\n",
        "Logo, a transformação óbvia tem mais de uma string levada no mesmo inteiro. Para solucionar, basta colocar antes do mapeamento ${\\color{blue}1}$ antes de $w$, i.e., $T({\\color{blue}1}w)$.\n",
        "- $T({\\color{blue}1}101)=1*2^0+0*2^1+1*2^2+1*2^3 =1+0+4+8=13$.\n",
        "- $T({\\color{blue}1}0101)=1*2^0+0*2^1+1*2^2+0*2^3+1*2^4=1+0+4+0+16=21$.\n",
        "\n",
        "Para fazermos uma bijeção \\(T\\) de strings binárias em números, colocamos antes do mapeamento ${\\color{blue}1}$ antes de $w$, i.e., $T({\\color{blue}1}w)$.    \n",
        "    \\begin{eqnarray*}\n",
        "        \\textrm{String Binária} &\\longleftrightarrow & \\textrm{Número} \\\\\n",
        "        {\\color{blue}1}~\\epsilon &\\longleftrightarrow&1=1*2^0 \\\\\n",
        "        {\\color{blue}1}~0 &\\longleftrightarrow&2=0*2^0+1*2^1\\\\\n",
        "        {\\color{blue}1}~1 &\\longleftrightarrow&3=1*2^0+1*2^1\\\\\n",
        "        {\\color{blue}1}~00 &\\longleftrightarrow& 4 =0*2^0+0*2^1+1*2^2\\\\\n",
        "        {\\color{blue}1}~01 &\\longleftrightarrow& 5 =1*2^0+0*2^1+1*2^2\\\\\n",
        "        {\\color{blue}1}~10 &\\longleftrightarrow& 6 =0*2^0+1*2^1+1*2^2\\\\\n",
        "        {\\color{blue}1}~11 &\\longleftrightarrow& 7 =1*2^0+1*2^1+1*2^2\\\\\n",
        "        \\vdots &\\longleftrightarrow& \\vdots\n",
        "    \\end{eqnarray*}\n",
        "\n",
        "Assim, o **conjunto-potência de** $2^\\mathbb{N}$ é incontável, pois $\\{0,1\\}^*\\equiv \\mathbb{N}$."
      ]
    },
    {
      "cell_type": "code",
      "metadata": {
        "colab": {
          "base_uri": "https://localhost:8080/"
        },
        "id": "nx26IcIEfFds",
        "outputId": "73b1b4ae-acb8-491b-c44f-174e95247e7c"
      },
      "source": [
        "print(f\"T('') = {T('')}\")\n",
        "print(f\"T('0') = {T('0')}\")\n",
        "print(f\"T('1') = {T('1')}\")\n",
        "print(f\"T('00') = {T('00')}\")\n",
        "print(f\"T('01') = {T('01')}\")\n",
        "print(f\"T('10') = {T('10')}\")\n",
        "print(f\"T('11') = {T('11')}\")\n",
        "print(f\"T('000') = {T('000')}\")\n",
        "print(f\"T('001') = {T('001')}\")\n",
        "print(f\"T('010') = {T('010')}\")\n",
        "print(f\"T('010') = {T('011')}\")\n",
        "print(f\"T('100') = {T('100')}\")\n",
        "print(f\"T('101') = {T('101')}\")\n",
        "print(f\"T('110') = {T('110')}\")\n",
        "print(f\"T('111') = {T('111')}\")\n"
      ],
      "execution_count": null,
      "outputs": [
        {
          "output_type": "stream",
          "name": "stdout",
          "text": [
            "T('') = 1\n",
            "T('0') = 2\n",
            "T('1') = 3\n",
            "T('00') = 4\n",
            "T('01') = 5\n",
            "T('10') = 6\n",
            "T('11') = 7\n",
            "T('000') = 8\n",
            "T('001') = 9\n",
            "T('010') = 10\n",
            "T('010') = 11\n",
            "T('100') = 12\n",
            "T('101') = 13\n",
            "T('110') = 14\n",
            "T('111') = 15\n"
          ]
        }
      ]
    },
    {
      "cell_type": "markdown",
      "metadata": {
        "id": "7rz9w5UthZWM"
      },
      "source": [
        "# [Concatenação de Strings](https://youtu.be/fmlnRJpxsTY)\n",
        "\n",
        "- Sejam $x$ e $y$ são strings. Denotamos $xy$ a **concatenação** de $x$ e $y$. Formalmente, se $x$ é composto de $i$ símbolos $x=a_1a_2\\ldots a_i$ e $y$ é composto de $j$ símbolos $y=b_1b_2\\ldots b_j$, então $xy=a_1a_2\\ldots a_ib_1b_2\\ldots b_j$ com comprimento $i+j$.\n",
        "- Sejam $x=01101$ e $y=110$. $xy=01101110$ e $yx=11001101$.\n",
        "- Para qualquer $w$, temos que $w=\\epsilon w= w\\epsilon$"
      ]
    },
    {
      "cell_type": "markdown",
      "metadata": {
        "id": "kk8EBzHiiBNx"
      },
      "source": [
        "# [Linguagem](https://youtu.be/J1C9UiycSEU)\n",
        "\n",
        "- Uma **Linguagem $L$ é definida como um conjunto de strings, escolhidos de $\\Sigma^*$, onde $\\Sigma$ é um alfabeto**. Formalmente, se $\\Sigma$ é um alfabeto e $L\\subseteq\\Sigma^*$, dizemos que $L$ é uma linguagem sobre $\\Sigma$. Alguns exemplos de linguagens: \n",
        "  - A linguagem de todos os strings que consistem em $n$ $0'$s seguidos por $n$ $1'$s: $\\{\\epsilon, 01,0011,000111,\\ldots\\}$.\n",
        "  - O conjunto de strings de 0's e 1's com número igual de cada um deles: $\\{\\epsilon,01,10,0011,0101,1001,\\ldots\\}$\n",
        "  - O conjunto de números binários cujo valor é um número primo: $\\{10,11,101,111,1011,\\ldots\\}$.\n",
        "  - A linguagem vazia $\\emptyset$. A linguagem que consiste apenas do string vazio $\\{\\epsilon\\}$. Note que $\\emptyset\\neq\\{\\epsilon\\}$."
      ]
    }
  ]
}