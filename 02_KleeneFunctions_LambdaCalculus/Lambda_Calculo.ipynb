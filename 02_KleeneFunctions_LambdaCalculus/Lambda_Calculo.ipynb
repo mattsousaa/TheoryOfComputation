{
  "nbformat": 4,
  "nbformat_minor": 0,
  "metadata": {
    "colab": {
      "name": "Copy of Lambda-Calculo.ipynb",
      "provenance": [],
      "collapsed_sections": [
        "XBwvooWqtR1z",
        "dTqfZOqmc2kz",
        "7eTPmtW9uLcK",
        "kR91TScXgfpJ",
        "DpBCe1mLh42-",
        "mLWAMklwiUq_"
      ],
      "toc_visible": true
    },
    "kernelspec": {
      "name": "python3",
      "display_name": "Python 3"
    },
    "language_info": {
      "name": "python"
    }
  },
  "cells": [
    {
      "cell_type": "markdown",
      "metadata": {
        "id": "U13SmYZEnoO3"
      },
      "source": [
        "# Teoria da Computação: Lambda Cálculo\n",
        "> *Autor: Davi Romero de Vasconcelos, daviromero@ufc.br, Universidade Federal do Ceará, Campus de Quixadá, Setembro de 2021*.\n",
        "> *(Última atualização 13/12/2021)*\n",
        "\n",
        "Este material foi preparado para a disciplina de Teoria da Computação com a finalidade de apresentar os conceitos básicos do modelo Computacional Lambda Cálculo na Linguagem de Programação Python. Para cada seção é apresentado um link (no título da seção) com um vídeo explicando o conteúdo a ser abordado. Uma Playlist com todo o conteúdo de Lambda Cálculo está disponível no [YouTube](https://www.youtube.com/embed/videoseries?list=PLfOnKvd6pFiqNIU9XZ5bnvEKDgQIgZQrg).\n",
        "A implementação das funções de Lambda Cálculo em Python foi baseada na apresentação do David Beazley - Lambda Calculus from the Ground Up - PyCon 2019, disponível no [YouTube](https://youtu.be/pkCLMl0e_0k)"
      ]
    },
    {
      "cell_type": "markdown",
      "metadata": {
        "id": "aubkkePxjd_-"
      },
      "source": [
        "# [Introdução ao Lambda Cálculo](https://youtu.be/GZXStG8rzhk)\n",
        "\n",
        "O Lambda Cálculo ($\\lambda-calculus$) foi criado por Alonzo Church em 1936 como um modelo do que é computável. Com esse cálculo demonstrou-se que existem problemas indecidíveis. É um modelo de computação equivalente aos modelos de computação mais gerais como as Funções Recursivas de Kleene e as Máquinas de Turing. O que reforça a tese de Church-Turing sobre o que é computável. Além disso, existe uma forte relação de $\\lambda-calculus$ Tipado com Lógica Intuicionística (Isomorfismo Curry-Howard).\n",
        "\n",
        "Importante registrar que o Church foi orientador de ilustres cientistas dentre eles Alan Turing, Stephen C. Kleene, Martin Davis, Leon Henkin, Dana Scott, Raymond Smullyan.\n",
        "\n",
        "As linguagens de programação funcional (Lisp, Scheme, Haskell, Scala, Kotlin, Go, etc) são todas fortemente inspiradas no Cálculo Lambda. Atualmente, muitas das linguagens de programação no paradigma imperativo também permitem programação funcional, como Python. \n",
        "\n",
        "O Lambda Cálculo provê uma semântica para computação, permitindo que propriedades de computação sejam estudas. No $\\lambda-calculus$ as funções são anônimas e têm uma simples entrada. Por exemplo, para a função $f(x,y)=x^2+y^2$, podemos:\n",
        "  - reescrever de forma anônima $(x,y)\\mapsto x^2+y^2$;\n",
        "  - transformar em uma função equivalente que contém apenas uma entrada. Assim, $(x,y)\\mapsto x^2+y^2$ pode ser reescrita por $((x\\mapsto(y\\mapsto x^2+y^2)(y))$\n",
        "\n",
        "Este método, conhecido como Currying, transforma uma função com múltiplos argumentos em uma cadeia de funções cada com um argumento. Por exemplo,\n",
        "  - A aplicação da função $f(x,y)$ aos argumentos $5, 2$ tem $(((x,y)\\mapsto x^2+y^2)(5,2))=5^2+2^2 =29$\n",
        "  - A versão requer Curried um passo a mais: $(((x\\mapsto(y\\mapsto x^2+y^2))(5))(2)=(y\\mapsto 5^2+y^2)(2) =5^2+2^2 =29$\n",
        "\n",
        "## [Linguagem Lambda](https://youtu.be/JgkI5TsxLJ0)\n",
        "Seja $\\mathcal{V}$ um conjunto enumerável de variáveis. A Linguagem Lambda $\\Lambda$ é definida indutivamente como o menor conjunto que satisfaz:\n",
        "- Se $x\\in \\mathcal{V}$, então $x\\in\\Lambda$.\n",
        "- Se $M\\in\\Lambda$ e $x\\in \\mathcal{V}$, então $(\\lambda x.M)\\in\\Lambda$ ($\\lambda-$abstração).\n",
        "- Se $M,N\\in\\Lambda$, então $(M~N)\\in\\Lambda$ ($\\lambda-$aplicação).\n",
        "\n",
        "Se $x\\in \\Lambda$, dizemos que $x$ é um $\\lambda$-termo. São exemplos de $\\lambda$-termos:\n",
        "- $x\\in\\Lambda$, $(\\lambda x.x)\\in\\Lambda$, $((\\lambda x.x)~y)\\in\\Lambda$, $(\\lambda t.(\\lambda f~t))\\in\\Lambda$ $(\\lambda t.(\\lambda f.f))\\in\\Lambda$\n",
        "- $(\\lambda s.(\\lambda x.x))\\in\\Lambda$, $(\\lambda s.(\\lambda x.(s~(s~x))))\\in\\Lambda$, $(\\lambda s.(\\lambda x.(s~(s~(s~x)))))\\in\\Lambda$\n",
        "    \n",
        "### [Convenções nos Lambda-Termos](https://youtu.be/YqvXa3yetGw)\n",
        "Sejam $x,y,z\\in\\mathcal{V}$ e $M,N,L\\in\\Lambda$. Algumas convenções:\n",
        "- Os parênteses mais externos podem ser omitidos $(M~ N)$ será $M~ N$.\n",
        "- $M\\equiv N$ denotam o mesmo termo ou podem ser obtidos por substituição de variáveis ligadas. Ex.: $(\\lambda x.y)~z\\equiv(\\lambda x.y)~z$, $(\\lambda x.x)~z\\equiv(\\lambda y.y)~z$, $(\\lambda x.x)~z\\not\\equiv z$ e $(\\lambda x.x)~z\\not\\equiv(\\lambda x.y)~z$.\n",
        "- Usamos a seguinte abreviação $F~M_1~M_2,\\ldots M_n\\equiv (\\ldots((F ~M_1)~M_2)\\ldots M_n)$.\n",
        "- $\\lambda x_1\\ldots x_n .M\\equiv \\lambda x_1.(\\lambda x_2.(\\ldots(\\lambda x_n. M)\\ldots))$\n",
        "\n",
        "São exemplos de lambda-termos utilizando as convenções:\n",
        "- $\\lambda sx.(s~x)\\equiv (\\lambda s.(\\lambda x.(s~x)))$ e $\\lambda sx.(s~(s~x))\\equiv (\\lambda s.(\\lambda x.(s~(s~x))))$\n",
        "- $\\lambda zsx.(s~(z~s~x))\\equiv (\\lambda z.(\\lambda s.(\\lambda x.s~ ((z~s)~x))))$.\n",
        " \n",
        "### [Variáveis Livres e Ligadas](https://youtu.be/QbkSzPG2Bxo)\n",
        "Seja $VL(M)$ o conjunto de variáveis livres definidos indutivamente como segue:\n",
        "- $VL(x)$, então $\\{x\\}$.\n",
        "- $VL(M ~N)=VL(M)\\cup VL(N)$.\n",
        "- $VL(\\lambda x.M)=VL(M)-\\{x\\}$\n",
        "\n",
        "Se a variável $x$ não é livre em $M$, dizemos que é ligada. Vejamos alguns exemplos:\n",
        "- $\\lambda xy.~x~y~z$ tem $z$ como variável livre e $x,y$ como ligada.\n",
        "- $x~\\lambda xy.~x~y~z$ tem $x,z$ como variável livre e $y$ como ligada.\n",
        "\n",
        "### [Substituição](https://youtu.be/vjo9S_cUMsA) \n",
        "Escrevemos $M[x\\leftarrow N]$ para denotar o resultado da substituição de $N$ para as variáveis livres de $x$ ocorrendo em $M$ e que é definido da seguinte forma:\n",
        "- $y[x\\leftarrow N]\\equiv \\left\\{\\begin{array}[c]{l}N, \\text{ se }x\\equiv y \\\\     y, \\text{ se }x\\not\\equiv y\\end{array}\\right.$\n",
        "\n",
        "- $(M_1~ M_2)[x\\leftarrow N]\\equiv ((M_1[x\\leftarrow N])~ (M_2[x\\leftarrow N]))$.\n",
        "- $(\\lambda y.M)[x\\leftarrow N]\\equiv \n",
        "\\left\\{\\begin{array}[c]{l}\n",
        "(\\lambda x.M), \\text{ se }x\\equiv y\\text{ ou } y\\in VL(N)\n",
        "\\\\ (\\lambda y.(M[x\\leftarrow N])), \\text{ se }x\\not\\equiv y\\text{ e } y\\not\\in VL(N)\\end{array}\\right.$\n",
        " \n",
        "Vejamos alguns exemplos de substituição: \n",
        "- $\\lambda x. (x+y)[y\\leftarrow 2 ]\\equiv\\lambda x. (x[y\\leftarrow 2 ]+y[y\\leftarrow 2 ])\\equiv \\lambda x. (x+2)$\n",
        "- $\\lambda x. (x+y)[y\\leftarrow 2*x ]\\equiv\\lambda x. (x+y)$, pois $x\\in VL(2*x)$\n",
        "- $\\lambda xy. x~y~z[z\\leftarrow \\lambda w.w]\\equiv\\lambda xy. x~y\\lambda w.w$\n",
        "\n",
        "### [Reduções](https://youtu.be/ri_RHBFTEng)\n",
        "Para estreitar a relação extensional ($=$) e a relação intencional ($\\equiv$),\n",
        "  define-se o conceito de redução, o qual se configura em uma espécie de \"passo computacional\" na busca por um valor representativo para um $\\lambda-$termo. Uma redução entre termos, denotada por $\\rhd$ pode ser de dois tipos:\n",
        "- Tipo Beta ($\\beta-$redução):\n",
        "  $(\\lambda x.M)~N\\rhd M[x\\leftarrow N]$\n",
        "- Tipo Alpha ($\\alpha-$redução):\n",
        "  $\\lambda x.M\\rhd \\lambda y.M[x\\leftarrow y]$, onde $y\\not\\in VL(M)$.\n",
        "\n",
        "Assuma operações nos números naturais (apenas para efeito didático).\n",
        "- $(\\lambda x.2*x+1)~3\\rhd(2*x+1)[x\\leftarrow 3]=2*3+1=7$\n",
        "- $\\lambda x.2+x\\rhd\\lambda y.2+y$\n",
        "- $(\\lambda xy.x+y)~5\\text{ }7\\rhd((\\lambda y.x+y)[x\\leftarrow 5]~7=(\\lambda y.5+y)~7\\rhd (5+y)[y\\leftarrow 7]=5+7=12$\n",
        "- $(\\lambda xy.x+y)~(\\lambda z.2*z)\\rhd (\\lambda y.x+y)[x\\leftarrow \\lambda z.2*z]=\\lambda y.(\\lambda z.2*z)+y$\n",
        "- $(\\lambda x.~x~x)~(\\lambda x.~x~x)\\rhd x~x[x\\leftarrow(\\lambda x.~x~x)]=(\\lambda x.~x~x)~(\\lambda x.~x~x)$\n",
        "\n",
        "### [Redução Iterada](https://youtu.be/EYuZHYFxPEI)\n",
        "A Redução Iterada, denotada por $\\rhd^*$, é o fecho reflexivo e transitivo de $\\rhd$:\n",
        "- $M\\rhd^* M$\n",
        "- se $M\\rhd N$, então $M\\rhd^* N$\n",
        "- se $M\\rhd N$, então $K(M)\\rhd^* K(N)$\n",
        "- se $M\\rhd^* N$ e $N\\rhd K$, então $M\\rhd^* K$\n",
        "\n",
        "É necessário observar que\n",
        "- O processo de redução em alguns casos não pára.\n",
        "- O processo de redução não é algorítmico, pois as reduções não tem ordem preferencial de reduções. Assim,\n",
        "  - $(\\lambda y.z)~((\\lambda x.~x~x)~(\\lambda x.~x~x))\\rhd z$ ou\n",
        "  - $(\\lambda y.z)~((\\lambda x.~x~x)~(\\lambda x.~x~x))\\rhd (\\lambda y.z)~((\\lambda x.~x~x)~(\\lambda x.~x~x))\\rhd\\ldots$\n",
        "\n",
        "### [Igualdade por Redução](https://youtu.be/WIJ6iL7xYHI)\n",
        "A Igualdade Induzida por Redução é definida por\n",
        "    \\begin{eqnarray*}\n",
        "    % \\nonumber to remove numbering (before each equation)\n",
        "      M=_\\beta N &\\Longleftrightarrow& \\text{existe um }K\\text{ tal que }M\\rhd^* K\\text{ e }N\\rhd^*K\n",
        "    \\end{eqnarray*}\n",
        "Vejamos alguns exemplos:\n",
        "- $(\\lambda x.x+2)=_\\beta (\\lambda y.y+2)$, pois $(\\lambda y.y+2)\\rhd (\\lambda x.(y+2[y\\leftarrow x]))\\rhd (\\lambda x.x+2)$\n",
        "- $(\\lambda x.x+2)~2=_\\beta (\\lambda y.2+y)~2$, pois $(\\lambda x.x+2)~2\\rhd^* 2+2$ e $(\\lambda y.2+y)~2\\rhd^* 2+2$"
      ]
    },
    {
      "cell_type": "markdown",
      "metadata": {
        "id": "XBwvooWqtR1z"
      },
      "source": [
        "## [Representação de Valores Booleanos](https://youtu.be/WQXDNRT60Gc)\n",
        "Em lambda-cálculo não temos dados, tudo é função! Para representar os valores verdadeiro e falso, utilizamos funções para representar ambos os valores.\n",
        "- O valor lógico verdadeiro $V:=\\lambda xy. x$ - Projeção da Primeira Componente\n",
        "- O valor lógico falso $F:=\\lambda xy. y$ - Projeção do Segundo Componente"
      ]
    },
    {
      "cell_type": "code",
      "metadata": {
        "id": "WDy8RYFAs6i6"
      },
      "source": [
        "V = lambda x : lambda y: x\n",
        "\n",
        "F = lambda x : lambda y: y"
      ],
      "execution_count": null,
      "outputs": []
    },
    {
      "cell_type": "code",
      "metadata": {
        "id": "FvVMiT2fbbuQ",
        "colab": {
          "base_uri": "https://localhost:8080/",
          "height": 264
        },
        "outputId": "05a489a9-6ec9-4efb-b887-0fc27c51fbcb"
      },
      "source": [
        "V('verdadeiro')('falso')"
      ],
      "execution_count": null,
      "outputs": [
        {
          "output_type": "execute_result",
          "data": {
            "application/vnd.google.colaboratory.intrinsic+json": {
              "type": "string"
            },
            "text/plain": [
              "'verdadeiro'"
            ]
          },
          "metadata": {},
          "execution_count": 6
        }
      ]
    },
    {
      "cell_type": "code",
      "metadata": {
        "id": "wwOjxAllbfun",
        "colab": {
          "base_uri": "https://localhost:8080/",
          "height": 177
        },
        "outputId": "ea16d940-1dbd-4592-bf11-fd42b7be85b0"
      },
      "source": [
        "F('verdadeiro')('falso')"
      ],
      "execution_count": null,
      "outputs": [
        {
          "output_type": "execute_result",
          "data": {
            "application/vnd.google.colaboratory.intrinsic+json": {
              "type": "string"
            },
            "text/plain": [
              "'falso'"
            ]
          },
          "metadata": {},
          "execution_count": 7
        }
      ]
    },
    {
      "cell_type": "markdown",
      "metadata": {
        "id": "dTqfZOqmc2kz"
      },
      "source": [
        "### Exibindo um valor-verdade em Python: Verdadeiro e Falso não são dados e sim funções!"
      ]
    },
    {
      "cell_type": "code",
      "metadata": {
        "id": "2G7Rq_bZdFIE"
      },
      "source": [
        "# Essa função é utilizada apenas para prover um \"valor\" em Python para um lambda-termo para efeitos didáticos.\n",
        "def print_boolean(func):\n",
        "  print(func('verdadeiro')('falso'))"
      ],
      "execution_count": null,
      "outputs": []
    },
    {
      "cell_type": "code",
      "metadata": {
        "id": "M0bKaAxldTrz",
        "colab": {
          "base_uri": "https://localhost:8080/"
        },
        "outputId": "6556b0e1-104c-488c-fbad-2c03e4f66178"
      },
      "source": [
        "print_boolean(V)"
      ],
      "execution_count": null,
      "outputs": [
        {
          "output_type": "stream",
          "name": "stdout",
          "text": [
            "verdadeiro\n"
          ]
        }
      ]
    },
    {
      "cell_type": "code",
      "metadata": {
        "id": "aQsNdOhcdYLr",
        "colab": {
          "base_uri": "https://localhost:8080/"
        },
        "outputId": "5b88db3c-ec1a-4551-c813-8d0c6d863be7"
      },
      "source": [
        "print_boolean(F)"
      ],
      "execution_count": null,
      "outputs": [
        {
          "output_type": "stream",
          "name": "stdout",
          "text": [
            "falso\n"
          ]
        }
      ]
    },
    {
      "cell_type": "markdown",
      "metadata": {
        "id": "7eTPmtW9uLcK"
      },
      "source": [
        "## [A Negação Lógica](https://youtu.be/3Q3_bNASjR0)\n",
        "$\\lnot p :=\\lambda p. p\\ F\\ V$\n",
        "- $(\\lambda p. p\\ F\\ V)~F\\rhd (F\\ F\\ V)\\rhd V$, pois $F$ é 2a. projeção.\n",
        "- $(\\lambda p. p\\ F\\ V)~V\\rhd (V\\ F\\ V)\\rhd F$, pois $V$ é 1a. projeção.\n"
      ]
    },
    {
      "cell_type": "code",
      "metadata": {
        "id": "HpU9knpfuVZi"
      },
      "source": [
        "NEG = lambda p: p(F)(V) "
      ],
      "execution_count": null,
      "outputs": []
    },
    {
      "cell_type": "code",
      "metadata": {
        "id": "rXoiBbu1vkrD",
        "colab": {
          "base_uri": "https://localhost:8080/"
        },
        "outputId": "7f35db99-5c92-493e-9acc-1aaef5df9f12"
      },
      "source": [
        "NEG(V) # irá exibir uma função."
      ],
      "execution_count": null,
      "outputs": [
        {
          "output_type": "execute_result",
          "data": {
            "text/plain": [
              "<function __main__.<lambda>>"
            ]
          },
          "metadata": {},
          "execution_count": 12
        }
      ]
    },
    {
      "cell_type": "code",
      "metadata": {
        "id": "FOvsD3l8eA6k",
        "colab": {
          "base_uri": "https://localhost:8080/"
        },
        "outputId": "af191b05-cdb3-44fe-dcb1-3057798ac5c6"
      },
      "source": [
        "print_boolean(NEG(V))\n",
        "print_boolean(NEG(F))\n",
        "print_boolean(NEG(NEG(V)))"
      ],
      "execution_count": null,
      "outputs": [
        {
          "output_type": "stream",
          "name": "stdout",
          "text": [
            "falso\n",
            "verdadeiro\n",
            "verdadeiro\n"
          ]
        }
      ]
    },
    {
      "cell_type": "markdown",
      "metadata": {
        "id": "kR91TScXgfpJ"
      },
      "source": [
        "## [A Conjunção Lógica](https://youtu.be/YQqmAj-tSQs) \n",
        "$p \\wedge q:=\\lambda pq. p\\ q\\ p$\n",
        "- $(\\lambda pq. p\\ q\\ p)~F\\ F\\rhd (\\lambda q. F\\ q\\ F)~F\\rhd (F\\ F\\ F)\\rhd F$.\n",
        "- $(\\lambda pq. p\\ q\\ p)~F\\ V\\rhd (\\lambda q. F\\ q\\ F)~V\\rhd (F\\ V\\ F)\\rhd F$.\n",
        "- $(\\lambda pq. p\\ q\\ p)~V\\ F\\rhd (\\lambda q. V\\ q\\ V)~F\\rhd (V\\ F\\ V)\\rhd F$.\n",
        "- $(\\lambda pq. p\\ q\\ p)~V\\ V\\rhd (\\lambda q. V\\ q\\ V)~V\\rhd (V\\ V\\ V)\\rhd V$."
      ]
    },
    {
      "cell_type": "code",
      "metadata": {
        "id": "ANhZyHZYF8F0"
      },
      "source": [
        "AND = lambda p: lambda q : (p)(q)(p)\n",
        "# AND = lambda p: lambda q : (p)(q)(F)"
      ],
      "execution_count": null,
      "outputs": []
    },
    {
      "cell_type": "code",
      "metadata": {
        "id": "yfhBzm1VF8Lm",
        "colab": {
          "base_uri": "https://localhost:8080/"
        },
        "outputId": "4d6754f6-ddf6-4fd8-acd0-4d9ce71af200"
      },
      "source": [
        "print_boolean(AND(V)(V))\n",
        "print_boolean(AND(V)(F))\n",
        "print_boolean(AND(F)(V))\n",
        "print_boolean(AND(F)(F))"
      ],
      "execution_count": null,
      "outputs": [
        {
          "output_type": "stream",
          "name": "stdout",
          "text": [
            "verdadeiro\n",
            "falso\n",
            "falso\n",
            "falso\n"
          ]
        }
      ]
    },
    {
      "cell_type": "markdown",
      "metadata": {
        "id": "DpBCe1mLh42-"
      },
      "source": [
        "## [A Disjunção Lógica](https://youtu.be/BIf6kh4MnoU)\n",
        "$p \\vee q:=\\lambda pq. p\\ p\\ q$\n",
        "- $(\\lambda pq. p\\ p\\ q)~F\\ F\\rhd (\\lambda q. F\\ F\\ q)~F\\rhd (F\\ F\\ F)\\rhd F$.\n",
        "- $(\\lambda pq. p\\ p\\ q)~F\\ V\\rhd (\\lambda q. F\\ F\\ q)~V\\rhd (F\\ F\\ V)\\rhd V$.\n",
        "- $(\\lambda pq. p\\ p\\ q)~V\\ F\\rhd (\\lambda q. V\\ V\\ q)~F\\rhd (V\\ V\\ F)\\rhd V$.\n",
        "- $(\\lambda pq. p\\ p\\ q)~V\\ V\\rhd (\\lambda q. V\\ V\\ q)~V\\rhd (V\\ V\\ V)\\rhd V$."
      ]
    },
    {
      "cell_type": "code",
      "metadata": {
        "id": "yKLbse0Th3sP"
      },
      "source": [
        "OR = lambda p: lambda q : (p)(p)(q)"
      ],
      "execution_count": null,
      "outputs": []
    },
    {
      "cell_type": "code",
      "metadata": {
        "id": "lj0YQT7PiE7u",
        "colab": {
          "base_uri": "https://localhost:8080/"
        },
        "outputId": "35d5f426-ea57-4f99-ea22-6f0a15702080"
      },
      "source": [
        "print_boolean(OR(V)(V))\n",
        "print_boolean(OR(V)(F))\n",
        "print_boolean(OR(F)(V))\n",
        "print_boolean(OR(F)(F))"
      ],
      "execution_count": null,
      "outputs": [
        {
          "output_type": "stream",
          "name": "stdout",
          "text": [
            "verdadeiro\n",
            "verdadeiro\n",
            "verdadeiro\n",
            "falso\n"
          ]
        }
      ]
    },
    {
      "cell_type": "markdown",
      "metadata": {
        "id": "mLWAMklwiUq_"
      },
      "source": [
        "## [A Implicação Lógica](https://youtu.be/gWoVVt1_Pr8)\n",
        "$p \\rightarrow q:=\\lambda pq. p\\ q\\ V$\n",
        "- $(\\lambda pq. p\\ q\\ V)~F\\ F\\rhd (\\lambda q. F\\ q\\ V)~ F\\rhd (F\\ F\\ V)\\rhd V$.\n",
        "- $(\\lambda pq. p\\ q\\ V)~F\\ V\\rhd (\\lambda q. F\\ q\\ V)~ V\\rhd (F\\ V\\ V)\\rhd V$.\n",
        "- $(\\lambda pq. p\\ q\\ V)~V\\ F\\rhd (\\lambda q. V\\ q\\ V)~ F\\rhd (V\\ F\\ V)\\rhd F$.\n",
        "- $(\\lambda pq. p\\ q\\ V)~V\\ V\\rhd (\\lambda q. V\\ q\\ V)~ V\\rhd (V\\ V\\ V)\\rhd V$."
      ]
    },
    {
      "cell_type": "code",
      "metadata": {
        "id": "-xW1RL1rigfV"
      },
      "source": [
        "IMP = lambda p: lambda q : (p)(q)(V)"
      ],
      "execution_count": null,
      "outputs": []
    },
    {
      "cell_type": "code",
      "metadata": {
        "id": "edJhRzoFiny-",
        "colab": {
          "base_uri": "https://localhost:8080/"
        },
        "outputId": "1be553e0-e53b-41d4-e4af-1ab40a6a481a"
      },
      "source": [
        "print_boolean(IMP(V)(V))\n",
        "print_boolean(IMP(V)(F))\n",
        "print_boolean(IMP(F)(V))\n",
        "print_boolean(IMP(F)(F))"
      ],
      "execution_count": null,
      "outputs": [
        {
          "output_type": "stream",
          "name": "stdout",
          "text": [
            "verdadeiro\n",
            "falso\n",
            "verdadeiro\n",
            "verdadeiro\n"
          ]
        }
      ]
    },
    {
      "cell_type": "markdown",
      "metadata": {
        "id": "-9-fhCwrg8jy"
      },
      "source": [
        "## Exercício: A Equivalência Lógica\n",
        "Escreva em lambda Cálculo a equivalência lógica, também chamada de bi-implicação lógica. "
      ]
    },
    {
      "cell_type": "code",
      "source": [
        "BI_IMP = lambda p: lambda q: NEG((p)(NEG(q))(q))"
      ],
      "metadata": {
        "id": "mTCQVggM0xmH"
      },
      "execution_count": null,
      "outputs": []
    },
    {
      "cell_type": "code",
      "source": [
        "print_boolean(BI_IMP(V)(V))\n",
        "print_boolean(BI_IMP(V)(F))\n",
        "print_boolean(BI_IMP(F)(V))\n",
        "print_boolean(BI_IMP(F)(F))"
      ],
      "metadata": {
        "id": "7KIMiELe05-F",
        "colab": {
          "base_uri": "https://localhost:8080/"
        },
        "outputId": "3f6b2567-9aa6-4e2f-e9da-6c8fbd2e0c00"
      },
      "execution_count": null,
      "outputs": [
        {
          "output_type": "stream",
          "name": "stdout",
          "text": [
            "verdadeiro\n",
            "falso\n",
            "falso\n",
            "verdadeiro\n"
          ]
        }
      ]
    },
    {
      "cell_type": "markdown",
      "metadata": {
        "id": "NZxpOdgJmdDC"
      },
      "source": [
        "## Exercício: A Disjunção Exclusiva (xor) \n",
        "Escreva em Lambda Cálculo a disjunção exclusivo, também chamada ou-exclusivo. \n"
      ]
    },
    {
      "cell_type": "code",
      "metadata": {
        "id": "9u7hQGqxmbT_"
      },
      "source": [
        "XOR = lambda p: lambda q: p(NEG(q))(q)"
      ],
      "execution_count": null,
      "outputs": []
    },
    {
      "cell_type": "code",
      "metadata": {
        "id": "JRJkvOUNnh5l",
        "colab": {
          "base_uri": "https://localhost:8080/"
        },
        "outputId": "89d4cdaa-ee8c-4807-e977-2bdbe1043bc7"
      },
      "source": [
        "print_boolean(XOR(V)(V))\n",
        "print_boolean(XOR(V)(F))\n",
        "print_boolean(XOR(F)(V))\n",
        "print_boolean(XOR(F)(F))"
      ],
      "execution_count": null,
      "outputs": [
        {
          "output_type": "stream",
          "name": "stdout",
          "text": [
            "falso\n",
            "verdadeiro\n",
            "verdadeiro\n",
            "falso\n"
          ]
        }
      ]
    },
    {
      "cell_type": "markdown",
      "metadata": {
        "id": "vcdy8eOXV4n8"
      },
      "source": [
        "## [O Comando If-Then-Else](https://youtu.be/sDSlmzz3dKs)\n",
        "$IFTE(p,a,b) :=λpab.p  a b$\n",
        "- $(\\lambda pab. p\\ a\\ b)~F \\rhd (\\lambda ab. F\\ a\\ b) \\rhd \\lambda ab.b$.\n",
        "- $(\\lambda pab. p\\ a\\ b)~V \\rhd (\\lambda ab. V\\ a\\ b) \\rhd \\lambda ab.a$."
      ]
    },
    {
      "cell_type": "code",
      "metadata": {
        "id": "TNmymyx-WEYf"
      },
      "source": [
        "IFTE = lambda p: lambda a : lambda b : (p)(a)(b)"
      ],
      "execution_count": null,
      "outputs": []
    },
    {
      "cell_type": "code",
      "metadata": {
        "id": "xoABW0c1Wlbi",
        "colab": {
          "base_uri": "https://localhost:8080/",
          "height": 107
        },
        "outputId": "bc584e24-f1de-4f9a-9a5f-b3082ca88da2"
      },
      "source": [
        "IFTE (V)('a')('b')"
      ],
      "execution_count": null,
      "outputs": [
        {
          "output_type": "execute_result",
          "data": {
            "application/vnd.google.colaboratory.intrinsic+json": {
              "type": "string"
            },
            "text/plain": [
              "'a'"
            ]
          },
          "metadata": {},
          "execution_count": 25
        }
      ]
    },
    {
      "cell_type": "code",
      "metadata": {
        "id": "D48yPEy0WN3v",
        "colab": {
          "base_uri": "https://localhost:8080/",
          "height": 107
        },
        "outputId": "49a469b5-6a83-41c4-874d-7072710d6744"
      },
      "source": [
        "IFTE (F)('a')('b')"
      ],
      "execution_count": null,
      "outputs": [
        {
          "output_type": "execute_result",
          "data": {
            "application/vnd.google.colaboratory.intrinsic+json": {
              "type": "string"
            },
            "text/plain": [
              "'b'"
            ]
          },
          "metadata": {},
          "execution_count": 26
        }
      ]
    },
    {
      "cell_type": "markdown",
      "metadata": {
        "id": "vvwts_0wsG1g"
      },
      "source": [
        "# [Números Inteiros](https://youtu.be/UvRxZEpePSI)\n",
        "\n",
        "Existem diversas formas de representar os números. Iremos usar a representação de Church $n=\\lambda fx.f^n x$. Assim,\n",
        "    \\begin{eqnarray*}\n",
        "    % \\nonumber to remove numbering (before each equation)\n",
        "      0 &:=& \\lambda fx. x \\\\\n",
        "      1 &:=& \\lambda fx. f\\textrm{ }x \\\\\n",
        "      2 &:=& \\lambda fx. f (f\\textrm{ }x)\\\\\n",
        "      3 &:=& \\lambda fx. f (f (f\\textrm{ }x))\\\\\n",
        "      \\vdots&  & \\vdots\\\\\n",
        "      n &:=& \\lambda fx.f^n x\n",
        "    \\end{eqnarray*}"
      ]
    },
    {
      "cell_type": "code",
      "metadata": {
        "id": "yJZHokEPs9C5"
      },
      "source": [
        "ZERO =    lambda f: lambda x: x\n",
        "UM =      lambda f: lambda x: f(x)\n",
        "DOIS =    lambda f: lambda x: f(f(x))\n",
        "TRES =    lambda f: lambda x: f(f(f(x)))\n",
        "QUATRO =  lambda f: lambda x: f(f(f(f(x))))\n",
        "CINCO =   lambda f: lambda x: f(f(f(f(f(x)))))"
      ],
      "execution_count": null,
      "outputs": []
    },
    {
      "cell_type": "markdown",
      "metadata": {
        "id": "YnQNeAfntZaX"
      },
      "source": [
        "### Exibindo um número: numerais de church não são dados e sim funções!"
      ]
    },
    {
      "cell_type": "code",
      "metadata": {
        "id": "R23OJCw6uDb9"
      },
      "source": [
        "# Registre-se que 1 e + não estão definidas em lambda cálculo. Essa função é utilizada apenas para prover um \"valor\" em Python para um lambda-termo para efeitos didáticos.\n",
        "def inc(x): \n",
        "  return x+1  \n",
        "# Função que irá \"mostrar\" o valor de uma função lambda-cálculo\n",
        "def print_number(numeral):\n",
        "  print(numeral(inc)(0))"
      ],
      "execution_count": null,
      "outputs": []
    },
    {
      "cell_type": "code",
      "metadata": {
        "id": "jcKxSh3quYEx",
        "colab": {
          "base_uri": "https://localhost:8080/"
        },
        "outputId": "db316f7f-18c7-4f28-b5b7-b12f61d54a35"
      },
      "source": [
        "print_number(ZERO)\n",
        "print_number(UM)\n",
        "print_number(DOIS)\n",
        "print_number(TRES)"
      ],
      "execution_count": null,
      "outputs": [
        {
          "output_type": "stream",
          "name": "stdout",
          "text": [
            "0\n",
            "1\n",
            "2\n",
            "3\n"
          ]
        }
      ]
    },
    {
      "cell_type": "markdown",
      "metadata": {
        "id": "Ka0eb77aw7Z8"
      },
      "source": [
        "## [Sucessor](https://youtu.be/TZJZBZQyWz0)\n",
        "A função sucessor $suc(n):=\\lambda nfx.f~(n~f~x)$\n",
        "\n",
        "\\begin{eqnarray*}      \n",
        "        suc(0):=(\\lambda nfx.f~(n~f~x))\\lambda fx. x  &\\rhd& \\lambda fx.f~((\\lambda fx. x)\\textrm{ }f\\textrm{ }x) \\\\\n",
        "                                            &\\rhd& \\lambda fx.f~(\\lambda x. x\\textrm{ }x) \\\\\n",
        "                                            &\\rhd& \\lambda fx.f~\\textrm{ }x\n",
        "\\end{eqnarray*}\n",
        "\n",
        "\\begin{eqnarray*}\n",
        "        suc(1):=(\\lambda nfx.f(n~f~x))\\lambda fx. f~x  & \\rhd & \\lambda fx.f~((\\lambda fx. f~x)~f~x) \\\\\n",
        "                                            &\\rhd& \\lambda fx.f~(\\lambda x. (f~x)~x) \\\\\n",
        "                                            &\\rhd& \\lambda fx.f~(f~x)\n",
        "\\end{eqnarray*}\n",
        "\n",
        "\\begin{eqnarray*}\n",
        "        suc(2):=(\\lambda nfx.f~(n~f~x))\\lambda fx. f~( f~x)  & \\rhd & \\lambda fx.f~((\\lambda fx. f~( f~x))~f~x) \\\\\n",
        "                                            &\\rhd& \\lambda fx.f~(\\lambda x. f ~(f~x)~x) \\\\\n",
        "                                            &\\rhd& \\lambda fx.f~(~f~(f~x))\n",
        "\\end{eqnarray*} "
      ]
    },
    {
      "cell_type": "code",
      "metadata": {
        "id": "cy01EPT0xBPV"
      },
      "source": [
        "SUC = lambda n: lambda f: lambda x: f(n(f)(x)) "
      ],
      "execution_count": null,
      "outputs": []
    },
    {
      "cell_type": "code",
      "metadata": {
        "id": "yJLhCsAgzzf7",
        "colab": {
          "base_uri": "https://localhost:8080/"
        },
        "outputId": "971fe770-f573-409f-ceca-368238cba1bf"
      },
      "source": [
        "print_number(SUC(UM))\n",
        "print_number(SUC(DOIS))\n",
        "print_number(SUC(TRES))\n",
        "print_number(SUC(SUC(TRES)))\n"
      ],
      "execution_count": null,
      "outputs": [
        {
          "output_type": "stream",
          "name": "stdout",
          "text": [
            "2\n",
            "3\n",
            "4\n",
            "5\n"
          ]
        }
      ]
    },
    {
      "cell_type": "markdown",
      "metadata": {
        "id": "Gu9d4x5Vcbhf"
      },
      "source": [
        "## Exercício: Testa se um número é zero\n",
        "Faça uma função em Lambda Cálculo $ISZERO(n)$ que dado um número (numeral de Church) retorna: verdadeiro (o lambda-termo V), se é zero; ou falso (o lambda-termo F) caso contrário .\n",
        "\n",
        "Testa se um número é zero\n",
        "$ISZERO(n):=\\lambda n.n~(\\lambda x.F)~V$\n",
        "\n",
        "\\begin{eqnarray*}\n",
        "        ISZERO(0)&:=&(\\lambda n.n~(\\lambda x.F)~V)~(\\lambda fx. x)\\\\\n",
        "        & \\rhd & (\\lambda fx. x)~(\\lambda x.F)~V \\\\\n",
        "        & \\rhd & (\\lambda x. x)~V \\\\\n",
        "        &\\rhd& V \\\\\n",
        "\\end{eqnarray*} \n",
        "\n",
        "\\begin{eqnarray*}\n",
        "        ISZERO(2)&:=&(\\lambda n.n~(\\lambda x.F)~V)~(\\lambda fx. f~( f~x))\\\\\n",
        "        & \\rhd & (\\lambda fx. f~( f~x))~(\\lambda x.F)~V \\\\\n",
        "        &\\rhd& \\lambda x.(((\\lambda x.F) ~((\\lambda x.F)~x)~V) \\\\\n",
        "        &\\rhd& ((\\lambda x.F) ~((\\lambda x.F)~V) \\\\\n",
        "        &\\rhd& F \\\\\n",
        "\\end{eqnarray*} "
      ]
    },
    {
      "cell_type": "code",
      "metadata": {
        "id": "NunkzDWocnwH"
      },
      "source": [
        "ISZERO = lambda n:n(lambda x:F)(V)"
      ],
      "execution_count": null,
      "outputs": []
    },
    {
      "cell_type": "code",
      "metadata": {
        "id": "9qgNnALuc7qM",
        "colab": {
          "base_uri": "https://localhost:8080/"
        },
        "outputId": "137e20ee-f911-46f7-ddfb-1cdf4ec1a6d4"
      },
      "source": [
        "print_boolean(ISZERO(DOIS))\n",
        "print_boolean(ISZERO(ZERO))\n"
      ],
      "execution_count": null,
      "outputs": [
        {
          "output_type": "stream",
          "name": "stdout",
          "text": [
            "falso\n",
            "verdadeiro\n"
          ]
        }
      ]
    },
    {
      "cell_type": "markdown",
      "metadata": {
        "id": "6iC7X14e0zZ6"
      },
      "source": [
        "# [Soma](https://youtu.be/0Ev2cAMGvkA)\n",
        "A função soma $+(m,n)= suc^m(n)$ será representada por $+(m,n):=\\lambda mn.m~suc~n$\n",
        "\\begin{eqnarray*}\n",
        "        \\overbrace{+(2,1)}^{suc(suc(1))}&:=&\n",
        "                \\overbrace{(\\lambda mn.m~suc~n)}^{+(m,n)}\n",
        "                    \\overbrace{\\lambda fx. f(f~x)}^2~\\overbrace{\\lambda fx. f~x}^1 \\\\\n",
        "                &\\rhd& (\\lambda n.(\\lambda fx. f~(f~x)~suc~n)\n",
        "                    \\lambda fx. f~x \\\\\n",
        "                &\\rhd& (\\lambda n.(\\lambda x. suc(suc~x)~n))\n",
        "                    \\lambda fx. f~x \\\\\n",
        "                &\\rhd& (\\lambda x. suc(suc~x)~\\lambda fx. f~x) \\\\\n",
        "                &\\rhd& suc(suc~\\lambda fx. f~x)\\\\\n",
        "                &\\rhd^*& \\lambda fx. f(f(f~x))\n",
        "\\end{eqnarray*}"
      ]
    },
    {
      "cell_type": "code",
      "metadata": {
        "id": "Pfg5TIIIZ5WG"
      },
      "source": [
        "SOMA = lambda m: lambda n: m(SUC)(n)"
      ],
      "execution_count": null,
      "outputs": []
    },
    {
      "cell_type": "code",
      "metadata": {
        "id": "4GxSLZifaIj0",
        "colab": {
          "base_uri": "https://localhost:8080/"
        },
        "outputId": "9fe81c09-abd5-4cb3-b66b-580ce8586418"
      },
      "source": [
        "print_number(SOMA(TRES)(DOIS))"
      ],
      "execution_count": null,
      "outputs": [
        {
          "output_type": "stream",
          "name": "stdout",
          "text": [
            "5\n"
          ]
        }
      ]
    },
    {
      "cell_type": "markdown",
      "metadata": {
        "id": "kAZW-tbF2WUt"
      },
      "source": [
        "##  [Multiplicação](https://youtu.be/XywGxSVJJG4)\n",
        "A função multiplicação $*(m,n)=\\overbrace{n+\\ldots+n}^m= +^m(n,0)$ será representada por $*(m,n):=\\lambda mn.m~(+~n)~0$\n",
        "\\begin{eqnarray*}\n",
        "        \\overbrace{*(3,2)}^{+(2+(2,+(2,0)))}&:=&\n",
        "                \\overbrace{\\lambda mn.m~(+~n)~0}^{*(m,n)}~\n",
        "                    \\overbrace{\\lambda fx. f(f(f~x))}^3~ \\overbrace{\\lambda fx. f(f~x)}^2 \\\\\n",
        "                &\\rhd& (\\lambda n.(\\lambda fx. f(f(f~x)))~(+~n)~0)\n",
        "                    \\lambda fx. f(f~x) \\\\\n",
        "                &\\rhd& (\\lambda n.(\\lambda x. + n(+ n(+ n~x)))~0)\n",
        "                    \\lambda fx. f(f~x) \\\\\n",
        "                &\\rhd& (\\lambda n.(+ n(+ n(+ n~0))))\n",
        "                    \\lambda fx. f(f~x) \\\\\n",
        "                &\\rhd& (+ \\underbrace{\\lambda fx. f(f~x)}_2(+ \\underbrace{\\lambda fx. f(f~x)}_2(+ \\underbrace{\\lambda fx. f(f~x)}_2~0)))\n",
        "                \\\\\n",
        "                &\\rhd^*&\\underbrace{\\lambda fx. f(f(f(f(f(f~x)))))}_6\n",
        "        \\end{eqnarray*}"
      ]
    },
    {
      "cell_type": "code",
      "metadata": {
        "id": "igYzYNsmagtd"
      },
      "source": [
        "MULT = lambda m: lambda n: m(SOMA(n))(ZERO)"
      ],
      "execution_count": null,
      "outputs": []
    },
    {
      "cell_type": "code",
      "metadata": {
        "id": "vZCDC4duas0A",
        "colab": {
          "base_uri": "https://localhost:8080/"
        },
        "outputId": "5cd9dcb2-a37a-4985-a7d0-4374243fc2d1"
      },
      "source": [
        "print_number(MULT(TRES)(DOIS))"
      ],
      "execution_count": null,
      "outputs": [
        {
          "output_type": "stream",
          "name": "stdout",
          "text": [
            "6\n"
          ]
        }
      ]
    },
    {
      "cell_type": "markdown",
      "metadata": {
        "id": "Fu2Sb6_SLj02"
      },
      "source": [
        "## Exercício: Exponenciação\n",
        "Faça uma função em Lambda Cálculo $EXP(m,n)$ que retorna a exponenciação $m^n$ de dois números (numerais de Church).\n",
        "\n",
        "A função exponenciação $m^n=\\overbrace{m *\\ldots* m}^n= *^n(m,1)$ será representada por $m^n:=\\lambda mn.n~(*~m)~1$\n",
        "\\begin{eqnarray*}\n",
        "        \\overbrace{3^2}^{*(3 *(3,1))}&:=&\n",
        "                \\overbrace{\\lambda mn.n~(*~m)~1}^{*(m,n)}~\n",
        "                    \\overbrace{\\lambda fx. f(f(f~x))}^3~ \\overbrace{\\lambda fx. f~(f~x)}^2 \\\\\n",
        "                &\\rhd& (\\lambda n.n~(*~3)~1)\n",
        "                    \\lambda fx. f(f~x) \\\\\n",
        "                &\\rhd& (\\lambda fx. f~(f~x)~(*~3)~1)\n",
        "                    \\\\\n",
        "                &\\rhd& (\\lambda x. *~3(*~3~x)~1)\n",
        "                    \\\\\n",
        "                &\\rhd& \\underbrace{(*~3(*~3~1))}_{3^2}\n",
        "\\end{eqnarray*}"
      ]
    },
    {
      "cell_type": "code",
      "metadata": {
        "id": "97L7G2hAL4nk"
      },
      "source": [
        "EXP = lambda m: lambda n: n(MULT(m))(UM)"
      ],
      "execution_count": null,
      "outputs": []
    },
    {
      "cell_type": "code",
      "metadata": {
        "id": "kT_FyT7lMdlk",
        "colab": {
          "base_uri": "https://localhost:8080/"
        },
        "outputId": "8b8b560d-51ec-4321-8904-4af26571814f"
      },
      "source": [
        "print_number(EXP(TRES)(DOIS))"
      ],
      "execution_count": null,
      "outputs": [
        {
          "output_type": "stream",
          "name": "stdout",
          "text": [
            "9\n"
          ]
        }
      ]
    },
    {
      "cell_type": "markdown",
      "metadata": {
        "id": "fwzMCBBCNEEe"
      },
      "source": [
        "## [Função Predecessor](https://youtu.be/OsOjsnHxPBs)\n",
        "A função predecessor $pred(n)=\\left\\{\n",
        "\\begin{array}[c]{l}\n",
        "             n-1, \\text{ se }n>0\n",
        "           \\\\     0, \\text{ se }n=0\n",
        "\\end{array}\\right.$ será definida como: $\\lambda nfx.n~(\\lambda gh.h~(g~f))~ (\\lambda u.x)~ (\\lambda u.u)$\n",
        "\n",
        "Note $\\dag^1$ que:\n",
        "\\begin{eqnarray*}\n",
        "            (\\lambda gh.h~(g~f))~ (\\lambda u.x)\n",
        "                &\\rhd& (\\lambda h.h~((\\lambda u.x)~f))  \\\\\n",
        "                &\\rhd& \\lambda h.h~x\n",
        "\\end{eqnarray*}\n",
        "Note $\\dag^2$ que:\n",
        "\n",
        "\\begin{eqnarray*}\n",
        "            (\\lambda gh.h~(g~f))~ (\\lambda h.h~ N)\n",
        "                &\\rhd& (\\lambda h.h~((\\lambda h.h~ N)~f))  \\\\\n",
        "                &\\rhd& \\lambda h.h~(f~N)\n",
        "\\end{eqnarray*}\n",
        "Note $\\dag^3$ que:\n",
        "\\begin{eqnarray*}\n",
        "            (\\lambda h.h~N)~ (\\lambda u.u)\n",
        "                &\\rhd& ((\\lambda u.u) N)  \\\\\n",
        "                &\\rhd& ~N\n",
        "\\end{eqnarray*}\n",
        "\n",
        "\n",
        "\\begin{eqnarray*}\n",
        " pred(2)&:= & \\overbrace{\\lambda nfx.n~(\\lambda gh.h~(g~f))~ (\\lambda u.x)~ (\\lambda u.u)}^{pred} ~\\overbrace{\\lambda fx. f(f~x)}^2\\\\\n",
        " &\\rhd& \\lambda fx.(\\lambda fx. f(f~x))~(\\lambda gh.h~(g~f))~ (\\lambda u.x)~ (\\lambda u.u) \\\\\n",
        " &\\rhd& \\lambda fx.(\\lambda x. (\\lambda gh.h~(g~f))((\\lambda gh.h~(g~f))~x))~ (\\lambda u.x)~ (\\lambda u.u) \\\\\n",
        " &\\rhd& \\lambda fx.((\\lambda gh.h~(g~f))\\underbrace{((\\lambda gh.h~(g~f))~(\\lambda u.x))}_{\\dag^1})~ (\\lambda u.u) \\\\\n",
        " &\\rhd& \\lambda fx.(\\underbrace{(\\lambda gh.h~(g~f))(\\lambda h. h~ x)}_{\\dag^2})~ (\\lambda u.u) \\\\\n",
        " &\\rhd& \\lambda fx.\\underbrace{((\\lambda h.h~(f~ x)))~ (\\lambda u.u)}_{\\dag^3} \\\\\n",
        " &\\rhd& \\lambda fx.f~ x\n",
        "\\end{eqnarray*}\n"
      ]
    },
    {
      "cell_type": "code",
      "metadata": {
        "id": "RzRpxK1mOQHG"
      },
      "source": [
        "#λnfx.n (λgh.h (g f)) (λu.x) (λu.u)\n",
        "PRED = lambda n: lambda f: lambda x: n (lambda g: lambda h: h (g (f))) (lambda u:x) (lambda u: u)"
      ],
      "execution_count": null,
      "outputs": []
    },
    {
      "cell_type": "code",
      "metadata": {
        "id": "3tofgl6POlpW",
        "colab": {
          "base_uri": "https://localhost:8080/"
        },
        "outputId": "4efa2e03-31c6-4448-ab45-0dae4704badf"
      },
      "source": [
        "print_number(PRED(ZERO))\n",
        "print_number(PRED(UM))\n",
        "print_number(PRED(DOIS))\n",
        "print_number(SUC(PRED(TRES)))\n",
        "print_number(PRED(PRED(DOIS)))"
      ],
      "execution_count": null,
      "outputs": [
        {
          "output_type": "stream",
          "name": "stdout",
          "text": [
            "0\n",
            "0\n",
            "1\n",
            "3\n",
            "0\n"
          ]
        }
      ]
    },
    {
      "cell_type": "markdown",
      "metadata": {
        "id": "2Zgi4SeGmRNq"
      },
      "source": [
        "## Exercício: Subtração Própria\n",
        "\n",
        "A subtração própria ($x-^{\\!\\!\\! .} y$) de um número $x$ por um número $y$ é\n",
        "\\begin{eqnarray*}\n",
        "x-^{\\!\\!\\!\\! .}y=\\left\\{\n",
        "        \\begin{array}[c]{l}\n",
        "             x-y, \\text{ se }x\\geq y\n",
        "           \\\\     0, \\text{ se }x< y\n",
        "        \\end{array}\\right.\n",
        "\\end{eqnarray*}\n",
        "será definida por: $SUB := \\lambda m.\\lambda n.n~PRED~m$"
      ]
    },
    {
      "cell_type": "code",
      "metadata": {
        "id": "m1kMOh3Nm1ud"
      },
      "source": [
        "#SUB := λm.λn.n PRED m\n",
        "SUB = lambda m: lambda n: n (PRED)(m)"
      ],
      "execution_count": null,
      "outputs": []
    },
    {
      "cell_type": "code",
      "metadata": {
        "id": "VE1FnHO5m_XI",
        "colab": {
          "base_uri": "https://localhost:8080/"
        },
        "outputId": "009061c1-b603-461d-c490-b9335b8de7cd"
      },
      "source": [
        "print_number(SUB (CINCO)(DOIS) )\n",
        "print_number(SUB (UM)(TRES) )"
      ],
      "execution_count": null,
      "outputs": [
        {
          "output_type": "stream",
          "name": "stdout",
          "text": [
            "3\n",
            "0\n"
          ]
        }
      ]
    },
    {
      "cell_type": "markdown",
      "metadata": {
        "id": "BipOQusioVDE"
      },
      "source": [
        "## Exercício: Menor ou Igual\n",
        "A relação de  Menor ou Igual ($\\leq$) será definida por $LEQ := \\lambda m.\\lambda n.ISZERO~(SUB~m~n)$"
      ]
    },
    {
      "cell_type": "code",
      "metadata": {
        "id": "RK5Bij3YpeFK"
      },
      "source": [
        "LEQ = lambda m: lambda n: ISZERO(SUB(m)(n))"
      ],
      "execution_count": null,
      "outputs": []
    },
    {
      "cell_type": "code",
      "metadata": {
        "id": "4KdgS_B9ppii",
        "colab": {
          "base_uri": "https://localhost:8080/"
        },
        "outputId": "eafbb290-bbd9-41fb-99fc-249c6c4b61f2"
      },
      "source": [
        "print_boolean(LEQ(DOIS)(TRES))\n",
        "print_boolean(LEQ(TRES)(DOIS))\n",
        "print_boolean(LEQ(UM)(UM))"
      ],
      "execution_count": null,
      "outputs": [
        {
          "output_type": "stream",
          "name": "stdout",
          "text": [
            "verdadeiro\n",
            "falso\n",
            "verdadeiro\n"
          ]
        }
      ]
    },
    {
      "cell_type": "code",
      "source": [
        "# Lambda termo para MENOR QUE\n",
        "LESS = lambda m: lambda n: NEG(ISZERO(SUB(n)(m)))"
      ],
      "metadata": {
        "id": "wyik66IVETYz"
      },
      "execution_count": null,
      "outputs": []
    },
    {
      "cell_type": "code",
      "source": [
        "print_boolean(LESS(TRES)(QUATRO))"
      ],
      "metadata": {
        "colab": {
          "base_uri": "https://localhost:8080/"
        },
        "id": "2nOgm5T1EZPV",
        "outputId": "249e17e1-db44-4a8b-c857-e772aafec994"
      },
      "execution_count": null,
      "outputs": [
        {
          "output_type": "stream",
          "name": "stdout",
          "text": [
            "verdadeiro\n"
          ]
        }
      ]
    },
    {
      "cell_type": "markdown",
      "metadata": {
        "id": "Aah65HYUwMBT"
      },
      "source": [
        "## Eager vs. Lazy Evaluation \n",
        "Em Python, a avaliação dos parâmetros de uma função ocorre *eager*, i.e., os parâmetros são avaliados antes do corpo de uma função. Para permitir uma avalição *lazy* podemos usar a seguinte estratégia: "
      ]
    },
    {
      "cell_type": "code",
      "metadata": {
        "id": "lSs6h6E72ufy"
      },
      "source": [
        "V_L = lambda x: lambda y: x()\n",
        "F_L = lambda x: lambda y: y()"
      ],
      "execution_count": null,
      "outputs": []
    },
    {
      "cell_type": "code",
      "metadata": {
        "colab": {
          "base_uri": "https://localhost:8080/",
          "height": 264
        },
        "id": "wdhX7ZKsxmCF",
        "outputId": "53534b20-7c5e-4e76-e126-704d7fc072a8"
      },
      "source": [
        "V_L(lambda:'verdadeiro')(lambda:'falso')"
      ],
      "execution_count": null,
      "outputs": [
        {
          "output_type": "execute_result",
          "data": {
            "application/vnd.google.colaboratory.intrinsic+json": {
              "type": "string"
            },
            "text/plain": [
              "'verdadeiro'"
            ]
          },
          "metadata": {},
          "execution_count": 49
        }
      ]
    },
    {
      "cell_type": "code",
      "metadata": {
        "colab": {
          "base_uri": "https://localhost:8080/",
          "height": 177
        },
        "id": "UWiKvqgfxmMm",
        "outputId": "406c00c7-5c74-47f4-bcbb-1c30882304e3"
      },
      "source": [
        "F_L(lambda:'verdadeiro')(lambda:'falso')"
      ],
      "execution_count": null,
      "outputs": [
        {
          "output_type": "execute_result",
          "data": {
            "application/vnd.google.colaboratory.intrinsic+json": {
              "type": "string"
            },
            "text/plain": [
              "'falso'"
            ]
          },
          "metadata": {},
          "execution_count": 50
        }
      ]
    },
    {
      "cell_type": "code",
      "metadata": {
        "colab": {
          "base_uri": "https://localhost:8080/"
        },
        "id": "2t7_m2IoyUFD",
        "outputId": "af2b75cc-ce8f-4769-ae2f-e21027f4206e"
      },
      "source": [
        "# Para exibir o \"valor\" da função\n",
        "def print_boolean_lazy(func):\n",
        "  print(func(lambda:'verdadeiro')(lambda:'falso'))\n",
        "\n",
        "print_boolean_lazy(V_L)\n",
        "print_boolean_lazy(F_L)"
      ],
      "execution_count": null,
      "outputs": [
        {
          "output_type": "stream",
          "name": "stdout",
          "text": [
            "verdadeiro\n",
            "falso\n"
          ]
        }
      ]
    },
    {
      "cell_type": "code",
      "source": [
        "NEG_lazy = lambda p: p(F_L)(V_L) \n",
        "print_boolean_lazy(NEG_lazy(V))\n",
        "print_boolean_lazy(NEG_lazy(F))"
      ],
      "metadata": {
        "colab": {
          "base_uri": "https://localhost:8080/"
        },
        "id": "MTO-uQI5cuSR",
        "outputId": "0886b4aa-f7af-4721-b6a5-e0d13a46dfb8"
      },
      "execution_count": null,
      "outputs": [
        {
          "output_type": "stream",
          "name": "stdout",
          "text": [
            "falso\n",
            "verdadeiro\n"
          ]
        }
      ]
    },
    {
      "cell_type": "code",
      "metadata": {
        "colab": {
          "base_uri": "https://localhost:8080/"
        },
        "id": "WsNnNCLJ30Yi",
        "outputId": "9f6a8519-afe3-467e-90b8-0b397e7c1b9f"
      },
      "source": [
        "ISZERO_lazy = lambda n:n(lambda p:F_L)(V_L)\n",
        "print_boolean_lazy(ISZERO_lazy(DOIS))\n",
        "print_boolean_lazy(ISZERO_lazy(ZERO))"
      ],
      "execution_count": null,
      "outputs": [
        {
          "output_type": "stream",
          "name": "stdout",
          "text": [
            "falso\n",
            "verdadeiro\n"
          ]
        }
      ]
    },
    {
      "cell_type": "code",
      "metadata": {
        "id": "7roG5TC-y4Jn",
        "colab": {
          "base_uri": "https://localhost:8080/",
          "height": 107
        },
        "outputId": "83d7b7c3-1820-4681-c776-6617c0c0036c"
      },
      "source": [
        "IFTE_lazy = lambda p: lambda a: lambda b: p (a)(b)\n",
        "IFTE_lazy(V_L)(lambda:'a')(lambda:'b')"
      ],
      "execution_count": null,
      "outputs": [
        {
          "output_type": "execute_result",
          "data": {
            "application/vnd.google.colaboratory.intrinsic+json": {
              "type": "string"
            },
            "text/plain": [
              "'a'"
            ]
          },
          "metadata": {},
          "execution_count": 54
        }
      ]
    },
    {
      "cell_type": "code",
      "metadata": {
        "colab": {
          "base_uri": "https://localhost:8080/"
        },
        "id": "Jw950Ng8yZhz",
        "outputId": "1c597c22-74cf-42f7-f65f-262591dcc138"
      },
      "source": [
        "LEQ_lazy = lambda m: lambda n: ISZERO_lazy(SUB(m)(n))\n",
        "print_boolean_lazy(LEQ_lazy(DOIS)(DOIS))\n",
        "print_boolean_lazy(LEQ_lazy(DOIS)(QUATRO))\n",
        "print_boolean_lazy(LEQ_lazy(DOIS)(UM))"
      ],
      "execution_count": null,
      "outputs": [
        {
          "output_type": "stream",
          "name": "stdout",
          "text": [
            "verdadeiro\n",
            "verdadeiro\n",
            "falso\n"
          ]
        }
      ]
    },
    {
      "cell_type": "code",
      "source": [
        "LESS_lazy = lambda m: lambda n: NEG_lazy(ISZERO(SUB(n)(m)))\n",
        "print_boolean_lazy(LESS_lazy(DOIS)(QUATRO))\n",
        "print_boolean_lazy(LESS_lazy(TRES)(QUATRO))\n",
        "print_boolean_lazy(LESS_lazy(DOIS)(DOIS))\n",
        "print_boolean_lazy(LESS_lazy(DOIS)(UM))"
      ],
      "metadata": {
        "colab": {
          "base_uri": "https://localhost:8080/"
        },
        "id": "UJ6AUGWXdcOW",
        "outputId": "291557a3-425b-4ab1-a711-daabe86fcd9e"
      },
      "execution_count": null,
      "outputs": [
        {
          "output_type": "stream",
          "name": "stdout",
          "text": [
            "verdadeiro\n",
            "verdadeiro\n",
            "falso\n",
            "falso\n"
          ]
        }
      ]
    },
    {
      "cell_type": "markdown",
      "metadata": {
        "id": "prF2pgNLRfdY"
      },
      "source": [
        "# [Recursão e Ponto-Fixo](https://youtu.be/aYQrpwyvpWU)\n",
        "Em $\\lambda-$cálculo, uma função não pode referenciar a si mesma. Entretanto, pode usar a si mesma como parâmetro. De certa forma, o operador de ponto-fixo implementa essa ideia.\n",
        "                \n",
        "Seja $f:A\\rightarrow A$ uma função. Dizemos que $x\\in A$ é um Ponto-Fixo se $f(x)=x$. Exemplos:\n",
        "                \\begin{array}{cc}\n",
        "                    id(x)=x & \\textrm{ Todos os números } \\\\\n",
        "                    n^2:\\mathbb{N}\\rightarrow\\mathbb{N} & 0\\textrm{ e }1\\\\\n",
        "                    n^2-2n:\\mathbb{N}\\rightarrow\\mathbb{N} & 0\\textrm{ e }3\\\\\n",
        "                    sucessor:\\mathbb{N}\\rightarrow\\mathbb{N} &\\textrm{ não há }\n",
        "                  \\end{array}\n",
        "\n",
        "Um operador de Ponto-Fixo $M$ é um $\\lambda-$termo tal que, para todo $\\lambda-$termo T, temos que: \n",
        "\n",
        "\\begin{eqnarray*}\n",
        "M~T= T~(M~T)\n",
        "\\end{eqnarray*}\n",
        "Portanto, um operador de Ponto-Fixo é um $\\lambda-$termo que gera um Ponto-Fixo para qualquer função. Um dos possíveis $\\lambda-$termo para Ponto-Fixo é:\n",
        "\\begin{eqnarray*}\n",
        "M:=\\lambda f.(\\lambda x. f~(x~x))(\\lambda x. f~(x~x))\n",
        "\\end{eqnarray*}\n",
        "\n",
        "Para $M~T= T\\textrm{ (M T)}$ devemos demonstrar que os dois termos se reduzem ao mesmo $\\lambda-$termo:\n",
        "\n",
        "\\begin{eqnarray*}\n",
        "                M~T& = &\\lambda f.(\\lambda x. f~(x~x))(\\lambda x. f~(x~x))~T\\\\\n",
        "                & \\rhd &(\\lambda x. T~(x~x))(\\lambda x. T~(x~x)) \\\\\n",
        "                & \\rhd &T~((\\lambda x. T~(x~x))(\\lambda x. T~(x~x)))\n",
        "\\\\\n",
        "\\\\\n",
        "                T~(M~T)& = &T~(\\lambda f.(\\lambda x. f~(x~x))(\\lambda x. f~(x~x))~T)\\\\\n",
        "                & \\rhd &T~((\\lambda x. T~(x~x))(\\lambda x. T~(x~x)))\n",
        "\\end{eqnarray*}"
      ]
    },
    {
      "cell_type": "code",
      "metadata": {
        "id": "mhgeFRcwS6pz"
      },
      "source": [
        "# λf.(λx.f (x x))(λx.f (x x))\n",
        "#M = lambda f: (lambda x: f (x (x))) (lambda x: f (x (x)))\n",
        "# Como em Python temos eager evaluation, precisamos forçar a lazy:\n",
        "# λf.(λx.f (λz.(x x)(z)))(λx.f (λz.(x x)(z)))\n",
        "M = lambda f: (lambda x: f (lambda z: (x (x))(z))) (lambda x: f (lambda z: (x (x))(z)))"
      ],
      "execution_count": null,
      "outputs": []
    },
    {
      "cell_type": "markdown",
      "metadata": {
        "id": "Q_Baxxm4Td-f"
      },
      "source": [
        "## [Fatorial](https://youtu.be/n96Kr6ug_O8)\n",
        "Seja $T:=\\lambda rn.IFTE~~ISZERO~n~~1~*~ n~~(r~(pred \\textrm{ }n))$. \n",
        "\n",
        "A **Função Fatorial** é $FAT:=M~T$\n",
        "\n",
        "\\begin{eqnarray*}\n",
        " FAT~2 &=& M~T~2\\\\\n",
        " &=&T~(M~T)~2\\\\\n",
        " &\\rhd & \\lambda rn.IFTE~ISZERO(n)~1~*~ n~(r~(pred\\ n)) (M~T)~2\\\\\n",
        " &\\rhd & \\lambda n.IFTE~ISZERO(n)~1~*~ n~((M~T)~(pred\\ n)) ~2\\\\\n",
        " &\\rhd & IFTE~~2=0~1~*~ 2~((M~T)~(pred\\ 2)) \\\\\n",
        " &\\rhd & ~*~2~((M~T)~(1)) \\\\\n",
        " &= & ~*~2~(T~ (M~T)~(1)) \\\\\n",
        " &\\rhd & ~*~2~(\n",
        " \\lambda rn.IFTE~ISZERO(n)~~1~*~ n~~(r~(pred\\ n))~ (M~T)~(1)) \\\\\n",
        " &\\rhd & ~*~2~(\n",
        " \\lambda n.IFTE~ISZERO(n)~~1~*~ n~~((M~T)~(pred\\ n))~ (1)) \\\\\n",
        " &\\rhd & ~*~2~(\n",
        " IFTE~1=0~~1~*~ 1~~((M~T)~(pred\\ 1))~) \\\\\n",
        " &\\rhd & ~*~2~( *~ 1~~((M~T)~0)~) \\\\\n",
        " &= & ~*~2~( *~ 1~~(T~(M~T)~0)~) \\\\\n",
        " &\\rhd & ~*~2~( *~ 1~~(\n",
        " \\lambda rn.IFTE~ISZERO(n)~~1~*~ n~~(r~(pred\\ n))\n",
        " ~(M~T)~0)~) \\\\\n",
        " &\\rhd & ~*~2~( *~ 1~~(\n",
        " \\lambda n.IFTE~ISZERO(n)~~1~*~ n~~((M~T)~(pred\\ n))\n",
        " ~~0)~) \\\\\n",
        " &\\rhd & ~*~2~( *~ 1~~(\n",
        " IFTE~0=0~~1~*~ 0~~((M~T)~(pred\\ 0)))~)\\\\\n",
        " &\\rhd & ~*~2~( *~ 1~~1)\n",
        "\\end{eqnarray*}"
      ]
    },
    {
      "cell_type": "code",
      "metadata": {
        "id": "X1vleaHjTcxe"
      },
      "source": [
        "\n",
        "#Como em função em Python temos eager evaluation, precisamos torná-la lazy para evitar RecursionError: maximum recursion depth exceeded\n",
        "T = lambda r: lambda n: IFTE(ISZERO_lazy(n)) (lambda: UM) (lambda: MULT (n) (r (PRED(n))))\n",
        "\n",
        "FAT = M(T)"
      ],
      "execution_count": null,
      "outputs": []
    },
    {
      "cell_type": "code",
      "metadata": {
        "id": "hWJtPm5mTTzN",
        "colab": {
          "base_uri": "https://localhost:8080/"
        },
        "outputId": "e94fcc7d-3ac8-43d5-de6f-c18d0cdfe233"
      },
      "source": [
        "print_number(FAT(TRES))"
      ],
      "execution_count": null,
      "outputs": [
        {
          "output_type": "stream",
          "name": "stdout",
          "text": [
            "6\n"
          ]
        }
      ]
    },
    {
      "cell_type": "code",
      "source": [
        "### Factorial of a number using recursion \n",
        "\n",
        "def factorial(n):\n",
        "  if n == 1:\n",
        "    return n\n",
        "  else:\n",
        "    return n*factorial(n-1)\n",
        "\n",
        "num = 3\n",
        "\n",
        "#print(f\"The factorial of {num} is {factorial(num)}\")\n",
        "print(factorial(num))"
      ],
      "metadata": {
        "colab": {
          "base_uri": "https://localhost:8080/"
        },
        "id": "w4b_HSdUmbaf",
        "outputId": "8a320615-3c1c-4ba9-a1ec-f55a1eac2688"
      },
      "execution_count": null,
      "outputs": [
        {
          "output_type": "stream",
          "name": "stdout",
          "text": [
            "6\n"
          ]
        }
      ]
    },
    {
      "cell_type": "markdown",
      "metadata": {
        "id": "EvRmENJYGqyZ"
      },
      "source": [
        "## Exercício: Número de Fibonacci \n",
        "\\begin{eqnarray*}\n",
        "fib(n)=\\left\\{\n",
        "        \\begin{array}[c]{l}\n",
        "             n, \\text{ se }n\\leq 2\n",
        "           \\\\     fib(n-1)+fib(n-2), \\text{ caso contrário }\n",
        "        \\end{array}\\right.\n",
        "\\end{eqnarray*}\n"
      ]
    },
    {
      "cell_type": "code",
      "metadata": {
        "id": "bNCMkBTyGp5m"
      },
      "source": [
        "FT = lambda r: lambda n: IFTE(LEQ_lazy(n)(DOIS)) (lambda: n) (lambda: SOMA(r (PRED(n)))(r (PRED(PRED(n)))))\n",
        "\n",
        "FIB = M(FT)"
      ],
      "execution_count": null,
      "outputs": []
    },
    {
      "cell_type": "code",
      "metadata": {
        "id": "bLWQnTgHH_e3",
        "colab": {
          "base_uri": "https://localhost:8080/"
        },
        "outputId": "aa247f76-a926-4ec9-a15f-4c3ddae7f8b3"
      },
      "source": [
        "print_number(FIB(ZERO))                               # F(0)\n",
        "print_number(FIB(UM))                                 # F(1)\n",
        "print_number(FIB(DOIS))                               # F(2)\n",
        "print_number(FIB(TRES))                               # F(3)\n",
        "print_number(FIB(QUATRO))                             # F(4)\n",
        "print_number(FIB(SUC(QUATRO)))                        # F(5)\n",
        "print_number(FIB(SUC(SUC(QUATRO))))                   # F(6)\n",
        "print_number(FIB(SUC(SUC(SUC(QUATRO)))))              # F(7)\n",
        "print_number(FIB(SUC(SUC(SUC(SUC(QUATRO))))))         # F(8)\n",
        "print_number(FIB(SUC(SUC(SUC(SUC(SUC(QUATRO)))))))    # F(9)"
      ],
      "execution_count": null,
      "outputs": [
        {
          "output_type": "stream",
          "name": "stdout",
          "text": [
            "0\n",
            "1\n",
            "2\n",
            "3\n",
            "5\n",
            "8\n",
            "13\n",
            "21\n",
            "34\n",
            "55\n"
          ]
        }
      ]
    },
    {
      "cell_type": "code",
      "source": [
        "### Fibonacci sequence using recursion \n",
        "\n",
        "def fibonacci(n):\n",
        "  if n <= 2:\n",
        "    return n\n",
        "  else:\n",
        "    return(fibonacci(n-1) + fibonacci(n-2))\n",
        "\n",
        "nterms = 10\n",
        "\n",
        "#print(\"Fibonacci sequence:\")\n",
        "for i in range(nterms):\n",
        "  print(fibonacci(i))"
      ],
      "metadata": {
        "colab": {
          "base_uri": "https://localhost:8080/"
        },
        "id": "tAjrcB6dXvtZ",
        "outputId": "86911825-74e6-4b12-fef4-4d46135ab679"
      },
      "execution_count": null,
      "outputs": [
        {
          "output_type": "stream",
          "name": "stdout",
          "text": [
            "0\n",
            "1\n",
            "2\n",
            "3\n",
            "5\n",
            "8\n",
            "13\n",
            "21\n",
            "34\n",
            "55\n"
          ]
        }
      ]
    },
    {
      "cell_type": "markdown",
      "source": [
        "## Lista de Exercícios Lambda Cálculo\n",
        "\n",
        "**1.** Apresente a linguagem Lambda e as noções de redução.\n",
        "\n",
        "Seja $\\mathcal{V}$ um conjunto enumerável de variáveis. A Linguagem Lambda $\\Lambda$ é definida indutivamente como o conjunto que satisfaz:\n",
        "- Se $x\\in \\mathcal{V}$, então $x\\in\\Lambda$.\n",
        "- Se $M\\in\\Lambda$ e $x\\in \\mathcal{V}$, então $(\\lambda x.M)\\in\\Lambda$ ($\\lambda-$abstração).\n",
        "- Se $M,N\\in\\Lambda$, então $(M~N)\\in\\Lambda$ ($\\lambda-$aplicação).\n",
        "\n",
        "Se $x\\in \\Lambda$, dizemos que $x$ é um $\\lambda$-termo.\n",
        "\n",
        "Redução se configura em uma espécie de \"passo computacional\" na busca por um valor representativo para um $\\lambda-$termo. Uma redução entre termos, denotada por $\\rhd$ pode ser de dois tipos:\n",
        "- Tipo Beta ($\\beta-$redução):\n",
        "  $(\\lambda x.M)~N\\rhd M[x\\leftarrow N]$\n",
        "- Tipo Alpha ($\\alpha-$redução):\n",
        "  $\\lambda x.M\\rhd \\lambda y.M[x\\leftarrow y]$, onde $y\\not\\in VL(M)$."
      ],
      "metadata": {
        "id": "l4H7wn7aXB1S"
      }
    },
    {
      "cell_type": "markdown",
      "source": [
        "**2.** Defina em λ-cálculo o tipo booleano, representando como lambda-termos:\n",
        "\n",
        "**(a)** Os valores lógicos verdadeiro e falso.\n",
        "\n",
        "$V:=\\lambda xy. x$ <br>\n",
        "$F:=\\lambda xy. y$\n",
        "\n",
        "**(b)** A negação lógica. Faça a redução iterada para toda a sua tabela-verdade.\n",
        "\n",
        "$\\lnot p :=\\lambda p. p\\ F\\ V$\n",
        "\n",
        "- $(\\lambda p. p\\ F\\ V)~F \\rhd^* V$\n",
        "- $(\\lambda p. p\\ F\\ V)~V \\rhd^* F$\n",
        "\n",
        "**(c)** A disjunção exclusiva. Faça a redução iterada para toda a sua tabela-verdade.\n",
        "\n",
        "$p \\oplus q := \\lambda pq. p \\, (\\lambda z. z\\ F\\ V ) \\, q$\n",
        "\n",
        "- $(\\lambda pq. p \\, (\\lambda z. z\\ F\\ V ) \\, q)~F\\ F \\rhd^* F (\\lambda z. z\\ F\\ V)F \\rhd^* F$ <br>\n",
        "\n",
        "- $(\\lambda pq. p \\, (\\lambda z. z\\ F\\ V ) \\, q)~F\\ V \\rhd^* F (\\lambda z. z\\ F\\ V)V \\rhd^* V$ <br>\n",
        "\n",
        "- $(\\lambda pq. p \\, (\\lambda z. z\\ F\\ V ) \\, q)~V\\ F \\rhd^* V (\\lambda z. z\\ F\\ V)F \\rhd^* V$ <br>\n",
        "\n",
        "- $(\\lambda pq. p \\, (\\lambda z. z\\ F\\ V ) \\, q)~V\\ V \\rhd^* V (\\lambda z. z\\ F\\ V)F \\rhd^* F$ <br>\n",
        "\n",
        "**(d)** A bi-implicação lógica. Faça a redução iterada para toda a sua tabela-verdade.\n",
        "\n",
        "$p \\leftrightarrow q := (\\lambda w. w\\ F\\ V)\\,(\\lambda pq. p \\, (\\lambda z. z\\ F\\ V ) \\, (q))$\n",
        "\n",
        "- $(\\lambda w. w\\ F\\ V)\\,(\\lambda pq. p \\, (\\lambda z. z\\ F\\ V ) \\, (q)) ~F\\ F \\rhd^*  (\\lambda w. w\\ F\\ V) F \\rhd^* V$ <br>\n",
        "\n",
        "- $(\\lambda w. w\\ F\\ V)\\,(\\lambda pq. p \\, (\\lambda z. z\\ F\\ V ) \\, (q)) ~F\\ V \\rhd^*  (\\lambda w. w\\ F\\ V) V \\rhd^* V$ <br>\n",
        "\n",
        "- $(\\lambda w. w\\ F\\ V)\\,(\\lambda pq. p \\, (\\lambda z. z\\ F\\ V ) \\, (q)) ~V\\ F \\rhd^*  (\\lambda w. w\\ F\\ V) V \\rhd^* V$ <br>\n",
        "\n",
        "- $(\\lambda w. w\\ F\\ V)\\,(\\lambda pq. p \\, (\\lambda z. z\\ F\\ V ) \\, (q)) ~V\\ V \\rhd^*  (\\lambda w. w\\ F\\ V) F \\rhd^* V$ <br>\n",
        "\n",
        "\n"
      ],
      "metadata": {
        "id": "XFgDbuKRdrbq"
      }
    },
    {
      "cell_type": "markdown",
      "source": [
        "**3.** Defina os números naturais como λ−termos e defina o λ−termo que representa a exponenciação $m^n$.\n",
        "Considere que a multiplicação já está definida. Faça a redução iterada de $2^3$ e a redução iterada de $2^0$.\n",
        "\n",
        "A representação de Church para os números naturais é definida da seguinte forma:\n",
        "\n",
        "\\begin{eqnarray*}\n",
        "  % \\nonumber to remove numbering (before each equation)\n",
        "    0 &:=& \\lambda fx. x \\\\\n",
        "    1 &:=& \\lambda fx. f\\textrm{ }x \\\\\n",
        "    2 &:=& \\lambda fx. f (f\\textrm{ }x)\\\\\n",
        "    3 &:=& \\lambda fx. f (f (f\\textrm{ }x))\\\\\n",
        "    \\vdots&  & \\vdots\\\\\n",
        "    n &:=& \\lambda fx.f^n x\n",
        "\\end{eqnarray*}\n",
        "\n",
        "O λ-termo que representa a exponenciação é definido como: $m^n:=\\lambda mn.n~(*~m)~1$. Abaixo estão as reduções iteradas de $2^3$ e $2^0$.\n",
        "\n",
        "\\begin{eqnarray*}\n",
        "        \\overbrace{2^3}^{*(2 *(2 *(2,1)))}&:=&\n",
        "                \\overbrace{\\lambda mn.n~(*~m)~1}^{*(m,n)}~\n",
        "                    \\overbrace{\\lambda fx. f~(f~x)}^2~ \\overbrace{\\lambda fx. f(f(f~x))}^3 \\\\\n",
        "                &\\rhd& (\\lambda n.n~(*~2)~1)\n",
        "                    \\lambda fx. f(f(f~x)) \\\\\n",
        "                &\\rhd& (\\lambda fx. f(f(f~x))~(*~2)~1)\n",
        "                    \\\\\n",
        "                &\\rhd& (\\lambda x. *~2(*~2(*~2~x))~1)\n",
        "                    \\\\\n",
        "                &\\rhd& \\underbrace{*~2(*~2(*~2~1))}_{2^3}\n",
        "\\end{eqnarray*}\n",
        "\n",
        "\\begin{eqnarray*}\n",
        "        {2^0}&:=&\n",
        "                \\overbrace{\\lambda mn.n~(*~m)~1}^{*(m,n)}~\n",
        "                    \\overbrace{\\lambda fx. f~(f~x)}^2~ \\overbrace{\\lambda fx. x}^0 \\\\\n",
        "                &\\rhd& (\\lambda n.n~(*~2)~1)\n",
        "                    \\lambda fx. x \\\\\n",
        "                &\\rhd& (\\lambda fx. x)~(*~2)~1)\n",
        "                   \\\\\n",
        "                &\\rhd& (\\lambda x. x~1)\n",
        "                    \\\\\n",
        "                &\\rhd& \\underbrace{1}_{2^0}\n",
        "\\end{eqnarray*}"
      ],
      "metadata": {
        "id": "cMFHZjoyAOz7"
      }
    },
    {
      "cell_type": "markdown",
      "source": [
        "**4.** Defina um operador de ponto-fixo como um λ-termo. Defina a função somatório de forma recursiva em λ-cálculo. Faça a redução iterada do somatório de 2.\n",
        "\n",
        "$$\\displaystyle\\sum_{t=0}^n \\, x_t = x_0 + x_1 + ... + x_{n-1} + x_n$$\n",
        "\n",
        "Seja $T:=\\lambda rn.IFTE~~LEQ~(n)~~1~~SOMA~(n)(r~(PRED \\textrm{ }n))$.\n",
        "\n",
        "A **Função somatório** é $SUM := M~T$\n",
        "\n",
        "\\begin{eqnarray*}\n",
        " SUM~2 &=& M~T~2\\\\\n",
        " &=&T~(M~T)~2\\\\\n",
        " &\\rhd & \\lambda rn.IFTE~~LEQ~(n)~~1~~SOMA~(n)(r~(PRED \\textrm{ }n)) (M~T)~2\\\\\n",
        " &\\rhd & \\lambda n.IFTE~~LEQ~(n)~~1~~SOMA~(n)((MT)~(PRED \\textrm{ }n))~2\\\\\n",
        " &\\rhd & IFTE~~LEQ~(2)~~1~~SOMA~(2)((MT)~(PRED \\textrm{ }2))\\\\\n",
        " &\\rhd & SOMA~(2)((M~T)~(1))\\\\\n",
        " &\\rhd & SOMA~(2)((T~ (M~T)~(1))\\\\\n",
        " &\\rhd & SOMA~(2)(\\lambda rn.IFTE~~LEQ~(n)~~1~~SOMA~(n)(r~(PRED \\textrm{ }n))~ (M~T)~(1)\\\\\n",
        "  &\\rhd & SOMA~(2)(\\lambda n.IFTE~~LEQ~(n)~~1~~SOMA~(n)((M~T)~(PRED \\textrm{ }n))~(1)\\\\\n",
        "  &\\rhd & SOMA~(2)(IFTE~~LEQ~(1)~~1~~SOMA~(1)((M~T)~(PRED \\textrm{ }1))\\\\\n",
        "  &\\rhd & SOMA~(2)(1)\\\\\n",
        "\\end{eqnarray*}"
      ],
      "metadata": {
        "id": "tfZlLyYRL9Hn"
      }
    },
    {
      "cell_type": "code",
      "source": [
        "# Sum function in recursive form\n",
        "\n",
        "def recur_sum(n):\n",
        "  if n <= 1:\n",
        "    return n\n",
        "  else:\n",
        "    return n + recur_sum(n-1)\n",
        "\n",
        "print(recur_sum(10))"
      ],
      "metadata": {
        "colab": {
          "base_uri": "https://localhost:8080/"
        },
        "id": "H-Qng17yMpAv",
        "outputId": "0eef7c03-cec5-47c3-be63-cfbcd5233db9"
      },
      "execution_count": null,
      "outputs": [
        {
          "output_type": "stream",
          "name": "stdout",
          "text": [
            "55\n"
          ]
        }
      ]
    },
    {
      "cell_type": "code",
      "source": [
        "ST = lambda r: lambda n: IFTE(LEQ_lazy(n)(UM)) (lambda: n) (lambda: SOMA(n)(r (PRED(n))))\n",
        "\n",
        "SUM = M(ST)"
      ],
      "metadata": {
        "id": "9sPIy5PtRPVJ"
      },
      "execution_count": null,
      "outputs": []
    },
    {
      "cell_type": "code",
      "source": [
        "print_number(SUM(DOIS))\n",
        "print_number(SUM(SUC(SUC(SUC(SUC(SUC(SUC(SUC(SUC(DOIS))))))))))"
      ],
      "metadata": {
        "colab": {
          "base_uri": "https://localhost:8080/"
        },
        "id": "cefDg7yiR7AY",
        "outputId": "bfe70754-116e-42eb-f2a0-fc6111a67b1a"
      },
      "execution_count": null,
      "outputs": [
        {
          "output_type": "stream",
          "name": "stdout",
          "text": [
            "3\n",
            "55\n"
          ]
        }
      ]
    },
    {
      "cell_type": "markdown",
      "source": [
        "**5.** Defina um operador de ponto-fixo como um λ-termo. Defina a função soma (soma(m, n)) de forma recursiva em λ-cálculo. Faça a redução iterada de soma(3, 2).\n",
        "\n",
        "Seja $T:= \\lambda rmn.IFTE~~ISZERO~(n)~~m~~SUC((r~(m)~(PRED \\textrm{ }n)))$\n",
        "\n",
        "A **Função soma recursiva é:** é $SUM\\_REC := M~T$\n",
        "\n",
        "\\begin{eqnarray*}\n",
        " SUM\\_REC~3~2 &=& M~T~3~2\\\\\n",
        " &=&T~(M~T)~3~2\\\\\n",
        " &\\rhd & \\lambda rmn.IFTE~~ISZERO~(n)~~m~~SUC((r~(m)~(PRED \\textrm{ }n))) (M~T)~3~2\\\\\n",
        " &\\rhd & \\lambda mn.IFTE~~ISZERO~(n)~~m~~SUC(((M~T)~(m)~(PRED \\textrm{ }n))) ~3~2\\\\\n",
        "  &\\rhd & \\lambda n.IFTE~~ISZERO~(n)~~3~~SUC(((M~T)~(3)~(PRED \\textrm{ }n)))~2\\\\\n",
        "  &\\rhd & IFTE~~ISZERO~(2)~~3~~SUC(((M~T)~(3)~(PRED \\textrm{ }2)))\\\\\n",
        " &\\rhd & SUC(((M~T)~(3)~(1)))\\\\\n",
        " &\\rhd & SUC((T~(M~T)~(3)~(1)))\\\\\n",
        " &\\rhd & SUC((\\lambda rmn.IFTE~~ISZERO~(n)~~m~~SUC((r~(m)~(PRED \\textrm{ }n)))~(M~T)~(3)~(1)))\\\\\n",
        " &\\rhd & SUC((\\lambda mn.IFTE~~ISZERO~(n)~~m~~SUC(((M~T)~(m)~(PRED \\textrm{ }n)))~(3)~(1)))\\\\\n",
        "  &\\rhd & SUC((\\lambda n.IFTE~~ISZERO~(n)~~3~~SUC(((M~T)~(3)~(PRED \\textrm{ }n)))~(1)))\\\\\n",
        "  &\\rhd & SUC((IFTE~~ISZERO~(1)~~3~~SUC(((M~T)~(3)~(PRED \\textrm{ }1)))))\\\\\n",
        "  &\\rhd & SUC((SUC(((M~T)~(3)~(0)))))\\\\\n",
        "  &\\rhd & SUC((SUC((T~(M~T)~(3)~(0)))))\\\\\n",
        "  &\\rhd & SUC((SUC((\\lambda rmn.IFTE~~ISZERO~(n)~~m~~SUC((r~(m)~(PRED \\textrm{ }n)))~(M~T)~(3)~(0)))))\\\\\n",
        "  &\\rhd & SUC((SUC((\\lambda mn.IFTE~~ISZERO~(n)~~m~~SUC(((M~T)~(m)~(PRED \\textrm{ }n)))~(3)~(0)))))\\\\\n",
        "  &\\rhd & SUC((SUC((\\lambda n.IFTE~~ISZERO~(n)~~3~~SUC(((M~T)~(3)~(PRED \\textrm{ }n)))~(0)))))\\\\\n",
        "  &\\rhd & SUC((SUC((IFTE~~ISZERO~(0)~~3~~SUC(((M~T)~(3)~(PRED \\textrm{ }0)))~(0)))))\\\\\n",
        "  &\\rhd & SUC(SUC(3))\\\\\n",
        "  &\\rhd & SUC(4)\\\\\n",
        "  &\\rhd & 5\\\\\n",
        "\\end{eqnarray*}"
      ],
      "metadata": {
        "id": "UwKPGrAcaWwZ"
      }
    },
    {
      "cell_type": "code",
      "source": [
        "SRT = lambda r: lambda m: lambda n: IFTE(ISZERO_lazy(n)) (lambda: m) (lambda: SUC(r (m)(PRED(n))))\n",
        "\n",
        "SUM_REC = M(SRT)"
      ],
      "metadata": {
        "id": "-hsK5NkPmr_4"
      },
      "execution_count": null,
      "outputs": []
    },
    {
      "cell_type": "code",
      "source": [
        "print_number(SUM_REC(CINCO)(TRES))"
      ],
      "metadata": {
        "colab": {
          "base_uri": "https://localhost:8080/"
        },
        "id": "-sTOgu-5n2Dy",
        "outputId": "80213e39-e81d-4ff7-9473-f3dc88be874a"
      },
      "execution_count": null,
      "outputs": [
        {
          "output_type": "stream",
          "name": "stdout",
          "text": [
            "8\n"
          ]
        }
      ]
    },
    {
      "cell_type": "code",
      "source": [
        "# Sum function of two variables in recursive form\n",
        "\n",
        "def sum_rec(x,y):\n",
        "  if y == 0:\n",
        "    return x;\n",
        "  else:\n",
        "    return(1+sum_rec(x,y-1));\n",
        "\n",
        "print(sum_rec(5, 4))"
      ],
      "metadata": {
        "colab": {
          "base_uri": "https://localhost:8080/"
        },
        "id": "64llBEP7mYbn",
        "outputId": "e97c9d0d-356d-4448-f608-6fde5aa1afdb"
      },
      "execution_count": null,
      "outputs": [
        {
          "output_type": "stream",
          "name": "stdout",
          "text": [
            "9\n"
          ]
        }
      ]
    },
    {
      "cell_type": "markdown",
      "source": [
        "**6.** Defina um operador de ponto-fixo como um λ-termo. Defina a função mult (mult(m, n)) de forma recursiva em λ-cálculo. Faça a redução iterada de mult(3, 2).\n",
        "\n",
        "Seja $T:= \\lambda rmn.IFTE~~ISZERO~(n)~~0~~SOMA(m)(r \\, (m) \\, (pred \\,n))$\n",
        "\n",
        "A **Função multiplicação recursiva é:** é $MULT\\_REC := M~T$\n",
        "\n",
        "\\begin{eqnarray*}\n",
        " MULT\\_REC~3~2 &=& M~T~3~2\\\\\n",
        " &=&T~(M~T)~3~2\\\\\n",
        " &\\rhd & \\lambda rmn.IFTE~~ISZERO~(n)~~0~~SOMA(m)(r \\, (m) \\, (pred \\,n)) \\, (M~T)~3~2\\\\\n",
        " &\\rhd & \\lambda mn.IFTE~~ISZERO~(n)~~0~~SOMA(m)((M~T) \\, (m) \\, (pred \\,n)) \\, 3~2 \\\\\n",
        " &\\rhd & \\lambda n.IFTE~~ISZERO~(n)~~0~~SOMA(3)((M~T) \\, (3) \\, (pred \\,n)) \\, 2 \\\\\n",
        " &\\rhd & IFTE~~ISZERO~(2)~~0~~SOMA(3)((M~T) \\, (3) \\, (pred \\,2) \\\\\n",
        " &\\rhd & SOMA(3)((M~T) \\, (3) \\, (pred \\,2)) \\\\\n",
        " &\\rhd & SOMA(3)(T~(M~T) \\, 3 \\, 1) \\\\\n",
        " &\\rhd & SOMA(3)(\\lambda rmn.IFTE~~ISZERO~(n)~~0~~SOMA(m)(r \\, (m) \\, (pred \\,n))~(M~T) \\, 3 \\, 1) \\\\\n",
        " &\\rhd & SOMA(3)(\\lambda mn.IFTE~~ISZERO~(n)~~0~~SOMA(m)((M~T) \\, (m) \\, (pred \\,n)) \\, 3 \\, 1) \\\\\n",
        " &\\rhd & SOMA(3)(\\lambda n.IFTE~~ISZERO~(n)~~0~~SOMA(3)((M~T) \\, (3) \\, (pred \\,n)) \\, 1) \\\\\n",
        " &\\rhd & SOMA(3)(IFTE~~ISZERO~(1)~~0~~SOMA(3)((M~T) \\, (3) \\, (pred \\,1))) \\\\\n",
        " &\\rhd & SOMA(3)(SOMA(3)((M~T) \\, 3 \\, 0)) \\\\\n",
        " &\\rhd & SOMA(3)(SOMA(3)(T~(M~T) \\, 3 \\, 0)) \\\\\n",
        " &\\rhd & SOMA(3)(SOMA(3)(\\lambda rmn.IFTE~~ISZERO~(n)~~0~~SOMA(m)(r \\, (m) \\, (pred \\,n))~(M~T) \\, 3 \\, 0)) \\\\\n",
        " &\\rhd & SOMA(3)(SOMA(3)(\\lambda mn.IFTE~~ISZERO~(n)~~0~~SOMA(m)((M~T) \\, (m) \\, (pred \\,n)) \\, 3 \\, 0)) \\\\\n",
        " &\\rhd & SOMA(3)(SOMA(3)(\\lambda n.IFTE~~ISZERO~(n)~~0~~SOMA(3)((M~T) \\, (3) \\, (pred \\,n)) \\, 0)) \\\\\n",
        " &\\rhd & SOMA(3)(SOMA(3)(IFTE~~ISZERO~(0)~~0~~SOMA(3)((M~T) \\, (3) \\, (pred \\,0)))) \\\\\n",
        " &\\rhd & SOMA(3)(SOMA(3)(0)) \\\\\n",
        " &\\rhd & SOMA(3)(3) \\\\\n",
        " &\\rhd & 6 \\\\\n",
        "\\end{eqnarray*}"
      ],
      "metadata": {
        "id": "NX3a0Las7Kyv"
      }
    },
    {
      "cell_type": "code",
      "source": [
        "MRT = lambda r: lambda m: lambda n: IFTE(ISZERO_lazy(n)) (lambda: ZERO) (lambda: SUM_REC(m)(r (m)(PRED(n))))\n",
        "\n",
        "MULT_REC = M(MRT)"
      ],
      "metadata": {
        "id": "F5DwKlI69YG0"
      },
      "execution_count": null,
      "outputs": []
    },
    {
      "cell_type": "code",
      "source": [
        "print_number(MULT_REC(DOIS)(SUC(CINCO)))"
      ],
      "metadata": {
        "colab": {
          "base_uri": "https://localhost:8080/"
        },
        "id": "Ui-3jSA1-SNB",
        "outputId": "26bc6c98-a3c8-4066-e8d7-f69a601c62b2"
      },
      "execution_count": null,
      "outputs": [
        {
          "output_type": "stream",
          "name": "stdout",
          "text": [
            "12\n"
          ]
        }
      ]
    },
    {
      "cell_type": "code",
      "source": [
        "# Multiplication function in recursive form\n",
        "\n",
        "def mult_python(num1, num2):\n",
        "  if num2 == 0:\n",
        "    return 0;\n",
        "  else:\n",
        "    return num1+mult_python(num1, num2-1)\n",
        "\n",
        "mult_python(3, 2)"
      ],
      "metadata": {
        "colab": {
          "base_uri": "https://localhost:8080/"
        },
        "id": "HCBWlUkQU7kP",
        "outputId": "90168bfa-8ab1-4f63-d21a-71721c8865ac"
      },
      "execution_count": null,
      "outputs": [
        {
          "output_type": "execute_result",
          "data": {
            "text/plain": [
              "6"
            ]
          },
          "metadata": {},
          "execution_count": 73
        }
      ]
    },
    {
      "cell_type": "markdown",
      "source": [
        "**7.** Função de subtração recursiva em Lambda cálculo.\n",
        "\n",
        "Seja $T:= \\lambda rmn.IFTE~~ISZERO~(n)~~m~~(r \\, (pred \\, m) \\, (pred \\,n))$\n",
        "\n",
        "A **Função subtração recursiva é:** é $SUB\\_REC := M~T$\n",
        "\n",
        "\\begin{eqnarray*}\n",
        " SUB\\_REC~3~2 &=& M~T~3~2\\\\\n",
        " &=&T~(M~T)~3~2\\\\\n",
        " &\\rhd & \\lambda rmn.IFTE~~ISZERO~(n)~~m~~(r \\, (pred \\, m) \\, (pred \\,n)) \\, (M~T)~3~2\\\\\n",
        " &\\rhd & \\lambda mn.IFTE~~ISZERO~(n)~~m~~((M~T) \\, (pred \\, m) \\, (pred \\,n)) \\, 3~2\\\\\n",
        " &\\rhd & \\lambda n.IFTE~~ISZERO~(n)~~3~~((M~T) \\, (pred \\, 3) \\, (pred \\,n)) ~2\\\\\n",
        " &\\rhd & IFTE~~ISZERO~(2)~~3~~((M~T) \\, 2 \\, (pred \\,2))\\\\\n",
        " &\\rhd & IFTE~~ISZERO~(2)~~3~~((M~T) \\, 2 \\, 1)\\\\\n",
        " &\\rhd & (M~T) \\, 2 \\, 1\\\\\n",
        " &\\rhd & \\lambda rmn.IFTE~~ISZERO~(n)~~m~~(r \\, (pred \\, m) \\, (pred \\,n)) ~ (M~T) \\, 2 \\, 1\\\\\n",
        " &\\rhd & \\lambda mn.IFTE~~ISZERO~(n)~~m~~((M~T) \\, (pred \\, m) \\, (pred \\,n)) ~ \\, 2 \\, 1\\\\\n",
        " &\\rhd & \\lambda n.IFTE~~ISZERO~(n)~~2~~((M~T) \\, (pred \\, 2) \\, (pred \\,n)) ~ \\, 1\\\\\n",
        " &\\rhd & \\lambda n.IFTE~~ISZERO~(n)~~2~~((M~T) \\, 1 \\, (pred \\,n)) ~ \\, 1\\\\\n",
        " &\\rhd & IFTE~~ISZERO~(1)~~2~~((M~T) \\, 1 \\, (pred \\,1))\\\\\n",
        " &\\rhd & IFTE~~ISZERO~(1)~~2~~((M~T) \\, 1 \\, 0)\\\\\n",
        " &\\rhd & (M~T) \\, 1 \\, 0\\\\\n",
        " &\\rhd & T~(M~T) \\, 1 \\, 0\\\\\n",
        " &\\rhd & \\lambda rmn.IFTE~~ISZERO~(n)~~m~~(r \\, (pred \\, m) \\, (pred \\,n))~(M~T) \\, 1 \\, 0\\\\\n",
        "  &\\rhd & \\lambda mn.IFTE~~ISZERO~(n)~~m~~((M~T) \\, (pred \\, m) \\, (pred \\,n))~\\, 1 \\, 0\\\\\n",
        "  &\\rhd & \\lambda n.IFTE~~ISZERO~(n)~~1~~((M~T) \\, (pred \\, 1) \\, (pred \\,n))~ \\, 0\\\\\n",
        "  &\\rhd & \\lambda n.IFTE~~ISZERO~(n)~~1~~((M~T) \\, 0 \\, (pred \\,n))~ \\, 0\\\\\n",
        "  &\\rhd & IFTE~~ISZERO~(0)~~1~~((M~T) \\, 0 \\, (pred \\,0))\\\\\n",
        "  &\\rhd & 1\\\\\n",
        "\\end{eqnarray*}"
      ],
      "metadata": {
        "id": "FpxC1V5L4j8D"
      }
    },
    {
      "cell_type": "code",
      "source": [
        "SRT = lambda r: lambda m: lambda n: IFTE(ISZERO_lazy(n)) (lambda: m) (lambda: (r (PRED(m))(PRED(n))))\n",
        "\n",
        "SUB_REC = M(SRT)"
      ],
      "metadata": {
        "id": "LmoCglzMzyix"
      },
      "execution_count": null,
      "outputs": []
    },
    {
      "cell_type": "code",
      "source": [
        "print_number(SUB_REC(QUATRO)(DOIS))"
      ],
      "metadata": {
        "colab": {
          "base_uri": "https://localhost:8080/"
        },
        "id": "kvUENP5f0hQq",
        "outputId": "6ce6e90d-6ce1-4c1e-8cf6-11f4d734b614"
      },
      "execution_count": null,
      "outputs": [
        {
          "output_type": "stream",
          "name": "stdout",
          "text": [
            "2\n"
          ]
        }
      ]
    },
    {
      "cell_type": "code",
      "source": [
        "def sub_rec(num1,num2):\n",
        "  if num2 == 0:\n",
        "    return num1\n",
        "  return sub_rec(num1-1, num2-1)\n",
        "\n",
        "sub_rec(6,2)"
      ],
      "metadata": {
        "colab": {
          "base_uri": "https://localhost:8080/"
        },
        "id": "vOz-eTXkzgPQ",
        "outputId": "62c19aae-f782-4fef-a3b7-b413abb70b13"
      },
      "execution_count": null,
      "outputs": [
        {
          "output_type": "execute_result",
          "data": {
            "text/plain": [
              "4"
            ]
          },
          "metadata": {},
          "execution_count": 76
        }
      ]
    },
    {
      "cell_type": "markdown",
      "source": [
        "**8.** Função de divisão recursiva em Lambda cálculo.\n",
        "\n",
        "Seja $T:= \\lambda rmn.IFTE~~(LESS\\_THAN~(m)(n))~~0~~SUC(r ~ SUB(m)(n)~n)$\n",
        "\n",
        "A **Função divisão recursiva é:** é $DIV\\_REC := M~T$\n",
        "\n",
        "\\begin{eqnarray*}\n",
        " DIV\\_REC~6~2 &=& M~T~6~2\\\\\n",
        " &=&T~(M~T)~6~2\\\\\n",
        " &\\rhd & \\lambda rmn.IFTE~~(LESS\\_THAN~(m)(n))~~0~~SUC(r ~ SUB(m)(n)~n) \\, (M~T)~6~2\\\\\n",
        " &\\rhd & \\lambda mn.IFTE~~(LESS\\_THAN~(m)(n))~~0~~SUC((M~T) ~ SUB(m)(n)~n) \\, 6~2\\\\\n",
        " &\\rhd & \\lambda n.IFTE~~(LESS\\_THAN~(6)(n))~~0~~SUC((M~T) ~ SUB(6)(n)~n) \\, 2\\\\\n",
        " &\\rhd & IFTE~~(LESS\\_THAN~(6)(2))~~0~~SUC((M~T) ~ SUB(6)(2)~2)\\\\\n",
        " &\\rhd & SUC((M~T) ~4~2)\\\\\n",
        " &\\rhd & SUC(T~(M~T) ~ 4~2)\\\\\n",
        " &\\rhd & SUC(\\lambda rmn.IFTE~~(LESS\\_THAN~(m)(n))~~0~~SUC(r ~ SUB(m)(n)~n)~(M~T) ~ 4~2)\\\\\n",
        " &\\rhd & SUC(\\lambda mn.IFTE~~(LESS\\_THAN~(m)(n))~~0~~SUC((M~T) ~ SUB(m)(n)~n)~ 4~2)\\\\\n",
        " &\\rhd & SUC(\\lambda n.IFTE~~(LESS\\_THAN~(4)(n))~~0~~SUC((M~T) ~ SUB(4)(n)~n)~2)\\\\\n",
        " &\\rhd & SUC(IFTE~~(LESS\\_THAN~(4)(2))~~0~~SUC((M~T) ~ SUB(4)(2)~2))\\\\\n",
        " &\\rhd & SUC(SUC((M~T)~2~2))\\\\\n",
        " &\\rhd & SUC(SUC(T~(M~T)~2~2))\\\\\n",
        " &\\rhd & SUC(SUC(\\lambda rmn.IFTE~~(LESS\\_THAN~(m)(n))~~0~~SUC(r ~ SUB(m)(n)~n)~(M~T)~2~2))\\\\\n",
        " &\\rhd & SUC(SUC(\\lambda mn.IFTE~~(LESS\\_THAN~(m)(n))~~0~~SUC((M~T) ~ SUB(m)(n)~n)~2~2))\\\\\n",
        " &\\rhd & SUC(SUC(\\lambda n.IFTE~~(LESS\\_THAN~(2)(n))~~0~~SUC((M~T) ~ SUB(2)(n)~n)~2))\\\\\n",
        " &\\rhd & SUC(SUC(IFTE~~(LESS\\_THAN~(2)(2))~~0~~SUC((M~T) ~ SUB(2)(2)~2)))\\\\\n",
        " &\\rhd & SUC(SUC(SUC((M~T)~0~2)))\\\\\n",
        " &\\rhd & SUC(SUC(SUC(T~(M~T)~0~2)))\\\\\n",
        " &\\rhd & SUC(SUC(SUC(\\lambda rmn.IFTE~~(LESS\\_THAN~(m)(n))~~0~~SUC(r ~ SUB(m)(n)~n)~(M~T)~0~2)))\\\\\n",
        " &\\rhd & SUC(SUC(SUC(\\lambda mn.IFTE~~(LESS\\_THAN~(m)(n))~~0~~SUC((M~T) ~ SUB(m)(n)~n)~0~2)))\\\\\n",
        " &\\rhd & SUC(SUC(SUC(\\lambda n.IFTE~~(LESS\\_THAN~(0)(n))~~0~~SUC((M~T) ~ SUB(0)(n)~n)~2)))\\\\\n",
        " &\\rhd & SUC(SUC(SUC(IFTE~~(LESS\\_THAN~(0)(2))~~0~~SUC((M~T) ~ SUB(0)(2)~2))))\\\\\n",
        " &\\rhd & SUC(SUC(SUC(0)))\\\\\n",
        " &\\rhd & SUC(SUC(1))\\\\\n",
        " &\\rhd & SUC(2)\\\\\n",
        " &\\rhd & 3\\\\\n",
        "\\end{eqnarray*}"
      ],
      "metadata": {
        "id": "nLatINTI4wHS"
      }
    },
    {
      "cell_type": "code",
      "source": [
        "DRT = lambda r: lambda m: lambda n: IFTE(LESS_lazy(m)(n)) (lambda: ZERO) (lambda: SUC((r (SUB_REC(m)(n))(n))))\n",
        "\n",
        "DIV_REC = M(DRT)"
      ],
      "metadata": {
        "id": "kwHgHWVO3LXJ"
      },
      "execution_count": null,
      "outputs": []
    },
    {
      "cell_type": "code",
      "source": [
        "print_number(DIV_REC(SUC(SUC(SUC(SUC(SUC(SUC(CINCO)))))))(DOIS))"
      ],
      "metadata": {
        "colab": {
          "base_uri": "https://localhost:8080/"
        },
        "id": "i9xJciKd32bq",
        "outputId": "dcf14120-89a0-48fd-c081-b6d964d352a1"
      },
      "execution_count": null,
      "outputs": [
        {
          "output_type": "stream",
          "name": "stdout",
          "text": [
            "5\n"
          ]
        }
      ]
    },
    {
      "cell_type": "code",
      "source": [
        "def div_rec(num1,num2):\n",
        "  if num1 < num2:\n",
        "    return 0;\n",
        "  else:\n",
        "    return 1 + div_rec(num1-num2, num2)\n",
        "\n",
        "div_rec(20,4)"
      ],
      "metadata": {
        "colab": {
          "base_uri": "https://localhost:8080/"
        },
        "id": "Mf4v0Em91o1L",
        "outputId": "e16479fe-c039-46c7-9876-08305f1132d4"
      },
      "execution_count": null,
      "outputs": [
        {
          "output_type": "execute_result",
          "data": {
            "text/plain": [
              "5"
            ]
          },
          "metadata": {},
          "execution_count": 79
        }
      ]
    },
    {
      "cell_type": "markdown",
      "source": [
        "**9.** Função potência recursiva em Lambda cálculo.\n",
        "\n",
        "Seja $T:= \\lambda rmn.IFTE~~ISZERO~(n)~~1~~MULT(m)(r ~ m~pred \\,n)$\n",
        "\n",
        "A **Função potência recursiva é:** é $DIV\\_REC := M~T$\n",
        "\n",
        "\\begin{eqnarray*}\n",
        " POWER\\_REC~6~2 &=& M~T~6~2\\\\\n",
        " &=&T~(M~T)~6~2\\\\\n",
        " &\\rhd & \\lambda rmn.IFTE~~ISZERO~(n)~~1~~MULT(m)(r ~ m~pred \\,n) \\, (M~T)~6~2\\\\\n",
        " &\\rhd & \\lambda mn.IFTE~~ISZERO~(n)~~1~~MULT(m)((M~T)~ m~pred \\,n) \\, 6~2\\\\\n",
        " &\\rhd & \\lambda n.IFTE~~ISZERO~(n)~~1~~MULT(6)((M~T)~ 6~pred \\,n) \\, 2\\\\\n",
        " &\\rhd & IFTE~~ISZERO~(2)~~1~~MULT(6)((M~T)~ 6~pred \\,2)\\\\\n",
        " &\\rhd & MULT(6)((M~T)~ 6~1)\\\\\n",
        " &\\rhd & MULT(6)(T~(M~T)~ 6~1)\\\\\n",
        " &\\rhd & MULT(6)(\\lambda rmn.IFTE~~ISZERO~(n)~~1~~MULT(m)(r ~ m~pred \\,n)~(M~T)~ 6~1)\\\\\n",
        " &\\rhd & MULT(6)(\\lambda mn.IFTE~~ISZERO~(n)~~1~~MULT(m)((M~T) ~ m~pred \\,n)~6~1)\\\\\n",
        "  &\\rhd & MULT(6)(\\lambda n.IFTE~~ISZERO~(n)~~1~~MULT(6)((M~T) ~ 6~pred \\,n)~1)\\\\\n",
        "  &\\rhd & MULT(6)(IFTE~~ISZERO~(1)~~1~~MULT(6)((M~T) ~ 6~pred \\,1))\\\\\n",
        "  &\\rhd & MULT(6)(MULT(6)((M~T) ~ 6~0))\\\\\n",
        "  &\\rhd & MULT(6)(MULT(6)(T~(M~T) ~ 6~0))\\\\\n",
        "  &\\rhd & MULT(6)(MULT(6)(\\lambda rmn.IFTE~~ISZERO~(n)~~1~~MULT(m)(r ~ m~pred \\,n)~(M~T) ~ 6~0))\\\\\n",
        "  &\\rhd & MULT(6)(MULT(6)(\\lambda mn.IFTE~~ISZERO~(n)~~1~~MULT(m)((M~T) ~ m~pred \\,n) ~ 6~0))\\\\\n",
        "  &\\rhd & MULT(6)(MULT(6)(\\lambda n.IFTE~~ISZERO~(n)~~1~~MULT(6)((M~T) ~ 6~pred \\,n) ~0))\\\\\n",
        "  &\\rhd & MULT(6)(MULT(6)(IFTE~~ISZERO~(0)~~1~~MULT(6)((M~T) ~ 6~pred \\,0)))\\\\\n",
        "  &\\rhd & MULT(6)(MULT(6)(1))\\\\\n",
        "  &\\rhd & MULT(6)(6)\\\\\n",
        "  &\\rhd & 36\\\\\n",
        "\\end{eqnarray*}"
      ],
      "metadata": {
        "id": "_qS5qgmVCt35"
      }
    },
    {
      "cell_type": "code",
      "source": [
        "PRT = lambda r: lambda m: lambda n: IFTE(ISZERO_lazy(n)) (lambda: UM) (lambda: MULT(m)(r (m)(PRED(n))))\n",
        "\n",
        "POWER_REC = M(PRT)"
      ],
      "metadata": {
        "id": "gw0VAiH4Fj1G"
      },
      "execution_count": null,
      "outputs": []
    },
    {
      "cell_type": "code",
      "source": [
        "print_number(POWER_REC(SUC(CINCO))(DOIS))"
      ],
      "metadata": {
        "colab": {
          "base_uri": "https://localhost:8080/"
        },
        "id": "FFB1haDeGF0w",
        "outputId": "fcbf5a92-a83f-4125-fb75-01bd2c7eaabf"
      },
      "execution_count": null,
      "outputs": [
        {
          "output_type": "stream",
          "name": "stdout",
          "text": [
            "36\n"
          ]
        }
      ]
    },
    {
      "cell_type": "code",
      "source": [
        "def power_rec(num1,num2):\n",
        "  if num2 == 0:\n",
        "      return 1\n",
        "  else:\n",
        "      return num1 * power_rec(num1, num2-1)\n",
        "\n",
        "power_rec(4,2)"
      ],
      "metadata": {
        "colab": {
          "base_uri": "https://localhost:8080/"
        },
        "id": "-P-dn9ghCyKj",
        "outputId": "99ffee57-345b-4d64-ac83-2f99ccb1f0c4"
      },
      "execution_count": null,
      "outputs": [
        {
          "output_type": "execute_result",
          "data": {
            "text/plain": [
              "16"
            ]
          },
          "metadata": {},
          "execution_count": 82
        }
      ]
    },
    {
      "cell_type": "markdown",
      "source": [
        "**10.** Função produtório recursivo em Lambda cálculo.\n",
        "\n",
        "$$\\displaystyle \\prod_{i=m}^{n} x_{i} = x_m \\times x_{m+1} \\times x_{m+2} \\times ... \\times x_{n-1} \\times x_{n} $$"
      ],
      "metadata": {
        "id": "Z0Sm5Qr5dmqL"
      }
    },
    {
      "cell_type": "code",
      "source": [
        "PRODT = lambda r: lambda n: IFTE(LEQ_lazy(n)(UM)) (lambda: n) (lambda: MULT(n)(r (PRED(n))))\n",
        "\n",
        "PROD_REC = M(PRODT)"
      ],
      "metadata": {
        "id": "_5zuNDw3fD2y"
      },
      "execution_count": null,
      "outputs": []
    },
    {
      "cell_type": "code",
      "source": [
        "print_number(PROD_REC(CINCO))"
      ],
      "metadata": {
        "colab": {
          "base_uri": "https://localhost:8080/"
        },
        "id": "tRyhaNFffe5W",
        "outputId": "e87b5382-db54-4f74-9e20-fc3f6dd4c599"
      },
      "execution_count": null,
      "outputs": [
        {
          "output_type": "stream",
          "name": "stdout",
          "text": [
            "120\n"
          ]
        }
      ]
    },
    {
      "cell_type": "code",
      "source": [
        "def prod_rec(n):\n",
        "  if n <= 1:\n",
        "    return n\n",
        "  else:\n",
        "    return n * prod_rec(n-1)\n",
        "\n",
        "print(prod_rec(5))"
      ],
      "metadata": {
        "colab": {
          "base_uri": "https://localhost:8080/"
        },
        "id": "U_DwBManeppg",
        "outputId": "b191571a-ebbb-40db-fe5c-82f1747ffdff"
      },
      "execution_count": null,
      "outputs": [
        {
          "output_type": "stream",
          "name": "stdout",
          "text": [
            "120\n"
          ]
        }
      ]
    }
  ]
}