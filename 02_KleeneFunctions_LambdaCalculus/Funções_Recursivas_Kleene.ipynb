{
  "nbformat": 4,
  "nbformat_minor": 0,
  "metadata": {
    "colab": {
      "name": "Copy of Funções-Recursivas-Kleene.ipynb",
      "provenance": [],
      "collapsed_sections": [
        "-DO1Vatu03xp",
        "Mn4g-dw16XqG"
      ],
      "toc_visible": true
    },
    "kernelspec": {
      "display_name": "Python 3",
      "name": "python3"
    },
    "language_info": {
      "name": "python"
    }
  },
  "cells": [
    {
      "cell_type": "markdown",
      "metadata": {
        "id": "0FNiW59aAlpT"
      },
      "source": [
        "# Teoria da Computação: Funções Recursivas de Kleene\n",
        "> *Autor: Davi Romero de Vasconcelos, daviromero@ufc.br, Universidade Federal do Ceará, Campus de Quixadá, Setembro de 2021*.\n",
        "> *(Última atualização 28/11/2021)*\n",
        "\n",
        "Este material foi preparado para a disciplina de Teoria da Computação com a finalidade de apresentar os conceitos básicos do modelo computacional Funçõe Recursivas de Kleene na Linguagem de Programação Python. Para cada seção é apresentado um link (no título da seção) com um vídeo explicando o conteúdo a ser abordado. Uma Playlist com todo o conteúdo de Funções Recursivas de Kleene está disponível no [YouTube](https://youtube.com/playlist?list=PLfOnKvd6pFirXDbgF4OeZDTfRnMj4B-QL)."
      ]
    },
    {
      "cell_type": "code",
      "metadata": {
        "id": "LrC_Zauatezn"
      },
      "source": [
        "#@title Implementação em Python de das Funções Recursivas de Kleene (*beta*)\n",
        "#@markdown Esta célula contém a implementação em Python das Funções Recursivas de Kleenes. \n",
        "#@markdown Não é necessário conhecer o código aqui implementado ou mesmo ter um conhecimento profundo da linguagem Python. Basta acompanhar os exemplos e experimentar construir seus próprios modelos.\n",
        " \n",
        "#@markdown >*Execute esta célula (`ctrl+enter` ou clicando no botão ao lado) para que o ambiente seja carregado com as classes implementadas.*\n",
        "\n",
        "# Funções Básicas:\n",
        "\n",
        "# Natural Zero\n",
        "def z(x):\n",
        "  return 0\n",
        "# Função Sucessor\n",
        "def s(x):\n",
        "  return x+1\n",
        "\n",
        "# Função Projeção 1\n",
        "def u_1(i,x):\n",
        "  return x if i==1 else -1\n",
        "# Função Projeção 2\n",
        "def u_2(i,x,y):\n",
        "  return x if i==1 else y if i==2 else -1\n",
        "# Função Projeção 3\n",
        "def u_3(i,x,y,z):\n",
        "  return x if i==1 else y if i==2 else z if i==3 else -1\n",
        "# Função Projeção 4 ...\n",
        "\n",
        "# Em Python, podemos ter uma função Projeção para múltiplos argumentos\n",
        "def u(i,*args):\n",
        "  return args[i-1]\n",
        "\n",
        "# Definição Recursiva sem argumentos, só a recursividade\n",
        "def rec_0(y):\n",
        "  return lambda f,g: f if y==0 else g(y-1,rec_0(y-1)(f,g))\n",
        "\n",
        "# Definição Recursiva com 1 argumento x\n",
        "def rec_1(x,y):\n",
        "  return lambda f,g: f(x) if y==0 else g(x,y-1,rec_1(x,y-1)(f,g))\n",
        "\n",
        "# Definição Recursiva com 2 argumentos x1,x2\n",
        "def rec_2(x1,x2,y):\n",
        "  return lambda f,g: f(x1,x2) if y==0 else g(x1,x2,y-1,rec_2(x1,x2,y-1)(f,g))\n",
        "\n",
        "# Definição Recursiva com 3 argumentos x1,x2,x3\n",
        "def rec_3(x1,x2,x3,y):\n",
        "  return lambda f,g: f(x1,x2,x3) if y==0 else g(x1,x2,x3,y-1,rec_3(x1,x2,x3,y-1)(f,g))\n",
        "\n",
        "# Um definição geral de função recursiva, apenas inverte os argumentos pq em Python é necessário *args ser o último elemento.\n",
        "def rec(*args):\n",
        "  if len(args)>1:\n",
        "    return rec_aux(args[-1],*tuple(args[:-1]))\n",
        "  elif len(args)==1:\n",
        "    return rec_0(args[-1])\n",
        "\n",
        "# Um definição geral de função recursiva\n",
        "def rec_aux(y,*xs):\n",
        "  return lambda f,g: f(*tuple(xs)) if y==0 else g(*tuple(xs),y-1,(rec_aux(y-1,*tuple(xs))(f,g)))\n",
        "\n"
      ],
      "execution_count": null,
      "outputs": []
    },
    {
      "cell_type": "markdown",
      "metadata": {
        "id": "7Qax5JLKri14"
      },
      "source": [
        "# [Funções Recursivas de Kleene](https://youtu.be/ejnMItL0yXU)\n",
        "As Funções Recursivas Parciais são funções construídas sobre três operações básicas:\n",
        "- Natural Zero visto como uma função $z:\\mathbb{N}\\rightarrow\\mathbb{N}$, onde $z(x)=0$\n",
        "- Sucessor $s:\\mathbb{N}\\rightarrow\\mathbb{N}$, onde $s(x)= x+1$\n",
        "- Projeção $u^{n}_{i}:\\mathbb{N}^n\\rightarrow\\mathbb{N}$, onde $u^n_i(x_1,\\ldots,x_n)=x_i$\n",
        "\n",
        "Juntamente com as seguintes operações:\n",
        "- Substituição Composicional que generaliza o conceito de composição funcional.\n",
        "- Recursão que define uma função em termos dela mesma\n",
        "- Minimização que busca, em tempo finito, o menor valor para o qual uma certa condição ocorre"
      ]
    },
    {
      "cell_type": "code",
      "metadata": {
        "colab": {
          "base_uri": "https://localhost:8080/"
        },
        "id": "N2v4hGgQribD",
        "outputId": "fa5f7fe6-259b-4687-a957-3ad3efecc28b"
      },
      "source": [
        "print(\"Natural Zero visto como uma função  z:N→N , onde  z(x)=0\")\n",
        "print(f\"z(1) = {z(1)}\")\n",
        "print(f\"z(2) = {z(2)}\")\n",
        "print(f\"z(_) = {z(_)}\")"
      ],
      "execution_count": null,
      "outputs": [
        {
          "output_type": "stream",
          "name": "stdout",
          "text": [
            "Natural Zero visto como uma função  z:N→N , onde  z(x)=0\n",
            "z(1) = 0\n",
            "z(2) = 0\n",
            "z(_) = 0\n"
          ]
        }
      ]
    },
    {
      "cell_type": "code",
      "metadata": {
        "id": "9Ps1euDRsCAz",
        "colab": {
          "base_uri": "https://localhost:8080/"
        },
        "outputId": "f28b2024-094a-4205-dca4-0215c9d16e88"
      },
      "source": [
        "print(\"Sucessor  s:N→N , onde  s(x)=x+1\")\n",
        "print(f\"s(s(z(1))) = {s(s(z(1)))}\")\n",
        "print(f\"s(s(z(2))) = {s(s(z(2)))}\")\n",
        "print(f\"s(s(z(3))) = {s(s(z(_)))}\")"
      ],
      "execution_count": null,
      "outputs": [
        {
          "output_type": "stream",
          "name": "stdout",
          "text": [
            "Sucessor  s:N→N , onde  s(x)=x+1\n",
            "s(s(z(1))) = 2\n",
            "s(s(z(2))) = 2\n",
            "s(s(z(3))) = 2\n"
          ]
        }
      ]
    },
    {
      "cell_type": "code",
      "metadata": {
        "colab": {
          "base_uri": "https://localhost:8080/"
        },
        "id": "8VvIMCZBC0iS",
        "outputId": "cb0af1c6-0959-4c20-8868-2daecc8b749f"
      },
      "source": [
        "print(\"Projeção com argumentos arbitrários u(i,x1,…,xn)=xi\\n\")\n",
        "\n",
        "print(\"Projeção com 1 argumento u(i,x)=xi\")\n",
        "print(\"u(1,4) =\",u(1,4))\n",
        "print(\"Projeção com 2 argumento u(i,x1,x2)=xi\")\n",
        "print(\"u(1,5,6) =\",u(1,5,6))\n",
        "print(\"u(2,5,6) =\",u(2,5,6))\n",
        "print(\"u(2,1,4) =\",u(2,1,4))\n",
        "print(\"Projeção com 3 argumento u(i,x1,x2,x3)=xi\")\n",
        "print(\"u(1,7,8,9) =\",u(1,7,8,9))\n",
        "print(\"u(2,7,8,9) =\",u(2,7,8,9))\n",
        "print(\"u(3,7,8,9) =\",u(3,7,8,9))"
      ],
      "execution_count": null,
      "outputs": [
        {
          "output_type": "stream",
          "name": "stdout",
          "text": [
            "Projeção com argumentos arbitrários u(i,x1,…,xn)=xi\n",
            "\n",
            "Projeção com 1 argumento u(i,x)=xi\n",
            "u(1,4) = 4\n",
            "Projeção com 2 argumento u(i,x1,x2)=xi\n",
            "u(1,5,6) = 5\n",
            "u(2,5,6) = 6\n",
            "u(2,1,4) = 4\n",
            "Projeção com 3 argumento u(i,x1,x2,x3)=xi\n",
            "u(1,7,8,9) = 7\n",
            "u(2,7,8,9) = 8\n",
            "u(3,7,8,9) = 9\n"
          ]
        }
      ]
    },
    {
      "cell_type": "markdown",
      "metadata": {
        "id": "Q7GtTc8myPXy"
      },
      "source": [
        "## [Substituição Composicional](https://youtu.be/W2tnJijXoI0)\n",
        "\n",
        "Queremos combinar funções computáveis de uma forma que a saída de uma seja a entrada de outra.\n",
        "\n",
        "No caso de apenas uma entrada, combinamos a função $f:\\mathbb{N}\\rightarrow\\mathbb{N}$ e $g:\\mathbb{N}\\rightarrow\\mathbb{N}$ para obter a função $h:\\mathbb{N}\\rightarrow\\mathbb{N}$ tal que:\n",
        "\\begin{equation*}\n",
        "h(x)=f(g(x))\n",
        "\\end{equation*}\n",
        "Generalizando, sejam $f:\\mathbb{N}^k\\rightarrow\\mathbb{N}$ uma função de $k$ entradas e $g_1,g_2,\\ldots g_k$ funções de $n$ entradas ($g_i:\\mathbb{N}^n\\rightarrow\\mathbb{N}$), definimos $h:\\mathbb{N}^n\\rightarrow\\mathbb{N}$ como\n",
        "\\begin{equation*}\n",
        "h(x_1,\\ldots,x_n)=f(g_1(x_1,\\ldots,x_n),\\ldots,g_k(x_1,\\ldots,x_n))\n",
        "\\end{equation*}\n",
        "\n",
        "Suponha as seguintes funções:\n",
        "- $z:\\mathbb{N}\\rightarrow\\mathbb{N}$, onde $z(x)=0$\n",
        "- Sucessor $s:\\mathbb{N}\\rightarrow\\mathbb{N}$, onde $s(x)= x+1$\n",
        "- Soma $soma:\\mathbb{N}\\times\\mathbb{N}\\rightarrow\\mathbb{N}$, onde $soma(x,y)= x+y$\n",
        "\n",
        "As seguintes funções podem ser definidas:\n",
        "- $f_{1}:\\mathbb{N}\\rightarrow\\mathbb{N}$, onde $f_1(x)=s(z(x))$\n",
        "- $f_{2}:\\mathbb{N}\\rightarrow\\mathbb{N}$, onde $f_2(x)=s(f_1(x))$\n",
        "- $f_{3}:\\mathbb{N}\\rightarrow\\mathbb{N}$, onde $f_3(x)=s(f_2(x))$ ou $f_3(x)=soma(f_1(x),f_2(x))$\n"
      ]
    },
    {
      "cell_type": "code",
      "metadata": {
        "id": "kgrsL2L0syhM",
        "colab": {
          "base_uri": "https://localhost:8080/"
        },
        "outputId": "32605df5-a2d4-4458-bd01-86aa54022228"
      },
      "source": [
        "## Soma de 1+2\n",
        "\n",
        "def f1(x):\n",
        "  return s(z(x))\n",
        "\n",
        "def f2(x):\n",
        "  return s(f1(x))\n",
        "\n",
        "def soma(x, y):\n",
        "  return x+y\n",
        "\n",
        "print(f\"f1 = {f1(_)}, f2 = {f2(_)}\")\n",
        "print(f\"Soma de f1 e f2 = {soma(f1(_), f2(_))}\")"
      ],
      "execution_count": null,
      "outputs": [
        {
          "output_type": "stream",
          "name": "stdout",
          "text": [
            "f1 = 1, f2 = 2\n",
            "Soma de f1 e f2 = 3\n"
          ]
        }
      ]
    },
    {
      "cell_type": "markdown",
      "metadata": {
        "id": "-DO1Vatu03xp"
      },
      "source": [
        "## [Função Recursiva](https://youtu.be/CNvRx-VvxlA)\n",
        "\n",
        "Suponha que $k$ é um dado número e\n",
        "  \\begin{eqnarray*}\n",
        "    h(0) &=& k \\\\\n",
        "    h(y+1) &=& g(y,h(y))\n",
        "  \\end{eqnarray*}\n",
        "$h$ é dito ser obtido a partir de $g$ por recursão primitiva, ou simplesmente recursão.\n",
        "\n",
        "Generalizando, sejam $f:\\mathbb{N}^n\\rightarrow\\mathbb{N}$ uma função de $n$ entradas e $g:\\mathbb{N}^{n+2}\\rightarrow\\mathbb{N}$ uma função de $n+2$ entradas, definimos $h:\\mathbb{N}^{n+1}\\rightarrow\\mathbb{N}$ como\n",
        "  \\begin{eqnarray*}\n",
        "    h(x_1,\\ldots,x_n,0) &=& f(x_1,\\ldots,x_n) \\\\\n",
        "    h(x_1,\\ldots,x_n,y+1) &=& g(x_1,\\ldots,x_n,y,h(x_1,\\ldots,x_n,y))\n",
        "  \\end{eqnarray*}"
      ]
    },
    {
      "cell_type": "markdown",
      "metadata": {
        "id": "CzCFSmaLIBfW"
      },
      "source": [
        "## [Soma](https://youtu.be/NMlMyk9TPm4)\n",
        "A equação da função soma $soma(x,y)=x+y=x+\\overbrace{1+\\ldots +1}^y$ é\n",
        "  \\begin{eqnarray*}\n",
        "    soma(x,0) &=& x \\\\\n",
        "    soma(x,y+1) &=& soma(x,y)+1\n",
        "  \\end{eqnarray*}\n",
        "\n",
        "\\begin{eqnarray*}\n",
        "soma(3,2) = soma(3,1)+1= soma(3,0)+1+1=3+1+1=5\n",
        "\\end{eqnarray*}\n",
        "\n",
        "A função Soma $soma:\\mathbb{N}\\times\\mathbb{N}\\rightarrow\\mathbb{N}$, onde $soma(x,y)= x+y$ pode ser definida, utilizando as funções primitivas, recursivamente da seguinte forma:\n",
        "    \\begin{array}{rclcl}\n",
        "      soma(x,0) & = & f(x) & = & u^1_1(x) \\\\\n",
        "      soma(x,y+1) & = & g(x,y,soma(x,y)) & = & s(u^3_3(x,y,soma(x,y)))\n",
        "    \\end{array}\n",
        "\n",
        "   Neste caso, $f(x)=u^1_1(x)$ e $g(x_1,x_2,x_3)=s(u_3^3(x_1,x_2,x_3))$\n",
        "\n",
        "Vejamos um exemplo\n",
        "\\begin{eqnarray*}\n",
        "soma(3,2) & = & s(u^3_3(3,1,soma(3,1))) \\\\\n",
        "       & = & s(soma(3,1)) \\\\\n",
        "       & = & s(s(u^3_3(3,0,soma(3,0)))) \\\\\n",
        "       & = & s(s(soma(3,0))) \\\\\n",
        "       & = & s(s(u^1_1(3))) \\\\\n",
        "       & = & s(s(3)) \\\\\n",
        "       & = & 5\n",
        "\\end{eqnarray*}\n"
      ]
    },
    {
      "cell_type": "code",
      "metadata": {
        "id": "JNBtVB7vryRk",
        "colab": {
          "base_uri": "https://localhost:8080/"
        },
        "outputId": "decb57ef-df72-466f-8836-6f069ad46e1b"
      },
      "source": [
        "# Implemente a função soma, utilizando apenas as funções recursivas de Kleene.\n",
        "\n",
        "def fSoma(x):\n",
        "  return u(1,x)\n",
        "\n",
        "def gSoma(x1,x2,x3):\n",
        "  return s(u(3,x1,x2,x3))\n",
        "\n",
        "def soma(x,y):\n",
        "  return rec(x,y)(fSoma,gSoma)\n",
        "\n",
        "soma(2,10)"
      ],
      "execution_count": null,
      "outputs": [
        {
          "output_type": "execute_result",
          "data": {
            "text/plain": [
              "12"
            ]
          },
          "metadata": {},
          "execution_count": 2
        }
      ]
    },
    {
      "cell_type": "code",
      "source": [
        "fSoma = lambda x: u(1,x)\n",
        "gSoma = lambda x,y,z: s(u(3,x,y,z))\n",
        "soma = lambda x,y: rec(x,y)(fSoma, gSoma)\n",
        "\n",
        "soma(5,5)"
      ],
      "metadata": {
        "colab": {
          "base_uri": "https://localhost:8080/"
        },
        "id": "6ss96OWe9j4S",
        "outputId": "072539fb-62d1-4064-9682-a4e84f7e4c43"
      },
      "execution_count": null,
      "outputs": [
        {
          "output_type": "execute_result",
          "data": {
            "text/plain": [
              "10"
            ]
          },
          "metadata": {},
          "execution_count": 3
        }
      ]
    },
    {
      "cell_type": "markdown",
      "metadata": {
        "id": "jw6jdqIUHv4Y"
      },
      "source": [
        "## [Multiplicação](https://youtu.be/Fp-yeYYlOgU)\n",
        "A equação da função multiplicação $m(x,y)=x.y=\\overbrace{x+\\ldots +x}^y$ é\n",
        "  \\begin{eqnarray*}\n",
        "    m(x,0) &=& 0 \\\\\n",
        "    m(x,y+1) &=& m(x,y)+x\n",
        "  \\end{eqnarray*}\n",
        "    Pode ser reescrita como segue\n",
        "  \\begin{eqnarray*}\n",
        "      m(x,0) & = & f(x) & = & z(x) \\\\\n",
        "      m(x,y+1) & = & g(x,y,m(x,y)) & = & soma(u^3_3(x,y,m(x,y)),u^3_1(x,y,m(x,y)))\n",
        "  \\end{eqnarray*}\n",
        "  Neste caso, $g(x_1,x_2,x_3)=soma(u_3^3(x_1,x_2,x_3),u_1^3(x_1,x_2,x_3))$\n",
        "\n",
        "  Vejamos um exemplo:\n",
        "  \\begin{eqnarray*}\n",
        "        m(3,2) & = & soma(u^3_3(3,1,m(3,1)),u^3_1(3,1,m(3,1))) \\\\\n",
        "       & = & soma(m(3,1),3) \\\\\n",
        "       & = & soma(soma(u^3_3(3,0,m(3,0)),u^3_1(3,0,m(3,0))),3) \\\\\n",
        "       & = & soma(soma(m(3,0),3),3) \\\\\n",
        "       & = & soma(soma(z(3),3),3) \\\\\n",
        "       & = & soma(soma(0,3),3) \\\\\n",
        "       & = & 6\n",
        "  \\end{eqnarray*}\n"
      ]
    },
    {
      "cell_type": "code",
      "metadata": {
        "id": "EpEA62vWr0Gq",
        "colab": {
          "base_uri": "https://localhost:8080/"
        },
        "outputId": "e80671cb-f8b3-4847-daec-dadfa8757145"
      },
      "source": [
        "# Implemente a função multiplicação, utilizando apenas as funções recursivas de Kleene.\n",
        "\n",
        "def fMult(x):\n",
        "  return z(x)\n",
        "\n",
        "def gMult(x1,x2,x3):\n",
        "  return soma(u(3,x1,x2,x3), u(1,x1,x2,x3))\n",
        "\n",
        "def mult(x,y):\n",
        "  return rec(x,y)(fMult, gMult)\n",
        "\n",
        "mult(3,5)"
      ],
      "execution_count": null,
      "outputs": [
        {
          "output_type": "execute_result",
          "data": {
            "text/plain": [
              "15"
            ]
          },
          "metadata": {},
          "execution_count": 4
        }
      ]
    },
    {
      "cell_type": "markdown",
      "metadata": {
        "id": "4BsDm2T9JIXy"
      },
      "source": [
        "## [Função Fatorial](https://youtu.be/31o_680kT5o)\n",
        "A equação fatorial $fat(x)=x!$ é\n",
        "  \\begin{eqnarray*}\n",
        "    fat(0) &=& 1 \\\\\n",
        "    fat(y+1) &=& fat(y).s(y)\n",
        "  \\end{eqnarray*}\n",
        "    Pode ser reescrita como segue\n",
        "  \\begin{eqnarray*}\n",
        "      fat(0) &=& f(x) &=& s(z(x))  \\\\\n",
        "      fat(y+1) &=& g(y,fat(y)) &=& m(u^2_2(y,fat(y)),~ s(u^2_1(y,fat(y))))\n",
        "  \\end{eqnarray*}\n",
        "\n",
        "Neste caso, $g(x_1,x_2)=m(u^2_2(x_1,x_2),~ s(u^2_1(x_1,x_2)))=m(x_2, s(x_1))$"
      ]
    },
    {
      "cell_type": "code",
      "metadata": {
        "id": "6EYSk1bZr3sy",
        "colab": {
          "base_uri": "https://localhost:8080/"
        },
        "outputId": "2d7f2363-a40c-431f-f303-24993ffba1e9"
      },
      "source": [
        "# Implemente a função fatorial, utilizando apenas as funções recursivas de Kleene.\n",
        "\n",
        "fFat = s(z(_))\n",
        "\n",
        "def gFat(x1, x2):\n",
        "  return mult(u(2,x1,x2), s(u(1,x1,x2)))\n",
        "\n",
        "def fat(x):\n",
        "  return rec(x)(fFat,gFat)\n",
        "\n",
        "fat(3)"
      ],
      "execution_count": null,
      "outputs": [
        {
          "output_type": "execute_result",
          "data": {
            "text/plain": [
              "6"
            ]
          },
          "metadata": {},
          "execution_count": 5
        }
      ]
    },
    {
      "cell_type": "markdown",
      "metadata": {
        "id": "XdIHl4CFOp_j"
      },
      "source": [
        "## [Antecessor](https://youtu.be/IzHOMXlTqLs)\n",
        "O antecessor de um número $a(x)$ é\n",
        "  \\begin{eqnarray*}\n",
        "    a(x)=\\left\\{\n",
        "        \\begin{array}[c]{l}\n",
        "             0, \\text{ se }x= 0\n",
        "           \\\\     x-1, \\text{ se }x\\neq 0\n",
        "        \\end{array}\\right.\n",
        "  \\end{eqnarray*}\n",
        "    Pode ser reescrita como segue\n",
        "  \\begin{eqnarray*}\n",
        "      a(0) &=& z(x) & &   \\\\\n",
        "      a(y+1) &=& g(y,a(y)) &=& u^2_1(y,a(y))\n",
        "  \\end{eqnarray*}\n",
        "\n",
        "Neste caso, $g(x_1,x_2)=u^2_1(x_1,x_2) =x_1$"
      ]
    },
    {
      "cell_type": "code",
      "metadata": {
        "id": "UHBXTV-Tr5kz",
        "colab": {
          "base_uri": "https://localhost:8080/"
        },
        "outputId": "75650390-9721-4ed2-e047-211cf6969ca3"
      },
      "source": [
        "# Implemente a função antecessor, utilizando apenas as funções recursivas de Kleene.\n",
        "\n",
        "fAnt = z(_)\n",
        "\n",
        "def gAnt(x1,x2):\n",
        "  return u(1,x1,x2)\n",
        "\n",
        "def ant(x):\n",
        "  return rec(x)(fAnt,gAnt)\n",
        "\n",
        "ant(9)"
      ],
      "execution_count": null,
      "outputs": [
        {
          "output_type": "execute_result",
          "data": {
            "text/plain": [
              "8"
            ]
          },
          "metadata": {},
          "execution_count": 6
        }
      ]
    },
    {
      "cell_type": "markdown",
      "metadata": {
        "id": "kWdQY9Ovp2BI"
      },
      "source": [
        "## [Subtração Própria](https://youtu.be/J9U5CFP2aXU)\n",
        "A subtração própria ($x-^{\\!\\!\\!\\! .} y$) de um número $x$ por um número $y$ é\n",
        "   \\begin{eqnarray*}\n",
        "   x-^{\\!\\!\\!\\! .}y=\\left\\{\n",
        "        \\begin{array}[c]{l}\n",
        "             x-y, \\text{ se }x\\geq y\n",
        "           \\\\     0, \\text{ se }x< y\n",
        "        \\end{array}\\right.\n",
        "  \\end{eqnarray*}\n",
        "    Pode ser reescrita como segue\n",
        "  \\begin{eqnarray*}\n",
        "      x-^{\\!\\!\\!\\! .}0 &=& f(x) & =& u_1^1(x)  \\\\\n",
        "      x-^{\\!\\!\\!\\! .}(y+1) &=& g(x,y,x-^{\\!\\!\\!\\! .}y) &=& a(x-^{\\!\\!\\!\\! .}y)\n",
        "  \\end{eqnarray*}\n",
        "Neste caso, $f(x)=x$ e $g(x_1,x_2,x_3)=a(u^3_3(x_1,x_2,x_3)) =a(x_3)$\n",
        "\n",
        "\n",
        "$|x-y|$ é o valor absoluto da diferença entre $x$ e $y$ e pode ser definido como\n",
        "  \\begin{eqnarray*}\n",
        "  |x-y|=(x-^{\\!\\!\\!\\! .}y)+(y-^{\\!\\!\\!\\! .}x)\n",
        "  \\end{eqnarray*}\n"
      ]
    },
    {
      "cell_type": "code",
      "metadata": {
        "id": "CfL64V0Hr7GM",
        "colab": {
          "base_uri": "https://localhost:8080/"
        },
        "outputId": "440c31a6-4f8f-414b-c525-0a872983e8ae"
      },
      "source": [
        "# Implemente a função subtração própria, utilizando apenas as funções recursivas de Kleene.\n",
        "\n",
        "def fSub(x):\n",
        "  return u(1,x)\n",
        "\n",
        "def gSub(x1,x2,x3):\n",
        "  return ant(u(3,x1,x2,x3))\n",
        "\n",
        "def sub(x,y):\n",
        "  return rec(x,y)(fSub,gSub)\n",
        "\n",
        "#retorna o valor absoluto da diferença \n",
        "def abs(x,y):\n",
        "  return soma(sub(x,y),sub(y,x))\n",
        "\n",
        "#sub(5,3)\n",
        "abs(2,6)"
      ],
      "execution_count": null,
      "outputs": [
        {
          "output_type": "execute_result",
          "data": {
            "text/plain": [
              "4"
            ]
          },
          "metadata": {},
          "execution_count": 7
        }
      ]
    },
    {
      "cell_type": "markdown",
      "metadata": {
        "id": "6UnLQI6Srnkn"
      },
      "source": [
        "## [Predicados Lógicos](https://youtu.be/6M7iU9LRXn0)\n",
        "- A função $\\alpha(x)$, testa que se é zero, é\n",
        "   \\begin{eqnarray*}\n",
        "    \\alpha(x)=\\left\\{\n",
        "        \\begin{array}[c]{l}\n",
        "             1, \\text{ se }x=0\n",
        "           \\\\     0, \\text{ se }x\\neq 0\n",
        "        \\end{array}\\right.\n",
        "   \\end{eqnarray*}\n",
        "Pode ser definido como $\\alpha(x)=1-^{\\!\\!\\!\\! .}x$\n",
        "\n",
        "- $x=y$. Tome uma função $d$ tal que:     \n",
        "   \\begin{eqnarray*}\n",
        "    d(x,y) =\\left\\{\n",
        "        \\begin{array}[c]{l}\n",
        "             1, \\text{ se }x=y\n",
        "           \\\\     0, \\text{ se }x\\neq y\n",
        "        \\end{array}\\right.\n",
        "   \\end{eqnarray*}\n",
        "Daí, $d(x,y)=\\alpha(|x-y|)$\n",
        "- $x\\leq y$ é a função $\\alpha(x-^{\\!\\!\\!\\! .}y)$\n",
        "\n",
        "- Sejam $P,Q$ predicados, temos $\\lnot P=\\alpha(P)$, $(P\\wedge Q)=P.Q$ e $(P\\vee Q)=\\lnot(\\lnot P\\wedge \\lnot Q)$\n"
      ]
    },
    {
      "cell_type": "code",
      "metadata": {
        "id": "B7EAqOEHr9wE",
        "colab": {
          "base_uri": "https://localhost:8080/"
        },
        "outputId": "c2331c3c-ebb6-42ca-a738-c942d1c4d12a"
      },
      "source": [
        "# Implemente a função alpha (isZero), utilizando apenas as funções recursivas de Kleene.\n",
        "\n",
        "# 0 - false\n",
        "# 1 - true\n",
        "\n",
        "def isZero(x):\n",
        "  return sub(s(z(_)),x)\n",
        "\n",
        "isZero(0)"
      ],
      "execution_count": null,
      "outputs": [
        {
          "output_type": "execute_result",
          "data": {
            "text/plain": [
              "1"
            ]
          },
          "metadata": {},
          "execution_count": 8
        }
      ]
    },
    {
      "cell_type": "code",
      "metadata": {
        "id": "JhbopNwry10l",
        "colab": {
          "base_uri": "https://localhost:8080/"
        },
        "outputId": "6ba5990e-423b-4297-afc9-dcd3a8844cb1"
      },
      "source": [
        "# Implemente a função iqualdade, utilizando apenas as funções recursivas de Kleene.\n",
        "\n",
        "def isEqual(x,y):\n",
        "  return isZero(abs(x,y))\n",
        "\n",
        "isEqual(5,5)"
      ],
      "execution_count": null,
      "outputs": [
        {
          "output_type": "execute_result",
          "data": {
            "text/plain": [
              "1"
            ]
          },
          "metadata": {},
          "execution_count": 9
        }
      ]
    },
    {
      "cell_type": "code",
      "metadata": {
        "id": "sDZ_H4_qy4cN",
        "colab": {
          "base_uri": "https://localhost:8080/"
        },
        "outputId": "b1f95bc9-730c-4c68-92c7-3a09208f05f2"
      },
      "source": [
        "# Implemente a função menor ou igual, utilizando apenas as funções recursivas de Kleene.\n",
        "\n",
        "def leq(x,y):\n",
        "  return isZero(sub(x,y))\n",
        "\n",
        "leq(5,8)"
      ],
      "execution_count": null,
      "outputs": [
        {
          "output_type": "execute_result",
          "data": {
            "text/plain": [
              "1"
            ]
          },
          "metadata": {},
          "execution_count": 10
        }
      ]
    },
    {
      "cell_type": "code",
      "metadata": {
        "id": "hPFaWuWCy6vk",
        "colab": {
          "base_uri": "https://localhost:8080/"
        },
        "outputId": "77bd63b5-4a6a-41c4-a717-dfd7a36b08e7"
      },
      "source": [
        "# Implemente o predicado negação, utilizando apenas as funções recursivas de Kleene.\n",
        "\n",
        "def lnot(x):\n",
        "  return isZero(x)\n",
        "\n",
        "print(lnot(0))\n",
        "print(lnot(1))"
      ],
      "execution_count": null,
      "outputs": [
        {
          "output_type": "stream",
          "name": "stdout",
          "text": [
            "1\n",
            "0\n"
          ]
        }
      ]
    },
    {
      "cell_type": "code",
      "source": [
        "# Implemente a função maior, utilizando apenas as funções recursivas de Kleene.\n",
        "\n",
        "def greater(x,y):\n",
        "  return lnot(isZero(sub(x,y)))\n",
        "\n",
        "greater(3,6)"
      ],
      "metadata": {
        "colab": {
          "base_uri": "https://localhost:8080/"
        },
        "id": "5qBjX5VK2sX9",
        "outputId": "f108eb37-f878-4145-9f5f-8c165c24a682"
      },
      "execution_count": null,
      "outputs": [
        {
          "output_type": "execute_result",
          "data": {
            "text/plain": [
              "0"
            ]
          },
          "metadata": {},
          "execution_count": 12
        }
      ]
    },
    {
      "cell_type": "code",
      "metadata": {
        "id": "Es5HA0T-y_WU",
        "colab": {
          "base_uri": "https://localhost:8080/"
        },
        "outputId": "474abb03-c233-40a4-cd73-29f5cde73420"
      },
      "source": [
        "# Implemente o predicado conjunção, utilizando apenas as funções recursivas de Kleene.\n",
        "\n",
        "def land(x,y):\n",
        "  return mult(x,y)\n",
        "\n",
        "print(land(0,0))\n",
        "print(land(0,1))\n",
        "print(land(1,0))\n",
        "print(land(1,1))"
      ],
      "execution_count": null,
      "outputs": [
        {
          "output_type": "stream",
          "name": "stdout",
          "text": [
            "0\n",
            "0\n",
            "0\n",
            "1\n"
          ]
        }
      ]
    },
    {
      "cell_type": "code",
      "metadata": {
        "id": "qn9DBwldzBn8",
        "colab": {
          "base_uri": "https://localhost:8080/"
        },
        "outputId": "ed2bac20-71ac-44ae-bace-30b0bc0c17d4"
      },
      "source": [
        "# Implemente o predicado disjunção, utilizando apenas as funções recursivas de Kleene.\n",
        "\n",
        "def lor(x,y):\n",
        "  return lnot(land(lnot(x),lnot(y)))\n",
        "\n",
        "print(lor(0,0))\n",
        "print(lor(0,1))\n",
        "print(lor(1,0))\n",
        "print(lor(1,1))"
      ],
      "execution_count": null,
      "outputs": [
        {
          "output_type": "stream",
          "name": "stdout",
          "text": [
            "0\n",
            "1\n",
            "1\n",
            "1\n"
          ]
        }
      ]
    },
    {
      "cell_type": "markdown",
      "metadata": {
        "id": "yGkZwqQyu5ck"
      },
      "source": [
        "## [Função Recursiva - Definição por Casos](https://youtu.be/WRqhJScmmjE)\n",
        "Sejam $g:\\mathbb{N}^n\\rightarrow\\mathbb{N}$, $h:\\mathbb{N}^n\\rightarrow\\mathbb{N}$ funções primitivas recursivas e $P\\subseteq\\mathbb{N}^n$ um predicado primitivo recursivo. Definimos uma função $f:\\mathbb{N}^n\\rightarrow\\mathbb{N}$ como primitiva recursiva por casos da seguinte forma:\n",
        "\n",
        "\\begin{eqnarray*}\n",
        "    f(x_1,\\ldots,x_n)=\\left\\{\n",
        "        \\begin{array}[c]{l}\n",
        "             g(x_1,\\ldots,x_n), \\text{ se }P(x_1,\\ldots,x_n)\n",
        "           \\\\h(x_1,\\ldots,x_n), \\text{ caso contrário}\n",
        "        \\end{array}\\right.\n",
        "   \\end{eqnarray*}\n",
        "\n",
        "Como $.,+$ e $\\alpha$ são primitivas recursivas, temos que $f$ é primitiva recursiva e computada da seguinte forma:\n",
        "   \\begin{eqnarray*}\n",
        "    f(x_1,\\ldots,x_n)=g(x_1,\\ldots,x_n).P(x_1,\\ldots,x_n)+h(x_1,\\ldots,x_n).\\alpha(P(x_1,\\ldots,x_n))   \n",
        "    \\end{eqnarray*}\n",
        "\n",
        "Sejam $g_1,\\ldots,g_m$, $h$ funções primitivas recursivas e $P_1, \\ldots,P_m$ predicados primitivo recursivo. Definimos uma função $f$ como primitiva recursiva por casos da seguinte forma:\n",
        "   \n",
        "   \\begin{eqnarray*}\n",
        "    f(x_1,\\ldots,x_n)=\\left\\{\n",
        "        \\begin{array}[c]{l}\n",
        "             g_1(x_1,\\ldots,x_n), \\text{ se }P_1(x_1,\\ldots,x_n)\n",
        "             \\\\\\ldots\n",
        "             \\\\g_m(x_1,\\ldots,x_n), \\text{ se }P_m(x_1,\\ldots,x_n)\n",
        "           \\\\h(x_1,\\ldots,x_n), \\text{ caso contrário}\n",
        "        \\end{array}\\right.\n",
        "   \\end{eqnarray*}\n",
        "\n",
        "Basta fazer prova por indução em $m$. Note que no caso básico ($m=1$) temos o teorema anterior. Para o caso indutivo seja\n",
        "   \\begin{eqnarray*}\n",
        "    h'(x_1,\\ldots,x_n)=\\left\\{\n",
        "        \\begin{array}[c]{l}\n",
        "             g_{m+1}(x_1,\\ldots,x_n), \\text{ se }P_{m+1}(x_1,\\ldots,x_n)\n",
        "           \\\\h(x_1,\\ldots,x_n), \\text{ caso contrário}\n",
        "        \\end{array}\\right.\n",
        "   \\end{eqnarray*}\n",
        "    Então\n",
        "   \\begin{eqnarray*}\n",
        "    f(x_1,\\ldots,x_n)=\\left\\{\n",
        "        \\begin{array}[c]{l}\n",
        "             g_1(x_1,\\ldots,x_n), \\text{ se }P_1(x_1,\\ldots,x_n)\n",
        "             \\\\ \\ldots\n",
        "             \\\\g_m(x_1,\\ldots,x_n), \\text{ se }P_m(x_1,\\ldots,x_n)\n",
        "           \\\\h'(x_1,\\ldots,x_n), \\text{ caso contrário}\n",
        "        \\end{array}\\right.\n",
        "   \\end{eqnarray*}\n",
        "\n"
      ]
    },
    {
      "cell_type": "code",
      "metadata": {
        "id": "MN0_ZOx7xe_z",
        "colab": {
          "base_uri": "https://localhost:8080/"
        },
        "outputId": "a1042cfb-f832-4c3f-c1d2-ac4c841e6d18"
      },
      "source": [
        "# Implemente a função if-then-else.\n",
        "def if_then_else_1(x):\n",
        "  return lambda p,g,h: soma(mult(g(x),p(x)), mult(h(x), lnot(p(x))))\n",
        "\n",
        "#Considere que a nota de um aluno pode ser no máximo 10 \n",
        "# e que o professor irá conceder 1 ponto-extra as notas dos alunos. \n",
        "#Utilize a função if_then_else_1 para retornar a média final da nota de um aluno.   \n",
        "dez = s(s(s(s(s(s(s(s(s(s(z(_)))))))))))\n",
        "def p(x):\n",
        "  return lor(greater(x,dez),isEqual(x,dez))\n",
        "def g(x):\n",
        "  return dez\n",
        "def h(x): \n",
        "  return s(x)\n",
        "\n",
        "def ponto_extra(nota):\n",
        "  return if_then_else_1(nota)(p,g,h)\n",
        "\n",
        "print(f\"Se a nota for maior ou igual que 10, então retorne 10. Caso contrário some 1.\")\n",
        "nota = 8\n",
        "print(f\"Nota {nota} e Nota Final\",ponto_extra(nota))\n",
        "nota = 11\n",
        "print(f\"Nota {nota} e Nota Final\",ponto_extra(nota))\n",
        "\n",
        "print(if_then_else_1(nota)(p,g,h))"
      ],
      "execution_count": null,
      "outputs": [
        {
          "output_type": "stream",
          "name": "stdout",
          "text": [
            "Se a nota for maior ou igual que 10, então retorne 10. Caso contrário some 1.\n",
            "Nota 8 e Nota Final 9\n",
            "Nota 11 e Nota Final 10\n",
            "10\n"
          ]
        }
      ]
    },
    {
      "cell_type": "code",
      "source": [
        "# Implemente uma função que recebe três argumentos e retorna o maior deles.\n",
        "\n",
        "def if_then_else(x,y):\n",
        "  return lambda p,g,h: soma(mult(g(x,y),p(x,y)), mult(h(x,y), lnot(p(x,y))))\n",
        "\n",
        "def maior_entre(x,y,z):\n",
        "  a = if_then_else(x,y)(p,g,h)\n",
        "  return if_then_else(a,z)(p,g,h)\n",
        "\n",
        "def p(x,y):\n",
        "  return lor(greater(x,y),isEqual(x,y))\n",
        "\n",
        "def g(x,y):\n",
        "  return x\n",
        "\n",
        "def h(x,y): \n",
        "  return y\n",
        "\n",
        "x1=23\n",
        "x2=10\n",
        "x3=5\n",
        "print(f\"O maior número entre {x1}, {x2} e {x3} é {maior_entre(x1,x2,x3)}\")\n",
        "\n",
        "x1=2\n",
        "x2=0\n",
        "x3=20\n",
        "print(f\"O maior número entre {x1}, {x2} e {x3} é {maior_entre(x1,x2,x3)}\")\n",
        "\n",
        "x1=23\n",
        "x2=10\n",
        "x3=5\n",
        "print(f\"O maior número entre {x1}, {x2} e {x3} é {maior_entre(x1,x2,x3)}\")\n"
      ],
      "metadata": {
        "colab": {
          "base_uri": "https://localhost:8080/"
        },
        "id": "i_ixugklwrO6",
        "outputId": "490350ef-06fc-4fae-e9cb-34d5ec82a129"
      },
      "execution_count": null,
      "outputs": [
        {
          "output_type": "stream",
          "name": "stdout",
          "text": [
            "O maior número entre 23, 10 e 5 é 23\n",
            "O maior número entre 2, 0 e 20 é 20\n",
            "O maior número entre 23, 10 e 5 é 23\n"
          ]
        }
      ]
    },
    {
      "cell_type": "markdown",
      "metadata": {
        "id": "rI_PF3kzxfUB"
      },
      "source": [
        "## [Função Recursiva Somatório e Produtório](https://youtu.be/ERQinnZZGVA)\n",
        "\n",
        "  Seja $f(x_1,\\ldots,x_n,y)$ uma função primitiva recursiva. Temos que\n",
        "   \\begin{eqnarray*}\n",
        "    g(x_1,\\ldots,x_n,y)&=&\\sum_{t=0}^y f(x_1,\\ldots,x_n,t)\n",
        "   \\end{eqnarray*}\n",
        "   \\begin{eqnarray*}\n",
        "    h(x_1,\\ldots,x_n,y)=\\prod_{t=0}^y f(x_1,\\ldots,x_n,t)\n",
        "   \\end{eqnarray*}\n",
        "\n",
        "Definimos por recursão primitiva.\n",
        "   \\begin{eqnarray*}\n",
        "    g(x_1,\\ldots,x_n,0) & = &f(x_1,\\ldots,x_n,0)\\\\\n",
        "    g(x_1,\\ldots,x_n,y+1)& = &f(x_1,\\ldots,x_n,y+1)+g(x_1,\\ldots,x_n,y)\n",
        "   \\end{eqnarray*}\n",
        "\n",
        "   \\begin{eqnarray*}\n",
        "      h(x_1,\\ldots,x_n,0) & =& f(x_1,\\ldots,x_n,0)\\\\\n",
        "    h(x_1,\\ldots,x_n,y+1)& =& f(x_1,\\ldots,x_n,y+1).h(x_1,\\ldots,x_n,y)    \n",
        "   \\end{eqnarray*}\n"
      ]
    },
    {
      "cell_type": "code",
      "metadata": {
        "id": "ozqaPMPisBtb"
      },
      "source": [
        ""
      ],
      "execution_count": null,
      "outputs": []
    },
    {
      "cell_type": "markdown",
      "metadata": {
        "id": "CAzkR9k-xvAh"
      },
      "source": [
        "\n",
        "## [Quantificação Existencial e Universal Limitada](https://youtu.be/_q6a8Jb7MNQ)\n",
        "Seja $P(x_1,\\ldots,x_n,y)$ um predicado primitivo recursivo. Temos que\n",
        "   \\begin{eqnarray*}\n",
        "  (\\forall t)_{\\leq y}P(x_1,\\ldots,x_n,t)\\Longleftrightarrow \\left(\\prod_{t=0}^y P(x_1,\\ldots,x_n,t)\\right)=1   \n",
        "  \\end{eqnarray*}\n",
        "   \\begin{eqnarray*}\n",
        "    (\\exists t)_{\\leq y}P(x_1,\\ldots,x_n,t)\\Longleftrightarrow \\left(\\sum_{t=0}^y P(x_1,\\ldots,x_n,t)\\right)\\neq 0   \n",
        "    \\end{eqnarray*}\n",
        "\n",
        "- O predicado $y|x$  significa que $y$ é divisor de $x$ e pode ser definido como\n",
        "   \\begin{eqnarray*}\n",
        "    y|x\\Longleftrightarrow (\\exists t)_{\\leq x} (y.t=x)\n",
        "   \\end{eqnarray*}\n",
        "Por exemplo, temos que $3|12$ e não temos que $3|13$.\n",
        "- Um número $x$ é primo se $x$ é maior do que $1$ e tem apenas dois divisores: $1$ e ele próprio $x$. $Primo(x)$ é o seguinte predicado primitivo recursivo\n",
        "   \\begin{eqnarray*}\n",
        "Primo(x)\\Longleftrightarrow x> 1\\wedge((\\forall t)_{\\leq x}(t=1\\vee t=x\\vee \\lnot(t|x)))\n",
        "   \\end{eqnarray*}\n"
      ]
    },
    {
      "cell_type": "code",
      "metadata": {
        "id": "LB2oj5cvsEwz"
      },
      "source": [
        ""
      ],
      "execution_count": null,
      "outputs": []
    },
    {
      "cell_type": "markdown",
      "metadata": {
        "id": "9eBkHKB318Cb"
      },
      "source": [
        "## [Minimização Limitada](https://youtu.be/PwPuWyapz1w)\n",
        "Seja $P(x_1,\\ldots,x_n,y)$ um predicado primitiva recursiva. Temos que\n",
        "\\begin{eqnarray*}\n",
        "g(x_1,\\ldots,x_n,y)=\\sum_{u=0}^y \\prod_{t=0}^u (\\lnot P(x_1,\\ldots,x_n,t))\n",
        "\\end{eqnarray*}\n",
        "\n",
        "  Suponha $t<t_0\\leq y$ tal que\n",
        "  $\\left\\{\\begin{array}{ccl}\n",
        "    P(x_1,\\ldots,x_n,t) &=&0 \\text{ para }t<t_0 \\\\\n",
        "    P(x_1,\\ldots,x_n,t_0) &=& 1\n",
        "  \\end{array}\\right.$.\n",
        "  \n",
        "Assim,\n",
        "\\begin{eqnarray*}\n",
        "\\prod_{t=0}^u (\\lnot P(x_1,\\ldots,x_n,t))=\\left\\{\n",
        "          \\begin{array}[c]{l}\n",
        "             1, \\text{ se }u< t_0\n",
        "           \\\\     0, \\text{ se }u\\geq t_0\n",
        "        \\end{array}\\right.\n",
        "\\end{eqnarray*}\n",
        "Por fim, $g(x_1,\\ldots,x_n,y)=\\sum_{u<t_0}1= t_0$. Dessa forma, $g(x_1,\\ldots,x_n,y)$ define o **menor valor de $t$ para o qual $P(x_1,\\ldots,x_n,t)$ é verdade**.\n",
        "\n",
        "Seja $P(x_1,\\ldots,x_n,y)$ um predicado primitiva recursiva. Defina a **Minimização Limitada como o menor valor de $t$ para o qual $P(x_1,\\ldots,x_n,t)$ é verdade** como segue:\n",
        "\\begin{eqnarray*}\n",
        "  Min_{t\\leq y}P(x_1,\\ldots,x_n,y) = \\left\\{\n",
        "          \\begin{array}[c]{l}\n",
        "             g(x_1,\\ldots,x_n,y), \\text{ se }(\\exists t)_{\\leq y}P(x_1,\\ldots,x_n,t)\n",
        "           \\\\     0, \\text{ caso contrário }\n",
        "        \\end{array}\\right.\n",
        "\\end{eqnarray*}\n",
        "\n",
        "Vejamos alguns exemplos de minimização limitada:\n",
        "- A função $\\lfloor x/y\\rfloor$ é a parte inteira de $x/y$ e pode ser definido como\n",
        "\\begin{eqnarray*}\n",
        "  \\lfloor x/y\\rfloor=Min_{t\\leq x}((t+1).y>x)\n",
        "\\end{eqnarray*}\n",
        "\n",
        "  $\\lfloor 7/2\\rfloor = Min_{t\\leq 7}((t+1).2>7)=3$ e $\\lfloor 2/3\\rfloor = Min_{t\\leq 2}((t+1).3>2)=0$\n",
        "\n",
        "- A função $p_n$ define o $n-$primo (em ordem de tamanho). Para a função ser total considere $p_0=0$. Daí, $p_0=0,p_1=2,p_2=3,p_3=5,\\ldots$. Por fim, assuma que $p_{n+1}\\leq (p_n)!+1$. Assim,\n",
        "\n",
        "\\begin{eqnarray*}\n",
        "  \\left\\{\\begin{array}{ccl}\n",
        "    p_0 &=&0 \\\\\n",
        "    p_{n+1} &=& Min_{t\\leq ((p_n)!+1)}(Primo(t)\\wedge t>p_n)\n",
        "  \\end{array}\\right.\n",
        "  \\end{eqnarray*}"
      ]
    },
    {
      "cell_type": "code",
      "metadata": {
        "id": "YrB-y87zsLyL"
      },
      "source": [
        ""
      ],
      "execution_count": null,
      "outputs": []
    },
    {
      "cell_type": "markdown",
      "metadata": {
        "id": "mO92ap2a5dTA"
      },
      "source": [
        "## [Número de Gödel](https://youtu.be/6lHXbyCckUA)\n",
        "O Teorema Fundamental da Aritmética diz que \"qualquer número $n\\geq 2$ pode ser decomposto num produto de números primos\".\n",
        "\n",
        "Defina um **Número de Gödel** de uma sequência $\\langle a_1,\\ldots,a_n\\rangle$} primitiva recursiva para ser o número:\n",
        "\\begin{eqnarray*}\n",
        "G_n(\\langle a_1,\\ldots,a_n\\rangle)=\\prod_{i=1}^n p_i^{a_i}\n",
        "\\end{eqnarray*}\n",
        "\n",
        "Assim, os números de Gödel de $\\langle 3,1,5,4,6\\rangle$ e $\\langle 2,3\\rangle$ são: $G_5(\\langle 3,1,5,4,6\\rangle)=2^3.3^1.5^5.7^4.11^6$ e $G_2(\\langle 2,3\\rangle)=2^2.3^3=108$\n",
        "\n",
        "Para definirmos a função primitiva recursiva $(x)_i$ como sendo o elemento $a_i$ da sequência $\\langle a_1,\\ldots,a_n\\rangle$ do número de Gödel desta sequência, definimos\n",
        "\\begin{eqnarray*}\n",
        "(x)_i=Min_{t\\leq x}(\\lnot(p_i^{t+1}|x))\n",
        "\\end{eqnarray*}\n",
        "\n",
        "\\begin{eqnarray*}\n",
        "(G_2(\\langle 2,3\\rangle))_2=(108)_2=Min_{t\\leq 108}(\\lnot(3^{t+1}|108))=3\n",
        "\\end{eqnarray*}\n"
      ]
    },
    {
      "cell_type": "code",
      "metadata": {
        "id": "sfWeuNFQsNLT"
      },
      "source": [
        ""
      ],
      "execution_count": null,
      "outputs": []
    },
    {
      "cell_type": "markdown",
      "metadata": {
        "id": "Mn4g-dw16XqG"
      },
      "source": [
        "## [Minimização](https://youtu.be/6lHXbyCckUA)\n",
        "\n",
        "Seja $P(x_1,\\ldots,x_n,y)$ um predicado primitiva recursiva. Defina a **Minimização como o menor valor de $t$ para o qual $P(x_1,\\ldots,x_n,t)$ é verdade, caso exista um**. No caso, que não exista um $y$ tal que $P(x_1,\\ldots,x_n,t)$ é verdade, o valor é indefinido.\n",
        "\\begin{eqnarray*}\n",
        "  Min_{y}P(x_1,\\ldots,x_n,y)\n",
        "\\end{eqnarray*}\n",
        "- A função $x-y$ é indefinida para $x<y$.\n",
        "\\begin{eqnarray*}\n",
        "x-y= Min_{z}(y+z=x)\n",
        "\\end{eqnarray*}\n"
      ]
    },
    {
      "cell_type": "code",
      "metadata": {
        "id": "IGy1sjGZsQpr"
      },
      "source": [
        ""
      ],
      "execution_count": null,
      "outputs": []
    }
  ]
}